{
 "cells": [
  {
   "cell_type": "code",
   "execution_count": 55,
   "id": "d56a138b-e092-44d7-99ce-abe519c3a262",
   "metadata": {},
   "outputs": [
    {
     "data": {
      "text/plain": [
       "['               total        used        free      shared  buff/cache   available',\n",
       " 'Mem:           15000        1014       12085           0        1899       13688',\n",
       " 'Swap:              0           0           0']"
      ]
     },
     "execution_count": 55,
     "metadata": {},
     "output_type": "execute_result"
    }
   ],
   "source": [
    "    # Check free memory available\n",
    "%system free -m"
   ]
  },
  {
   "cell_type": "code",
   "execution_count": 56,
   "id": "a9269303-433a-4c90-b307-5ff3f429e38e",
   "metadata": {},
   "outputs": [],
   "source": [
    "#! pip install pandas_gbq"
   ]
  },
  {
   "cell_type": "markdown",
   "id": "2244117e-d20c-40e3-a26a-f198b91cc3e6",
   "metadata": {},
   "source": [
    "\n",
    "![Screenshot 2024-01-02 at 09.53.29.png]\n"
   ]
  },
  {
   "cell_type": "code",
   "execution_count": 57,
   "id": "887d19c4-5b83-4be9-bbe4-22fa5753790e",
   "metadata": {},
   "outputs": [],
   "source": [
    "# Import required libraries\n",
    "from google.cloud import bigquery\n",
    "import gc\n",
    "from dateutil.relativedelta import relativedelta\n",
    "import numpy as np\n",
    "import math\n",
    "import os\n",
    "import pandas_gbq as pdg\n",
    "import pandas as pd\n",
    "# pd.set_option('display.max_rows', None)\n",
    "# pd.set_option('display.max_columns', None)"
   ]
  },
  {
   "cell_type": "markdown",
   "id": "7c57bebc-e8dc-413a-a7d5-fa19a3ed3c5d",
   "metadata": {},
   "source": [
    "<div class=\"alert alert-block alert-info\">\n",
    "    \n",
    "create or replace table `yhcr-prd-phm-bia-core.CB_MYSPACE_RT.EarlyYears` as \n",
    "SELECT person_id,AcademicYear,AcademicAge,Gender,PSEAS1,PSEAS2,PSEAS3,PSETotal,\n",
    "    CLLAS1,CLLAS2,CLLAS3,CLLAS4,CLLTotal,\n",
    "    PSRNAS1,PSRNAS2,PSRNAS3,PSRNTotal,\n",
    "    RKUW,RIPD,RICD,EYFSPTotal,\n",
    "    COMG01,COMG02,COMG03,PHYG04,PHYG05,PSEG06,PSEG07,PSEG08,\n",
    "    LITG09,LITG10,MATG11, MATG12,UTWG13,UTWG14,UTWG15,EXPG16,EXPG17,GLD FROM `yhcr-prd-phm-bia-core.CB_FDM_DepartmentForEducation.src_EYFSP` ;\n",
    "\n",
    "</div>"
   ]
  },
  {
   "cell_type": "code",
   "execution_count": 58,
   "id": "7979ea0f-fd76-4c3d-9abd-9ac262e2bef9",
   "metadata": {
    "tags": []
   },
   "outputs": [
    {
     "name": "stderr",
     "output_type": "stream",
     "text": [
      "/opt/conda/lib/python3.10/site-packages/google/auth/_default.py:76: UserWarning: Your application has authenticated using end user credentials from Google Cloud SDK without a quota project. You might receive a \"quota exceeded\" or \"API not enabled\" error. See the following page for troubleshooting: https://cloud.google.com/docs/authentication/adc-troubleshooting/user-creds. \n",
      "  warnings.warn(_CLOUD_SDK_CREDENTIALS_WARNING)\n"
     ]
    },
    {
     "name": "stdout",
     "output_type": "stream",
     "text": [
      "Downloading: 100%|\u001b[32m██████████\u001b[0m|\n"
     ]
    }
   ],
   "source": [
    "# Instaniate BigQuery client\n",
    "\n",
    "sqlEY = \"\"\" SELECT person_id,AcademicYear,Gender,PSEAS1,PSEAS2,PSEAS3,PSETotal,\n",
    "    CLLAS1,CLLAS2,CLLAS3,CLLAS4,CLLTotal,\n",
    "    PSRNAS1,PSRNAS2,PSRNAS3,PSRNTotal,\n",
    "    RKUW,RIPD,RICD,EYFSPTotal,\n",
    "    COMG01,COMG02,COMG03,PHYG04,PHYG05,PSEG06,PSEG07,PSEG08,\n",
    "    LITG09,LITG10,MATG11, MATG12,UTWG13,UTWG14,UTWG15,EXPG16,EXPG17,GLD  FROM `yhcr-prd-phm-bia-core.CB_FDM_DepartmentForEducation.src_EYFSP` a \"\"\"\n",
    "\n",
    "EarlyYears = pdg.read_gbq(sqlEY, dialect='standard')"
   ]
  },
  {
   "cell_type": "code",
   "execution_count": 59,
   "id": "adc0341a-b3c3-4162-b9ef-9b8ed211f834",
   "metadata": {
    "tags": []
   },
   "outputs": [],
   "source": [
    "df = EarlyYears"
   ]
  },
  {
   "cell_type": "code",
   "execution_count": 60,
   "id": "8b9601ab-e7f9-4975-9e2a-fbcc821754e5",
   "metadata": {
    "tags": []
   },
   "outputs": [
    {
     "data": {
      "text/plain": [
       "130640"
      ]
     },
     "execution_count": 60,
     "metadata": {},
     "output_type": "execute_result"
    }
   ],
   "source": [
    "len(df)"
   ]
  },
  {
   "cell_type": "code",
   "execution_count": 61,
   "id": "6b2a51f0-de1c-4b0e-bd90-8feb2f6d24ba",
   "metadata": {
    "tags": []
   },
   "outputs": [
    {
     "data": {
      "text/plain": [
       "130551"
      ]
     },
     "execution_count": 61,
     "metadata": {},
     "output_type": "execute_result"
    }
   ],
   "source": [
    "df.person_id.nunique()\n",
    "# there are 130551 unique records in EYFS table\n",
    "# 89 records as duplicates"
   ]
  },
  {
   "cell_type": "code",
   "execution_count": 62,
   "id": "d3f2d772-bc1e-45e4-9156-6b0f087a1c28",
   "metadata": {
    "tags": []
   },
   "outputs": [
    {
     "data": {
      "text/plain": [
       "130551"
      ]
     },
     "execution_count": 62,
     "metadata": {},
     "output_type": "execute_result"
    }
   ],
   "source": [
    "df = df.drop_duplicates(subset=['person_id'])\n",
    "len(df)"
   ]
  },
  {
   "cell_type": "code",
   "execution_count": 63,
   "id": "0160a477-90e2-45a3-a7b6-e4d9c6d5006a",
   "metadata": {
    "tags": []
   },
   "outputs": [],
   "source": [
    "df = df.copy(deep=True)"
   ]
  },
  {
   "cell_type": "markdown",
   "id": "b91b6ac8-f2ae-4cf0-b843-52e971390510",
   "metadata": {},
   "source": [
    "<div class=\"alert alert-block alert-info\">\n",
    "<h2> \n",
    "Gender - Aggregate all records with 'F' and 'f' as 'F' - Female\n",
    "All 'M' and 'm' as 'M' - Male\n",
    "</h2>\n",
    "</div>"
   ]
  },
  {
   "cell_type": "code",
   "execution_count": 64,
   "id": "00fe3169-52de-4507-adae-e34bce658282",
   "metadata": {
    "tags": []
   },
   "outputs": [],
   "source": [
    "df['newGLD'] = df['GLD'].apply(lambda set_: False if pd.isna(set_)== True else set_)\n",
    "df['Gender'] = df['Gender'].apply(lambda set_: 'F' if (set_== 'f') else set_ )\n",
    "df['Gender'] = df['Gender'].apply(lambda set_: 'M' if (set_== 'm') else set_)"
   ]
  },
  {
   "cell_type": "code",
   "execution_count": 65,
   "id": "10ae0a96-65f5-41f0-8bd8-f71f08218d79",
   "metadata": {
    "tags": []
   },
   "outputs": [],
   "source": [
    "df['newGLD'] = df['GLD'].apply(lambda set_: False if pd.isna(set_)== True else set_)\n",
    "df['Gender'] = df['Gender'].apply(lambda set_: 'F' if (set_== 'f') else set_ )\n",
    "df['Gender'] = df['Gender'].apply(lambda set_: 'M' if (set_== 'm') else set_)\n",
    "df[\"AcademicBegin\"]  = df[\"AcademicYear\"].str.slice(0, 4)\n",
    "df[\"AcademicEnd\"] = df[\"AcademicYear\"].str.slice(5)\n",
    "#df"
   ]
  },
  {
   "cell_type": "markdown",
   "id": "38bc4f27-e724-49c1-a814-feaec3b51b4e",
   "metadata": {},
   "source": [
    "<div class=\"alert alert-block alert-info\">\n",
    "<h2> Changing all scores datatype to integer for calculations purposes from string and handling None\n",
    "</h2>\n",
    "</div>"
   ]
  },
  {
   "cell_type": "code",
   "execution_count": 66,
   "id": "ac0451c0-5e1b-4d35-b97e-35bc9d17b4c9",
   "metadata": {
    "tags": []
   },
   "outputs": [],
   "source": [
    "#df['PSEAS1'] = df['PSEAS1'].apply(lambda set_: 0 if np.nan(set_)== True else int(set_))\n",
    "\n",
    "df['PSEAS1'] = df['PSEAS1'].replace({None: 0,'N': 0})  \n",
    "df['PSEAS2'] = df['PSEAS2'].replace({None: 0,'N': 0}) \n",
    "df['PSEAS3'] = df['PSEAS3'].replace({None: 0,'N': 0})\n",
    "df['PSETotal'] = df['PSETotal'].replace({None: 0,'N': 0})\n",
    "df['CLLAS1'] = df['CLLAS1'].replace({None: 0,'N': 0})\n",
    "df['CLLAS2'] = df['CLLAS2'].replace({None: 0,'N': 0})\n",
    "df['CLLAS3'] = df['CLLAS3'].replace({None: 0,'N': 0})\n",
    "df['CLLAS4'] = df['CLLAS4'].replace({None: 0,'N': 0})\n",
    "df['CLLTotal'] = df['CLLTotal'].replace({None: 0,'N': 0})\n",
    "df['PSRNAS1'] = df['PSRNAS1'].replace({None: 0,'N': 0})\n",
    "df['PSRNAS2'] = df['PSRNAS2'].replace({None: 0,'N': 0})\n",
    "df['PSRNAS3'] = df['PSRNAS3'].replace({None: 0,'N': 0})\n",
    "df['PSRNTotal'] = df['PSRNTotal'].replace({None: 0,'N': 0})\n",
    "df['RKUW'] = df['RKUW'].replace({None: 0,'N': 0})\n",
    "df['RIPD'] = df['RIPD'].replace({None: 0,'N': 0})\n",
    "df['RICD'] = df['RICD'].replace({None: 0,'N': 0})\n",
    "df['EYFSPTotal'] = df['EYFSPTotal'].replace({None: 0,'N': 0})\n",
    "\n",
    "df['PSEAS1'] = df['PSEAS1'].astype(int)\n",
    "df['PSEAS2'] = df['PSEAS2'].astype(int)\n",
    "df['PSEAS3'] = df['PSEAS3'].astype(int)\n",
    "df['PSETotal'] = df['PSETotal'].astype(int)\n",
    "df['CLLAS1'] = df['CLLAS1'].astype(int)\n",
    "df['CLLAS2'] = df['CLLAS2'].astype(int)\n",
    "df['CLLAS3'] = df['CLLAS3'].astype(int)\n",
    "df['CLLAS4'] = df['CLLAS4'].astype(int)\n",
    "df['CLLTotal'] = df['CLLTotal'].astype(int)\n",
    "df['PSRNAS1'] = df['PSRNAS1'].astype(int)\n",
    "df['PSRNAS2'] = df['PSRNAS2'].astype(int)\n",
    "df['PSRNAS3'] = df['PSRNAS3'].astype(int)\n",
    "df['PSRNTotal'] = df['PSRNTotal'].astype(int)\n",
    "df['RKUW'] = df['RKUW'].astype(int)\n",
    "df['RIPD'] = df['RIPD'].astype(int)\n",
    "df['RICD'] = df['RICD'].astype(int)\n",
    "df['EYFSPTotal'] = df['EYFSPTotal'].astype(int)\n",
    "df['AcademicBegin'] = df['AcademicBegin'].astype(int)\n",
    "df['AcademicEnd'] = df['AcademicEnd'].astype(int)\n",
    "\n",
    "#df.dtypes\n",
    "                                     "
   ]
  },
  {
   "cell_type": "markdown",
   "id": "5e521d06-4d3e-48c0-ac03-c310f755e6d9",
   "metadata": {},
   "source": [
    "<div class=\"alert alert-block alert-info\">\n",
    "<h3> For records pertaining to early years from 2002 - 2012 we have to set the GLD flag based on computation <br/>\n",
    "         1. GLD Flag set it to true if all individual learning goals is above or equal to 6 and <br/>\n",
    "         2. if the Total is greater than or equal to 78. Otherwise the GLD flag is set to false <br/>\n",
    "</h3>\n",
    "</div>"
   ]
  },
  {
   "cell_type": "code",
   "execution_count": 67,
   "id": "8ffe5a13-a4ee-46a4-aa74-af3ce44a5b73",
   "metadata": {
    "tags": []
   },
   "outputs": [],
   "source": [
    "df.loc[(df['PSEAS1']>=6)&(df['PSEAS2']>=6)&(df['PSEAS3']>=6)&\n",
    "       (df['CLLAS1']>=6)&(df['CLLAS2']>=6)&(df['CLLAS3']>=6)&(df['CLLAS4']>=6)&\n",
    "       (df['PSRNAS1']>=6)&(df['PSRNAS2']>=6)&(df['PSRNAS3']>=6)&\n",
    "       (df['RKUW']>=6)&(df['RICD']>=6)&(df['RIPD']>=6)&(df['EYFSPTotal']>=78), 'newGLD'] = True   "
   ]
  },
  {
   "cell_type": "code",
   "execution_count": 68,
   "id": "8f0ef95f-e673-4740-ace8-a4d39c155b40",
   "metadata": {
    "tags": []
   },
   "outputs": [],
   "source": [
    "rf = df"
   ]
  },
  {
   "cell_type": "code",
   "execution_count": 69,
   "id": "95be34aa-6937-4be4-b18c-b7e96467bbf6",
   "metadata": {
    "tags": []
   },
   "outputs": [
    {
     "data": {
      "application/javascript": [
       "(function(root) {\n",
       "  function now() {\n",
       "    return new Date();\n",
       "  }\n",
       "\n",
       "  var force = true;\n",
       "  var py_version = '3.3.2'.replace('rc', '-rc.').replace('.dev', '-dev.');\n",
       "  var reloading = false;\n",
       "  var Bokeh = root.Bokeh;\n",
       "\n",
       "  if (typeof (root._bokeh_timeout) === \"undefined\" || force) {\n",
       "    root._bokeh_timeout = Date.now() + 5000;\n",
       "    root._bokeh_failed_load = false;\n",
       "  }\n",
       "\n",
       "  function run_callbacks() {\n",
       "    try {\n",
       "      root._bokeh_onload_callbacks.forEach(function(callback) {\n",
       "        if (callback != null)\n",
       "          callback();\n",
       "      });\n",
       "    } finally {\n",
       "      delete root._bokeh_onload_callbacks;\n",
       "    }\n",
       "    console.debug(\"Bokeh: all callbacks have finished\");\n",
       "  }\n",
       "\n",
       "  function load_libs(css_urls, js_urls, js_modules, js_exports, callback) {\n",
       "    if (css_urls == null) css_urls = [];\n",
       "    if (js_urls == null) js_urls = [];\n",
       "    if (js_modules == null) js_modules = [];\n",
       "    if (js_exports == null) js_exports = {};\n",
       "\n",
       "    root._bokeh_onload_callbacks.push(callback);\n",
       "\n",
       "    if (root._bokeh_is_loading > 0) {\n",
       "      console.debug(\"Bokeh: BokehJS is being loaded, scheduling callback at\", now());\n",
       "      return null;\n",
       "    }\n",
       "    if (js_urls.length === 0 && js_modules.length === 0 && Object.keys(js_exports).length === 0) {\n",
       "      run_callbacks();\n",
       "      return null;\n",
       "    }\n",
       "    if (!reloading) {\n",
       "      console.debug(\"Bokeh: BokehJS not loaded, scheduling load and callback at\", now());\n",
       "    }\n",
       "\n",
       "    function on_load() {\n",
       "      root._bokeh_is_loading--;\n",
       "      if (root._bokeh_is_loading === 0) {\n",
       "        console.debug(\"Bokeh: all BokehJS libraries/stylesheets loaded\");\n",
       "        run_callbacks()\n",
       "      }\n",
       "    }\n",
       "    window._bokeh_on_load = on_load\n",
       "\n",
       "    function on_error() {\n",
       "      console.error(\"failed to load \" + url);\n",
       "    }\n",
       "\n",
       "    var skip = [];\n",
       "    if (window.requirejs) {\n",
       "      window.requirejs.config({'packages': {}, 'paths': {'jspanel': 'https://cdn.jsdelivr.net/npm/jspanel4@4.12.0/dist/jspanel', 'jspanel-modal': 'https://cdn.jsdelivr.net/npm/jspanel4@4.12.0/dist/extensions/modal/jspanel.modal', 'jspanel-tooltip': 'https://cdn.jsdelivr.net/npm/jspanel4@4.12.0/dist/extensions/tooltip/jspanel.tooltip', 'jspanel-hint': 'https://cdn.jsdelivr.net/npm/jspanel4@4.12.0/dist/extensions/hint/jspanel.hint', 'jspanel-layout': 'https://cdn.jsdelivr.net/npm/jspanel4@4.12.0/dist/extensions/layout/jspanel.layout', 'jspanel-contextmenu': 'https://cdn.jsdelivr.net/npm/jspanel4@4.12.0/dist/extensions/contextmenu/jspanel.contextmenu', 'jspanel-dock': 'https://cdn.jsdelivr.net/npm/jspanel4@4.12.0/dist/extensions/dock/jspanel.dock', 'gridstack': 'https://cdn.jsdelivr.net/npm/gridstack@7.2.3/dist/gridstack-all', 'notyf': 'https://cdn.jsdelivr.net/npm/notyf@3/notyf.min'}, 'shim': {'jspanel': {'exports': 'jsPanel'}, 'gridstack': {'exports': 'GridStack'}}});\n",
       "      require([\"jspanel\"], function(jsPanel) {\n",
       "\twindow.jsPanel = jsPanel\n",
       "\ton_load()\n",
       "      })\n",
       "      require([\"jspanel-modal\"], function() {\n",
       "\ton_load()\n",
       "      })\n",
       "      require([\"jspanel-tooltip\"], function() {\n",
       "\ton_load()\n",
       "      })\n",
       "      require([\"jspanel-hint\"], function() {\n",
       "\ton_load()\n",
       "      })\n",
       "      require([\"jspanel-layout\"], function() {\n",
       "\ton_load()\n",
       "      })\n",
       "      require([\"jspanel-contextmenu\"], function() {\n",
       "\ton_load()\n",
       "      })\n",
       "      require([\"jspanel-dock\"], function() {\n",
       "\ton_load()\n",
       "      })\n",
       "      require([\"gridstack\"], function(GridStack) {\n",
       "\twindow.GridStack = GridStack\n",
       "\ton_load()\n",
       "      })\n",
       "      require([\"notyf\"], function() {\n",
       "\ton_load()\n",
       "      })\n",
       "      root._bokeh_is_loading = css_urls.length + 9;\n",
       "    } else {\n",
       "      root._bokeh_is_loading = css_urls.length + js_urls.length + js_modules.length + Object.keys(js_exports).length;\n",
       "    }\n",
       "\n",
       "    var existing_stylesheets = []\n",
       "    var links = document.getElementsByTagName('link')\n",
       "    for (var i = 0; i < links.length; i++) {\n",
       "      var link = links[i]\n",
       "      if (link.href != null) {\n",
       "\texisting_stylesheets.push(link.href)\n",
       "      }\n",
       "    }\n",
       "    for (var i = 0; i < css_urls.length; i++) {\n",
       "      var url = css_urls[i];\n",
       "      if (existing_stylesheets.indexOf(url) !== -1) {\n",
       "\ton_load()\n",
       "\tcontinue;\n",
       "      }\n",
       "      const element = document.createElement(\"link\");\n",
       "      element.onload = on_load;\n",
       "      element.onerror = on_error;\n",
       "      element.rel = \"stylesheet\";\n",
       "      element.type = \"text/css\";\n",
       "      element.href = url;\n",
       "      console.debug(\"Bokeh: injecting link tag for BokehJS stylesheet: \", url);\n",
       "      document.body.appendChild(element);\n",
       "    }    if (((window['jsPanel'] !== undefined) && (!(window['jsPanel'] instanceof HTMLElement))) || window.requirejs) {\n",
       "      var urls = ['https://cdn.holoviz.org/panel/1.3.6/dist/bundled/floatpanel/jspanel4@4.12.0/dist/jspanel.js', 'https://cdn.holoviz.org/panel/1.3.6/dist/bundled/floatpanel/jspanel4@4.12.0/dist/extensions/modal/jspanel.modal.js', 'https://cdn.holoviz.org/panel/1.3.6/dist/bundled/floatpanel/jspanel4@4.12.0/dist/extensions/tooltip/jspanel.tooltip.js', 'https://cdn.holoviz.org/panel/1.3.6/dist/bundled/floatpanel/jspanel4@4.12.0/dist/extensions/hint/jspanel.hint.js', 'https://cdn.holoviz.org/panel/1.3.6/dist/bundled/floatpanel/jspanel4@4.12.0/dist/extensions/layout/jspanel.layout.js', 'https://cdn.holoviz.org/panel/1.3.6/dist/bundled/floatpanel/jspanel4@4.12.0/dist/extensions/contextmenu/jspanel.contextmenu.js', 'https://cdn.holoviz.org/panel/1.3.6/dist/bundled/floatpanel/jspanel4@4.12.0/dist/extensions/dock/jspanel.dock.js'];\n",
       "      for (var i = 0; i < urls.length; i++) {\n",
       "        skip.push(urls[i])\n",
       "      }\n",
       "    }    if (((window['GridStack'] !== undefined) && (!(window['GridStack'] instanceof HTMLElement))) || window.requirejs) {\n",
       "      var urls = ['https://cdn.holoviz.org/panel/1.3.6/dist/bundled/gridstack/gridstack@7.2.3/dist/gridstack-all.js'];\n",
       "      for (var i = 0; i < urls.length; i++) {\n",
       "        skip.push(urls[i])\n",
       "      }\n",
       "    }    if (((window['Notyf'] !== undefined) && (!(window['Notyf'] instanceof HTMLElement))) || window.requirejs) {\n",
       "      var urls = ['https://cdn.holoviz.org/panel/1.3.6/dist/bundled/notificationarea/notyf@3/notyf.min.js'];\n",
       "      for (var i = 0; i < urls.length; i++) {\n",
       "        skip.push(urls[i])\n",
       "      }\n",
       "    }    var existing_scripts = []\n",
       "    var scripts = document.getElementsByTagName('script')\n",
       "    for (var i = 0; i < scripts.length; i++) {\n",
       "      var script = scripts[i]\n",
       "      if (script.src != null) {\n",
       "\texisting_scripts.push(script.src)\n",
       "      }\n",
       "    }\n",
       "    for (var i = 0; i < js_urls.length; i++) {\n",
       "      var url = js_urls[i];\n",
       "      if (skip.indexOf(url) !== -1 || existing_scripts.indexOf(url) !== -1) {\n",
       "\tif (!window.requirejs) {\n",
       "\t  on_load();\n",
       "\t}\n",
       "\tcontinue;\n",
       "      }\n",
       "      var element = document.createElement('script');\n",
       "      element.onload = on_load;\n",
       "      element.onerror = on_error;\n",
       "      element.async = false;\n",
       "      element.src = url;\n",
       "      console.debug(\"Bokeh: injecting script tag for BokehJS library: \", url);\n",
       "      document.head.appendChild(element);\n",
       "    }\n",
       "    for (var i = 0; i < js_modules.length; i++) {\n",
       "      var url = js_modules[i];\n",
       "      if (skip.indexOf(url) !== -1 || existing_scripts.indexOf(url) !== -1) {\n",
       "\tif (!window.requirejs) {\n",
       "\t  on_load();\n",
       "\t}\n",
       "\tcontinue;\n",
       "      }\n",
       "      var element = document.createElement('script');\n",
       "      element.onload = on_load;\n",
       "      element.onerror = on_error;\n",
       "      element.async = false;\n",
       "      element.src = url;\n",
       "      element.type = \"module\";\n",
       "      console.debug(\"Bokeh: injecting script tag for BokehJS library: \", url);\n",
       "      document.head.appendChild(element);\n",
       "    }\n",
       "    for (const name in js_exports) {\n",
       "      var url = js_exports[name];\n",
       "      if (skip.indexOf(url) >= 0 || root[name] != null) {\n",
       "\tif (!window.requirejs) {\n",
       "\t  on_load();\n",
       "\t}\n",
       "\tcontinue;\n",
       "      }\n",
       "      var element = document.createElement('script');\n",
       "      element.onerror = on_error;\n",
       "      element.async = false;\n",
       "      element.type = \"module\";\n",
       "      console.debug(\"Bokeh: injecting script tag for BokehJS library: \", url);\n",
       "      element.textContent = `\n",
       "      import ${name} from \"${url}\"\n",
       "      window.${name} = ${name}\n",
       "      window._bokeh_on_load()\n",
       "      `\n",
       "      document.head.appendChild(element);\n",
       "    }\n",
       "    if (!js_urls.length && !js_modules.length) {\n",
       "      on_load()\n",
       "    }\n",
       "  };\n",
       "\n",
       "  function inject_raw_css(css) {\n",
       "    const element = document.createElement(\"style\");\n",
       "    element.appendChild(document.createTextNode(css));\n",
       "    document.body.appendChild(element);\n",
       "  }\n",
       "\n",
       "  var js_urls = [\"https://cdn.bokeh.org/bokeh/release/bokeh-3.3.2.min.js\", \"https://cdn.bokeh.org/bokeh/release/bokeh-gl-3.3.2.min.js\", \"https://cdn.bokeh.org/bokeh/release/bokeh-widgets-3.3.2.min.js\", \"https://cdn.bokeh.org/bokeh/release/bokeh-tables-3.3.2.min.js\", \"https://cdn.holoviz.org/panel/1.3.6/dist/panel.min.js\"];\n",
       "  var js_modules = [];\n",
       "  var js_exports = {};\n",
       "  var css_urls = [];\n",
       "  var inline_js = [    function(Bokeh) {\n",
       "      Bokeh.set_log_level(\"info\");\n",
       "    },\n",
       "function(Bokeh) {} // ensure no trailing comma for IE\n",
       "  ];\n",
       "\n",
       "  function run_inline_js() {\n",
       "    if ((root.Bokeh !== undefined) || (force === true)) {\n",
       "      for (var i = 0; i < inline_js.length; i++) {\n",
       "\ttry {\n",
       "          inline_js[i].call(root, root.Bokeh);\n",
       "\t} catch(e) {\n",
       "\t  if (!reloading) {\n",
       "\t    throw e;\n",
       "\t  }\n",
       "\t}\n",
       "      }\n",
       "      // Cache old bokeh versions\n",
       "      if (Bokeh != undefined && !reloading) {\n",
       "\tvar NewBokeh = root.Bokeh;\n",
       "\tif (Bokeh.versions === undefined) {\n",
       "\t  Bokeh.versions = new Map();\n",
       "\t}\n",
       "\tif (NewBokeh.version !== Bokeh.version) {\n",
       "\t  Bokeh.versions.set(NewBokeh.version, NewBokeh)\n",
       "\t}\n",
       "\troot.Bokeh = Bokeh;\n",
       "      }} else if (Date.now() < root._bokeh_timeout) {\n",
       "      setTimeout(run_inline_js, 100);\n",
       "    } else if (!root._bokeh_failed_load) {\n",
       "      console.log(\"Bokeh: BokehJS failed to load within specified timeout.\");\n",
       "      root._bokeh_failed_load = true;\n",
       "    }\n",
       "    root._bokeh_is_initializing = false\n",
       "  }\n",
       "\n",
       "  function load_or_wait() {\n",
       "    // Implement a backoff loop that tries to ensure we do not load multiple\n",
       "    // versions of Bokeh and its dependencies at the same time.\n",
       "    // In recent versions we use the root._bokeh_is_initializing flag\n",
       "    // to determine whether there is an ongoing attempt to initialize\n",
       "    // bokeh, however for backward compatibility we also try to ensure\n",
       "    // that we do not start loading a newer (Panel>=1.0 and Bokeh>3) version\n",
       "    // before older versions are fully initialized.\n",
       "    if (root._bokeh_is_initializing && Date.now() > root._bokeh_timeout) {\n",
       "      root._bokeh_is_initializing = false;\n",
       "      root._bokeh_onload_callbacks = undefined;\n",
       "      console.log(\"Bokeh: BokehJS was loaded multiple times but one version failed to initialize.\");\n",
       "      load_or_wait();\n",
       "    } else if (root._bokeh_is_initializing || (typeof root._bokeh_is_initializing === \"undefined\" && root._bokeh_onload_callbacks !== undefined)) {\n",
       "      setTimeout(load_or_wait, 100);\n",
       "    } else {\n",
       "      root._bokeh_is_initializing = true\n",
       "      root._bokeh_onload_callbacks = []\n",
       "      var bokeh_loaded = Bokeh != null && (Bokeh.version === py_version || (Bokeh.versions !== undefined && Bokeh.versions.has(py_version)));\n",
       "      if (!reloading && !bokeh_loaded) {\n",
       "\troot.Bokeh = undefined;\n",
       "      }\n",
       "      load_libs(css_urls, js_urls, js_modules, js_exports, function() {\n",
       "\tconsole.debug(\"Bokeh: BokehJS plotting callback run at\", now());\n",
       "\trun_inline_js();\n",
       "      });\n",
       "    }\n",
       "  }\n",
       "  // Give older versions of the autoload script a head-start to ensure\n",
       "  // they initialize before we start loading newer version.\n",
       "  setTimeout(load_or_wait, 100)\n",
       "}(window));"
      ],
      "application/vnd.holoviews_load.v0+json": "(function(root) {\n  function now() {\n    return new Date();\n  }\n\n  var force = true;\n  var py_version = '3.3.2'.replace('rc', '-rc.').replace('.dev', '-dev.');\n  var reloading = false;\n  var Bokeh = root.Bokeh;\n\n  if (typeof (root._bokeh_timeout) === \"undefined\" || force) {\n    root._bokeh_timeout = Date.now() + 5000;\n    root._bokeh_failed_load = false;\n  }\n\n  function run_callbacks() {\n    try {\n      root._bokeh_onload_callbacks.forEach(function(callback) {\n        if (callback != null)\n          callback();\n      });\n    } finally {\n      delete root._bokeh_onload_callbacks;\n    }\n    console.debug(\"Bokeh: all callbacks have finished\");\n  }\n\n  function load_libs(css_urls, js_urls, js_modules, js_exports, callback) {\n    if (css_urls == null) css_urls = [];\n    if (js_urls == null) js_urls = [];\n    if (js_modules == null) js_modules = [];\n    if (js_exports == null) js_exports = {};\n\n    root._bokeh_onload_callbacks.push(callback);\n\n    if (root._bokeh_is_loading > 0) {\n      console.debug(\"Bokeh: BokehJS is being loaded, scheduling callback at\", now());\n      return null;\n    }\n    if (js_urls.length === 0 && js_modules.length === 0 && Object.keys(js_exports).length === 0) {\n      run_callbacks();\n      return null;\n    }\n    if (!reloading) {\n      console.debug(\"Bokeh: BokehJS not loaded, scheduling load and callback at\", now());\n    }\n\n    function on_load() {\n      root._bokeh_is_loading--;\n      if (root._bokeh_is_loading === 0) {\n        console.debug(\"Bokeh: all BokehJS libraries/stylesheets loaded\");\n        run_callbacks()\n      }\n    }\n    window._bokeh_on_load = on_load\n\n    function on_error() {\n      console.error(\"failed to load \" + url);\n    }\n\n    var skip = [];\n    if (window.requirejs) {\n      window.requirejs.config({'packages': {}, 'paths': {'jspanel': 'https://cdn.jsdelivr.net/npm/jspanel4@4.12.0/dist/jspanel', 'jspanel-modal': 'https://cdn.jsdelivr.net/npm/jspanel4@4.12.0/dist/extensions/modal/jspanel.modal', 'jspanel-tooltip': 'https://cdn.jsdelivr.net/npm/jspanel4@4.12.0/dist/extensions/tooltip/jspanel.tooltip', 'jspanel-hint': 'https://cdn.jsdelivr.net/npm/jspanel4@4.12.0/dist/extensions/hint/jspanel.hint', 'jspanel-layout': 'https://cdn.jsdelivr.net/npm/jspanel4@4.12.0/dist/extensions/layout/jspanel.layout', 'jspanel-contextmenu': 'https://cdn.jsdelivr.net/npm/jspanel4@4.12.0/dist/extensions/contextmenu/jspanel.contextmenu', 'jspanel-dock': 'https://cdn.jsdelivr.net/npm/jspanel4@4.12.0/dist/extensions/dock/jspanel.dock', 'gridstack': 'https://cdn.jsdelivr.net/npm/gridstack@7.2.3/dist/gridstack-all', 'notyf': 'https://cdn.jsdelivr.net/npm/notyf@3/notyf.min'}, 'shim': {'jspanel': {'exports': 'jsPanel'}, 'gridstack': {'exports': 'GridStack'}}});\n      require([\"jspanel\"], function(jsPanel) {\n\twindow.jsPanel = jsPanel\n\ton_load()\n      })\n      require([\"jspanel-modal\"], function() {\n\ton_load()\n      })\n      require([\"jspanel-tooltip\"], function() {\n\ton_load()\n      })\n      require([\"jspanel-hint\"], function() {\n\ton_load()\n      })\n      require([\"jspanel-layout\"], function() {\n\ton_load()\n      })\n      require([\"jspanel-contextmenu\"], function() {\n\ton_load()\n      })\n      require([\"jspanel-dock\"], function() {\n\ton_load()\n      })\n      require([\"gridstack\"], function(GridStack) {\n\twindow.GridStack = GridStack\n\ton_load()\n      })\n      require([\"notyf\"], function() {\n\ton_load()\n      })\n      root._bokeh_is_loading = css_urls.length + 9;\n    } else {\n      root._bokeh_is_loading = css_urls.length + js_urls.length + js_modules.length + Object.keys(js_exports).length;\n    }\n\n    var existing_stylesheets = []\n    var links = document.getElementsByTagName('link')\n    for (var i = 0; i < links.length; i++) {\n      var link = links[i]\n      if (link.href != null) {\n\texisting_stylesheets.push(link.href)\n      }\n    }\n    for (var i = 0; i < css_urls.length; i++) {\n      var url = css_urls[i];\n      if (existing_stylesheets.indexOf(url) !== -1) {\n\ton_load()\n\tcontinue;\n      }\n      const element = document.createElement(\"link\");\n      element.onload = on_load;\n      element.onerror = on_error;\n      element.rel = \"stylesheet\";\n      element.type = \"text/css\";\n      element.href = url;\n      console.debug(\"Bokeh: injecting link tag for BokehJS stylesheet: \", url);\n      document.body.appendChild(element);\n    }    if (((window['jsPanel'] !== undefined) && (!(window['jsPanel'] instanceof HTMLElement))) || window.requirejs) {\n      var urls = ['https://cdn.holoviz.org/panel/1.3.6/dist/bundled/floatpanel/jspanel4@4.12.0/dist/jspanel.js', 'https://cdn.holoviz.org/panel/1.3.6/dist/bundled/floatpanel/jspanel4@4.12.0/dist/extensions/modal/jspanel.modal.js', 'https://cdn.holoviz.org/panel/1.3.6/dist/bundled/floatpanel/jspanel4@4.12.0/dist/extensions/tooltip/jspanel.tooltip.js', 'https://cdn.holoviz.org/panel/1.3.6/dist/bundled/floatpanel/jspanel4@4.12.0/dist/extensions/hint/jspanel.hint.js', 'https://cdn.holoviz.org/panel/1.3.6/dist/bundled/floatpanel/jspanel4@4.12.0/dist/extensions/layout/jspanel.layout.js', 'https://cdn.holoviz.org/panel/1.3.6/dist/bundled/floatpanel/jspanel4@4.12.0/dist/extensions/contextmenu/jspanel.contextmenu.js', 'https://cdn.holoviz.org/panel/1.3.6/dist/bundled/floatpanel/jspanel4@4.12.0/dist/extensions/dock/jspanel.dock.js'];\n      for (var i = 0; i < urls.length; i++) {\n        skip.push(urls[i])\n      }\n    }    if (((window['GridStack'] !== undefined) && (!(window['GridStack'] instanceof HTMLElement))) || window.requirejs) {\n      var urls = ['https://cdn.holoviz.org/panel/1.3.6/dist/bundled/gridstack/gridstack@7.2.3/dist/gridstack-all.js'];\n      for (var i = 0; i < urls.length; i++) {\n        skip.push(urls[i])\n      }\n    }    if (((window['Notyf'] !== undefined) && (!(window['Notyf'] instanceof HTMLElement))) || window.requirejs) {\n      var urls = ['https://cdn.holoviz.org/panel/1.3.6/dist/bundled/notificationarea/notyf@3/notyf.min.js'];\n      for (var i = 0; i < urls.length; i++) {\n        skip.push(urls[i])\n      }\n    }    var existing_scripts = []\n    var scripts = document.getElementsByTagName('script')\n    for (var i = 0; i < scripts.length; i++) {\n      var script = scripts[i]\n      if (script.src != null) {\n\texisting_scripts.push(script.src)\n      }\n    }\n    for (var i = 0; i < js_urls.length; i++) {\n      var url = js_urls[i];\n      if (skip.indexOf(url) !== -1 || existing_scripts.indexOf(url) !== -1) {\n\tif (!window.requirejs) {\n\t  on_load();\n\t}\n\tcontinue;\n      }\n      var element = document.createElement('script');\n      element.onload = on_load;\n      element.onerror = on_error;\n      element.async = false;\n      element.src = url;\n      console.debug(\"Bokeh: injecting script tag for BokehJS library: \", url);\n      document.head.appendChild(element);\n    }\n    for (var i = 0; i < js_modules.length; i++) {\n      var url = js_modules[i];\n      if (skip.indexOf(url) !== -1 || existing_scripts.indexOf(url) !== -1) {\n\tif (!window.requirejs) {\n\t  on_load();\n\t}\n\tcontinue;\n      }\n      var element = document.createElement('script');\n      element.onload = on_load;\n      element.onerror = on_error;\n      element.async = false;\n      element.src = url;\n      element.type = \"module\";\n      console.debug(\"Bokeh: injecting script tag for BokehJS library: \", url);\n      document.head.appendChild(element);\n    }\n    for (const name in js_exports) {\n      var url = js_exports[name];\n      if (skip.indexOf(url) >= 0 || root[name] != null) {\n\tif (!window.requirejs) {\n\t  on_load();\n\t}\n\tcontinue;\n      }\n      var element = document.createElement('script');\n      element.onerror = on_error;\n      element.async = false;\n      element.type = \"module\";\n      console.debug(\"Bokeh: injecting script tag for BokehJS library: \", url);\n      element.textContent = `\n      import ${name} from \"${url}\"\n      window.${name} = ${name}\n      window._bokeh_on_load()\n      `\n      document.head.appendChild(element);\n    }\n    if (!js_urls.length && !js_modules.length) {\n      on_load()\n    }\n  };\n\n  function inject_raw_css(css) {\n    const element = document.createElement(\"style\");\n    element.appendChild(document.createTextNode(css));\n    document.body.appendChild(element);\n  }\n\n  var js_urls = [\"https://cdn.bokeh.org/bokeh/release/bokeh-3.3.2.min.js\", \"https://cdn.bokeh.org/bokeh/release/bokeh-gl-3.3.2.min.js\", \"https://cdn.bokeh.org/bokeh/release/bokeh-widgets-3.3.2.min.js\", \"https://cdn.bokeh.org/bokeh/release/bokeh-tables-3.3.2.min.js\", \"https://cdn.holoviz.org/panel/1.3.6/dist/panel.min.js\"];\n  var js_modules = [];\n  var js_exports = {};\n  var css_urls = [];\n  var inline_js = [    function(Bokeh) {\n      Bokeh.set_log_level(\"info\");\n    },\nfunction(Bokeh) {} // ensure no trailing comma for IE\n  ];\n\n  function run_inline_js() {\n    if ((root.Bokeh !== undefined) || (force === true)) {\n      for (var i = 0; i < inline_js.length; i++) {\n\ttry {\n          inline_js[i].call(root, root.Bokeh);\n\t} catch(e) {\n\t  if (!reloading) {\n\t    throw e;\n\t  }\n\t}\n      }\n      // Cache old bokeh versions\n      if (Bokeh != undefined && !reloading) {\n\tvar NewBokeh = root.Bokeh;\n\tif (Bokeh.versions === undefined) {\n\t  Bokeh.versions = new Map();\n\t}\n\tif (NewBokeh.version !== Bokeh.version) {\n\t  Bokeh.versions.set(NewBokeh.version, NewBokeh)\n\t}\n\troot.Bokeh = Bokeh;\n      }} else if (Date.now() < root._bokeh_timeout) {\n      setTimeout(run_inline_js, 100);\n    } else if (!root._bokeh_failed_load) {\n      console.log(\"Bokeh: BokehJS failed to load within specified timeout.\");\n      root._bokeh_failed_load = true;\n    }\n    root._bokeh_is_initializing = false\n  }\n\n  function load_or_wait() {\n    // Implement a backoff loop that tries to ensure we do not load multiple\n    // versions of Bokeh and its dependencies at the same time.\n    // In recent versions we use the root._bokeh_is_initializing flag\n    // to determine whether there is an ongoing attempt to initialize\n    // bokeh, however for backward compatibility we also try to ensure\n    // that we do not start loading a newer (Panel>=1.0 and Bokeh>3) version\n    // before older versions are fully initialized.\n    if (root._bokeh_is_initializing && Date.now() > root._bokeh_timeout) {\n      root._bokeh_is_initializing = false;\n      root._bokeh_onload_callbacks = undefined;\n      console.log(\"Bokeh: BokehJS was loaded multiple times but one version failed to initialize.\");\n      load_or_wait();\n    } else if (root._bokeh_is_initializing || (typeof root._bokeh_is_initializing === \"undefined\" && root._bokeh_onload_callbacks !== undefined)) {\n      setTimeout(load_or_wait, 100);\n    } else {\n      root._bokeh_is_initializing = true\n      root._bokeh_onload_callbacks = []\n      var bokeh_loaded = Bokeh != null && (Bokeh.version === py_version || (Bokeh.versions !== undefined && Bokeh.versions.has(py_version)));\n      if (!reloading && !bokeh_loaded) {\n\troot.Bokeh = undefined;\n      }\n      load_libs(css_urls, js_urls, js_modules, js_exports, function() {\n\tconsole.debug(\"Bokeh: BokehJS plotting callback run at\", now());\n\trun_inline_js();\n      });\n    }\n  }\n  // Give older versions of the autoload script a head-start to ensure\n  // they initialize before we start loading newer version.\n  setTimeout(load_or_wait, 100)\n}(window));"
     },
     "metadata": {},
     "output_type": "display_data"
    },
    {
     "data": {
      "application/javascript": [
       "\n",
       "if ((window.PyViz === undefined) || (window.PyViz instanceof HTMLElement)) {\n",
       "  window.PyViz = {comms: {}, comm_status:{}, kernels:{}, receivers: {}, plot_index: []}\n",
       "}\n",
       "\n",
       "\n",
       "    function JupyterCommManager() {\n",
       "    }\n",
       "\n",
       "    JupyterCommManager.prototype.register_target = function(plot_id, comm_id, msg_handler) {\n",
       "      if (window.comm_manager || ((window.Jupyter !== undefined) && (Jupyter.notebook.kernel != null))) {\n",
       "        var comm_manager = window.comm_manager || Jupyter.notebook.kernel.comm_manager;\n",
       "        comm_manager.register_target(comm_id, function(comm) {\n",
       "          comm.on_msg(msg_handler);\n",
       "        });\n",
       "      } else if ((plot_id in window.PyViz.kernels) && (window.PyViz.kernels[plot_id])) {\n",
       "        window.PyViz.kernels[plot_id].registerCommTarget(comm_id, function(comm) {\n",
       "          comm.onMsg = msg_handler;\n",
       "        });\n",
       "      } else if (typeof google != 'undefined' && google.colab.kernel != null) {\n",
       "        google.colab.kernel.comms.registerTarget(comm_id, (comm) => {\n",
       "          var messages = comm.messages[Symbol.asyncIterator]();\n",
       "          function processIteratorResult(result) {\n",
       "            var message = result.value;\n",
       "            console.log(message)\n",
       "            var content = {data: message.data, comm_id};\n",
       "            var buffers = []\n",
       "            for (var buffer of message.buffers || []) {\n",
       "              buffers.push(new DataView(buffer))\n",
       "            }\n",
       "            var metadata = message.metadata || {};\n",
       "            var msg = {content, buffers, metadata}\n",
       "            msg_handler(msg);\n",
       "            return messages.next().then(processIteratorResult);\n",
       "          }\n",
       "          return messages.next().then(processIteratorResult);\n",
       "        })\n",
       "      }\n",
       "    }\n",
       "\n",
       "    JupyterCommManager.prototype.get_client_comm = function(plot_id, comm_id, msg_handler) {\n",
       "      if (comm_id in window.PyViz.comms) {\n",
       "        return window.PyViz.comms[comm_id];\n",
       "      } else if (window.comm_manager || ((window.Jupyter !== undefined) && (Jupyter.notebook.kernel != null))) {\n",
       "        var comm_manager = window.comm_manager || Jupyter.notebook.kernel.comm_manager;\n",
       "        var comm = comm_manager.new_comm(comm_id, {}, {}, {}, comm_id);\n",
       "        if (msg_handler) {\n",
       "          comm.on_msg(msg_handler);\n",
       "        }\n",
       "      } else if ((plot_id in window.PyViz.kernels) && (window.PyViz.kernels[plot_id])) {\n",
       "        var comm = window.PyViz.kernels[plot_id].connectToComm(comm_id);\n",
       "        comm.open();\n",
       "        if (msg_handler) {\n",
       "          comm.onMsg = msg_handler;\n",
       "        }\n",
       "      } else if (typeof google != 'undefined' && google.colab.kernel != null) {\n",
       "        var comm_promise = google.colab.kernel.comms.open(comm_id)\n",
       "        comm_promise.then((comm) => {\n",
       "          window.PyViz.comms[comm_id] = comm;\n",
       "          if (msg_handler) {\n",
       "            var messages = comm.messages[Symbol.asyncIterator]();\n",
       "            function processIteratorResult(result) {\n",
       "              var message = result.value;\n",
       "              var content = {data: message.data};\n",
       "              var metadata = message.metadata || {comm_id};\n",
       "              var msg = {content, metadata}\n",
       "              msg_handler(msg);\n",
       "              return messages.next().then(processIteratorResult);\n",
       "            }\n",
       "            return messages.next().then(processIteratorResult);\n",
       "          }\n",
       "        }) \n",
       "        var sendClosure = (data, metadata, buffers, disposeOnDone) => {\n",
       "          return comm_promise.then((comm) => {\n",
       "            comm.send(data, metadata, buffers, disposeOnDone);\n",
       "          });\n",
       "        };\n",
       "        var comm = {\n",
       "          send: sendClosure\n",
       "        };\n",
       "      }\n",
       "      window.PyViz.comms[comm_id] = comm;\n",
       "      return comm;\n",
       "    }\n",
       "    window.PyViz.comm_manager = new JupyterCommManager();\n",
       "    \n",
       "\n",
       "\n",
       "var JS_MIME_TYPE = 'application/javascript';\n",
       "var HTML_MIME_TYPE = 'text/html';\n",
       "var EXEC_MIME_TYPE = 'application/vnd.holoviews_exec.v0+json';\n",
       "var CLASS_NAME = 'output';\n",
       "\n",
       "/**\n",
       " * Render data to the DOM node\n",
       " */\n",
       "function render(props, node) {\n",
       "  var div = document.createElement(\"div\");\n",
       "  var script = document.createElement(\"script\");\n",
       "  node.appendChild(div);\n",
       "  node.appendChild(script);\n",
       "}\n",
       "\n",
       "/**\n",
       " * Handle when a new output is added\n",
       " */\n",
       "function handle_add_output(event, handle) {\n",
       "  var output_area = handle.output_area;\n",
       "  var output = handle.output;\n",
       "  if ((output.data == undefined) || (!output.data.hasOwnProperty(EXEC_MIME_TYPE))) {\n",
       "    return\n",
       "  }\n",
       "  var id = output.metadata[EXEC_MIME_TYPE][\"id\"];\n",
       "  var toinsert = output_area.element.find(\".\" + CLASS_NAME.split(' ')[0]);\n",
       "  if (id !== undefined) {\n",
       "    var nchildren = toinsert.length;\n",
       "    var html_node = toinsert[nchildren-1].children[0];\n",
       "    html_node.innerHTML = output.data[HTML_MIME_TYPE];\n",
       "    var scripts = [];\n",
       "    var nodelist = html_node.querySelectorAll(\"script\");\n",
       "    for (var i in nodelist) {\n",
       "      if (nodelist.hasOwnProperty(i)) {\n",
       "        scripts.push(nodelist[i])\n",
       "      }\n",
       "    }\n",
       "\n",
       "    scripts.forEach( function (oldScript) {\n",
       "      var newScript = document.createElement(\"script\");\n",
       "      var attrs = [];\n",
       "      var nodemap = oldScript.attributes;\n",
       "      for (var j in nodemap) {\n",
       "        if (nodemap.hasOwnProperty(j)) {\n",
       "          attrs.push(nodemap[j])\n",
       "        }\n",
       "      }\n",
       "      attrs.forEach(function(attr) { newScript.setAttribute(attr.name, attr.value) });\n",
       "      newScript.appendChild(document.createTextNode(oldScript.innerHTML));\n",
       "      oldScript.parentNode.replaceChild(newScript, oldScript);\n",
       "    });\n",
       "    if (JS_MIME_TYPE in output.data) {\n",
       "      toinsert[nchildren-1].children[1].textContent = output.data[JS_MIME_TYPE];\n",
       "    }\n",
       "    output_area._hv_plot_id = id;\n",
       "    if ((window.Bokeh !== undefined) && (id in Bokeh.index)) {\n",
       "      window.PyViz.plot_index[id] = Bokeh.index[id];\n",
       "    } else {\n",
       "      window.PyViz.plot_index[id] = null;\n",
       "    }\n",
       "  } else if (output.metadata[EXEC_MIME_TYPE][\"server_id\"] !== undefined) {\n",
       "    var bk_div = document.createElement(\"div\");\n",
       "    bk_div.innerHTML = output.data[HTML_MIME_TYPE];\n",
       "    var script_attrs = bk_div.children[0].attributes;\n",
       "    for (var i = 0; i < script_attrs.length; i++) {\n",
       "      toinsert[toinsert.length - 1].childNodes[1].setAttribute(script_attrs[i].name, script_attrs[i].value);\n",
       "    }\n",
       "    // store reference to server id on output_area\n",
       "    output_area._bokeh_server_id = output.metadata[EXEC_MIME_TYPE][\"server_id\"];\n",
       "  }\n",
       "}\n",
       "\n",
       "/**\n",
       " * Handle when an output is cleared or removed\n",
       " */\n",
       "function handle_clear_output(event, handle) {\n",
       "  var id = handle.cell.output_area._hv_plot_id;\n",
       "  var server_id = handle.cell.output_area._bokeh_server_id;\n",
       "  if (((id === undefined) || !(id in PyViz.plot_index)) && (server_id !== undefined)) { return; }\n",
       "  var comm = window.PyViz.comm_manager.get_client_comm(\"hv-extension-comm\", \"hv-extension-comm\", function () {});\n",
       "  if (server_id !== null) {\n",
       "    comm.send({event_type: 'server_delete', 'id': server_id});\n",
       "    return;\n",
       "  } else if (comm !== null) {\n",
       "    comm.send({event_type: 'delete', 'id': id});\n",
       "  }\n",
       "  delete PyViz.plot_index[id];\n",
       "  if ((window.Bokeh !== undefined) & (id in window.Bokeh.index)) {\n",
       "    var doc = window.Bokeh.index[id].model.document\n",
       "    doc.clear();\n",
       "    const i = window.Bokeh.documents.indexOf(doc);\n",
       "    if (i > -1) {\n",
       "      window.Bokeh.documents.splice(i, 1);\n",
       "    }\n",
       "  }\n",
       "}\n",
       "\n",
       "/**\n",
       " * Handle kernel restart event\n",
       " */\n",
       "function handle_kernel_cleanup(event, handle) {\n",
       "  delete PyViz.comms[\"hv-extension-comm\"];\n",
       "  window.PyViz.plot_index = {}\n",
       "}\n",
       "\n",
       "/**\n",
       " * Handle update_display_data messages\n",
       " */\n",
       "function handle_update_output(event, handle) {\n",
       "  handle_clear_output(event, {cell: {output_area: handle.output_area}})\n",
       "  handle_add_output(event, handle)\n",
       "}\n",
       "\n",
       "function register_renderer(events, OutputArea) {\n",
       "  function append_mime(data, metadata, element) {\n",
       "    // create a DOM node to render to\n",
       "    var toinsert = this.create_output_subarea(\n",
       "    metadata,\n",
       "    CLASS_NAME,\n",
       "    EXEC_MIME_TYPE\n",
       "    );\n",
       "    this.keyboard_manager.register_events(toinsert);\n",
       "    // Render to node\n",
       "    var props = {data: data, metadata: metadata[EXEC_MIME_TYPE]};\n",
       "    render(props, toinsert[0]);\n",
       "    element.append(toinsert);\n",
       "    return toinsert\n",
       "  }\n",
       "\n",
       "  events.on('output_added.OutputArea', handle_add_output);\n",
       "  events.on('output_updated.OutputArea', handle_update_output);\n",
       "  events.on('clear_output.CodeCell', handle_clear_output);\n",
       "  events.on('delete.Cell', handle_clear_output);\n",
       "  events.on('kernel_ready.Kernel', handle_kernel_cleanup);\n",
       "\n",
       "  OutputArea.prototype.register_mime_type(EXEC_MIME_TYPE, append_mime, {\n",
       "    safe: true,\n",
       "    index: 0\n",
       "  });\n",
       "}\n",
       "\n",
       "if (window.Jupyter !== undefined) {\n",
       "  try {\n",
       "    var events = require('base/js/events');\n",
       "    var OutputArea = require('notebook/js/outputarea').OutputArea;\n",
       "    if (OutputArea.prototype.mime_types().indexOf(EXEC_MIME_TYPE) == -1) {\n",
       "      register_renderer(events, OutputArea);\n",
       "    }\n",
       "  } catch(err) {\n",
       "  }\n",
       "}\n"
      ],
      "application/vnd.holoviews_load.v0+json": "\nif ((window.PyViz === undefined) || (window.PyViz instanceof HTMLElement)) {\n  window.PyViz = {comms: {}, comm_status:{}, kernels:{}, receivers: {}, plot_index: []}\n}\n\n\n    function JupyterCommManager() {\n    }\n\n    JupyterCommManager.prototype.register_target = function(plot_id, comm_id, msg_handler) {\n      if (window.comm_manager || ((window.Jupyter !== undefined) && (Jupyter.notebook.kernel != null))) {\n        var comm_manager = window.comm_manager || Jupyter.notebook.kernel.comm_manager;\n        comm_manager.register_target(comm_id, function(comm) {\n          comm.on_msg(msg_handler);\n        });\n      } else if ((plot_id in window.PyViz.kernels) && (window.PyViz.kernels[plot_id])) {\n        window.PyViz.kernels[plot_id].registerCommTarget(comm_id, function(comm) {\n          comm.onMsg = msg_handler;\n        });\n      } else if (typeof google != 'undefined' && google.colab.kernel != null) {\n        google.colab.kernel.comms.registerTarget(comm_id, (comm) => {\n          var messages = comm.messages[Symbol.asyncIterator]();\n          function processIteratorResult(result) {\n            var message = result.value;\n            console.log(message)\n            var content = {data: message.data, comm_id};\n            var buffers = []\n            for (var buffer of message.buffers || []) {\n              buffers.push(new DataView(buffer))\n            }\n            var metadata = message.metadata || {};\n            var msg = {content, buffers, metadata}\n            msg_handler(msg);\n            return messages.next().then(processIteratorResult);\n          }\n          return messages.next().then(processIteratorResult);\n        })\n      }\n    }\n\n    JupyterCommManager.prototype.get_client_comm = function(plot_id, comm_id, msg_handler) {\n      if (comm_id in window.PyViz.comms) {\n        return window.PyViz.comms[comm_id];\n      } else if (window.comm_manager || ((window.Jupyter !== undefined) && (Jupyter.notebook.kernel != null))) {\n        var comm_manager = window.comm_manager || Jupyter.notebook.kernel.comm_manager;\n        var comm = comm_manager.new_comm(comm_id, {}, {}, {}, comm_id);\n        if (msg_handler) {\n          comm.on_msg(msg_handler);\n        }\n      } else if ((plot_id in window.PyViz.kernels) && (window.PyViz.kernels[plot_id])) {\n        var comm = window.PyViz.kernels[plot_id].connectToComm(comm_id);\n        comm.open();\n        if (msg_handler) {\n          comm.onMsg = msg_handler;\n        }\n      } else if (typeof google != 'undefined' && google.colab.kernel != null) {\n        var comm_promise = google.colab.kernel.comms.open(comm_id)\n        comm_promise.then((comm) => {\n          window.PyViz.comms[comm_id] = comm;\n          if (msg_handler) {\n            var messages = comm.messages[Symbol.asyncIterator]();\n            function processIteratorResult(result) {\n              var message = result.value;\n              var content = {data: message.data};\n              var metadata = message.metadata || {comm_id};\n              var msg = {content, metadata}\n              msg_handler(msg);\n              return messages.next().then(processIteratorResult);\n            }\n            return messages.next().then(processIteratorResult);\n          }\n        }) \n        var sendClosure = (data, metadata, buffers, disposeOnDone) => {\n          return comm_promise.then((comm) => {\n            comm.send(data, metadata, buffers, disposeOnDone);\n          });\n        };\n        var comm = {\n          send: sendClosure\n        };\n      }\n      window.PyViz.comms[comm_id] = comm;\n      return comm;\n    }\n    window.PyViz.comm_manager = new JupyterCommManager();\n    \n\n\nvar JS_MIME_TYPE = 'application/javascript';\nvar HTML_MIME_TYPE = 'text/html';\nvar EXEC_MIME_TYPE = 'application/vnd.holoviews_exec.v0+json';\nvar CLASS_NAME = 'output';\n\n/**\n * Render data to the DOM node\n */\nfunction render(props, node) {\n  var div = document.createElement(\"div\");\n  var script = document.createElement(\"script\");\n  node.appendChild(div);\n  node.appendChild(script);\n}\n\n/**\n * Handle when a new output is added\n */\nfunction handle_add_output(event, handle) {\n  var output_area = handle.output_area;\n  var output = handle.output;\n  if ((output.data == undefined) || (!output.data.hasOwnProperty(EXEC_MIME_TYPE))) {\n    return\n  }\n  var id = output.metadata[EXEC_MIME_TYPE][\"id\"];\n  var toinsert = output_area.element.find(\".\" + CLASS_NAME.split(' ')[0]);\n  if (id !== undefined) {\n    var nchildren = toinsert.length;\n    var html_node = toinsert[nchildren-1].children[0];\n    html_node.innerHTML = output.data[HTML_MIME_TYPE];\n    var scripts = [];\n    var nodelist = html_node.querySelectorAll(\"script\");\n    for (var i in nodelist) {\n      if (nodelist.hasOwnProperty(i)) {\n        scripts.push(nodelist[i])\n      }\n    }\n\n    scripts.forEach( function (oldScript) {\n      var newScript = document.createElement(\"script\");\n      var attrs = [];\n      var nodemap = oldScript.attributes;\n      for (var j in nodemap) {\n        if (nodemap.hasOwnProperty(j)) {\n          attrs.push(nodemap[j])\n        }\n      }\n      attrs.forEach(function(attr) { newScript.setAttribute(attr.name, attr.value) });\n      newScript.appendChild(document.createTextNode(oldScript.innerHTML));\n      oldScript.parentNode.replaceChild(newScript, oldScript);\n    });\n    if (JS_MIME_TYPE in output.data) {\n      toinsert[nchildren-1].children[1].textContent = output.data[JS_MIME_TYPE];\n    }\n    output_area._hv_plot_id = id;\n    if ((window.Bokeh !== undefined) && (id in Bokeh.index)) {\n      window.PyViz.plot_index[id] = Bokeh.index[id];\n    } else {\n      window.PyViz.plot_index[id] = null;\n    }\n  } else if (output.metadata[EXEC_MIME_TYPE][\"server_id\"] !== undefined) {\n    var bk_div = document.createElement(\"div\");\n    bk_div.innerHTML = output.data[HTML_MIME_TYPE];\n    var script_attrs = bk_div.children[0].attributes;\n    for (var i = 0; i < script_attrs.length; i++) {\n      toinsert[toinsert.length - 1].childNodes[1].setAttribute(script_attrs[i].name, script_attrs[i].value);\n    }\n    // store reference to server id on output_area\n    output_area._bokeh_server_id = output.metadata[EXEC_MIME_TYPE][\"server_id\"];\n  }\n}\n\n/**\n * Handle when an output is cleared or removed\n */\nfunction handle_clear_output(event, handle) {\n  var id = handle.cell.output_area._hv_plot_id;\n  var server_id = handle.cell.output_area._bokeh_server_id;\n  if (((id === undefined) || !(id in PyViz.plot_index)) && (server_id !== undefined)) { return; }\n  var comm = window.PyViz.comm_manager.get_client_comm(\"hv-extension-comm\", \"hv-extension-comm\", function () {});\n  if (server_id !== null) {\n    comm.send({event_type: 'server_delete', 'id': server_id});\n    return;\n  } else if (comm !== null) {\n    comm.send({event_type: 'delete', 'id': id});\n  }\n  delete PyViz.plot_index[id];\n  if ((window.Bokeh !== undefined) & (id in window.Bokeh.index)) {\n    var doc = window.Bokeh.index[id].model.document\n    doc.clear();\n    const i = window.Bokeh.documents.indexOf(doc);\n    if (i > -1) {\n      window.Bokeh.documents.splice(i, 1);\n    }\n  }\n}\n\n/**\n * Handle kernel restart event\n */\nfunction handle_kernel_cleanup(event, handle) {\n  delete PyViz.comms[\"hv-extension-comm\"];\n  window.PyViz.plot_index = {}\n}\n\n/**\n * Handle update_display_data messages\n */\nfunction handle_update_output(event, handle) {\n  handle_clear_output(event, {cell: {output_area: handle.output_area}})\n  handle_add_output(event, handle)\n}\n\nfunction register_renderer(events, OutputArea) {\n  function append_mime(data, metadata, element) {\n    // create a DOM node to render to\n    var toinsert = this.create_output_subarea(\n    metadata,\n    CLASS_NAME,\n    EXEC_MIME_TYPE\n    );\n    this.keyboard_manager.register_events(toinsert);\n    // Render to node\n    var props = {data: data, metadata: metadata[EXEC_MIME_TYPE]};\n    render(props, toinsert[0]);\n    element.append(toinsert);\n    return toinsert\n  }\n\n  events.on('output_added.OutputArea', handle_add_output);\n  events.on('output_updated.OutputArea', handle_update_output);\n  events.on('clear_output.CodeCell', handle_clear_output);\n  events.on('delete.Cell', handle_clear_output);\n  events.on('kernel_ready.Kernel', handle_kernel_cleanup);\n\n  OutputArea.prototype.register_mime_type(EXEC_MIME_TYPE, append_mime, {\n    safe: true,\n    index: 0\n  });\n}\n\nif (window.Jupyter !== undefined) {\n  try {\n    var events = require('base/js/events');\n    var OutputArea = require('notebook/js/outputarea').OutputArea;\n    if (OutputArea.prototype.mime_types().indexOf(EXEC_MIME_TYPE) == -1) {\n      register_renderer(events, OutputArea);\n    }\n  } catch(err) {\n  }\n}\n"
     },
     "metadata": {},
     "output_type": "display_data"
    },
    {
     "data": {
      "text/html": [
       "<style>*[data-root-id],\n",
       "*[data-root-id] > * {\n",
       "  box-sizing: border-box;\n",
       "  font-family: var(--jp-ui-font-family);\n",
       "  font-size: var(--jp-ui-font-size1);\n",
       "  color: var(--vscode-editor-foreground, var(--jp-ui-font-color1));\n",
       "}\n",
       "\n",
       "/* Override VSCode background color */\n",
       ".cell-output-ipywidget-background:has(\n",
       "    > .cell-output-ipywidget-background > .lm-Widget > *[data-root-id]\n",
       "  ),\n",
       ".cell-output-ipywidget-background:has(> .lm-Widget > *[data-root-id]) {\n",
       "  background-color: transparent !important;\n",
       "}\n",
       "</style>"
      ]
     },
     "metadata": {},
     "output_type": "display_data"
    },
    {
     "data": {
      "application/vnd.holoviews_exec.v0+json": "",
      "text/html": [
       "<div id='p1002'>\n",
       "  <div id=\"f06c56ce-f992-4737-91fd-8c43f84b9fd4\" data-root-id=\"p1002\" style=\"display: contents;\"></div>\n",
       "</div>\n",
       "<script type=\"application/javascript\">(function(root) {\n",
       "  var docs_json = {\"e34efe0e-9b20-4e36-a175-416ab17fcd29\":{\"version\":\"3.3.2\",\"title\":\"Bokeh Application\",\"roots\":[{\"type\":\"object\",\"name\":\"panel.models.browser.BrowserInfo\",\"id\":\"p1002\"},{\"type\":\"object\",\"name\":\"panel.models.comm_manager.CommManager\",\"id\":\"p1003\",\"attributes\":{\"plot_id\":\"p1002\",\"comm_id\":\"965af951ec784867a0a75e1c22005c90\",\"client_comm_id\":\"52db17fee4c646db9255c446be8d841d\"}}],\"defs\":[{\"type\":\"model\",\"name\":\"ReactiveHTML1\"},{\"type\":\"model\",\"name\":\"FlexBox1\",\"properties\":[{\"name\":\"align_content\",\"kind\":\"Any\",\"default\":\"flex-start\"},{\"name\":\"align_items\",\"kind\":\"Any\",\"default\":\"flex-start\"},{\"name\":\"flex_direction\",\"kind\":\"Any\",\"default\":\"row\"},{\"name\":\"flex_wrap\",\"kind\":\"Any\",\"default\":\"wrap\"},{\"name\":\"justify_content\",\"kind\":\"Any\",\"default\":\"flex-start\"}]},{\"type\":\"model\",\"name\":\"FloatPanel1\",\"properties\":[{\"name\":\"config\",\"kind\":\"Any\",\"default\":{\"type\":\"map\"}},{\"name\":\"contained\",\"kind\":\"Any\",\"default\":true},{\"name\":\"position\",\"kind\":\"Any\",\"default\":\"right-top\"},{\"name\":\"offsetx\",\"kind\":\"Any\",\"default\":null},{\"name\":\"offsety\",\"kind\":\"Any\",\"default\":null},{\"name\":\"theme\",\"kind\":\"Any\",\"default\":\"primary\"},{\"name\":\"status\",\"kind\":\"Any\",\"default\":\"normalized\"}]},{\"type\":\"model\",\"name\":\"GridStack1\",\"properties\":[{\"name\":\"mode\",\"kind\":\"Any\",\"default\":\"warn\"},{\"name\":\"ncols\",\"kind\":\"Any\",\"default\":null},{\"name\":\"nrows\",\"kind\":\"Any\",\"default\":null},{\"name\":\"allow_resize\",\"kind\":\"Any\",\"default\":true},{\"name\":\"allow_drag\",\"kind\":\"Any\",\"default\":true},{\"name\":\"state\",\"kind\":\"Any\",\"default\":[]}]},{\"type\":\"model\",\"name\":\"drag1\",\"properties\":[{\"name\":\"slider_width\",\"kind\":\"Any\",\"default\":5},{\"name\":\"slider_color\",\"kind\":\"Any\",\"default\":\"black\"},{\"name\":\"value\",\"kind\":\"Any\",\"default\":50}]},{\"type\":\"model\",\"name\":\"click1\",\"properties\":[{\"name\":\"terminal_output\",\"kind\":\"Any\",\"default\":\"\"},{\"name\":\"debug_name\",\"kind\":\"Any\",\"default\":\"\"},{\"name\":\"clears\",\"kind\":\"Any\",\"default\":0}]},{\"type\":\"model\",\"name\":\"copy_to_clipboard1\",\"properties\":[{\"name\":\"fill\",\"kind\":\"Any\",\"default\":\"none\"},{\"name\":\"value\",\"kind\":\"Any\",\"default\":null}]},{\"type\":\"model\",\"name\":\"FastWrapper1\",\"properties\":[{\"name\":\"object\",\"kind\":\"Any\",\"default\":null},{\"name\":\"style\",\"kind\":\"Any\",\"default\":null}]},{\"type\":\"model\",\"name\":\"NotificationAreaBase1\",\"properties\":[{\"name\":\"js_events\",\"kind\":\"Any\",\"default\":{\"type\":\"map\"}},{\"name\":\"position\",\"kind\":\"Any\",\"default\":\"bottom-right\"},{\"name\":\"_clear\",\"kind\":\"Any\",\"default\":0}]},{\"type\":\"model\",\"name\":\"NotificationArea1\",\"properties\":[{\"name\":\"js_events\",\"kind\":\"Any\",\"default\":{\"type\":\"map\"}},{\"name\":\"notifications\",\"kind\":\"Any\",\"default\":[]},{\"name\":\"position\",\"kind\":\"Any\",\"default\":\"bottom-right\"},{\"name\":\"_clear\",\"kind\":\"Any\",\"default\":0},{\"name\":\"types\",\"kind\":\"Any\",\"default\":[{\"type\":\"map\",\"entries\":[[\"type\",\"warning\"],[\"background\",\"#ffc107\"],[\"icon\",{\"type\":\"map\",\"entries\":[[\"className\",\"fas fa-exclamation-triangle\"],[\"tagName\",\"i\"],[\"color\",\"white\"]]}]]},{\"type\":\"map\",\"entries\":[[\"type\",\"info\"],[\"background\",\"#007bff\"],[\"icon\",{\"type\":\"map\",\"entries\":[[\"className\",\"fas fa-info-circle\"],[\"tagName\",\"i\"],[\"color\",\"white\"]]}]]}]}]},{\"type\":\"model\",\"name\":\"Notification\",\"properties\":[{\"name\":\"background\",\"kind\":\"Any\",\"default\":null},{\"name\":\"duration\",\"kind\":\"Any\",\"default\":3000},{\"name\":\"icon\",\"kind\":\"Any\",\"default\":null},{\"name\":\"message\",\"kind\":\"Any\",\"default\":\"\"},{\"name\":\"notification_type\",\"kind\":\"Any\",\"default\":null},{\"name\":\"_destroyed\",\"kind\":\"Any\",\"default\":false}]},{\"type\":\"model\",\"name\":\"TemplateActions1\",\"properties\":[{\"name\":\"open_modal\",\"kind\":\"Any\",\"default\":0},{\"name\":\"close_modal\",\"kind\":\"Any\",\"default\":0}]},{\"type\":\"model\",\"name\":\"BootstrapTemplateActions1\",\"properties\":[{\"name\":\"open_modal\",\"kind\":\"Any\",\"default\":0},{\"name\":\"close_modal\",\"kind\":\"Any\",\"default\":0}]},{\"type\":\"model\",\"name\":\"MaterialTemplateActions1\",\"properties\":[{\"name\":\"open_modal\",\"kind\":\"Any\",\"default\":0},{\"name\":\"close_modal\",\"kind\":\"Any\",\"default\":0}]}]}};\n",
       "  var render_items = [{\"docid\":\"e34efe0e-9b20-4e36-a175-416ab17fcd29\",\"roots\":{\"p1002\":\"f06c56ce-f992-4737-91fd-8c43f84b9fd4\"},\"root_ids\":[\"p1002\"]}];\n",
       "  var docs = Object.values(docs_json)\n",
       "  if (!docs) {\n",
       "    return\n",
       "  }\n",
       "  const py_version = docs[0].version.replace('rc', '-rc.').replace('.dev', '-dev.')\n",
       "  function embed_document(root) {\n",
       "    var Bokeh = get_bokeh(root)\n",
       "    Bokeh.embed.embed_items_notebook(docs_json, render_items);\n",
       "    for (const render_item of render_items) {\n",
       "      for (const root_id of render_item.root_ids) {\n",
       "\tconst id_el = document.getElementById(root_id)\n",
       "\tif (id_el.children.length && (id_el.children[0].className === 'bk-root')) {\n",
       "\t  const root_el = id_el.children[0]\n",
       "\t  root_el.id = root_el.id + '-rendered'\n",
       "\t}\n",
       "      }\n",
       "    }\n",
       "  }\n",
       "  function get_bokeh(root) {\n",
       "    if (root.Bokeh === undefined) {\n",
       "      return null\n",
       "    } else if (root.Bokeh.version !== py_version) {\n",
       "      if (root.Bokeh.versions === undefined || !root.Bokeh.versions.has(py_version)) {\n",
       "\treturn null\n",
       "      }\n",
       "      return root.Bokeh.versions.get(py_version);\n",
       "    } else if (root.Bokeh.version === py_version) {\n",
       "      return root.Bokeh\n",
       "    }\n",
       "    return null\n",
       "  }\n",
       "  function is_loaded(root) {\n",
       "    var Bokeh = get_bokeh(root)\n",
       "    return (Bokeh != null && Bokeh.Panel !== undefined)\n",
       "  }\n",
       "  if (is_loaded(root)) {\n",
       "    embed_document(root);\n",
       "  } else {\n",
       "    var attempts = 0;\n",
       "    var timer = setInterval(function(root) {\n",
       "      if (is_loaded(root)) {\n",
       "        clearInterval(timer);\n",
       "        embed_document(root);\n",
       "      } else if (document.readyState == \"complete\") {\n",
       "        attempts++;\n",
       "        if (attempts > 200) {\n",
       "          clearInterval(timer);\n",
       "\t  var Bokeh = get_bokeh(root)\n",
       "\t  if (Bokeh == null || Bokeh.Panel == null) {\n",
       "            console.warn(\"Panel: ERROR: Unable to run Panel code because Bokeh or Panel library is missing\");\n",
       "\t  } else {\n",
       "\t    console.warn(\"Panel: WARNING: Attempting to render but not all required libraries could be resolved.\")\n",
       "\t    embed_document(root)\n",
       "\t  }\n",
       "        }\n",
       "      }\n",
       "    }, 25, root)\n",
       "  }\n",
       "})(window);</script>"
      ]
     },
     "metadata": {
      "application/vnd.holoviews_exec.v0+json": {
       "id": "p1002"
      }
     },
     "output_type": "display_data"
    }
   ],
   "source": [
    "import hvplot.pandas  # noqa\n",
    "import xarray as xr\n",
    "import pandas as pd\n",
    "import panel as pn"
   ]
  },
  {
   "cell_type": "code",
   "execution_count": 70,
   "id": "fe9bbb9c-97ed-478a-8714-b212d2d8b4a8",
   "metadata": {
    "tags": []
   },
   "outputs": [],
   "source": [
    "rf = rf.drop(['GLD'],axis=1)"
   ]
  },
  {
   "cell_type": "code",
   "execution_count": 71,
   "id": "8fc0089a-d7f4-49bb-82b8-bf9a0a47ad71",
   "metadata": {
    "tags": []
   },
   "outputs": [],
   "source": [
    "dfinteractive = rf.interactive()"
   ]
  },
  {
   "cell_type": "code",
   "execution_count": 72,
   "id": "77009aeb-3edd-4d78-b68f-15f3244994ae",
   "metadata": {
    "tags": []
   },
   "outputs": [
    {
     "data": {},
     "metadata": {},
     "output_type": "display_data"
    },
    {
     "data": {
      "application/vnd.holoviews_exec.v0+json": "",
      "text/html": [
       "<div id='p1007'>\n",
       "  <div id=\"f4bbb5ee-32d7-4d5a-b1ba-96226f46feee\" data-root-id=\"p1007\" style=\"display: contents;\"></div>\n",
       "</div>\n",
       "<script type=\"application/javascript\">(function(root) {\n",
       "  var docs_json = {\"148b5ccd-21fd-4040-83d3-223397e90c70\":{\"version\":\"3.3.2\",\"title\":\"Bokeh Application\",\"roots\":[{\"type\":\"object\",\"name\":\"Slider\",\"id\":\"p1007\",\"attributes\":{\"stylesheets\":[\"\\n:host(.pn-loading.pn-arc):before, .pn-loading.pn-arc:before {\\n  background-image: url(\\\"data:image/svg+xml;base64,PHN2ZyB4bWxucz0iaHR0cDovL3d3dy53My5vcmcvMjAwMC9zdmciIHN0eWxlPSJtYXJnaW46IGF1dG87IGJhY2tncm91bmQ6IG5vbmU7IGRpc3BsYXk6IGJsb2NrOyBzaGFwZS1yZW5kZXJpbmc6IGF1dG87IiB2aWV3Qm94PSIwIDAgMTAwIDEwMCIgcHJlc2VydmVBc3BlY3RSYXRpbz0ieE1pZFlNaWQiPiAgPGNpcmNsZSBjeD0iNTAiIGN5PSI1MCIgZmlsbD0ibm9uZSIgc3Ryb2tlPSIjYzNjM2MzIiBzdHJva2Utd2lkdGg9IjEwIiByPSIzNSIgc3Ryb2tlLWRhc2hhcnJheT0iMTY0LjkzMzYxNDMxMzQ2NDE1IDU2Ljk3Nzg3MTQzNzgyMTM4Ij4gICAgPGFuaW1hdGVUcmFuc2Zvcm0gYXR0cmlidXRlTmFtZT0idHJhbnNmb3JtIiB0eXBlPSJyb3RhdGUiIHJlcGVhdENvdW50PSJpbmRlZmluaXRlIiBkdXI9IjFzIiB2YWx1ZXM9IjAgNTAgNTA7MzYwIDUwIDUwIiBrZXlUaW1lcz0iMDsxIj48L2FuaW1hdGVUcmFuc2Zvcm0+ICA8L2NpcmNsZT48L3N2Zz4=\\\");\\n  background-size: auto calc(min(50%, 400px));\\n}\",{\"type\":\"object\",\"name\":\"ImportedStyleSheet\",\"id\":\"p1006\",\"attributes\":{\"url\":\"https://cdn.holoviz.org/panel/1.3.6/dist/css/loading.css\"}},{\"type\":\"object\",\"name\":\"ImportedStyleSheet\",\"id\":\"p1004\",\"attributes\":{\"url\":\"https://cdn.holoviz.org/panel/1.3.6/dist/bundled/theme/default.css\"}},{\"type\":\"object\",\"name\":\"ImportedStyleSheet\",\"id\":\"p1005\",\"attributes\":{\"url\":\"https://cdn.holoviz.org/panel/1.3.6/dist/bundled/theme/native.css\"}}],\"margin\":[5,10],\"align\":\"start\",\"title\":\"Academic Year slider\",\"start\":2002,\"end\":2019,\"value\":2019}},{\"type\":\"object\",\"name\":\"panel.models.comm_manager.CommManager\",\"id\":\"p1008\",\"attributes\":{\"plot_id\":\"p1007\",\"comm_id\":\"94930088372c40468ebec5394414513e\",\"client_comm_id\":\"06f46691e5894a5da056a0af243b6a9a\"}}],\"defs\":[{\"type\":\"model\",\"name\":\"ReactiveHTML1\"},{\"type\":\"model\",\"name\":\"FlexBox1\",\"properties\":[{\"name\":\"align_content\",\"kind\":\"Any\",\"default\":\"flex-start\"},{\"name\":\"align_items\",\"kind\":\"Any\",\"default\":\"flex-start\"},{\"name\":\"flex_direction\",\"kind\":\"Any\",\"default\":\"row\"},{\"name\":\"flex_wrap\",\"kind\":\"Any\",\"default\":\"wrap\"},{\"name\":\"justify_content\",\"kind\":\"Any\",\"default\":\"flex-start\"}]},{\"type\":\"model\",\"name\":\"FloatPanel1\",\"properties\":[{\"name\":\"config\",\"kind\":\"Any\",\"default\":{\"type\":\"map\"}},{\"name\":\"contained\",\"kind\":\"Any\",\"default\":true},{\"name\":\"position\",\"kind\":\"Any\",\"default\":\"right-top\"},{\"name\":\"offsetx\",\"kind\":\"Any\",\"default\":null},{\"name\":\"offsety\",\"kind\":\"Any\",\"default\":null},{\"name\":\"theme\",\"kind\":\"Any\",\"default\":\"primary\"},{\"name\":\"status\",\"kind\":\"Any\",\"default\":\"normalized\"}]},{\"type\":\"model\",\"name\":\"GridStack1\",\"properties\":[{\"name\":\"mode\",\"kind\":\"Any\",\"default\":\"warn\"},{\"name\":\"ncols\",\"kind\":\"Any\",\"default\":null},{\"name\":\"nrows\",\"kind\":\"Any\",\"default\":null},{\"name\":\"allow_resize\",\"kind\":\"Any\",\"default\":true},{\"name\":\"allow_drag\",\"kind\":\"Any\",\"default\":true},{\"name\":\"state\",\"kind\":\"Any\",\"default\":[]}]},{\"type\":\"model\",\"name\":\"drag1\",\"properties\":[{\"name\":\"slider_width\",\"kind\":\"Any\",\"default\":5},{\"name\":\"slider_color\",\"kind\":\"Any\",\"default\":\"black\"},{\"name\":\"value\",\"kind\":\"Any\",\"default\":50}]},{\"type\":\"model\",\"name\":\"click1\",\"properties\":[{\"name\":\"terminal_output\",\"kind\":\"Any\",\"default\":\"\"},{\"name\":\"debug_name\",\"kind\":\"Any\",\"default\":\"\"},{\"name\":\"clears\",\"kind\":\"Any\",\"default\":0}]},{\"type\":\"model\",\"name\":\"copy_to_clipboard1\",\"properties\":[{\"name\":\"fill\",\"kind\":\"Any\",\"default\":\"none\"},{\"name\":\"value\",\"kind\":\"Any\",\"default\":null}]},{\"type\":\"model\",\"name\":\"FastWrapper1\",\"properties\":[{\"name\":\"object\",\"kind\":\"Any\",\"default\":null},{\"name\":\"style\",\"kind\":\"Any\",\"default\":null}]},{\"type\":\"model\",\"name\":\"NotificationAreaBase1\",\"properties\":[{\"name\":\"js_events\",\"kind\":\"Any\",\"default\":{\"type\":\"map\"}},{\"name\":\"position\",\"kind\":\"Any\",\"default\":\"bottom-right\"},{\"name\":\"_clear\",\"kind\":\"Any\",\"default\":0}]},{\"type\":\"model\",\"name\":\"NotificationArea1\",\"properties\":[{\"name\":\"js_events\",\"kind\":\"Any\",\"default\":{\"type\":\"map\"}},{\"name\":\"notifications\",\"kind\":\"Any\",\"default\":[]},{\"name\":\"position\",\"kind\":\"Any\",\"default\":\"bottom-right\"},{\"name\":\"_clear\",\"kind\":\"Any\",\"default\":0},{\"name\":\"types\",\"kind\":\"Any\",\"default\":[{\"type\":\"map\",\"entries\":[[\"type\",\"warning\"],[\"background\",\"#ffc107\"],[\"icon\",{\"type\":\"map\",\"entries\":[[\"className\",\"fas fa-exclamation-triangle\"],[\"tagName\",\"i\"],[\"color\",\"white\"]]}]]},{\"type\":\"map\",\"entries\":[[\"type\",\"info\"],[\"background\",\"#007bff\"],[\"icon\",{\"type\":\"map\",\"entries\":[[\"className\",\"fas fa-info-circle\"],[\"tagName\",\"i\"],[\"color\",\"white\"]]}]]}]}]},{\"type\":\"model\",\"name\":\"Notification\",\"properties\":[{\"name\":\"background\",\"kind\":\"Any\",\"default\":null},{\"name\":\"duration\",\"kind\":\"Any\",\"default\":3000},{\"name\":\"icon\",\"kind\":\"Any\",\"default\":null},{\"name\":\"message\",\"kind\":\"Any\",\"default\":\"\"},{\"name\":\"notification_type\",\"kind\":\"Any\",\"default\":null},{\"name\":\"_destroyed\",\"kind\":\"Any\",\"default\":false}]},{\"type\":\"model\",\"name\":\"TemplateActions1\",\"properties\":[{\"name\":\"open_modal\",\"kind\":\"Any\",\"default\":0},{\"name\":\"close_modal\",\"kind\":\"Any\",\"default\":0}]},{\"type\":\"model\",\"name\":\"BootstrapTemplateActions1\",\"properties\":[{\"name\":\"open_modal\",\"kind\":\"Any\",\"default\":0},{\"name\":\"close_modal\",\"kind\":\"Any\",\"default\":0}]},{\"type\":\"model\",\"name\":\"MaterialTemplateActions1\",\"properties\":[{\"name\":\"open_modal\",\"kind\":\"Any\",\"default\":0},{\"name\":\"close_modal\",\"kind\":\"Any\",\"default\":0}]}]}};\n",
       "  var render_items = [{\"docid\":\"148b5ccd-21fd-4040-83d3-223397e90c70\",\"roots\":{\"p1007\":\"f4bbb5ee-32d7-4d5a-b1ba-96226f46feee\"},\"root_ids\":[\"p1007\"]}];\n",
       "  var docs = Object.values(docs_json)\n",
       "  if (!docs) {\n",
       "    return\n",
       "  }\n",
       "  const py_version = docs[0].version.replace('rc', '-rc.').replace('.dev', '-dev.')\n",
       "  function embed_document(root) {\n",
       "    var Bokeh = get_bokeh(root)\n",
       "    Bokeh.embed.embed_items_notebook(docs_json, render_items);\n",
       "    for (const render_item of render_items) {\n",
       "      for (const root_id of render_item.root_ids) {\n",
       "\tconst id_el = document.getElementById(root_id)\n",
       "\tif (id_el.children.length && (id_el.children[0].className === 'bk-root')) {\n",
       "\t  const root_el = id_el.children[0]\n",
       "\t  root_el.id = root_el.id + '-rendered'\n",
       "\t}\n",
       "      }\n",
       "    }\n",
       "  }\n",
       "  function get_bokeh(root) {\n",
       "    if (root.Bokeh === undefined) {\n",
       "      return null\n",
       "    } else if (root.Bokeh.version !== py_version) {\n",
       "      if (root.Bokeh.versions === undefined || !root.Bokeh.versions.has(py_version)) {\n",
       "\treturn null\n",
       "      }\n",
       "      return root.Bokeh.versions.get(py_version);\n",
       "    } else if (root.Bokeh.version === py_version) {\n",
       "      return root.Bokeh\n",
       "    }\n",
       "    return null\n",
       "  }\n",
       "  function is_loaded(root) {\n",
       "    var Bokeh = get_bokeh(root)\n",
       "    return (Bokeh != null && Bokeh.Panel !== undefined)\n",
       "  }\n",
       "  if (is_loaded(root)) {\n",
       "    embed_document(root);\n",
       "  } else {\n",
       "    var attempts = 0;\n",
       "    var timer = setInterval(function(root) {\n",
       "      if (is_loaded(root)) {\n",
       "        clearInterval(timer);\n",
       "        embed_document(root);\n",
       "      } else if (document.readyState == \"complete\") {\n",
       "        attempts++;\n",
       "        if (attempts > 200) {\n",
       "          clearInterval(timer);\n",
       "\t  var Bokeh = get_bokeh(root)\n",
       "\t  if (Bokeh == null || Bokeh.Panel == null) {\n",
       "            console.warn(\"Panel: ERROR: Unable to run Panel code because Bokeh or Panel library is missing\");\n",
       "\t  } else {\n",
       "\t    console.warn(\"Panel: WARNING: Attempting to render but not all required libraries could be resolved.\")\n",
       "\t    embed_document(root)\n",
       "\t  }\n",
       "        }\n",
       "      }\n",
       "    }, 25, root)\n",
       "  }\n",
       "})(window);</script>"
      ],
      "text/plain": [
       "IntSlider(end=2019, name='Academic Year slider', start=2002, value=2019)"
      ]
     },
     "execution_count": 72,
     "metadata": {
      "application/vnd.holoviews_exec.v0+json": {
       "id": "p1007"
      }
     },
     "output_type": "execute_result"
    }
   ],
   "source": [
    "year_slider = pn.widgets.IntSlider(name='Academic Year slider', start=2002, end=2019, step=1, value=2019)\n",
    "year_slider"
   ]
  },
  {
   "cell_type": "code",
   "execution_count": 73,
   "id": "fe280b77-dde9-4722-bea6-b5001ac3b45a",
   "metadata": {
    "tags": []
   },
   "outputs": [
    {
     "data": {},
     "metadata": {},
     "output_type": "display_data"
    },
    {
     "data": {},
     "metadata": {},
     "output_type": "display_data"
    },
    {
     "data": {
      "application/vnd.holoviews_exec.v0+json": "",
      "text/html": [
       "<div id='p1009'>\n",
       "  <div id=\"f6078548-5177-4260-9d28-d1be1723f26c\" data-root-id=\"p1009\" style=\"display: contents;\"></div>\n",
       "</div>\n",
       "<script type=\"application/javascript\">(function(root) {\n",
       "  var docs_json = {\"199612dc-e07a-4ef7-afd4-e11c0359c934\":{\"version\":\"3.3.2\",\"title\":\"Bokeh Application\",\"roots\":[{\"type\":\"object\",\"name\":\"Row\",\"id\":\"p1009\",\"attributes\":{\"name\":\"Row02297\",\"stylesheets\":[\"\\n:host(.pn-loading.pn-arc):before, .pn-loading.pn-arc:before {\\n  background-image: url(\\\"data:image/svg+xml;base64,PHN2ZyB4bWxucz0iaHR0cDovL3d3dy53My5vcmcvMjAwMC9zdmciIHN0eWxlPSJtYXJnaW46IGF1dG87IGJhY2tncm91bmQ6IG5vbmU7IGRpc3BsYXk6IGJsb2NrOyBzaGFwZS1yZW5kZXJpbmc6IGF1dG87IiB2aWV3Qm94PSIwIDAgMTAwIDEwMCIgcHJlc2VydmVBc3BlY3RSYXRpbz0ieE1pZFlNaWQiPiAgPGNpcmNsZSBjeD0iNTAiIGN5PSI1MCIgZmlsbD0ibm9uZSIgc3Ryb2tlPSIjYzNjM2MzIiBzdHJva2Utd2lkdGg9IjEwIiByPSIzNSIgc3Ryb2tlLWRhc2hhcnJheT0iMTY0LjkzMzYxNDMxMzQ2NDE1IDU2Ljk3Nzg3MTQzNzgyMTM4Ij4gICAgPGFuaW1hdGVUcmFuc2Zvcm0gYXR0cmlidXRlTmFtZT0idHJhbnNmb3JtIiB0eXBlPSJyb3RhdGUiIHJlcGVhdENvdW50PSJpbmRlZmluaXRlIiBkdXI9IjFzIiB2YWx1ZXM9IjAgNTAgNTA7MzYwIDUwIDUwIiBrZXlUaW1lcz0iMDsxIj48L2FuaW1hdGVUcmFuc2Zvcm0+ICA8L2NpcmNsZT48L3N2Zz4=\\\");\\n  background-size: auto calc(min(50%, 400px));\\n}\",{\"type\":\"object\",\"name\":\"ImportedStyleSheet\",\"id\":\"p1014\",\"attributes\":{\"url\":\"https://cdn.holoviz.org/panel/1.3.6/dist/css/loading.css\"}},{\"type\":\"object\",\"name\":\"ImportedStyleSheet\",\"id\":\"p1017\",\"attributes\":{\"url\":\"https://cdn.holoviz.org/panel/1.3.6/dist/css/listpanel.css\"}},{\"type\":\"object\",\"name\":\"ImportedStyleSheet\",\"id\":\"p1012\",\"attributes\":{\"url\":\"https://cdn.holoviz.org/panel/1.3.6/dist/bundled/theme/default.css\"}},{\"type\":\"object\",\"name\":\"ImportedStyleSheet\",\"id\":\"p1013\",\"attributes\":{\"url\":\"https://cdn.holoviz.org/panel/1.3.6/dist/bundled/theme/native.css\"}}],\"margin\":0,\"align\":\"start\",\"children\":[{\"type\":\"object\",\"name\":\"panel.models.layout.Column\",\"id\":\"p1010\",\"attributes\":{\"name\":\"Column02296\",\"stylesheets\":[\"\\n:host(.pn-loading.pn-arc):before, .pn-loading.pn-arc:before {\\n  background-image: url(\\\"data:image/svg+xml;base64,PHN2ZyB4bWxucz0iaHR0cDovL3d3dy53My5vcmcvMjAwMC9zdmciIHN0eWxlPSJtYXJnaW46IGF1dG87IGJhY2tncm91bmQ6IG5vbmU7IGRpc3BsYXk6IGJsb2NrOyBzaGFwZS1yZW5kZXJpbmc6IGF1dG87IiB2aWV3Qm94PSIwIDAgMTAwIDEwMCIgcHJlc2VydmVBc3BlY3RSYXRpbz0ieE1pZFlNaWQiPiAgPGNpcmNsZSBjeD0iNTAiIGN5PSI1MCIgZmlsbD0ibm9uZSIgc3Ryb2tlPSIjYzNjM2MzIiBzdHJva2Utd2lkdGg9IjEwIiByPSIzNSIgc3Ryb2tlLWRhc2hhcnJheT0iMTY0LjkzMzYxNDMxMzQ2NDE1IDU2Ljk3Nzg3MTQzNzgyMTM4Ij4gICAgPGFuaW1hdGVUcmFuc2Zvcm0gYXR0cmlidXRlTmFtZT0idHJhbnNmb3JtIiB0eXBlPSJyb3RhdGUiIHJlcGVhdENvdW50PSJpbmRlZmluaXRlIiBkdXI9IjFzIiB2YWx1ZXM9IjAgNTAgNTA7MzYwIDUwIDUwIiBrZXlUaW1lcz0iMDsxIj48L2FuaW1hdGVUcmFuc2Zvcm0+ICA8L2NpcmNsZT48L3N2Zz4=\\\");\\n  background-size: auto calc(min(50%, 400px));\\n}\",{\"id\":\"p1014\"},{\"id\":\"p1017\"},{\"id\":\"p1012\"},{\"id\":\"p1013\"}],\"margin\":0,\"align\":\"start\",\"children\":[{\"type\":\"object\",\"name\":\"panel.models.layout.Column\",\"id\":\"p1011\",\"attributes\":{\"name\":\"Column02287\",\"stylesheets\":[\"\\n:host(.pn-loading.pn-arc):before, .pn-loading.pn-arc:before {\\n  background-image: url(\\\"data:image/svg+xml;base64,PHN2ZyB4bWxucz0iaHR0cDovL3d3dy53My5vcmcvMjAwMC9zdmciIHN0eWxlPSJtYXJnaW46IGF1dG87IGJhY2tncm91bmQ6IG5vbmU7IGRpc3BsYXk6IGJsb2NrOyBzaGFwZS1yZW5kZXJpbmc6IGF1dG87IiB2aWV3Qm94PSIwIDAgMTAwIDEwMCIgcHJlc2VydmVBc3BlY3RSYXRpbz0ieE1pZFlNaWQiPiAgPGNpcmNsZSBjeD0iNTAiIGN5PSI1MCIgZmlsbD0ibm9uZSIgc3Ryb2tlPSIjYzNjM2MzIiBzdHJva2Utd2lkdGg9IjEwIiByPSIzNSIgc3Ryb2tlLWRhc2hhcnJheT0iMTY0LjkzMzYxNDMxMzQ2NDE1IDU2Ljk3Nzg3MTQzNzgyMTM4Ij4gICAgPGFuaW1hdGVUcmFuc2Zvcm0gYXR0cmlidXRlTmFtZT0idHJhbnNmb3JtIiB0eXBlPSJyb3RhdGUiIHJlcGVhdENvdW50PSJpbmRlZmluaXRlIiBkdXI9IjFzIiB2YWx1ZXM9IjAgNTAgNTA7MzYwIDUwIDUwIiBrZXlUaW1lcz0iMDsxIj48L2FuaW1hdGVUcmFuc2Zvcm0+ICA8L2NpcmNsZT48L3N2Zz4=\\\");\\n  background-size: auto calc(min(50%, 400px));\\n}\",{\"id\":\"p1014\"},{\"id\":\"p1017\"},{\"id\":\"p1012\"},{\"id\":\"p1013\"}],\"margin\":0,\"align\":\"start\",\"children\":[{\"type\":\"object\",\"name\":\"Slider\",\"id\":\"p1015\",\"attributes\":{\"stylesheets\":[\"\\n:host(.pn-loading.pn-arc):before, .pn-loading.pn-arc:before {\\n  background-image: url(\\\"data:image/svg+xml;base64,PHN2ZyB4bWxucz0iaHR0cDovL3d3dy53My5vcmcvMjAwMC9zdmciIHN0eWxlPSJtYXJnaW46IGF1dG87IGJhY2tncm91bmQ6IG5vbmU7IGRpc3BsYXk6IGJsb2NrOyBzaGFwZS1yZW5kZXJpbmc6IGF1dG87IiB2aWV3Qm94PSIwIDAgMTAwIDEwMCIgcHJlc2VydmVBc3BlY3RSYXRpbz0ieE1pZFlNaWQiPiAgPGNpcmNsZSBjeD0iNTAiIGN5PSI1MCIgZmlsbD0ibm9uZSIgc3Ryb2tlPSIjYzNjM2MzIiBzdHJva2Utd2lkdGg9IjEwIiByPSIzNSIgc3Ryb2tlLWRhc2hhcnJheT0iMTY0LjkzMzYxNDMxMzQ2NDE1IDU2Ljk3Nzg3MTQzNzgyMTM4Ij4gICAgPGFuaW1hdGVUcmFuc2Zvcm0gYXR0cmlidXRlTmFtZT0idHJhbnNmb3JtIiB0eXBlPSJyb3RhdGUiIHJlcGVhdENvdW50PSJpbmRlZmluaXRlIiBkdXI9IjFzIiB2YWx1ZXM9IjAgNTAgNTA7MzYwIDUwIDUwIiBrZXlUaW1lcz0iMDsxIj48L2FuaW1hdGVUcmFuc2Zvcm0+ICA8L2NpcmNsZT48L3N2Zz4=\\\");\\n  background-size: auto calc(min(50%, 400px));\\n}\",{\"id\":\"p1014\"},{\"id\":\"p1012\"},{\"id\":\"p1013\"}],\"margin\":[5,10],\"align\":\"start\",\"title\":\"Academic Year slider\",\"start\":2002,\"end\":2019,\"value\":2019}}]}},{\"type\":\"object\",\"name\":\"Figure\",\"id\":\"p1025\",\"attributes\":{\"width\":1000,\"height\":500,\"margin\":[5,10],\"sizing_mode\":\"fixed\",\"align\":\"start\",\"x_range\":{\"type\":\"object\",\"name\":\"FactorRange\",\"id\":\"p1018\",\"attributes\":{\"tags\":[[[\"AcademicBegin\",\"AcademicBegin\",null]],[]],\"factors\":[\"2002\",\"2003\",\"2004\",\"2005\",\"2006\",\"2007\",\"2008\",\"2009\",\"2010\",\"2011\",\"2012\",\"2013\",\"2014\",\"2015\",\"2016\",\"2017\",\"2018\"]}},\"y_range\":{\"type\":\"object\",\"name\":\"Range1d\",\"id\":\"p1019\",\"attributes\":{\"tags\":[[[\"person_id\",\"person_id\",null]],{\"type\":\"map\",\"entries\":[[\"invert_yaxis\",false],[\"autorange\",false]]}],\"end\":11462.3,\"reset_start\":0.0,\"reset_end\":11462.3}},\"x_scale\":{\"type\":\"object\",\"name\":\"CategoricalScale\",\"id\":\"p1035\"},\"y_scale\":{\"type\":\"object\",\"name\":\"LinearScale\",\"id\":\"p1036\"},\"title\":{\"type\":\"object\",\"name\":\"Title\",\"id\":\"p1028\",\"attributes\":{\"text\":\"Gender appearance per Academic Year in EYFSP\",\"text_color\":\"black\",\"text_font_size\":\"12pt\"}},\"renderers\":[{\"type\":\"object\",\"name\":\"GlyphRenderer\",\"id\":\"p1066\",\"attributes\":{\"data_source\":{\"type\":\"object\",\"name\":\"ColumnDataSource\",\"id\":\"p1057\",\"attributes\":{\"selected\":{\"type\":\"object\",\"name\":\"Selection\",\"id\":\"p1058\",\"attributes\":{\"indices\":[],\"line_indices\":[]}},\"selection_policy\":{\"type\":\"object\",\"name\":\"UnionRenderers\",\"id\":\"p1059\"},\"data\":{\"type\":\"map\",\"entries\":[[\"bottom\",{\"type\":\"ndarray\",\"array\":{\"type\":\"bytes\",\"data\":\"AAAAAAAAAAAAAAAAAAAAAAAAAAAAAAAAAAAAAAAAAAAAAAAAAAAAAAAAAAAAAAAAAAAAAAAAAAAAAAAAAAAAAAAAAAAAAAAAAAAAAAAAAAAAAAAAAAAAAAAAAAAAAAAAAAAAAAAAAAAAAAAAAAAAAAAAAAAAAAAAAAAAAAAAAAAAAAAAAAAAAAAAAAAAS7NAAAAAAADAs0AAAAAAADCzQAAAAAAA17JAAAAAAABms0AAAAAAABOzQAAAAAAAs7JAAAAAAABIskAAAAAAALGxQAAAAAAAzLBAAAAAAAAlsEAAAAAAAEB7QAAAAAAAQHtAAAAAAACQeUAAAAAAAFB4QAAAAAAAiLNAAAAAAADesUA=\"},\"shape\":[34],\"dtype\":\"float64\",\"order\":\"little\"}],[\"top\",{\"type\":\"ndarray\",\"array\":{\"type\":\"bytes\",\"data\":\"AAAAAABQeEAAAAAAALOyQAAAAAAAE7NAAAAAAADesUAAAAAAAMCzQAAAAAAASLJAAAAAAACxsUAAAAAAAEuzQAAAAAAAiLNAAAAAAADMsEAAAAAAADCzQAAAAAAAQHtAAAAAAABAe0AAAAAAANeyQAAAAAAAkHlAAAAAAAAlsEAAAAAAAGazQAAAAAAAI8RAAAAAAAB+xEAAAAAAANDDQAAAAAAAN8NAAAAAAAApxEAAAAAAAD7DQAAAAACAPsNAAAAAAADbwkAAAAAAAATCQAAAAACATMFAAAAAAID6wEAAAAAAAAiLQAAAAAAA8ItAAAAAAAC4i0AAAAAAAKiIQAAAAAAAGcRAAAAAAIC5wkA=\"},\"shape\":[34],\"dtype\":\"float64\",\"order\":\"little\"}],[\"AcademicBegin\",[\"2002\",\"2011\",\"2010\",\"2018\",\"2014\",\"2009\",\"2008\",\"2015\",\"2012\",\"2007\",\"2016\",\"2005\",\"2004\",\"2017\",\"2003\",\"2006\",\"2013\",\"2015\",\"2014\",\"2016\",\"2017\",\"2013\",\"2010\",\"2011\",\"2009\",\"2008\",\"2007\",\"2006\",\"2005\",\"2004\",\"2003\",\"2002\",\"2012\",\"2018\"]],[\"Gender\",[\"F\",\"F\",\"F\",\"F\",\"F\",\"F\",\"F\",\"F\",\"F\",\"F\",\"F\",\"F\",\"F\",\"F\",\"F\",\"F\",\"F\",\"M\",\"M\",\"M\",\"M\",\"M\",\"M\",\"M\",\"M\",\"M\",\"M\",\"M\",\"M\",\"M\",\"M\",\"M\",\"M\",\"M\"]],[\"person_id\",{\"type\":\"ndarray\",\"array\":{\"type\":\"bytes\",\"data\":\"hQEAALMSAAATEwAA3hEAAMATAABIEgAAsREAAEsTAACIEwAAzBAAADATAAC0AQAAtAEAANcSAACZAQAAJRAAAGYTAAD7FAAAPBUAAHAUAACXEwAA7BQAAGkTAADKEwAAbhMAAFcSAADNEQAA0BEAAK0BAADKAQAA3gEAAJABAACqFAAAlRMAAA==\"},\"shape\":[34],\"dtype\":\"int32\",\"order\":\"little\"}]]}}},\"view\":{\"type\":\"object\",\"name\":\"CDSView\",\"id\":\"p1067\",\"attributes\":{\"filter\":{\"type\":\"object\",\"name\":\"AllIndices\",\"id\":\"p1068\"}}},\"glyph\":{\"type\":\"object\",\"name\":\"VBar\",\"id\":\"p1063\",\"attributes\":{\"tags\":[\"apply_ranges\"],\"x\":{\"type\":\"field\",\"field\":\"AcademicBegin\"},\"width\":{\"type\":\"value\",\"value\":0.8},\"bottom\":{\"type\":\"field\",\"field\":\"bottom\"},\"top\":{\"type\":\"field\",\"field\":\"top\"},\"fill_color\":{\"type\":\"field\",\"field\":\"Gender\",\"transform\":{\"type\":\"object\",\"name\":\"CategoricalColorMapper\",\"id\":\"p1056\",\"attributes\":{\"palette\":[\"#30a2da\",\"#fc4f30\"],\"factors\":[\"F\",\"M\"]}}},\"hatch_color\":{\"type\":\"field\",\"field\":\"Gender\",\"transform\":{\"id\":\"p1056\"}}}},\"selection_glyph\":{\"type\":\"object\",\"name\":\"VBar\",\"id\":\"p1071\",\"attributes\":{\"tags\":[\"apply_ranges\"],\"x\":{\"type\":\"field\",\"field\":\"AcademicBegin\"},\"width\":{\"type\":\"value\",\"value\":0.8},\"bottom\":{\"type\":\"field\",\"field\":\"bottom\"},\"top\":{\"type\":\"field\",\"field\":\"top\"},\"line_color\":{\"type\":\"value\",\"value\":\"black\"},\"line_alpha\":{\"type\":\"value\",\"value\":1.0},\"line_width\":{\"type\":\"value\",\"value\":1},\"line_join\":{\"type\":\"value\",\"value\":\"bevel\"},\"line_cap\":{\"type\":\"value\",\"value\":\"butt\"},\"line_dash\":{\"type\":\"value\",\"value\":[]},\"line_dash_offset\":{\"type\":\"value\",\"value\":0},\"fill_color\":{\"type\":\"field\",\"field\":\"Gender\",\"transform\":{\"id\":\"p1056\"}},\"fill_alpha\":{\"type\":\"value\",\"value\":1.0},\"hatch_color\":{\"type\":\"field\",\"field\":\"Gender\",\"transform\":{\"id\":\"p1056\"}},\"hatch_alpha\":{\"type\":\"value\",\"value\":1.0},\"hatch_scale\":{\"type\":\"value\",\"value\":12.0},\"hatch_pattern\":{\"type\":\"value\",\"value\":null},\"hatch_weight\":{\"type\":\"value\",\"value\":1.0}}},\"nonselection_glyph\":{\"type\":\"object\",\"name\":\"VBar\",\"id\":\"p1064\",\"attributes\":{\"tags\":[\"apply_ranges\"],\"x\":{\"type\":\"field\",\"field\":\"AcademicBegin\"},\"width\":{\"type\":\"value\",\"value\":0.8},\"bottom\":{\"type\":\"field\",\"field\":\"bottom\"},\"top\":{\"type\":\"field\",\"field\":\"top\"},\"line_alpha\":{\"type\":\"value\",\"value\":0.1},\"fill_color\":{\"type\":\"field\",\"field\":\"Gender\",\"transform\":{\"id\":\"p1056\"}},\"fill_alpha\":{\"type\":\"value\",\"value\":0.1},\"hatch_color\":{\"type\":\"field\",\"field\":\"Gender\",\"transform\":{\"id\":\"p1056\"}},\"hatch_alpha\":{\"type\":\"value\",\"value\":0.1}}},\"muted_glyph\":{\"type\":\"object\",\"name\":\"VBar\",\"id\":\"p1065\",\"attributes\":{\"tags\":[\"apply_ranges\"],\"x\":{\"type\":\"field\",\"field\":\"AcademicBegin\"},\"width\":{\"type\":\"value\",\"value\":0.8},\"bottom\":{\"type\":\"field\",\"field\":\"bottom\"},\"top\":{\"type\":\"field\",\"field\":\"top\"},\"line_alpha\":{\"type\":\"value\",\"value\":0.2},\"fill_color\":{\"type\":\"field\",\"field\":\"Gender\",\"transform\":{\"id\":\"p1056\"}},\"fill_alpha\":{\"type\":\"value\",\"value\":0.2},\"hatch_color\":{\"type\":\"field\",\"field\":\"Gender\",\"transform\":{\"id\":\"p1056\"}},\"hatch_alpha\":{\"type\":\"value\",\"value\":0.2}}}}}],\"toolbar\":{\"type\":\"object\",\"name\":\"Toolbar\",\"id\":\"p1034\",\"attributes\":{\"tools\":[{\"type\":\"object\",\"name\":\"WheelZoomTool\",\"id\":\"p1023\",\"attributes\":{\"tags\":[\"hv_created\"],\"renderers\":\"auto\",\"zoom_together\":\"none\"}},{\"type\":\"object\",\"name\":\"HoverTool\",\"id\":\"p1024\",\"attributes\":{\"tags\":[\"hv_created\"],\"renderers\":[{\"id\":\"p1066\"}],\"tooltips\":[[\"AcademicBegin\",\"@{AcademicBegin}\"],[\"Gender\",\"@{Gender}\"],[\"person_id\",\"@{person_id}\"]]}},{\"type\":\"object\",\"name\":\"SaveTool\",\"id\":\"p1047\"},{\"type\":\"object\",\"name\":\"PanTool\",\"id\":\"p1048\"},{\"type\":\"object\",\"name\":\"BoxZoomTool\",\"id\":\"p1049\",\"attributes\":{\"overlay\":{\"type\":\"object\",\"name\":\"BoxAnnotation\",\"id\":\"p1050\",\"attributes\":{\"syncable\":false,\"level\":\"overlay\",\"visible\":false,\"left\":{\"type\":\"number\",\"value\":\"nan\"},\"right\":{\"type\":\"number\",\"value\":\"nan\"},\"top\":{\"type\":\"number\",\"value\":\"nan\"},\"bottom\":{\"type\":\"number\",\"value\":\"nan\"},\"left_units\":\"canvas\",\"right_units\":\"canvas\",\"top_units\":\"canvas\",\"bottom_units\":\"canvas\",\"line_color\":\"black\",\"line_alpha\":1.0,\"line_width\":2,\"line_dash\":[4,4],\"fill_color\":\"lightgrey\",\"fill_alpha\":0.5}}}},{\"type\":\"object\",\"name\":\"ResetTool\",\"id\":\"p1055\"}],\"active_drag\":{\"id\":\"p1048\"},\"active_scroll\":{\"id\":\"p1023\"}}},\"left\":[{\"type\":\"object\",\"name\":\"LinearAxis\",\"id\":\"p1042\",\"attributes\":{\"ticker\":{\"type\":\"object\",\"name\":\"BasicTicker\",\"id\":\"p1043\",\"attributes\":{\"mantissas\":[1,2,5]}},\"formatter\":{\"type\":\"object\",\"name\":\"BasicTickFormatter\",\"id\":\"p1044\"},\"axis_label\":\"person_id\",\"major_label_policy\":{\"type\":\"object\",\"name\":\"AllLabels\",\"id\":\"p1045\"}}}],\"below\":[{\"type\":\"object\",\"name\":\"CategoricalAxis\",\"id\":\"p1037\",\"attributes\":{\"ticker\":{\"type\":\"object\",\"name\":\"CategoricalTicker\",\"id\":\"p1038\"},\"formatter\":{\"type\":\"object\",\"name\":\"CategoricalTickFormatter\",\"id\":\"p1039\"},\"axis_label\":\"AcademicBegin\",\"major_label_policy\":{\"type\":\"object\",\"name\":\"AllLabels\",\"id\":\"p1040\"}}}],\"center\":[{\"type\":\"object\",\"name\":\"Grid\",\"id\":\"p1041\",\"attributes\":{\"axis\":{\"id\":\"p1037\"},\"grid_line_color\":null}},{\"type\":\"object\",\"name\":\"Grid\",\"id\":\"p1046\",\"attributes\":{\"dimension\":1,\"axis\":{\"id\":\"p1042\"},\"grid_line_color\":null}},{\"type\":\"object\",\"name\":\"Legend\",\"id\":\"p1069\",\"attributes\":{\"location\":\"top_left\",\"items\":[{\"type\":\"object\",\"name\":\"LegendItem\",\"id\":\"p1070\",\"attributes\":{\"label\":{\"type\":\"field\",\"field\":\"Gender\"},\"renderers\":[{\"id\":\"p1066\"}]}}]}}],\"min_border_top\":10,\"min_border_bottom\":10,\"min_border_left\":10,\"min_border_right\":10,\"output_backend\":\"webgl\"}}]}}]}},{\"type\":\"object\",\"name\":\"panel.models.comm_manager.CommManager\",\"id\":\"p1076\",\"attributes\":{\"plot_id\":\"p1009\",\"comm_id\":\"a3f2b5bdf9c34ef88faaa35dfc07441a\",\"client_comm_id\":\"27def598a3284db9af3ed00eb2fbf837\"}}],\"defs\":[{\"type\":\"model\",\"name\":\"ReactiveHTML1\"},{\"type\":\"model\",\"name\":\"FlexBox1\",\"properties\":[{\"name\":\"align_content\",\"kind\":\"Any\",\"default\":\"flex-start\"},{\"name\":\"align_items\",\"kind\":\"Any\",\"default\":\"flex-start\"},{\"name\":\"flex_direction\",\"kind\":\"Any\",\"default\":\"row\"},{\"name\":\"flex_wrap\",\"kind\":\"Any\",\"default\":\"wrap\"},{\"name\":\"justify_content\",\"kind\":\"Any\",\"default\":\"flex-start\"}]},{\"type\":\"model\",\"name\":\"FloatPanel1\",\"properties\":[{\"name\":\"config\",\"kind\":\"Any\",\"default\":{\"type\":\"map\"}},{\"name\":\"contained\",\"kind\":\"Any\",\"default\":true},{\"name\":\"position\",\"kind\":\"Any\",\"default\":\"right-top\"},{\"name\":\"offsetx\",\"kind\":\"Any\",\"default\":null},{\"name\":\"offsety\",\"kind\":\"Any\",\"default\":null},{\"name\":\"theme\",\"kind\":\"Any\",\"default\":\"primary\"},{\"name\":\"status\",\"kind\":\"Any\",\"default\":\"normalized\"}]},{\"type\":\"model\",\"name\":\"GridStack1\",\"properties\":[{\"name\":\"mode\",\"kind\":\"Any\",\"default\":\"warn\"},{\"name\":\"ncols\",\"kind\":\"Any\",\"default\":null},{\"name\":\"nrows\",\"kind\":\"Any\",\"default\":null},{\"name\":\"allow_resize\",\"kind\":\"Any\",\"default\":true},{\"name\":\"allow_drag\",\"kind\":\"Any\",\"default\":true},{\"name\":\"state\",\"kind\":\"Any\",\"default\":[]}]},{\"type\":\"model\",\"name\":\"drag1\",\"properties\":[{\"name\":\"slider_width\",\"kind\":\"Any\",\"default\":5},{\"name\":\"slider_color\",\"kind\":\"Any\",\"default\":\"black\"},{\"name\":\"value\",\"kind\":\"Any\",\"default\":50}]},{\"type\":\"model\",\"name\":\"click1\",\"properties\":[{\"name\":\"terminal_output\",\"kind\":\"Any\",\"default\":\"\"},{\"name\":\"debug_name\",\"kind\":\"Any\",\"default\":\"\"},{\"name\":\"clears\",\"kind\":\"Any\",\"default\":0}]},{\"type\":\"model\",\"name\":\"copy_to_clipboard1\",\"properties\":[{\"name\":\"fill\",\"kind\":\"Any\",\"default\":\"none\"},{\"name\":\"value\",\"kind\":\"Any\",\"default\":null}]},{\"type\":\"model\",\"name\":\"FastWrapper1\",\"properties\":[{\"name\":\"object\",\"kind\":\"Any\",\"default\":null},{\"name\":\"style\",\"kind\":\"Any\",\"default\":null}]},{\"type\":\"model\",\"name\":\"NotificationAreaBase1\",\"properties\":[{\"name\":\"js_events\",\"kind\":\"Any\",\"default\":{\"type\":\"map\"}},{\"name\":\"position\",\"kind\":\"Any\",\"default\":\"bottom-right\"},{\"name\":\"_clear\",\"kind\":\"Any\",\"default\":0}]},{\"type\":\"model\",\"name\":\"NotificationArea1\",\"properties\":[{\"name\":\"js_events\",\"kind\":\"Any\",\"default\":{\"type\":\"map\"}},{\"name\":\"notifications\",\"kind\":\"Any\",\"default\":[]},{\"name\":\"position\",\"kind\":\"Any\",\"default\":\"bottom-right\"},{\"name\":\"_clear\",\"kind\":\"Any\",\"default\":0},{\"name\":\"types\",\"kind\":\"Any\",\"default\":[{\"type\":\"map\",\"entries\":[[\"type\",\"warning\"],[\"background\",\"#ffc107\"],[\"icon\",{\"type\":\"map\",\"entries\":[[\"className\",\"fas fa-exclamation-triangle\"],[\"tagName\",\"i\"],[\"color\",\"white\"]]}]]},{\"type\":\"map\",\"entries\":[[\"type\",\"info\"],[\"background\",\"#007bff\"],[\"icon\",{\"type\":\"map\",\"entries\":[[\"className\",\"fas fa-info-circle\"],[\"tagName\",\"i\"],[\"color\",\"white\"]]}]]}]}]},{\"type\":\"model\",\"name\":\"Notification\",\"properties\":[{\"name\":\"background\",\"kind\":\"Any\",\"default\":null},{\"name\":\"duration\",\"kind\":\"Any\",\"default\":3000},{\"name\":\"icon\",\"kind\":\"Any\",\"default\":null},{\"name\":\"message\",\"kind\":\"Any\",\"default\":\"\"},{\"name\":\"notification_type\",\"kind\":\"Any\",\"default\":null},{\"name\":\"_destroyed\",\"kind\":\"Any\",\"default\":false}]},{\"type\":\"model\",\"name\":\"TemplateActions1\",\"properties\":[{\"name\":\"open_modal\",\"kind\":\"Any\",\"default\":0},{\"name\":\"close_modal\",\"kind\":\"Any\",\"default\":0}]},{\"type\":\"model\",\"name\":\"BootstrapTemplateActions1\",\"properties\":[{\"name\":\"open_modal\",\"kind\":\"Any\",\"default\":0},{\"name\":\"close_modal\",\"kind\":\"Any\",\"default\":0}]},{\"type\":\"model\",\"name\":\"MaterialTemplateActions1\",\"properties\":[{\"name\":\"open_modal\",\"kind\":\"Any\",\"default\":0},{\"name\":\"close_modal\",\"kind\":\"Any\",\"default\":0}]}]}};\n",
       "  var render_items = [{\"docid\":\"199612dc-e07a-4ef7-afd4-e11c0359c934\",\"roots\":{\"p1009\":\"f6078548-5177-4260-9d28-d1be1723f26c\"},\"root_ids\":[\"p1009\"]}];\n",
       "  var docs = Object.values(docs_json)\n",
       "  if (!docs) {\n",
       "    return\n",
       "  }\n",
       "  const py_version = docs[0].version.replace('rc', '-rc.').replace('.dev', '-dev.')\n",
       "  function embed_document(root) {\n",
       "    var Bokeh = get_bokeh(root)\n",
       "    Bokeh.embed.embed_items_notebook(docs_json, render_items);\n",
       "    for (const render_item of render_items) {\n",
       "      for (const root_id of render_item.root_ids) {\n",
       "\tconst id_el = document.getElementById(root_id)\n",
       "\tif (id_el.children.length && (id_el.children[0].className === 'bk-root')) {\n",
       "\t  const root_el = id_el.children[0]\n",
       "\t  root_el.id = root_el.id + '-rendered'\n",
       "\t}\n",
       "      }\n",
       "    }\n",
       "  }\n",
       "  function get_bokeh(root) {\n",
       "    if (root.Bokeh === undefined) {\n",
       "      return null\n",
       "    } else if (root.Bokeh.version !== py_version) {\n",
       "      if (root.Bokeh.versions === undefined || !root.Bokeh.versions.has(py_version)) {\n",
       "\treturn null\n",
       "      }\n",
       "      return root.Bokeh.versions.get(py_version);\n",
       "    } else if (root.Bokeh.version === py_version) {\n",
       "      return root.Bokeh\n",
       "    }\n",
       "    return null\n",
       "  }\n",
       "  function is_loaded(root) {\n",
       "    var Bokeh = get_bokeh(root)\n",
       "    return (Bokeh != null && Bokeh.Panel !== undefined)\n",
       "  }\n",
       "  if (is_loaded(root)) {\n",
       "    embed_document(root);\n",
       "  } else {\n",
       "    var attempts = 0;\n",
       "    var timer = setInterval(function(root) {\n",
       "      if (is_loaded(root)) {\n",
       "        clearInterval(timer);\n",
       "        embed_document(root);\n",
       "      } else if (document.readyState == \"complete\") {\n",
       "        attempts++;\n",
       "        if (attempts > 200) {\n",
       "          clearInterval(timer);\n",
       "\t  var Bokeh = get_bokeh(root)\n",
       "\t  if (Bokeh == null || Bokeh.Panel == null) {\n",
       "            console.warn(\"Panel: ERROR: Unable to run Panel code because Bokeh or Panel library is missing\");\n",
       "\t  } else {\n",
       "\t    console.warn(\"Panel: WARNING: Attempting to render but not all required libraries could be resolved.\")\n",
       "\t    embed_document(root)\n",
       "\t  }\n",
       "        }\n",
       "      }\n",
       "    }, 25, root)\n",
       "  }\n",
       "})(window);</script>"
      ],
      "text/plain": [
       "<hvplot.interactive.Interactive at 0x7f766c57a860>"
      ]
     },
     "execution_count": 73,
     "metadata": {
      "application/vnd.holoviews_exec.v0+json": {
       "id": "p1009"
      }
     },
     "output_type": "execute_result"
    }
   ],
   "source": [
    "yaxis_NCCISCODE_source = 'person_id'\n",
    "\n",
    "yaxis_NCCIS_source = 'EYFSPTotal'\n",
    "\n",
    "NCCIS_source_bar_pipeline = (\n",
    "    dfinteractive[\n",
    "        (dfinteractive.AcademicBegin <= year_slider)\n",
    "    ]\n",
    "    .groupby(['AcademicBegin','Gender'])[yaxis_NCCISCODE_source].nunique()\n",
    "    .to_frame()\n",
    "    .reset_index()\n",
    "    .sort_values(by='AcademicBegin')  \n",
    "    .reset_index(drop=True)\n",
    ")\n",
    "NCCIS_plot = NCCIS_source_bar_pipeline.hvplot(kind='bar',stacked=True,legend=\"top_left\",height=500,\n",
    "                                                     x='AcademicBegin',by='Gender',y=yaxis_NCCISCODE_source, \n",
    "                                                     title='Gender appearance per Academic Year in EYFSP',width=1000)\n",
    "\n",
    "NCCIS_plot"
   ]
  },
  {
   "cell_type": "code",
   "execution_count": 74,
   "id": "6c6553a2-9a25-4cee-a25e-c5e49642207a",
   "metadata": {
    "tags": []
   },
   "outputs": [
    {
     "data": {
      "text/html": [
       "<div>\n",
       "<style scoped>\n",
       "    .dataframe tbody tr th:only-of-type {\n",
       "        vertical-align: middle;\n",
       "    }\n",
       "\n",
       "    .dataframe tbody tr th {\n",
       "        vertical-align: top;\n",
       "    }\n",
       "\n",
       "    .dataframe thead th {\n",
       "        text-align: right;\n",
       "    }\n",
       "</style>\n",
       "<table border=\"1\" class=\"dataframe\">\n",
       "  <thead>\n",
       "    <tr style=\"text-align: right;\">\n",
       "      <th></th>\n",
       "      <th></th>\n",
       "      <th></th>\n",
       "      <th>COUNTByGender</th>\n",
       "    </tr>\n",
       "    <tr>\n",
       "      <th>AcademicBegin</th>\n",
       "      <th>Gender</th>\n",
       "      <th>newGLD</th>\n",
       "      <th></th>\n",
       "    </tr>\n",
       "  </thead>\n",
       "  <tbody>\n",
       "    <tr>\n",
       "      <th rowspan=\"4\" valign=\"top\">2002</th>\n",
       "      <th rowspan=\"2\" valign=\"top\">F</th>\n",
       "      <th>False</th>\n",
       "      <td>185</td>\n",
       "    </tr>\n",
       "    <tr>\n",
       "      <th>True</th>\n",
       "      <td>204</td>\n",
       "    </tr>\n",
       "    <tr>\n",
       "      <th rowspan=\"2\" valign=\"top\">M</th>\n",
       "      <th>False</th>\n",
       "      <td>247</td>\n",
       "    </tr>\n",
       "    <tr>\n",
       "      <th>True</th>\n",
       "      <td>153</td>\n",
       "    </tr>\n",
       "    <tr>\n",
       "      <th>2003</th>\n",
       "      <th>F</th>\n",
       "      <th>False</th>\n",
       "      <td>179</td>\n",
       "    </tr>\n",
       "    <tr>\n",
       "      <th>...</th>\n",
       "      <th>...</th>\n",
       "      <th>...</th>\n",
       "      <td>...</td>\n",
       "    </tr>\n",
       "    <tr>\n",
       "      <th>2017</th>\n",
       "      <th>M</th>\n",
       "      <th>True</th>\n",
       "      <td>2990</td>\n",
       "    </tr>\n",
       "    <tr>\n",
       "      <th rowspan=\"4\" valign=\"top\">2018</th>\n",
       "      <th rowspan=\"2\" valign=\"top\">F</th>\n",
       "      <th>False</th>\n",
       "      <td>1188</td>\n",
       "    </tr>\n",
       "    <tr>\n",
       "      <th>True</th>\n",
       "      <td>3386</td>\n",
       "    </tr>\n",
       "    <tr>\n",
       "      <th rowspan=\"2\" valign=\"top\">M</th>\n",
       "      <th>False</th>\n",
       "      <td>1932</td>\n",
       "    </tr>\n",
       "    <tr>\n",
       "      <th>True</th>\n",
       "      <td>3081</td>\n",
       "    </tr>\n",
       "  </tbody>\n",
       "</table>\n",
       "<p>68 rows × 1 columns</p>\n",
       "</div>"
      ],
      "text/plain": [
       "                             COUNTByGender\n",
       "AcademicBegin Gender newGLD               \n",
       "2002          F      False             185\n",
       "                     True              204\n",
       "              M      False             247\n",
       "                     True              153\n",
       "2003          F      False             179\n",
       "...                                    ...\n",
       "2017          M      True             2990\n",
       "2018          F      False            1188\n",
       "                     True             3386\n",
       "              M      False            1932\n",
       "                     True             3081\n",
       "\n",
       "[68 rows x 1 columns]"
      ]
     },
     "execution_count": 74,
     "metadata": {},
     "output_type": "execute_result"
    }
   ],
   "source": [
    "EYGP = rf.groupby(['AcademicBegin','Gender', 'newGLD']).agg({\n",
    "                    'Gender':'value_counts'\n",
    "}).rename(columns={'Gender':'COUNTByGender'})\n",
    "EYGP"
   ]
  },
  {
   "cell_type": "code",
   "execution_count": 75,
   "id": "55e72c03-85b1-45b3-86b6-054a99d55dff",
   "metadata": {
    "tags": []
   },
   "outputs": [],
   "source": [
    "matrix = EYGP.reset_index()\n",
    "GLDTrueFGenderData = matrix[(matrix['newGLD']==True) & (matrix['Gender']=='F') ]\n",
    "GLDTrueMGenderData = matrix[(matrix['newGLD']==True) & (matrix['Gender']=='M') ]\n",
    "\n",
    "GLDFalseFGenderData = matrix[(matrix['newGLD']==False) & (matrix['Gender']=='F') ]\n",
    "GLDFalseMGenderData = matrix[(matrix['newGLD']==False) & (matrix['Gender']=='M') ]\n",
    "\n",
    "GLDTrueFGenderData = GLDTrueFGenderData.drop(['Gender','newGLD'], axis=1)\n",
    "GLDTrueMGenderData = GLDTrueMGenderData.drop(['Gender','newGLD'], axis=1)\n",
    "\n",
    "GLDFalseFGenderData = GLDFalseFGenderData.drop(['Gender','newGLD'], axis=1)\n",
    "GLDFalseMGenderData = GLDFalseMGenderData.drop(['Gender','newGLD'], axis=1)"
   ]
  },
  {
   "cell_type": "code",
   "execution_count": 76,
   "id": "f18c85d4-eccc-4700-a84e-fc2bd37d896c",
   "metadata": {
    "tags": []
   },
   "outputs": [
    {
     "data": {
      "text/plain": [
       "<Figure size 3000x3000 with 0 Axes>"
      ]
     },
     "metadata": {},
     "output_type": "display_data"
    },
    {
     "data": {
      "image/png": "[encoded data removed]",
      "text/plain": [
       "<Figure size 640x480 with 1 Axes>"
      ]
     },
     "metadata": {},
     "output_type": "display_data"
    },
    {
     "data": {
      "image/png": "[encoded data removed]",
      "text/plain": [
       "<Figure size 640x480 with 1 Axes>"
      ]
     },
     "metadata": {},
     "output_type": "display_data"
    }
   ],
   "source": [
    "from matplotlib import ticker\n",
    "import matplotlib.pyplot as plt\n",
    "plt.figure(figsize=(30,30))\n",
    "\n",
    "# plt.bar(X_axis - 0.2, GLDTrueFGenderData, 0.4, color=\"purple\",label = 'Women Passed GLD')\n",
    "# plt.bar(X_axis + 0.2, GLDTrueMGenderData, 0.4, color=\"red\", label = 'Men Passed GLD')\n",
    "  \n",
    "ax = GLDTrueFGenderData.set_index('AcademicBegin').plot.bar(color=\"lightgreen\")\n",
    "bx = GLDTrueMGenderData.set_index('AcademicBegin').plot.bar(color=\"lightblue\")\n",
    "\n",
    "\n",
    "ax.set_ylabel(\"Count of Women who passed GLD\")\n",
    "bx.set_ylabel(\"Count of Men who passed GLD\")\n",
    "\n",
    "#plt.xticks(X_axis, X_Label)\n",
    "plt.legend()\n",
    "plt.xticks(rotation = 90, fontsize = 10)\n",
    "plt.xlabel(\"Academic Years\")\n",
    "\n",
    "plt.title(\"GLD Attainment\")\n",
    "\n",
    "\n",
    "for bar in ax.patches:\n",
    "    height = bar.get_height()\n",
    "    ax.text(bar.get_x() + bar.get_width() / 2.0, height, f' {height:.2f}', fontsize=10,\n",
    "            ha='center')\n",
    "    ax.set_title(\"Count of Women who passed GLD\")    \n",
    "    \n",
    "for bar in bx.patches:\n",
    "    height = bar.get_height()\n",
    "    bx.text(bar.get_x() + bar.get_width() / 2.0, height, f' {height:.2f}', fontsize=10,\n",
    "            ha='center')\n",
    "    bx.set_title(\"Count of Men who passed GLD\")    \n",
    "\n",
    "plt.show()\n",
    "\n",
    " "
   ]
  },
  {
   "cell_type": "code",
   "execution_count": 77,
   "id": "7358a5f1-4196-497c-8553-fd7736d1304d",
   "metadata": {
    "tags": []
   },
   "outputs": [
    {
     "data": {
      "text/plain": [
       "<Figure size 3000x3000 with 0 Axes>"
      ]
     },
     "metadata": {},
     "output_type": "display_data"
    },
    {
     "data": {
      "image/png": "[encoded data removed]",
      "text/plain": [
       "<Figure size 640x480 with 1 Axes>"
      ]
     },
     "metadata": {},
     "output_type": "display_data"
    },
    {
     "data": {
      "image/png": "[encoded data removed]",
      "text/plain": [
       "<Figure size 640x480 with 1 Axes>"
      ]
     },
     "metadata": {},
     "output_type": "display_data"
    }
   ],
   "source": [
    "from matplotlib import ticker\n",
    "import matplotlib.pyplot as plt\n",
    "plt.figure(figsize=(30,30))\n",
    "\n",
    "# plt.bar(X_axis - 0.2, GLDTrueFGenderData, 0.4, color=\"purple\",label = 'Women Passed GLD')\n",
    "# plt.bar(X_axis + 0.2, GLDTrueMGenderData, 0.4, color=\"red\", label = 'Men Passed GLD')\n",
    "  \n",
    "ax = GLDFalseFGenderData.set_index('AcademicBegin').plot.bar(color=\"lightpink\")\n",
    "bx = GLDFalseMGenderData.set_index('AcademicBegin').plot.bar(color=\"yellow\")\n",
    "\n",
    "\n",
    "ax.set_ylabel(\"Count Female Students Not Attaining GLD\")\n",
    "bx.set_ylabel(\"Count Male Students Not Attaining GLD\")\n",
    "\n",
    "#plt.xticks(X_axis, X_Label)\n",
    "plt.legend()\n",
    "plt.xticks(rotation = 90, fontsize = 10)\n",
    "plt.xlabel(\"Academic Years\")\n",
    "\n",
    "plt.title(\"GLD Attainment\")\n",
    "\n",
    "\n",
    "for bar in ax.patches:\n",
    "    height = bar.get_height()\n",
    "    ax.text(bar.get_x() + bar.get_width() / 2.0, height, f' {height:.2f}', fontsize=10,\n",
    "            ha='center')\n",
    "    ax.set_title(\"Count Female Students Not Attaining GLD\")    \n",
    "    \n",
    "for bar in bx.patches:\n",
    "    height = bar.get_height()\n",
    "    bx.text(bar.get_x() + bar.get_width() / 2.0, height, f' {height:.2f}', fontsize=10,\n",
    "            ha='center')\n",
    "    bx.set_title(\"Count Male Students Not Attaining GLD\")    \n",
    "\n",
    "plt.show()\n",
    "\n",
    " "
   ]
  },
  {
   "cell_type": "markdown",
   "id": "2c3e7b16-928f-4ec1-8976-e6f33309a194",
   "metadata": {},
   "source": [
    "<div class=\"alert alert-block alert-info\">\n",
    "<h3> For records pertaining to early years from 2002 - 2018 we have to retreive data fro the NEET Summary Table<br/>\n",
    "         1. Analyse the records <br/>\n",
    "         2. In compliance with the Child Act of 2006, we will exclude data from 2002 to 2005. Subsequently, we will cross-reference records between EYFS and NCCIS, focusing on students aged 16-18 years. <br/>\n",
    "</h3>\n",
    "</div>"
   ]
  },
  {
   "cell_type": "code",
   "execution_count": 78,
   "id": "ad815c4d-04cb-4608-8849-7e83b2f2dcef",
   "metadata": {},
   "outputs": [
    {
     "name": "stdout",
     "output_type": "stream",
     "text": [
      "Downloading: 100%|\u001b[32m██████████\u001b[0m|\n"
     ]
    }
   ],
   "source": [
    "\n",
    "# Instaniate BigQuery client\n",
    "\n",
    "sqlEYFSNEET = \"\"\" SELECT * FROM `yhcr-prd-phm-bia-core.CB_FDM_DepartmentForEducation.src_EYFSP` a, `yhcr-prd-phm-bia-core.CB_2166.wide_format_NEET_final` b where a.person_id = b.person_id \"\"\"\n",
    "\n",
    "EYFSPDF = pdg.read_gbq(sqlEYFSNEET, dialect='standard')\n",
    "#sqlWideFormat\n"
   ]
  },
  {
   "cell_type": "code",
   "execution_count": 79,
   "id": "7c5409f3-a98a-42c2-82ee-efc846d4149b",
   "metadata": {
    "tags": []
   },
   "outputs": [
    {
     "data": {
      "text/html": [
       "<div>\n",
       "<style scoped>\n",
       "    .dataframe tbody tr th:only-of-type {\n",
       "        vertical-align: middle;\n",
       "    }\n",
       "\n",
       "    .dataframe tbody tr th {\n",
       "        vertical-align: top;\n",
       "    }\n",
       "\n",
       "    .dataframe thead th {\n",
       "        text-align: right;\n",
       "    }\n",
       "</style>\n",
       "<table border=\"1\" class=\"dataframe\">\n",
       "  <thead>\n",
       "    <tr style=\"text-align: right;\">\n",
       "      <th></th>\n",
       "      <th>person_id</th>\n",
       "      <th>EDRN</th>\n",
       "      <th>AcademicYear</th>\n",
       "      <th>PupilMatchingRefAnonymous</th>\n",
       "      <th>AgeStart</th>\n",
       "      <th>MonthPart</th>\n",
       "      <th>YearOfBirth</th>\n",
       "      <th>MonthOfBirth</th>\n",
       "      <th>Gender</th>\n",
       "      <th>LA</th>\n",
       "      <th>...</th>\n",
       "      <th>AcademicYearAge15to16</th>\n",
       "      <th>LSOA_name</th>\n",
       "      <th>lat_long</th>\n",
       "      <th>Bradford_YN</th>\n",
       "      <th>ever_NEET</th>\n",
       "      <th>Persistent_NEET_YN_over_4months</th>\n",
       "      <th>Total_neet_months</th>\n",
       "      <th>total_number_of_observations</th>\n",
       "      <th>percentage_time_neet</th>\n",
       "      <th>NumberOfMonthsUnknown</th>\n",
       "    </tr>\n",
       "  </thead>\n",
       "  <tbody>\n",
       "    <tr>\n",
       "      <th>0</th>\n",
       "      <td>12405978</td>\n",
       "      <td>CB1A612E3EC15B0E16CD67FBCB7466A</td>\n",
       "      <td>2005/2006</td>\n",
       "      <td>CCA553CA30D8B8FAC5</td>\n",
       "      <td>4</td>\n",
       "      <td>4</td>\n",
       "      <td>2001</td>\n",
       "      <td>4</td>\n",
       "      <td>F</td>\n",
       "      <td>381</td>\n",
       "      <td>...</td>\n",
       "      <td>2016/2017</td>\n",
       "      <td>Bradford 054B</td>\n",
       "      <td>POINT(-1.78338 53.7681)</td>\n",
       "      <td>True</td>\n",
       "      <td>False</td>\n",
       "      <td>False</td>\n",
       "      <td>0</td>\n",
       "      <td>24</td>\n",
       "      <td>0.0</td>\n",
       "      <td>3</td>\n",
       "    </tr>\n",
       "    <tr>\n",
       "      <th>1</th>\n",
       "      <td>13404207</td>\n",
       "      <td>C148CBD4B2F9CC9271FF1A34DE76D771</td>\n",
       "      <td>2006/2007</td>\n",
       "      <td>CCA653CE35DCB5FBCA</td>\n",
       "      <td>4</td>\n",
       "      <td>1</td>\n",
       "      <td>2002</td>\n",
       "      <td>7</td>\n",
       "      <td>F</td>\n",
       "      <td>315</td>\n",
       "      <td>...</td>\n",
       "      <td>2017/2018</td>\n",
       "      <td>None</td>\n",
       "      <td>None</td>\n",
       "      <td>False</td>\n",
       "      <td>False</td>\n",
       "      <td>False</td>\n",
       "      <td>0</td>\n",
       "      <td>24</td>\n",
       "      <td>0.0</td>\n",
       "      <td>1</td>\n",
       "    </tr>\n",
       "    <tr>\n",
       "      <th>2</th>\n",
       "      <td>13673392</td>\n",
       "      <td>16B99C34C6AB4E14509CD840FA2AAD7</td>\n",
       "      <td>2002/2003</td>\n",
       "      <td>CCF850C033D3BBFBCC</td>\n",
       "      <td>4</td>\n",
       "      <td>0</td>\n",
       "      <td>1998</td>\n",
       "      <td>8</td>\n",
       "      <td>F</td>\n",
       "      <td>380</td>\n",
       "      <td>...</td>\n",
       "      <td>2013/2014</td>\n",
       "      <td>Bradford 008C</td>\n",
       "      <td>POINT(-1.90618 53.8725)</td>\n",
       "      <td>True</td>\n",
       "      <td>False</td>\n",
       "      <td>False</td>\n",
       "      <td>0</td>\n",
       "      <td>24</td>\n",
       "      <td>0.0</td>\n",
       "      <td>4</td>\n",
       "    </tr>\n",
       "    <tr>\n",
       "      <th>3</th>\n",
       "      <td>13618606</td>\n",
       "      <td>1753FB63790D41625F113AE3BEEF8C</td>\n",
       "      <td>2003/2004</td>\n",
       "      <td>CCF850C033DAB8F0CB</td>\n",
       "      <td>4</td>\n",
       "      <td>8</td>\n",
       "      <td>1998</td>\n",
       "      <td>12</td>\n",
       "      <td>F</td>\n",
       "      <td>380</td>\n",
       "      <td>...</td>\n",
       "      <td>2014/2015</td>\n",
       "      <td>Bradford 019G</td>\n",
       "      <td>POINT(-1.73452 53.8317)</td>\n",
       "      <td>True</td>\n",
       "      <td>False</td>\n",
       "      <td>False</td>\n",
       "      <td>0</td>\n",
       "      <td>24</td>\n",
       "      <td>0.0</td>\n",
       "      <td>1</td>\n",
       "    </tr>\n",
       "    <tr>\n",
       "      <th>4</th>\n",
       "      <td>616222</td>\n",
       "      <td>A1758D43AEEDFD1FA99F7F1D6B69548D</td>\n",
       "      <td>2002/2003</td>\n",
       "      <td>CCF850C033DDB5FFC9</td>\n",
       "      <td>4</td>\n",
       "      <td>1</td>\n",
       "      <td>1998</td>\n",
       "      <td>7</td>\n",
       "      <td>F</td>\n",
       "      <td>380</td>\n",
       "      <td>...</td>\n",
       "      <td>2013/2014</td>\n",
       "      <td>Bradford 034B</td>\n",
       "      <td>POINT(-1.77223 53.813)</td>\n",
       "      <td>True</td>\n",
       "      <td>False</td>\n",
       "      <td>False</td>\n",
       "      <td>0</td>\n",
       "      <td>24</td>\n",
       "      <td>0.0</td>\n",
       "      <td>10</td>\n",
       "    </tr>\n",
       "    <tr>\n",
       "      <th>...</th>\n",
       "      <td>...</td>\n",
       "      <td>...</td>\n",
       "      <td>...</td>\n",
       "      <td>...</td>\n",
       "      <td>...</td>\n",
       "      <td>...</td>\n",
       "      <td>...</td>\n",
       "      <td>...</td>\n",
       "      <td>...</td>\n",
       "      <td>...</td>\n",
       "      <td>...</td>\n",
       "      <td>...</td>\n",
       "      <td>...</td>\n",
       "      <td>...</td>\n",
       "      <td>...</td>\n",
       "      <td>...</td>\n",
       "      <td>...</td>\n",
       "      <td>...</td>\n",
       "      <td>...</td>\n",
       "      <td>...</td>\n",
       "      <td>...</td>\n",
       "    </tr>\n",
       "    <tr>\n",
       "      <th>11469</th>\n",
       "      <td>12417201</td>\n",
       "      <td>49553D60F6A981131AA9C7D7B9CA91</td>\n",
       "      <td>2006/2007</td>\n",
       "      <td>CCF95EC935DEBCF9CD</td>\n",
       "      <td>4</td>\n",
       "      <td>0</td>\n",
       "      <td>2002</td>\n",
       "      <td>8</td>\n",
       "      <td>F</td>\n",
       "      <td>890</td>\n",
       "      <td>...</td>\n",
       "      <td>2017/2018</td>\n",
       "      <td>None</td>\n",
       "      <td>None</td>\n",
       "      <td>False</td>\n",
       "      <td>False</td>\n",
       "      <td>False</td>\n",
       "      <td>0</td>\n",
       "      <td>12</td>\n",
       "      <td>0.0</td>\n",
       "      <td>1</td>\n",
       "    </tr>\n",
       "    <tr>\n",
       "      <th>11470</th>\n",
       "      <td>13661188</td>\n",
       "      <td>EB6750CE55D0E7A2D9778722732DDF33</td>\n",
       "      <td>2006/2007</td>\n",
       "      <td>CCF95ECA30DDBEFECE</td>\n",
       "      <td>4</td>\n",
       "      <td>8</td>\n",
       "      <td>2001</td>\n",
       "      <td>12</td>\n",
       "      <td>M</td>\n",
       "      <td>380</td>\n",
       "      <td>...</td>\n",
       "      <td>2017/2018</td>\n",
       "      <td>Bradford 061B</td>\n",
       "      <td>POINT(-1.76674 53.7449)</td>\n",
       "      <td>True</td>\n",
       "      <td>False</td>\n",
       "      <td>False</td>\n",
       "      <td>0</td>\n",
       "      <td>12</td>\n",
       "      <td>0.0</td>\n",
       "      <td>0</td>\n",
       "    </tr>\n",
       "    <tr>\n",
       "      <th>11471</th>\n",
       "      <td>13139328</td>\n",
       "      <td>CA19BB3EE4DE54DFB2A8081BFDC992D</td>\n",
       "      <td>2006/2007</td>\n",
       "      <td>CCF95ECB31D9BBFDCC</td>\n",
       "      <td>4</td>\n",
       "      <td>0</td>\n",
       "      <td>2002</td>\n",
       "      <td>8</td>\n",
       "      <td>M</td>\n",
       "      <td>382</td>\n",
       "      <td>...</td>\n",
       "      <td>2017/2018</td>\n",
       "      <td>Richmondshire 005A</td>\n",
       "      <td>POINT(-2.06091 54.2907)</td>\n",
       "      <td>False</td>\n",
       "      <td>False</td>\n",
       "      <td>False</td>\n",
       "      <td>0</td>\n",
       "      <td>17</td>\n",
       "      <td>0.0</td>\n",
       "      <td>7</td>\n",
       "    </tr>\n",
       "    <tr>\n",
       "      <th>11472</th>\n",
       "      <td>829469</td>\n",
       "      <td>36B468EA57F44C9EB1EC1FF62DDE0</td>\n",
       "      <td>2006/2007</td>\n",
       "      <td>CCF95ECB33D9BEFDC5</td>\n",
       "      <td>4</td>\n",
       "      <td>3</td>\n",
       "      <td>2002</td>\n",
       "      <td>5</td>\n",
       "      <td>M</td>\n",
       "      <td>380</td>\n",
       "      <td>...</td>\n",
       "      <td>2017/2018</td>\n",
       "      <td>Bradford 061E</td>\n",
       "      <td>POINT(-1.77057 53.7298)</td>\n",
       "      <td>True</td>\n",
       "      <td>False</td>\n",
       "      <td>False</td>\n",
       "      <td>0</td>\n",
       "      <td>7</td>\n",
       "      <td>0.0</td>\n",
       "      <td>0</td>\n",
       "    </tr>\n",
       "    <tr>\n",
       "      <th>11473</th>\n",
       "      <td>785857</td>\n",
       "      <td>6B6584D94CCFF91AD91CAA0FDC61FEC</td>\n",
       "      <td>2006/2007</td>\n",
       "      <td>CCF95ECB37D2B5FCCB</td>\n",
       "      <td>4</td>\n",
       "      <td>3</td>\n",
       "      <td>2002</td>\n",
       "      <td>5</td>\n",
       "      <td>F</td>\n",
       "      <td>383</td>\n",
       "      <td>...</td>\n",
       "      <td>2017/2018</td>\n",
       "      <td>Leeds 100D</td>\n",
       "      <td>POINT(-1.47274 53.7385)</td>\n",
       "      <td>False</td>\n",
       "      <td>False</td>\n",
       "      <td>False</td>\n",
       "      <td>0</td>\n",
       "      <td>12</td>\n",
       "      <td>0.0</td>\n",
       "      <td>12</td>\n",
       "    </tr>\n",
       "  </tbody>\n",
       "</table>\n",
       "<p>11474 rows × 194 columns</p>\n",
       "</div>"
      ],
      "text/plain": [
       "       person_id                              EDRN AcademicYear  \\\n",
       "0       12405978   CB1A612E3EC15B0E16CD67FBCB7466A    2005/2006   \n",
       "1       13404207  C148CBD4B2F9CC9271FF1A34DE76D771    2006/2007   \n",
       "2       13673392   16B99C34C6AB4E14509CD840FA2AAD7    2002/2003   \n",
       "3       13618606    1753FB63790D41625F113AE3BEEF8C    2003/2004   \n",
       "4         616222  A1758D43AEEDFD1FA99F7F1D6B69548D    2002/2003   \n",
       "...          ...                               ...          ...   \n",
       "11469   12417201    49553D60F6A981131AA9C7D7B9CA91    2006/2007   \n",
       "11470   13661188  EB6750CE55D0E7A2D9778722732DDF33    2006/2007   \n",
       "11471   13139328   CA19BB3EE4DE54DFB2A8081BFDC992D    2006/2007   \n",
       "11472     829469     36B468EA57F44C9EB1EC1FF62DDE0    2006/2007   \n",
       "11473     785857   6B6584D94CCFF91AD91CAA0FDC61FEC    2006/2007   \n",
       "\n",
       "      PupilMatchingRefAnonymous  AgeStart  MonthPart  YearOfBirth  \\\n",
       "0            CCA553CA30D8B8FAC5         4          4         2001   \n",
       "1            CCA653CE35DCB5FBCA         4          1         2002   \n",
       "2            CCF850C033D3BBFBCC         4          0         1998   \n",
       "3            CCF850C033DAB8F0CB         4          8         1998   \n",
       "4            CCF850C033DDB5FFC9         4          1         1998   \n",
       "...                         ...       ...        ...          ...   \n",
       "11469        CCF95EC935DEBCF9CD         4          0         2002   \n",
       "11470        CCF95ECA30DDBEFECE         4          8         2001   \n",
       "11471        CCF95ECB31D9BBFDCC         4          0         2002   \n",
       "11472        CCF95ECB33D9BEFDC5         4          3         2002   \n",
       "11473        CCF95ECB37D2B5FCCB         4          3         2002   \n",
       "\n",
       "       MonthOfBirth Gender   LA  ... AcademicYearAge15to16  \\\n",
       "0                 4      F  381  ...             2016/2017   \n",
       "1                 7      F  315  ...             2017/2018   \n",
       "2                 8      F  380  ...             2013/2014   \n",
       "3                12      F  380  ...             2014/2015   \n",
       "4                 7      F  380  ...             2013/2014   \n",
       "...             ...    ...  ...  ...                   ...   \n",
       "11469             8      F  890  ...             2017/2018   \n",
       "11470            12      M  380  ...             2017/2018   \n",
       "11471             8      M  382  ...             2017/2018   \n",
       "11472             5      M  380  ...             2017/2018   \n",
       "11473             5      F  383  ...             2017/2018   \n",
       "\n",
       "                LSOA_name                 lat_long  Bradford_YN ever_NEET  \\\n",
       "0           Bradford 054B  POINT(-1.78338 53.7681)         True     False   \n",
       "1                    None                     None        False     False   \n",
       "2           Bradford 008C  POINT(-1.90618 53.8725)         True     False   \n",
       "3           Bradford 019G  POINT(-1.73452 53.8317)         True     False   \n",
       "4           Bradford 034B   POINT(-1.77223 53.813)         True     False   \n",
       "...                   ...                      ...          ...       ...   \n",
       "11469                None                     None        False     False   \n",
       "11470       Bradford 061B  POINT(-1.76674 53.7449)         True     False   \n",
       "11471  Richmondshire 005A  POINT(-2.06091 54.2907)        False     False   \n",
       "11472       Bradford 061E  POINT(-1.77057 53.7298)         True     False   \n",
       "11473          Leeds 100D  POINT(-1.47274 53.7385)        False     False   \n",
       "\n",
       "       Persistent_NEET_YN_over_4months  Total_neet_months  \\\n",
       "0                                False                  0   \n",
       "1                                False                  0   \n",
       "2                                False                  0   \n",
       "3                                False                  0   \n",
       "4                                False                  0   \n",
       "...                                ...                ...   \n",
       "11469                            False                  0   \n",
       "11470                            False                  0   \n",
       "11471                            False                  0   \n",
       "11472                            False                  0   \n",
       "11473                            False                  0   \n",
       "\n",
       "       total_number_of_observations  percentage_time_neet  \\\n",
       "0                                24                   0.0   \n",
       "1                                24                   0.0   \n",
       "2                                24                   0.0   \n",
       "3                                24                   0.0   \n",
       "4                                24                   0.0   \n",
       "...                             ...                   ...   \n",
       "11469                            12                   0.0   \n",
       "11470                            12                   0.0   \n",
       "11471                            17                   0.0   \n",
       "11472                             7                   0.0   \n",
       "11473                            12                   0.0   \n",
       "\n",
       "       NumberOfMonthsUnknown  \n",
       "0                          3  \n",
       "1                          1  \n",
       "2                          4  \n",
       "3                          1  \n",
       "4                         10  \n",
       "...                      ...  \n",
       "11469                      1  \n",
       "11470                      0  \n",
       "11471                      7  \n",
       "11472                      0  \n",
       "11473                     12  \n",
       "\n",
       "[11474 rows x 194 columns]"
      ]
     },
     "execution_count": 79,
     "metadata": {},
     "output_type": "execute_result"
    }
   ],
   "source": [
    "EYFSPDF"
   ]
  },
  {
   "cell_type": "code",
   "execution_count": 80,
   "id": "ce0d4e4a-85b9-48ef-bcc9-042d5dd6588c",
   "metadata": {
    "tags": []
   },
   "outputs": [
    {
     "data": {
      "text/plain": [
       "11474"
      ]
     },
     "execution_count": 80,
     "metadata": {},
     "output_type": "execute_result"
    }
   ],
   "source": [
    "EYSFTransactDF = EYFSPDF\n",
    "len(EYSFTransactDF)"
   ]
  },
  {
   "cell_type": "code",
   "execution_count": 81,
   "id": "e94f456f-869d-4709-b1c6-5d16cfc47873",
   "metadata": {
    "tags": []
   },
   "outputs": [
    {
     "data": {
      "text/plain": [
       "11451"
      ]
     },
     "execution_count": 81,
     "metadata": {},
     "output_type": "execute_result"
    }
   ],
   "source": [
    "EYSFTransactDF = EYSFTransactDF.drop_duplicates(subset=['person_id'])\n",
    "len(EYSFTransactDF)"
   ]
  },
  {
   "cell_type": "code",
   "execution_count": 82,
   "id": "8a16ecba-26a2-4c32-a298-0970bdc6fc97",
   "metadata": {
    "tags": []
   },
   "outputs": [],
   "source": [
    "EYSFTransactDF = EYSFTransactDF.copy(deep=True)"
   ]
  },
  {
   "cell_type": "code",
   "execution_count": 83,
   "id": "4d657fbe-c63c-4381-96ac-73beb022e345",
   "metadata": {
    "tags": []
   },
   "outputs": [],
   "source": [
    "EYSFTransactDF['newGLD'] = EYSFTransactDF['GLD'].apply(lambda set_: False if pd.isna(set_)== True else set_)\n",
    "EYSFTransactDF['Gender'] = EYSFTransactDF['Gender'].apply(lambda set_: 'F' if (set_== 'f') else set_ )\n",
    "EYSFTransactDF['Gender'] = EYSFTransactDF['Gender'].apply(lambda set_: 'M' if (set_== 'm') else set_)\n",
    "\n",
    "EYSFTransactDF['newGLD'] = EYSFTransactDF['GLD'].apply(lambda set_: False if pd.isna(set_)== True else set_)\n",
    "EYSFTransactDF['Gender'] = EYSFTransactDF['Gender'].apply(lambda set_: 'F' if (set_== 'f') else set_ )\n",
    "EYSFTransactDF['Gender'] = EYSFTransactDF['Gender'].apply(lambda set_: 'M' if (set_== 'm') else set_)\n",
    "EYSFTransactDF[\"AcademicBegin\"]  = EYSFTransactDF[\"AcademicYear\"].str.slice(0, 4)\n",
    "EYSFTransactDF[\"AcademicEnd\"] = EYSFTransactDF[\"AcademicYear\"].str.slice(5)\n",
    "#df"
   ]
  },
  {
   "cell_type": "code",
   "execution_count": 84,
   "id": "d98b15c5-5cae-4aca-8c14-9a69f11c1cc4",
   "metadata": {
    "tags": []
   },
   "outputs": [],
   "source": [
    "\n",
    "EYSFTransactDF['PSEAS1'] = EYSFTransactDF['PSEAS1'].replace({None: 0,'N': 0})  \n",
    "EYSFTransactDF['PSEAS2'] = EYSFTransactDF['PSEAS2'].replace({None: 0,'N': 0}) \n",
    "EYSFTransactDF['PSEAS3'] = EYSFTransactDF['PSEAS3'].replace({None: 0,'N': 0})\n",
    "EYSFTransactDF['PSETotal'] = EYSFTransactDF['PSETotal'].replace({None: 0,'N': 0})\n",
    "EYSFTransactDF['CLLAS1'] = EYSFTransactDF['CLLAS1'].replace({None: 0,'N': 0})\n",
    "EYSFTransactDF['CLLAS2'] = EYSFTransactDF['CLLAS2'].replace({None: 0,'N': 0})\n",
    "EYSFTransactDF['CLLAS3'] = EYSFTransactDF['CLLAS3'].replace({None: 0,'N': 0})\n",
    "EYSFTransactDF['CLLAS4'] = EYSFTransactDF['CLLAS4'].replace({None: 0,'N': 0})\n",
    "EYSFTransactDF['CLLTotal'] = EYSFTransactDF['CLLTotal'].replace({None: 0,'N': 0})\n",
    "EYSFTransactDF['PSRNAS1'] = EYSFTransactDF['PSRNAS1'].replace({None: 0,'N': 0})\n",
    "EYSFTransactDF['PSRNAS2'] = EYSFTransactDF['PSRNAS2'].replace({None: 0,'N': 0})\n",
    "EYSFTransactDF['PSRNAS3'] = EYSFTransactDF['PSRNAS3'].replace({None: 0,'N': 0})\n",
    "EYSFTransactDF['PSRNTotal'] = EYSFTransactDF['PSRNTotal'].replace({None: 0,'N': 0})\n",
    "EYSFTransactDF['RKUW'] = EYSFTransactDF['RKUW'].replace({None: 0,'N': 0})\n",
    "EYSFTransactDF['RIPD'] = EYSFTransactDF['RIPD'].replace({None: 0,'N': 0})\n",
    "EYSFTransactDF['RICD'] = EYSFTransactDF['RICD'].replace({None: 0,'N': 0})\n",
    "EYSFTransactDF['EYFSPTotal'] = EYSFTransactDF['EYFSPTotal'].replace({None: 0,'N': 0})\n",
    "\n",
    "\n",
    "EYSFTransactDF['PSEAS1'] = EYSFTransactDF['PSEAS1'].astype(int)\n",
    "EYSFTransactDF['PSEAS2'] = EYSFTransactDF['PSEAS2'].astype(int)\n",
    "EYSFTransactDF['PSEAS3'] = EYSFTransactDF['PSEAS3'].astype(int)\n",
    "EYSFTransactDF['PSETotal'] = EYSFTransactDF['PSETotal'].astype(int)\n",
    "EYSFTransactDF['CLLAS1'] = EYSFTransactDF['CLLAS1'].astype(int)\n",
    "EYSFTransactDF['CLLAS2'] = EYSFTransactDF['CLLAS2'].astype(int)\n",
    "EYSFTransactDF['CLLAS3'] = EYSFTransactDF['CLLAS3'].astype(int)\n",
    "EYSFTransactDF['CLLAS4'] = EYSFTransactDF['CLLAS4'].astype(int)\n",
    "EYSFTransactDF['CLLTotal'] = EYSFTransactDF['CLLTotal'].astype(int)\n",
    "EYSFTransactDF['PSRNAS1'] = EYSFTransactDF['PSRNAS1'].astype(int)\n",
    "EYSFTransactDF['PSRNAS2'] = EYSFTransactDF['PSRNAS2'].astype(int)\n",
    "EYSFTransactDF['PSRNAS3'] = EYSFTransactDF['PSRNAS3'].astype(int)\n",
    "EYSFTransactDF['PSRNTotal'] = EYSFTransactDF['PSRNTotal'].astype(int)\n",
    "EYSFTransactDF['RKUW'] = EYSFTransactDF['RKUW'].astype(int)\n",
    "EYSFTransactDF['RIPD'] = EYSFTransactDF['RIPD'].astype(int)\n",
    "EYSFTransactDF['RICD'] = EYSFTransactDF['RICD'].astype(int)\n",
    "EYSFTransactDF['EYFSPTotal'] = EYSFTransactDF['EYFSPTotal'].astype(int)\n",
    "EYSFTransactDF['AcademicBegin'] = EYSFTransactDF['AcademicBegin'].astype(int)\n",
    "EYSFTransactDF['AcademicEnd'] = EYSFTransactDF['AcademicEnd'].astype(int)\n",
    "\n",
    "#df.dtypes\n",
    "\n",
    "EYSFTransactDF.loc[(EYSFTransactDF['PSEAS1']>=6)&(EYSFTransactDF['PSEAS2']>=6)&(EYSFTransactDF['PSEAS3']>=6)&\n",
    "       (EYSFTransactDF['CLLAS1']>=6)&(EYSFTransactDF['CLLAS2']>=6)&(EYSFTransactDF['CLLAS3']>=6)&(EYSFTransactDF['CLLAS4']>=6)&\n",
    "       (EYSFTransactDF['PSRNAS1']>=6)&(EYSFTransactDF['PSRNAS2']>=6)&(EYSFTransactDF['PSRNAS3']>=6)&\n",
    "       (EYSFTransactDF['RKUW']>=6)&(EYSFTransactDF['RICD']>=6)&(EYSFTransactDF['RIPD']>=6)&(EYSFTransactDF['EYFSPTotal']>=78), 'newGLD'] = True   \n",
    "                                     "
   ]
  },
  {
   "cell_type": "code",
   "execution_count": 85,
   "id": "991eec4d-6da1-4ff4-b06a-1aa06b1dca52",
   "metadata": {
    "tags": []
   },
   "outputs": [
    {
     "data": {
      "text/plain": [
       "Index(['person_id', 'EDRN', 'AcademicYear', 'PupilMatchingRefAnonymous',\n",
       "       'AgeStart', 'MonthPart', 'YearOfBirth', 'MonthOfBirth', 'Gender', 'LA',\n",
       "       ...\n",
       "       'Bradford_YN', 'ever_NEET', 'Persistent_NEET_YN_over_4months',\n",
       "       'Total_neet_months', 'total_number_of_observations',\n",
       "       'percentage_time_neet', 'NumberOfMonthsUnknown', 'newGLD',\n",
       "       'AcademicBegin', 'AcademicEnd'],\n",
       "      dtype='object', length=197)"
      ]
     },
     "execution_count": 85,
     "metadata": {},
     "output_type": "execute_result"
    }
   ],
   "source": [
    "EYSFTransactDF.columns"
   ]
  },
  {
   "cell_type": "markdown",
   "id": "339e50a1-8bc3-4e31-b3ef-b3bfdb052439",
   "metadata": {},
   "source": [
    "<div class=\"alert alert-block alert-info\">\n",
    "    <h2>\n",
    "    1. 47.7% Women students appeared during the academic year 2006-2007 <br/>\n",
    "    2. 52.2% Men students appeared during the academic year 2006-2007 <br/>\n",
    "    </h2>\n",
    "</div>\n",
    "    "
   ]
  },
  {
   "cell_type": "markdown",
   "id": "777cdc82-9f24-4db0-a550-7ff77900004d",
   "metadata": {
    "tags": []
   },
   "source": [
    "<div class=\"alert alert-block alert-warning\">\n",
    "    <h3> Due to Statutary limitation of the EYFSP - we will avoid the records from 2002-2005</h3>\n",
    "</div>"
   ]
  },
  {
   "cell_type": "code",
   "execution_count": 86,
   "id": "bcea3547-21d1-4a90-98ea-4b69fd0d9078",
   "metadata": {},
   "outputs": [
    {
     "data": {
      "text/html": [
       "<div>\n",
       "<style scoped>\n",
       "    .dataframe tbody tr th:only-of-type {\n",
       "        vertical-align: middle;\n",
       "    }\n",
       "\n",
       "    .dataframe tbody tr th {\n",
       "        vertical-align: top;\n",
       "    }\n",
       "\n",
       "    .dataframe thead th {\n",
       "        text-align: right;\n",
       "    }\n",
       "</style>\n",
       "<table border=\"1\" class=\"dataframe\">\n",
       "  <thead>\n",
       "    <tr style=\"text-align: right;\">\n",
       "      <th></th>\n",
       "      <th>person_id</th>\n",
       "      <th>EDRN</th>\n",
       "      <th>AcademicYear</th>\n",
       "      <th>PupilMatchingRefAnonymous</th>\n",
       "      <th>AgeStart</th>\n",
       "      <th>MonthPart</th>\n",
       "      <th>YearOfBirth</th>\n",
       "      <th>MonthOfBirth</th>\n",
       "      <th>Gender</th>\n",
       "      <th>LA</th>\n",
       "      <th>...</th>\n",
       "      <th>Bradford_YN</th>\n",
       "      <th>ever_NEET</th>\n",
       "      <th>Persistent_NEET</th>\n",
       "      <th>Total_neet_months</th>\n",
       "      <th>total_number_of_observations</th>\n",
       "      <th>percentage_time_neet</th>\n",
       "      <th>NumberOfMonthsUnknown</th>\n",
       "      <th>newGLD</th>\n",
       "      <th>AcademicBegin</th>\n",
       "      <th>AcademicEnd</th>\n",
       "    </tr>\n",
       "  </thead>\n",
       "  <tbody>\n",
       "    <tr>\n",
       "      <th>1</th>\n",
       "      <td>13404207</td>\n",
       "      <td>C148CBD4B2F9CC9271FF1A34DE76D771</td>\n",
       "      <td>2006/2007</td>\n",
       "      <td>CCA653CE35DCB5FBCA</td>\n",
       "      <td>4</td>\n",
       "      <td>1</td>\n",
       "      <td>2002</td>\n",
       "      <td>7</td>\n",
       "      <td>F</td>\n",
       "      <td>315</td>\n",
       "      <td>...</td>\n",
       "      <td>False</td>\n",
       "      <td>False</td>\n",
       "      <td>False</td>\n",
       "      <td>0</td>\n",
       "      <td>24</td>\n",
       "      <td>0.00000</td>\n",
       "      <td>1</td>\n",
       "      <td>True</td>\n",
       "      <td>2006</td>\n",
       "      <td>2007</td>\n",
       "    </tr>\n",
       "    <tr>\n",
       "      <th>21</th>\n",
       "      <td>13537598</td>\n",
       "      <td>906BAA36F8591152649E3E38F15C54C8</td>\n",
       "      <td>2006/2007</td>\n",
       "      <td>CCF951C030D3B8FBC4</td>\n",
       "      <td>4</td>\n",
       "      <td>8</td>\n",
       "      <td>2001</td>\n",
       "      <td>12</td>\n",
       "      <td>F</td>\n",
       "      <td>380</td>\n",
       "      <td>...</td>\n",
       "      <td>True</td>\n",
       "      <td>True</td>\n",
       "      <td>False</td>\n",
       "      <td>2</td>\n",
       "      <td>12</td>\n",
       "      <td>16.66667</td>\n",
       "      <td>1</td>\n",
       "      <td>False</td>\n",
       "      <td>2006</td>\n",
       "      <td>2007</td>\n",
       "    </tr>\n",
       "    <tr>\n",
       "      <th>22</th>\n",
       "      <td>12559531</td>\n",
       "      <td>7ABF60582FECEA9B6125659BC3676CE3</td>\n",
       "      <td>2006/2007</td>\n",
       "      <td>CCF951C030DEBAFBCD</td>\n",
       "      <td>4</td>\n",
       "      <td>4</td>\n",
       "      <td>2002</td>\n",
       "      <td>4</td>\n",
       "      <td>F</td>\n",
       "      <td>380</td>\n",
       "      <td>...</td>\n",
       "      <td>True</td>\n",
       "      <td>False</td>\n",
       "      <td>False</td>\n",
       "      <td>0</td>\n",
       "      <td>12</td>\n",
       "      <td>0.00000</td>\n",
       "      <td>0</td>\n",
       "      <td>False</td>\n",
       "      <td>2006</td>\n",
       "      <td>2007</td>\n",
       "    </tr>\n",
       "    <tr>\n",
       "      <th>23</th>\n",
       "      <td>12414821</td>\n",
       "      <td>5EC617AF9243D82A263998D39EB2654</td>\n",
       "      <td>2006/2007</td>\n",
       "      <td>CCF951C030DEBBFEC8</td>\n",
       "      <td>4</td>\n",
       "      <td>3</td>\n",
       "      <td>2002</td>\n",
       "      <td>5</td>\n",
       "      <td>F</td>\n",
       "      <td>380</td>\n",
       "      <td>...</td>\n",
       "      <td>True</td>\n",
       "      <td>False</td>\n",
       "      <td>False</td>\n",
       "      <td>0</td>\n",
       "      <td>12</td>\n",
       "      <td>0.00000</td>\n",
       "      <td>0</td>\n",
       "      <td>False</td>\n",
       "      <td>2006</td>\n",
       "      <td>2007</td>\n",
       "    </tr>\n",
       "    <tr>\n",
       "      <th>24</th>\n",
       "      <td>12870963</td>\n",
       "      <td>CFE7E844F1BCF5E42DED1E72F0339861</td>\n",
       "      <td>2006/2007</td>\n",
       "      <td>CCF951C030DFBAF9CE</td>\n",
       "      <td>4</td>\n",
       "      <td>7</td>\n",
       "      <td>2002</td>\n",
       "      <td>1</td>\n",
       "      <td>M</td>\n",
       "      <td>380</td>\n",
       "      <td>...</td>\n",
       "      <td>True</td>\n",
       "      <td>False</td>\n",
       "      <td>False</td>\n",
       "      <td>0</td>\n",
       "      <td>12</td>\n",
       "      <td>0.00000</td>\n",
       "      <td>0</td>\n",
       "      <td>False</td>\n",
       "      <td>2006</td>\n",
       "      <td>2007</td>\n",
       "    </tr>\n",
       "    <tr>\n",
       "      <th>...</th>\n",
       "      <td>...</td>\n",
       "      <td>...</td>\n",
       "      <td>...</td>\n",
       "      <td>...</td>\n",
       "      <td>...</td>\n",
       "      <td>...</td>\n",
       "      <td>...</td>\n",
       "      <td>...</td>\n",
       "      <td>...</td>\n",
       "      <td>...</td>\n",
       "      <td>...</td>\n",
       "      <td>...</td>\n",
       "      <td>...</td>\n",
       "      <td>...</td>\n",
       "      <td>...</td>\n",
       "      <td>...</td>\n",
       "      <td>...</td>\n",
       "      <td>...</td>\n",
       "      <td>...</td>\n",
       "      <td>...</td>\n",
       "      <td>...</td>\n",
       "    </tr>\n",
       "    <tr>\n",
       "      <th>11469</th>\n",
       "      <td>12417201</td>\n",
       "      <td>49553D60F6A981131AA9C7D7B9CA91</td>\n",
       "      <td>2006/2007</td>\n",
       "      <td>CCF95EC935DEBCF9CD</td>\n",
       "      <td>4</td>\n",
       "      <td>0</td>\n",
       "      <td>2002</td>\n",
       "      <td>8</td>\n",
       "      <td>F</td>\n",
       "      <td>890</td>\n",
       "      <td>...</td>\n",
       "      <td>False</td>\n",
       "      <td>False</td>\n",
       "      <td>False</td>\n",
       "      <td>0</td>\n",
       "      <td>12</td>\n",
       "      <td>0.00000</td>\n",
       "      <td>1</td>\n",
       "      <td>False</td>\n",
       "      <td>2006</td>\n",
       "      <td>2007</td>\n",
       "    </tr>\n",
       "    <tr>\n",
       "      <th>11470</th>\n",
       "      <td>13661188</td>\n",
       "      <td>EB6750CE55D0E7A2D9778722732DDF33</td>\n",
       "      <td>2006/2007</td>\n",
       "      <td>CCF95ECA30DDBEFECE</td>\n",
       "      <td>4</td>\n",
       "      <td>8</td>\n",
       "      <td>2001</td>\n",
       "      <td>12</td>\n",
       "      <td>M</td>\n",
       "      <td>380</td>\n",
       "      <td>...</td>\n",
       "      <td>True</td>\n",
       "      <td>False</td>\n",
       "      <td>False</td>\n",
       "      <td>0</td>\n",
       "      <td>12</td>\n",
       "      <td>0.00000</td>\n",
       "      <td>0</td>\n",
       "      <td>True</td>\n",
       "      <td>2006</td>\n",
       "      <td>2007</td>\n",
       "    </tr>\n",
       "    <tr>\n",
       "      <th>11471</th>\n",
       "      <td>13139328</td>\n",
       "      <td>CA19BB3EE4DE54DFB2A8081BFDC992D</td>\n",
       "      <td>2006/2007</td>\n",
       "      <td>CCF95ECB31D9BBFDCC</td>\n",
       "      <td>4</td>\n",
       "      <td>0</td>\n",
       "      <td>2002</td>\n",
       "      <td>8</td>\n",
       "      <td>M</td>\n",
       "      <td>382</td>\n",
       "      <td>...</td>\n",
       "      <td>False</td>\n",
       "      <td>False</td>\n",
       "      <td>False</td>\n",
       "      <td>0</td>\n",
       "      <td>17</td>\n",
       "      <td>0.00000</td>\n",
       "      <td>7</td>\n",
       "      <td>True</td>\n",
       "      <td>2006</td>\n",
       "      <td>2007</td>\n",
       "    </tr>\n",
       "    <tr>\n",
       "      <th>11472</th>\n",
       "      <td>829469</td>\n",
       "      <td>36B468EA57F44C9EB1EC1FF62DDE0</td>\n",
       "      <td>2006/2007</td>\n",
       "      <td>CCF95ECB33D9BEFDC5</td>\n",
       "      <td>4</td>\n",
       "      <td>3</td>\n",
       "      <td>2002</td>\n",
       "      <td>5</td>\n",
       "      <td>M</td>\n",
       "      <td>380</td>\n",
       "      <td>...</td>\n",
       "      <td>True</td>\n",
       "      <td>False</td>\n",
       "      <td>False</td>\n",
       "      <td>0</td>\n",
       "      <td>7</td>\n",
       "      <td>0.00000</td>\n",
       "      <td>0</td>\n",
       "      <td>True</td>\n",
       "      <td>2006</td>\n",
       "      <td>2007</td>\n",
       "    </tr>\n",
       "    <tr>\n",
       "      <th>11473</th>\n",
       "      <td>785857</td>\n",
       "      <td>6B6584D94CCFF91AD91CAA0FDC61FEC</td>\n",
       "      <td>2006/2007</td>\n",
       "      <td>CCF95ECB37D2B5FCCB</td>\n",
       "      <td>4</td>\n",
       "      <td>3</td>\n",
       "      <td>2002</td>\n",
       "      <td>5</td>\n",
       "      <td>F</td>\n",
       "      <td>383</td>\n",
       "      <td>...</td>\n",
       "      <td>False</td>\n",
       "      <td>False</td>\n",
       "      <td>False</td>\n",
       "      <td>0</td>\n",
       "      <td>12</td>\n",
       "      <td>0.00000</td>\n",
       "      <td>12</td>\n",
       "      <td>True</td>\n",
       "      <td>2006</td>\n",
       "      <td>2007</td>\n",
       "    </tr>\n",
       "  </tbody>\n",
       "</table>\n",
       "<p>8240 rows × 197 columns</p>\n",
       "</div>"
      ],
      "text/plain": [
       "       person_id                              EDRN AcademicYear  \\\n",
       "1       13404207  C148CBD4B2F9CC9271FF1A34DE76D771    2006/2007   \n",
       "21      13537598  906BAA36F8591152649E3E38F15C54C8    2006/2007   \n",
       "22      12559531  7ABF60582FECEA9B6125659BC3676CE3    2006/2007   \n",
       "23      12414821   5EC617AF9243D82A263998D39EB2654    2006/2007   \n",
       "24      12870963  CFE7E844F1BCF5E42DED1E72F0339861    2006/2007   \n",
       "...          ...                               ...          ...   \n",
       "11469   12417201    49553D60F6A981131AA9C7D7B9CA91    2006/2007   \n",
       "11470   13661188  EB6750CE55D0E7A2D9778722732DDF33    2006/2007   \n",
       "11471   13139328   CA19BB3EE4DE54DFB2A8081BFDC992D    2006/2007   \n",
       "11472     829469     36B468EA57F44C9EB1EC1FF62DDE0    2006/2007   \n",
       "11473     785857   6B6584D94CCFF91AD91CAA0FDC61FEC    2006/2007   \n",
       "\n",
       "      PupilMatchingRefAnonymous  AgeStart  MonthPart  YearOfBirth  \\\n",
       "1            CCA653CE35DCB5FBCA         4          1         2002   \n",
       "21           CCF951C030D3B8FBC4         4          8         2001   \n",
       "22           CCF951C030DEBAFBCD         4          4         2002   \n",
       "23           CCF951C030DEBBFEC8         4          3         2002   \n",
       "24           CCF951C030DFBAF9CE         4          7         2002   \n",
       "...                         ...       ...        ...          ...   \n",
       "11469        CCF95EC935DEBCF9CD         4          0         2002   \n",
       "11470        CCF95ECA30DDBEFECE         4          8         2001   \n",
       "11471        CCF95ECB31D9BBFDCC         4          0         2002   \n",
       "11472        CCF95ECB33D9BEFDC5         4          3         2002   \n",
       "11473        CCF95ECB37D2B5FCCB         4          3         2002   \n",
       "\n",
       "       MonthOfBirth Gender   LA  ... Bradford_YN  ever_NEET  Persistent_NEET  \\\n",
       "1                 7      F  315  ...       False      False            False   \n",
       "21               12      F  380  ...        True       True            False   \n",
       "22                4      F  380  ...        True      False            False   \n",
       "23                5      F  380  ...        True      False            False   \n",
       "24                1      M  380  ...        True      False            False   \n",
       "...             ...    ...  ...  ...         ...        ...              ...   \n",
       "11469             8      F  890  ...       False      False            False   \n",
       "11470            12      M  380  ...        True      False            False   \n",
       "11471             8      M  382  ...       False      False            False   \n",
       "11472             5      M  380  ...        True      False            False   \n",
       "11473             5      F  383  ...       False      False            False   \n",
       "\n",
       "       Total_neet_months total_number_of_observations  percentage_time_neet  \\\n",
       "1                      0                           24               0.00000   \n",
       "21                     2                           12              16.66667   \n",
       "22                     0                           12               0.00000   \n",
       "23                     0                           12               0.00000   \n",
       "24                     0                           12               0.00000   \n",
       "...                  ...                          ...                   ...   \n",
       "11469                  0                           12               0.00000   \n",
       "11470                  0                           12               0.00000   \n",
       "11471                  0                           17               0.00000   \n",
       "11472                  0                            7               0.00000   \n",
       "11473                  0                           12               0.00000   \n",
       "\n",
       "       NumberOfMonthsUnknown  newGLD  AcademicBegin  AcademicEnd  \n",
       "1                          1    True           2006         2007  \n",
       "21                         1   False           2006         2007  \n",
       "22                         0   False           2006         2007  \n",
       "23                         0   False           2006         2007  \n",
       "24                         0   False           2006         2007  \n",
       "...                      ...     ...            ...          ...  \n",
       "11469                      1   False           2006         2007  \n",
       "11470                      0    True           2006         2007  \n",
       "11471                      7    True           2006         2007  \n",
       "11472                      0    True           2006         2007  \n",
       "11473                     12    True           2006         2007  \n",
       "\n",
       "[8240 rows x 197 columns]"
      ]
     },
     "execution_count": 86,
     "metadata": {},
     "output_type": "execute_result"
    }
   ],
   "source": [
    "statutaryYears2007_2009 = EYSFTransactDF[EYSFTransactDF[\"AcademicBegin\"]>=2006]\n",
    "statutaryYears2007_2009 = statutaryYears2007_2009.rename(columns={'Persistent_NEET_YN_over_4months':'Persistent_NEET'})\n",
    "#statutaryYears2007_2009.dtypes\n",
    "statutaryYears2007_2009"
   ]
  },
  {
   "cell_type": "code",
   "execution_count": 87,
   "id": "a448b642-1a33-41c6-bfe6-e17fa4144ead",
   "metadata": {
    "tags": []
   },
   "outputs": [],
   "source": [
    "disp1 = statutaryYears2007_2009[['person_id','PSEAS1','PSEAS2','PSEAS3','CLLAS1','CLLAS2','CLLAS3','CLLAS4','PSRNAS1','PSRNAS2','PSRNAS3','RKUW','RICD','RIPD','PSETotal','CLLTotal','PSRNTotal','EYFSPTotal','newGLD']]\n",
    "#disp1\n"
   ]
  },
  {
   "cell_type": "code",
   "execution_count": 88,
   "id": "9334de92-ac3c-41db-91c0-bc1162306d87",
   "metadata": {
    "tags": []
   },
   "outputs": [
    {
     "data": {
      "text/plain": [
       "2925"
      ]
     },
     "execution_count": 88,
     "metadata": {},
     "output_type": "execute_result"
    }
   ],
   "source": [
    "# disp2 = statutaryYears2007_2009[['person_id','newGLD','COMG01','COMG02','COMG03','PHYG04','PHYG05','PSEG06','PSEG07','PSEG08','LITG09','LITG10','MATG11','MATG12','UTWG13','UTWG14','UTWG15','EXPG16','EXPG17']]\n",
    "# disp2\n",
    "\n",
    "#disp3 = statutaryYears2007_2009[statutaryYears2007_2009['EYFSPTotal'] >= 78]\n",
    "disp3 = disp1[disp1['EYFSPTotal'] >= 78]\n",
    "disp3.newGLD.sum()\n",
    "\n",
    "#disp3\n"
   ]
  },
  {
   "cell_type": "markdown",
   "id": "6c04ca7f-b3a5-4d91-8bfe-f8a218ef4819",
   "metadata": {},
   "source": [
    "<div class=\"alert alert-block alert-info\">\n",
    "    <h2>\n",
    "    1. 5111 records have EYFSP total greater or equal to 78<br/>\n",
    "    2. out of 5111, only 2923 records have GLD attainment <br/>\n",
    "    3. These records are interesting to probe further as students have scored abobe the total but have missed on a subject.  further analysis can reveal which subjects students under perform \n",
    "    </h2>\n",
    "</div>\n",
    "    "
   ]
  },
  {
   "cell_type": "markdown",
   "id": "059589df-36ca-4e52-a107-3e3f29c26678",
   "metadata": {},
   "source": [
    "<div class=\"alert alert-block alert-info\">\n",
    "<h3> 2923 students have EYFSPTotal >=78 and have Good Level of Development attaintment True </h3>\n",
    "<h3> 5108 - 2925 = 2183 have EYFSPTotal >= 78 but Good Level of Development attaintment False </h3>\n",
    "# These records are quite interesting for research to see which subjects predicts future NEET #\n",
    "    \n",
    "</div>"
   ]
  },
  {
   "cell_type": "code",
   "execution_count": 89,
   "id": "c2f317c3-0353-4ca0-91cc-5d6601a339f8",
   "metadata": {
    "tags": []
   },
   "outputs": [
    {
     "data": {
      "text/html": [
       "<div>\n",
       "<style scoped>\n",
       "    .dataframe tbody tr th:only-of-type {\n",
       "        vertical-align: middle;\n",
       "    }\n",
       "\n",
       "    .dataframe tbody tr th {\n",
       "        vertical-align: top;\n",
       "    }\n",
       "\n",
       "    .dataframe thead th {\n",
       "        text-align: right;\n",
       "    }\n",
       "</style>\n",
       "<table border=\"1\" class=\"dataframe\">\n",
       "  <thead>\n",
       "    <tr style=\"text-align: right;\">\n",
       "      <th></th>\n",
       "      <th></th>\n",
       "      <th></th>\n",
       "      <th>COUNTByGender</th>\n",
       "      <th>ever_NEET</th>\n",
       "      <th>Persistent_NEET</th>\n",
       "    </tr>\n",
       "    <tr>\n",
       "      <th>AcademicYear</th>\n",
       "      <th>newGLD</th>\n",
       "      <th>Gender</th>\n",
       "      <th></th>\n",
       "      <th></th>\n",
       "      <th></th>\n",
       "    </tr>\n",
       "  </thead>\n",
       "  <tbody>\n",
       "    <tr>\n",
       "      <th rowspan=\"4\" valign=\"top\">2006/2007</th>\n",
       "      <th rowspan=\"2\" valign=\"top\">False</th>\n",
       "      <th>F</th>\n",
       "      <td>2273</td>\n",
       "      <td>214</td>\n",
       "      <td>96</td>\n",
       "    </tr>\n",
       "    <tr>\n",
       "      <th>M</th>\n",
       "      <td>3012</td>\n",
       "      <td>356</td>\n",
       "      <td>155</td>\n",
       "    </tr>\n",
       "    <tr>\n",
       "      <th rowspan=\"2\" valign=\"top\">True</th>\n",
       "      <th>F</th>\n",
       "      <td>1642</td>\n",
       "      <td>67</td>\n",
       "      <td>23</td>\n",
       "    </tr>\n",
       "    <tr>\n",
       "      <th>M</th>\n",
       "      <td>1271</td>\n",
       "      <td>52</td>\n",
       "      <td>22</td>\n",
       "    </tr>\n",
       "    <tr>\n",
       "      <th rowspan=\"4\" valign=\"top\">2007/2008</th>\n",
       "      <th rowspan=\"2\" valign=\"top\">False</th>\n",
       "      <th>F</th>\n",
       "      <td>14</td>\n",
       "      <td>0</td>\n",
       "      <td>0</td>\n",
       "    </tr>\n",
       "    <tr>\n",
       "      <th>M</th>\n",
       "      <td>16</td>\n",
       "      <td>0</td>\n",
       "      <td>0</td>\n",
       "    </tr>\n",
       "    <tr>\n",
       "      <th rowspan=\"2\" valign=\"top\">True</th>\n",
       "      <th>F</th>\n",
       "      <td>5</td>\n",
       "      <td>0</td>\n",
       "      <td>0</td>\n",
       "    </tr>\n",
       "    <tr>\n",
       "      <th>M</th>\n",
       "      <td>7</td>\n",
       "      <td>1</td>\n",
       "      <td>1</td>\n",
       "    </tr>\n",
       "  </tbody>\n",
       "</table>\n",
       "</div>"
      ],
      "text/plain": [
       "                            COUNTByGender  ever_NEET  Persistent_NEET\n",
       "AcademicYear newGLD Gender                                           \n",
       "2006/2007    False  F                2273        214               96\n",
       "                    M                3012        356              155\n",
       "             True   F                1642         67               23\n",
       "                    M                1271         52               22\n",
       "2007/2008    False  F                  14          0                0\n",
       "                    M                  16          0                0\n",
       "             True   F                   5          0                0\n",
       "                    M                   7          1                1"
      ]
     },
     "execution_count": 89,
     "metadata": {},
     "output_type": "execute_result"
    }
   ],
   "source": [
    "GraphingData = statutaryYears2007_2009.groupby(['AcademicYear','newGLD','Gender']).agg({\n",
    "    'Gender':'value_counts',\n",
    "    'ever_NEET':'sum',\n",
    "    'Persistent_NEET':'sum',\n",
    "    #'LSOA_name':'count'\n",
    "    #'newGLD':'value_counts',\n",
    "     }).rename(columns={'Gender':'COUNTByGender'})\n",
    "GraphingData   \n"
   ]
  },
  {
   "cell_type": "code",
   "execution_count": 90,
   "id": "0b9b2a93-ce50-4c3a-bce8-8e85f79b6b9b",
   "metadata": {},
   "outputs": [
    {
     "data": {
      "text/html": [
       "<div>\n",
       "<style scoped>\n",
       "    .dataframe tbody tr th:only-of-type {\n",
       "        vertical-align: middle;\n",
       "    }\n",
       "\n",
       "    .dataframe tbody tr th {\n",
       "        vertical-align: top;\n",
       "    }\n",
       "\n",
       "    .dataframe thead th {\n",
       "        text-align: right;\n",
       "    }\n",
       "</style>\n",
       "<table border=\"1\" class=\"dataframe\">\n",
       "  <thead>\n",
       "    <tr style=\"text-align: right;\">\n",
       "      <th></th>\n",
       "      <th></th>\n",
       "      <th>ever_NEET</th>\n",
       "      <th>Persistent_NEET</th>\n",
       "    </tr>\n",
       "    <tr>\n",
       "      <th>AcademicYear</th>\n",
       "      <th>newGLD</th>\n",
       "      <th></th>\n",
       "      <th></th>\n",
       "    </tr>\n",
       "  </thead>\n",
       "  <tbody>\n",
       "    <tr>\n",
       "      <th rowspan=\"2\" valign=\"top\">2006/2007</th>\n",
       "      <th>False</th>\n",
       "      <td>4715</td>\n",
       "      <td>5034</td>\n",
       "    </tr>\n",
       "    <tr>\n",
       "      <th>True</th>\n",
       "      <td>2794</td>\n",
       "      <td>2868</td>\n",
       "    </tr>\n",
       "    <tr>\n",
       "      <th rowspan=\"2\" valign=\"top\">2007/2008</th>\n",
       "      <th>False</th>\n",
       "      <td>30</td>\n",
       "      <td>30</td>\n",
       "    </tr>\n",
       "    <tr>\n",
       "      <th>True</th>\n",
       "      <td>11</td>\n",
       "      <td>11</td>\n",
       "    </tr>\n",
       "  </tbody>\n",
       "</table>\n",
       "</div>"
      ],
      "text/plain": [
       "                     ever_NEET  Persistent_NEET\n",
       "AcademicYear newGLD                            \n",
       "2006/2007    False        4715             5034\n",
       "             True         2794             2868\n",
       "2007/2008    False          30               30\n",
       "             True           11               11"
      ]
     },
     "execution_count": 90,
     "metadata": {},
     "output_type": "execute_result"
    }
   ],
   "source": [
    "GraphingNonNeetData = statutaryYears2007_2009.groupby(['AcademicYear','newGLD']).agg({\n",
    "   # 'Gender':'value_counts',\n",
    "    'ever_NEET':lambda x: (x==False).sum(),\n",
    "    'Persistent_NEET':lambda x: (x==False).sum(),\n",
    "    #'LSOA_name':'count'\n",
    "    #'newGLD':'value_counts',\n",
    "     }).rename(columns={'Gender':'COUNTByGender'})\n",
    "GraphingNonNeetData   \n",
    "\n"
   ]
  },
  {
   "cell_type": "code",
   "execution_count": 2,
   "id": "f17b7426-0e16-4602-a9e9-d7a0b1ed22d0",
   "metadata": {
    "tags": []
   },
   "outputs": [
    {
     "ename": "NameError",
     "evalue": "name 'statutaryYears2007_2009' is not defined",
     "output_type": "error",
     "traceback": [
      "\u001b[0;31m---------------------------------------------------------------------------\u001b[0m",
      "\u001b[0;31mNameError\u001b[0m                                 Traceback (most recent call last)",
      "Cell \u001b[0;32mIn[2], line 1\u001b[0m\n\u001b[0;32m----> 1\u001b[0m GraphingDataLSOA \u001b[38;5;241m=\u001b[39m \u001b[43mstatutaryYears2007_2009\u001b[49m\u001b[38;5;241m.\u001b[39mgroupby([\u001b[38;5;124m'\u001b[39m\u001b[38;5;124mAcademicYear\u001b[39m\u001b[38;5;124m'\u001b[39m,\u001b[38;5;124m'\u001b[39m\u001b[38;5;124mnewGLD\u001b[39m\u001b[38;5;124m'\u001b[39m,\u001b[38;5;124m'\u001b[39m\u001b[38;5;124mGender\u001b[39m\u001b[38;5;124m'\u001b[39m])\u001b[38;5;241m.\u001b[39magg({\n\u001b[1;32m      2\u001b[0m     \u001b[38;5;124m'\u001b[39m\u001b[38;5;124mGender\u001b[39m\u001b[38;5;124m'\u001b[39m:\u001b[38;5;124m'\u001b[39m\u001b[38;5;124mvalue_counts\u001b[39m\u001b[38;5;124m'\u001b[39m,\n\u001b[1;32m      3\u001b[0m     \u001b[38;5;66;03m#'ever_NEET':'sum',\u001b[39;00m\n\u001b[1;32m      4\u001b[0m     \u001b[38;5;66;03m#'Persistent_NEET':'sum',\u001b[39;00m\n\u001b[1;32m      5\u001b[0m     \u001b[38;5;124m'\u001b[39m\u001b[38;5;124mBradford_YN\u001b[39m\u001b[38;5;124m'\u001b[39m:\u001b[38;5;124m'\u001b[39m\u001b[38;5;124msum\u001b[39m\u001b[38;5;124m'\u001b[39m\n\u001b[1;32m      6\u001b[0m     \u001b[38;5;66;03m#'newGLD':'value_counts',\u001b[39;00m\n\u001b[1;32m      7\u001b[0m      })\u001b[38;5;241m.\u001b[39mrename(columns\u001b[38;5;241m=\u001b[39m{\u001b[38;5;124m'\u001b[39m\u001b[38;5;124mGender\u001b[39m\u001b[38;5;124m'\u001b[39m:\u001b[38;5;124m'\u001b[39m\u001b[38;5;124mCOUNTByGender\u001b[39m\u001b[38;5;124m'\u001b[39m})\n\u001b[1;32m      8\u001b[0m GraphingDataLSOA   \n",
      "\u001b[0;31mNameError\u001b[0m: name 'statutaryYears2007_2009' is not defined"
     ]
    }
   ],
   "source": [
    "GraphingDataLSOA = statutaryYears2007_2009.groupby(['AcademicYear','newGLD','Gender']).agg({\n",
    "    'Gender':'value_counts',\n",
    "    #'ever_NEET':'sum',\n",
    "    #'Persistent_NEET':'sum',\n",
    "    'Bradford_YN':'sum'\n",
    "    #'newGLD':'value_counts',\n",
    "     }).rename(columns={'Gender':'COUNTByGender'})\n",
    "GraphingDataLSOA   \n",
    "\n"
   ]
  },
  {
   "cell_type": "code",
   "execution_count": 3,
   "id": "655ab85b-38e1-42db-b77e-7cc35beb29e9",
   "metadata": {
    "tags": []
   },
   "outputs": [
    {
     "ename": "NameError",
     "evalue": "name 'GraphingData' is not defined",
     "output_type": "error",
     "traceback": [
      "\u001b[0;31m---------------------------------------------------------------------------\u001b[0m",
      "\u001b[0;31mNameError\u001b[0m                                 Traceback (most recent call last)",
      "Cell \u001b[0;32mIn[3], line 1\u001b[0m\n\u001b[0;32m----> 1\u001b[0m matrix \u001b[38;5;241m=\u001b[39m \u001b[43mGraphingData\u001b[49m\u001b[38;5;241m.\u001b[39mreset_index()\n\u001b[1;32m      2\u001b[0m \u001b[38;5;66;03m# plt.bar(X_axis + 0.8, GraphingData['ever_NEET'][2], 0.4, label = 'Female Ever Neet ')\u001b[39;00m\n\u001b[1;32m      3\u001b[0m \u001b[38;5;66;03m# plt.bar(X_axis + 1.2, GraphingData['ever_NEET'][3], 0.4, label = 'Male Ever Neet')\u001b[39;00m\n",
      "\u001b[0;31mNameError\u001b[0m: name 'GraphingData' is not defined"
     ]
    }
   ],
   "source": [
    "matrix = GraphingData.reset_index()\n",
    "# plt.bar(X_axis + 0.8, GraphingData['ever_NEET'][2], 0.4, label = 'Female Ever Neet ')\n",
    "# plt.bar(X_axis + 1.2, GraphingData['ever_NEET'][3], 0.4, label = 'Male Ever Neet')"
   ]
  },
  {
   "cell_type": "code",
   "execution_count": null,
   "id": "3f033218-c259-4f2a-b9e2-3382a8c25ff7",
   "metadata": {
    "tags": []
   },
   "outputs": [],
   "source": [
    "GLDTrueGenderData = matrix[(matrix['newGLD']==True)]\n",
    "GLDFalseGenderData = matrix[(matrix['newGLD']==False)]\n",
    "GLDTrueGenderData = GLDTrueGenderData.set_index(['AcademicYear','Gender'])\n",
    "print(GLDTrueGenderData)\n",
    "GLDFalseGenderData = GLDFalseGenderData.set_index(['AcademicYear','Gender'])\n",
    "print(GLDFalseGenderData)\n",
    "\n"
   ]
  },
  {
   "cell_type": "code",
   "execution_count": null,
   "id": "4af1abd3-fa5b-42bb-a60b-dfc46935ee9a",
   "metadata": {
    "tags": []
   },
   "outputs": [],
   "source": [
    "matrixLSOA = GraphingDataLSOA.reset_index()\n",
    "GLDTrueGenderDataLSOA = matrixLSOA[(matrixLSOA['newGLD']==True)]\n",
    "GLDFalseGenderDataLSOA = matrixLSOA[(matrixLSOA['newGLD']==False)]\n",
    "GLDTrueGenderDataLSOA = GLDTrueGenderDataLSOA.set_index(['AcademicYear','Gender'])\n",
    "print(GLDTrueGenderDataLSOA)\n",
    "GLDFalseGenderDataLSOA = GLDFalseGenderDataLSOA.set_index(['AcademicYear','Gender'])\n",
    "print(GLDFalseGenderDataLSOA)\n",
    "\n",
    "from matplotlib import ticker\n",
    "import matplotlib.pyplot as plt\n",
    "\n",
    "GLDFalseGenderDataLSOA.drop(GLDFalseGenderDataLSOA.tail(2).index,\n",
    "        inplace = True)\n",
    "lx=GLDFalseGenderDataLSOA.plot(kind='bar')\n",
    "plt.ylabel('Count of people from Bradford LSOA')\n",
    "\n",
    "plt.gca().yaxis.set_major_formatter(ticker.FormatStrFormatter('%.2f'))\n",
    "plt.gca().xaxis.set_tick_params(rotation=0)\n",
    "\n",
    "for bar in lx.patches:\n",
    "    height = bar.get_height()\n",
    "    lx.text(bar.get_x() + bar.get_width() / 2.0, height, f' {height:.2f}', fontsize=10,\n",
    "            ha='center')\n",
    "    lx.set_title(\"count of GLD non attainment based out of Bradford LSOA\")\n",
    "plt.tight_layout()\n",
    "plt.show()"
   ]
  },
  {
   "cell_type": "markdown",
   "id": "69684ade-5892-4934-b2d4-e4e02bf0f2a8",
   "metadata": {},
   "source": [
    "<div class=\"alert alert-block alert-info\">\n",
    "    <h3>\n",
    "        <div>\n",
    "    2006 - GLD True ->  2914 -Ever NEET ->119 =>4.07%-> Persistent NEET 1.54%  <br/>\n",
    "        -     Female-> 20.01% -> Ever NEET -> 2.2%-> Persistent NEET 0.79% <br/>\n",
    "        -     Male -> 15.50% -> Ever NEET -> 1.78%-> Persistent NEET 0.76% \n",
    "<br/>\n",
    "    2006 - GLD False-> 5290 - Ever NEET ->570 =>10.77%-> Persistent NEET 4.74%  <br/>\n",
    "        -     Female-> 27.74% -> Ever NEET -> 4.04% -> Persistent NEET 1.81% <br/>\n",
    "        -     Male -> 36.74% -> Ever NEET -> 6.72% -> Persistent NEET 2.92%  \n",
    "        </div>\n",
    "<br/>\n",
    "    2007 - GLD True ->  13 - Ever NEET ->1 => 7%\n",
    "<br/>\n",
    "    2007 - GLD False-> 39 - Ever NEET ->1 => 2.56%\n",
    "    </h3>\n",
    "</div>"
   ]
  },
  {
   "cell_type": "code",
   "execution_count": 4,
   "id": "d84846da-87ba-4f2b-837e-ad02c93130be",
   "metadata": {
    "tags": []
   },
   "outputs": [
    {
     "ename": "NameError",
     "evalue": "name 'GLDTrueGenderData' is not defined",
     "output_type": "error",
     "traceback": [
      "\u001b[0;31m---------------------------------------------------------------------------\u001b[0m",
      "\u001b[0;31mNameError\u001b[0m                                 Traceback (most recent call last)",
      "Cell \u001b[0;32mIn[4], line 4\u001b[0m\n\u001b[1;32m      1\u001b[0m \u001b[38;5;28;01mfrom\u001b[39;00m \u001b[38;5;21;01mmatplotlib\u001b[39;00m \u001b[38;5;28;01mimport\u001b[39;00m ticker\n\u001b[1;32m      2\u001b[0m \u001b[38;5;28;01mimport\u001b[39;00m \u001b[38;5;21;01mmatplotlib\u001b[39;00m\u001b[38;5;21;01m.\u001b[39;00m\u001b[38;5;21;01mpyplot\u001b[39;00m \u001b[38;5;28;01mas\u001b[39;00m \u001b[38;5;21;01mplt\u001b[39;00m\n\u001b[0;32m----> 4\u001b[0m \u001b[43mGLDTrueGenderData\u001b[49m\u001b[38;5;241m.\u001b[39mdrop(GLDTrueGenderData\u001b[38;5;241m.\u001b[39mtail(\u001b[38;5;241m2\u001b[39m)\u001b[38;5;241m.\u001b[39mindex,\n\u001b[1;32m      5\u001b[0m         inplace \u001b[38;5;241m=\u001b[39m \u001b[38;5;28;01mTrue\u001b[39;00m)\n\u001b[1;32m      6\u001b[0m ax\u001b[38;5;241m=\u001b[39mGLDTrueGenderData\u001b[38;5;241m.\u001b[39mplot(kind\u001b[38;5;241m=\u001b[39m\u001b[38;5;124m'\u001b[39m\u001b[38;5;124mbar\u001b[39m\u001b[38;5;124m'\u001b[39m)\n\u001b[1;32m      7\u001b[0m plt\u001b[38;5;241m.\u001b[39mylabel(\u001b[38;5;124m'\u001b[39m\u001b[38;5;124mGLD Status by Gender\u001b[39m\u001b[38;5;124m'\u001b[39m)\n",
      "\u001b[0;31mNameError\u001b[0m: name 'GLDTrueGenderData' is not defined"
     ]
    }
   ],
   "source": [
    "from matplotlib import ticker\n",
    "import matplotlib.pyplot as plt\n",
    "\n",
    "GLDTrueGenderData.drop(GLDTrueGenderData.tail(2).index,\n",
    "        inplace = True)\n",
    "ax=GLDTrueGenderData.plot(kind='bar')\n",
    "plt.ylabel('GLD Status by Gender')\n",
    "\n",
    "plt.gca().yaxis.set_major_formatter(ticker.FormatStrFormatter('%.2f'))\n",
    "plt.gca().xaxis.set_tick_params(rotation=0)\n",
    "\n",
    "for bar in ax.patches:\n",
    "    height = bar.get_height()\n",
    "    ax.text(bar.get_x() + bar.get_width() / 2.0, height, f' {height:.2f}', fontsize=10,\n",
    "            ha='center')\n",
    "    ax.set_title(\"count of GLD attainment True vs NEET based on Gender\")\n",
    "plt.tight_layout()\n",
    "plt.show()"
   ]
  },
  {
   "cell_type": "code",
   "execution_count": null,
   "id": "76fd0f77-69b1-4798-a006-2bcb54debeae",
   "metadata": {
    "tags": []
   },
   "outputs": [],
   "source": [
    "GLDFalseGenderData.drop(GLDFalseGenderData.tail(2).index,\n",
    "        inplace = True)\n",
    "\n",
    "\n",
    "bx=GLDFalseGenderData.plot(kind='bar')\n",
    "plt.ylabel('GLD Status by Gender')\n",
    "plt.gca().yaxis.set_major_formatter(ticker.FormatStrFormatter('%.2f'))\n",
    "plt.gca().xaxis.set_tick_params(rotation=0)\n",
    "\n",
    "for bar in bx.patches:\n",
    "    height = bar.get_height()\n",
    "    bx.text(bar.get_x() + bar.get_width() / 2.0, height, f' {height:.2f}', fontsize=10,\n",
    "            ha='center')\n",
    "    bx.set_title(\"count of GLD attainment False vs NEET based on Gender\")"
   ]
  },
  {
   "cell_type": "code",
   "execution_count": 5,
   "id": "1095223b-cee1-4afb-a7cd-b558c4e6e14f",
   "metadata": {
    "tags": []
   },
   "outputs": [
    {
     "ename": "NameError",
     "evalue": "name 'statutaryYears2007_2009' is not defined",
     "output_type": "error",
     "traceback": [
      "\u001b[0;31m---------------------------------------------------------------------------\u001b[0m",
      "\u001b[0;31mNameError\u001b[0m                                 Traceback (most recent call last)",
      "Cell \u001b[0;32mIn[5], line 1\u001b[0m\n\u001b[0;32m----> 1\u001b[0m corrDF \u001b[38;5;241m=\u001b[39m \u001b[43mstatutaryYears2007_2009\u001b[49m[[\u001b[38;5;124m'\u001b[39m\u001b[38;5;124mnewGLD\u001b[39m\u001b[38;5;124m'\u001b[39m,\u001b[38;5;124m'\u001b[39m\u001b[38;5;124mever_NEET\u001b[39m\u001b[38;5;124m'\u001b[39m,\u001b[38;5;124m'\u001b[39m\u001b[38;5;124mPersistent_NEET\u001b[39m\u001b[38;5;124m'\u001b[39m,\u001b[38;5;124m'\u001b[39m\u001b[38;5;124mPSEAS1\u001b[39m\u001b[38;5;124m'\u001b[39m,\u001b[38;5;124m'\u001b[39m\u001b[38;5;124mPSEAS2\u001b[39m\u001b[38;5;124m'\u001b[39m,\u001b[38;5;124m'\u001b[39m\u001b[38;5;124mPSEAS3\u001b[39m\u001b[38;5;124m'\u001b[39m,\u001b[38;5;124m'\u001b[39m\u001b[38;5;124mCLLAS1\u001b[39m\u001b[38;5;124m'\u001b[39m,\u001b[38;5;124m'\u001b[39m\u001b[38;5;124mCLLAS2\u001b[39m\u001b[38;5;124m'\u001b[39m,\u001b[38;5;124m'\u001b[39m\u001b[38;5;124mCLLAS3\u001b[39m\u001b[38;5;124m'\u001b[39m,\u001b[38;5;124m'\u001b[39m\u001b[38;5;124mCLLAS4\u001b[39m\u001b[38;5;124m'\u001b[39m,\u001b[38;5;124m'\u001b[39m\u001b[38;5;124mPSRNAS1\u001b[39m\u001b[38;5;124m'\u001b[39m,\u001b[38;5;124m'\u001b[39m\u001b[38;5;124mPSRNAS2\u001b[39m\u001b[38;5;124m'\u001b[39m,\u001b[38;5;124m'\u001b[39m\u001b[38;5;124mPSRNAS3\u001b[39m\u001b[38;5;124m'\u001b[39m,\u001b[38;5;124m'\u001b[39m\u001b[38;5;124mRKUW\u001b[39m\u001b[38;5;124m'\u001b[39m,\u001b[38;5;124m'\u001b[39m\u001b[38;5;124mRICD\u001b[39m\u001b[38;5;124m'\u001b[39m,\u001b[38;5;124m'\u001b[39m\u001b[38;5;124mRIPD\u001b[39m\u001b[38;5;124m'\u001b[39m,\u001b[38;5;124m'\u001b[39m\u001b[38;5;124mPSETotal\u001b[39m\u001b[38;5;124m'\u001b[39m,\u001b[38;5;124m'\u001b[39m\u001b[38;5;124mCLLTotal\u001b[39m\u001b[38;5;124m'\u001b[39m,\u001b[38;5;124m'\u001b[39m\u001b[38;5;124mPSRNTotal\u001b[39m\u001b[38;5;124m'\u001b[39m,\u001b[38;5;124m'\u001b[39m\u001b[38;5;124mEYFSPTotal\u001b[39m\u001b[38;5;124m'\u001b[39m]]\n\u001b[1;32m      3\u001b[0m pearson\u001b[38;5;241m=\u001b[39mcorrDF\u001b[38;5;241m.\u001b[39mcorr(method\u001b[38;5;241m=\u001b[39m\u001b[38;5;124m'\u001b[39m\u001b[38;5;124mpearson\u001b[39m\u001b[38;5;124m'\u001b[39m)\n\u001b[1;32m      4\u001b[0m pearson\n",
      "\u001b[0;31mNameError\u001b[0m: name 'statutaryYears2007_2009' is not defined"
     ]
    }
   ],
   "source": [
    "corrDF = statutaryYears2007_2009[['newGLD','ever_NEET','Persistent_NEET','PSEAS1','PSEAS2','PSEAS3','CLLAS1','CLLAS2','CLLAS3','CLLAS4','PSRNAS1','PSRNAS2','PSRNAS3','RKUW','RICD','RIPD','PSETotal','CLLTotal','PSRNTotal','EYFSPTotal']]\n",
    "\n",
    "pearson=corrDF.corr(method='pearson')\n",
    "pearson\n",
    "\n",
    "\n",
    "import matplotlib.pyplot as plt\n",
    "import seaborn as sns\n",
    "%matplotlib inline\n",
    "\n",
    "# Let's see the correlation matrix \n",
    "plt.figure(figsize = (20,10))        # Size of the figure\n",
    "sns.heatmap(corrDF.corr(method='pearson'),annot = True)\n",
    "plt.show()"
   ]
  },
  {
   "cell_type": "code",
   "execution_count": null,
   "id": "d0894d24-98e6-4aee-b8cd-c8faf07fa347",
   "metadata": {
    "tags": []
   },
   "outputs": [],
   "source": [
    "X=statutaryYears2007_2009[['RIPD','RICD','RKUW','PSETotal','CLLTotal','PSRNTotal','EYFSPTotal']]\n",
    "y=statutaryYears2007_2009[['newGLD']]\n",
    "### The data has to be divided in training and test set. \n",
    "from sklearn.model_selection import train_test_split \n",
    "X_train,X_test,y_train,y_test=train_test_split(X,y,test_size=0.35)"
   ]
  },
  {
   "cell_type": "code",
   "execution_count": null,
   "id": "9b2785d1-94f6-49da-b2f3-ffa9199ae83d",
   "metadata": {
    "tags": []
   },
   "outputs": [],
   "source": [
    "len(statutaryYears2007_2009)"
   ]
  },
  {
   "cell_type": "code",
   "execution_count": 6,
   "id": "8f703ada-7dcd-42a6-a60d-fef7607c719b",
   "metadata": {
    "tags": []
   },
   "outputs": [
    {
     "ename": "NameError",
     "evalue": "name 'GLDTrueGenderData' is not defined",
     "output_type": "error",
     "traceback": [
      "\u001b[0;31m---------------------------------------------------------------------------\u001b[0m",
      "\u001b[0;31mNameError\u001b[0m                                 Traceback (most recent call last)",
      "Cell \u001b[0;32mIn[6], line 1\u001b[0m\n\u001b[0;32m----> 1\u001b[0m GLDTrueData \u001b[38;5;241m=\u001b[39m \u001b[43mGLDTrueGenderData\u001b[49m\u001b[38;5;241m.\u001b[39mreset_index()\n\u001b[1;32m      2\u001b[0m GLDFalseData \u001b[38;5;241m=\u001b[39m GLDFalseGenderData\u001b[38;5;241m.\u001b[39mreset_index()\n\u001b[1;32m      3\u001b[0m GLDFalseData\n",
      "\u001b[0;31mNameError\u001b[0m: name 'GLDTrueGenderData' is not defined"
     ]
    }
   ],
   "source": [
    "GLDTrueData = GLDTrueGenderData.reset_index()\n",
    "GLDFalseData = GLDFalseGenderData.reset_index()\n",
    "GLDFalseData"
   ]
  },
  {
   "cell_type": "code",
   "execution_count": 7,
   "id": "d346f697-aa12-4cf2-bfa5-ce581e46b86e",
   "metadata": {
    "tags": []
   },
   "outputs": [
    {
     "ename": "NameError",
     "evalue": "name 'GLDFalseData' is not defined",
     "output_type": "error",
     "traceback": [
      "\u001b[0;31m---------------------------------------------------------------------------\u001b[0m",
      "\u001b[0;31mNameError\u001b[0m                                 Traceback (most recent call last)",
      "Cell \u001b[0;32mIn[7], line 1\u001b[0m\n\u001b[0;32m----> 1\u001b[0m GLDFailedCount \u001b[38;5;241m=\u001b[39m \u001b[43mGLDFalseData\u001b[49m\u001b[38;5;241m.\u001b[39mCOUNTByGender[\u001b[38;5;241m0\u001b[39m] \u001b[38;5;241m+\u001b[39m GLDFalseData\u001b[38;5;241m.\u001b[39mCOUNTByGender[\u001b[38;5;241m1\u001b[39m]\n\u001b[1;32m      2\u001b[0m GLDFailedCount\n",
      "\u001b[0;31mNameError\u001b[0m: name 'GLDFalseData' is not defined"
     ]
    }
   ],
   "source": [
    "GLDFailedCount = GLDFalseData.COUNTByGender[0] + GLDFalseData.COUNTByGender[1]\n",
    "GLDFailedCount"
   ]
  },
  {
   "cell_type": "code",
   "execution_count": 8,
   "id": "e6af4a46-5562-4fd3-ab48-75cd07d82621",
   "metadata": {
    "tags": []
   },
   "outputs": [
    {
     "ename": "NameError",
     "evalue": "name 'statutaryYears2007_2009' is not defined",
     "output_type": "error",
     "traceback": [
      "\u001b[0;31m---------------------------------------------------------------------------\u001b[0m",
      "\u001b[0;31mNameError\u001b[0m                                 Traceback (most recent call last)",
      "Cell \u001b[0;32mIn[8], line 3\u001b[0m\n\u001b[1;32m      1\u001b[0m \u001b[38;5;66;03m# Lets find out the number of students who has failed to attaintment condition\u001b[39;00m\n\u001b[0;32m----> 3\u001b[0m test_Fail_EYFSP \u001b[38;5;241m=\u001b[39m \u001b[43mstatutaryYears2007_2009\u001b[49m\u001b[38;5;241m.\u001b[39mgroupby([\u001b[38;5;124m'\u001b[39m\u001b[38;5;124mAcademicYear\u001b[39m\u001b[38;5;124m'\u001b[39m,\u001b[38;5;124m'\u001b[39m\u001b[38;5;124mnewGLD\u001b[39m\u001b[38;5;124m'\u001b[39m,\u001b[38;5;124m'\u001b[39m\u001b[38;5;124mGender\u001b[39m\u001b[38;5;124m'\u001b[39m])\u001b[38;5;241m.\u001b[39magg({\n\u001b[1;32m      4\u001b[0m     \u001b[38;5;124m'\u001b[39m\u001b[38;5;124mGender\u001b[39m\u001b[38;5;124m'\u001b[39m:\u001b[38;5;124m'\u001b[39m\u001b[38;5;124mcount\u001b[39m\u001b[38;5;124m'\u001b[39m, \n\u001b[1;32m      5\u001b[0m     \u001b[38;5;66;03m#'newGLD':lambda x: (x==False).sum(),\u001b[39;00m\n\u001b[1;32m      6\u001b[0m     \u001b[38;5;124m'\u001b[39m\u001b[38;5;124mever_NEET\u001b[39m\u001b[38;5;124m'\u001b[39m:\u001b[38;5;124m'\u001b[39m\u001b[38;5;124msum\u001b[39m\u001b[38;5;124m'\u001b[39m,\n\u001b[1;32m      7\u001b[0m     \u001b[38;5;124m'\u001b[39m\u001b[38;5;124mPersistent_NEET\u001b[39m\u001b[38;5;124m'\u001b[39m:\u001b[38;5;124m'\u001b[39m\u001b[38;5;124msum\u001b[39m\u001b[38;5;124m'\u001b[39m,\n\u001b[1;32m      8\u001b[0m     \u001b[38;5;124m'\u001b[39m\u001b[38;5;124mPSEAS1\u001b[39m\u001b[38;5;124m'\u001b[39m:\u001b[38;5;28;01mlambda\u001b[39;00m ts: (ts \u001b[38;5;241m<\u001b[39m \u001b[38;5;241m6\u001b[39m)\u001b[38;5;241m.\u001b[39msum(),\n\u001b[1;32m      9\u001b[0m     \u001b[38;5;124m'\u001b[39m\u001b[38;5;124mPSEAS2\u001b[39m\u001b[38;5;124m'\u001b[39m:\u001b[38;5;28;01mlambda\u001b[39;00m ts: (ts \u001b[38;5;241m<\u001b[39m \u001b[38;5;241m6\u001b[39m)\u001b[38;5;241m.\u001b[39msum(),\n\u001b[1;32m     10\u001b[0m     \u001b[38;5;124m'\u001b[39m\u001b[38;5;124mPSEAS3\u001b[39m\u001b[38;5;124m'\u001b[39m:\u001b[38;5;28;01mlambda\u001b[39;00m ts: (ts \u001b[38;5;241m<\u001b[39m \u001b[38;5;241m6\u001b[39m)\u001b[38;5;241m.\u001b[39msum(),\n\u001b[1;32m     11\u001b[0m    \u001b[38;5;66;03m# 'PSETotal': 'sum',\u001b[39;00m\n\u001b[1;32m     12\u001b[0m     \u001b[38;5;124m'\u001b[39m\u001b[38;5;124mCLLAS1\u001b[39m\u001b[38;5;124m'\u001b[39m:\u001b[38;5;28;01mlambda\u001b[39;00m ts: (ts \u001b[38;5;241m<\u001b[39m \u001b[38;5;241m6\u001b[39m)\u001b[38;5;241m.\u001b[39msum(),\n\u001b[1;32m     13\u001b[0m     \u001b[38;5;124m'\u001b[39m\u001b[38;5;124mCLLAS2\u001b[39m\u001b[38;5;124m'\u001b[39m:\u001b[38;5;28;01mlambda\u001b[39;00m ts: (ts \u001b[38;5;241m<\u001b[39m \u001b[38;5;241m6\u001b[39m)\u001b[38;5;241m.\u001b[39msum(),\n\u001b[1;32m     14\u001b[0m     \u001b[38;5;124m'\u001b[39m\u001b[38;5;124mCLLAS3\u001b[39m\u001b[38;5;124m'\u001b[39m:\u001b[38;5;28;01mlambda\u001b[39;00m ts: (ts \u001b[38;5;241m<\u001b[39m \u001b[38;5;241m6\u001b[39m)\u001b[38;5;241m.\u001b[39msum(),\n\u001b[1;32m     15\u001b[0m     \u001b[38;5;124m'\u001b[39m\u001b[38;5;124mCLLAS4\u001b[39m\u001b[38;5;124m'\u001b[39m:\u001b[38;5;28;01mlambda\u001b[39;00m ts: (ts \u001b[38;5;241m<\u001b[39m \u001b[38;5;241m6\u001b[39m)\u001b[38;5;241m.\u001b[39msum(),\n\u001b[1;32m     16\u001b[0m    \u001b[38;5;66;03m# 'CLLTotal':'sum',\u001b[39;00m\n\u001b[1;32m     17\u001b[0m     \u001b[38;5;124m'\u001b[39m\u001b[38;5;124mPSRNAS1\u001b[39m\u001b[38;5;124m'\u001b[39m:\u001b[38;5;28;01mlambda\u001b[39;00m ts: (ts \u001b[38;5;241m<\u001b[39m \u001b[38;5;241m6\u001b[39m)\u001b[38;5;241m.\u001b[39msum(),\n\u001b[1;32m     18\u001b[0m     \u001b[38;5;124m'\u001b[39m\u001b[38;5;124mPSRNAS2\u001b[39m\u001b[38;5;124m'\u001b[39m:\u001b[38;5;28;01mlambda\u001b[39;00m ts: (ts \u001b[38;5;241m<\u001b[39m \u001b[38;5;241m6\u001b[39m)\u001b[38;5;241m.\u001b[39msum(),\n\u001b[1;32m     19\u001b[0m     \u001b[38;5;124m'\u001b[39m\u001b[38;5;124mPSRNAS3\u001b[39m\u001b[38;5;124m'\u001b[39m:\u001b[38;5;28;01mlambda\u001b[39;00m ts: (ts \u001b[38;5;241m<\u001b[39m \u001b[38;5;241m6\u001b[39m)\u001b[38;5;241m.\u001b[39msum(),\n\u001b[1;32m     20\u001b[0m    \u001b[38;5;66;03m# 'PSRNTotal':lambda ts: (ts >= 6).sum(),\u001b[39;00m\n\u001b[1;32m     21\u001b[0m     \u001b[38;5;124m'\u001b[39m\u001b[38;5;124mRKUW\u001b[39m\u001b[38;5;124m'\u001b[39m:\u001b[38;5;28;01mlambda\u001b[39;00m ts: (ts \u001b[38;5;241m<\u001b[39m \u001b[38;5;241m6\u001b[39m)\u001b[38;5;241m.\u001b[39msum(),\n\u001b[1;32m     22\u001b[0m     \u001b[38;5;124m'\u001b[39m\u001b[38;5;124mRIPD\u001b[39m\u001b[38;5;124m'\u001b[39m:\u001b[38;5;28;01mlambda\u001b[39;00m ts: (ts \u001b[38;5;241m<\u001b[39m \u001b[38;5;241m6\u001b[39m)\u001b[38;5;241m.\u001b[39msum(),\n\u001b[1;32m     23\u001b[0m     \u001b[38;5;124m'\u001b[39m\u001b[38;5;124mRICD\u001b[39m\u001b[38;5;124m'\u001b[39m:\u001b[38;5;28;01mlambda\u001b[39;00m ts: (ts \u001b[38;5;241m<\u001b[39m \u001b[38;5;241m6\u001b[39m)\u001b[38;5;241m.\u001b[39msum(),\n\u001b[1;32m     24\u001b[0m     \u001b[38;5;124m'\u001b[39m\u001b[38;5;124mEYFSPTotal\u001b[39m\u001b[38;5;124m'\u001b[39m:\u001b[38;5;28;01mlambda\u001b[39;00m ts: (ts \u001b[38;5;241m<\u001b[39m\u001b[38;5;241m78\u001b[39m )\u001b[38;5;241m.\u001b[39msum()\n\u001b[1;32m     25\u001b[0m     })\u001b[38;5;241m.\u001b[39mrename(columns\u001b[38;5;241m=\u001b[39m{\u001b[38;5;124m'\u001b[39m\u001b[38;5;124mGender\u001b[39m\u001b[38;5;124m'\u001b[39m:\u001b[38;5;124m'\u001b[39m\u001b[38;5;124mCOUNTByGender\u001b[39m\u001b[38;5;124m'\u001b[39m})\n\u001b[1;32m     27\u001b[0m test_Fail_EYFSP\n",
      "\u001b[0;31mNameError\u001b[0m: name 'statutaryYears2007_2009' is not defined"
     ]
    }
   ],
   "source": [
    "# Lets find out the number of students who has failed to attaintment condition\n",
    "\n",
    "test_Fail_EYFSP = statutaryYears2007_2009.groupby(['AcademicYear','newGLD','Gender']).agg({\n",
    "    'Gender':'count', \n",
    "    #'newGLD':lambda x: (x==False).sum(),\n",
    "    'ever_NEET':'sum',\n",
    "    'Persistent_NEET':'sum',\n",
    "    'PSEAS1':lambda ts: (ts < 6).sum(),\n",
    "    'PSEAS2':lambda ts: (ts < 6).sum(),\n",
    "    'PSEAS3':lambda ts: (ts < 6).sum(),\n",
    "   # 'PSETotal': 'sum',\n",
    "    'CLLAS1':lambda ts: (ts < 6).sum(),\n",
    "    'CLLAS2':lambda ts: (ts < 6).sum(),\n",
    "    'CLLAS3':lambda ts: (ts < 6).sum(),\n",
    "    'CLLAS4':lambda ts: (ts < 6).sum(),\n",
    "   # 'CLLTotal':'sum',\n",
    "    'PSRNAS1':lambda ts: (ts < 6).sum(),\n",
    "    'PSRNAS2':lambda ts: (ts < 6).sum(),\n",
    "    'PSRNAS3':lambda ts: (ts < 6).sum(),\n",
    "   # 'PSRNTotal':lambda ts: (ts >= 6).sum(),\n",
    "    'RKUW':lambda ts: (ts < 6).sum(),\n",
    "    'RIPD':lambda ts: (ts < 6).sum(),\n",
    "    'RICD':lambda ts: (ts < 6).sum(),\n",
    "    'EYFSPTotal':lambda ts: (ts <78 ).sum()\n",
    "    }).rename(columns={'Gender':'COUNTByGender'})\n",
    "\n",
    "test_Fail_EYFSP\n",
    "\n"
   ]
  },
  {
   "cell_type": "code",
   "execution_count": 9,
   "id": "0e0e2927-5f64-486b-8e72-0ef8dc5cd4ff",
   "metadata": {
    "tags": []
   },
   "outputs": [
    {
     "ename": "NameError",
     "evalue": "name 'statutaryYears2007_2009' is not defined",
     "output_type": "error",
     "traceback": [
      "\u001b[0;31m---------------------------------------------------------------------------\u001b[0m",
      "\u001b[0;31mNameError\u001b[0m                                 Traceback (most recent call last)",
      "Cell \u001b[0;32mIn[9], line 3\u001b[0m\n\u001b[1;32m      1\u001b[0m \u001b[38;5;66;03m# Lets find out the number of students who has failed to attaintment condition\u001b[39;00m\n\u001b[0;32m----> 3\u001b[0m statsCountNEET \u001b[38;5;241m=\u001b[39m \u001b[43mstatutaryYears2007_2009\u001b[49m\u001b[38;5;241m.\u001b[39mgroupby([\u001b[38;5;124m'\u001b[39m\u001b[38;5;124mAcademicYear\u001b[39m\u001b[38;5;124m'\u001b[39m, \u001b[38;5;124m'\u001b[39m\u001b[38;5;124mnewGLD\u001b[39m\u001b[38;5;124m'\u001b[39m])\u001b[38;5;241m.\u001b[39magg({ \n\u001b[1;32m      4\u001b[0m     \u001b[38;5;66;03m#'newGLD':lambda x: (x==False).sum(),\u001b[39;00m\n\u001b[1;32m      5\u001b[0m     \u001b[38;5;124m'\u001b[39m\u001b[38;5;124mever_NEET\u001b[39m\u001b[38;5;124m'\u001b[39m:\u001b[38;5;28;01mlambda\u001b[39;00m x: (x\u001b[38;5;241m==\u001b[39m\u001b[38;5;28;01mTrue\u001b[39;00m)\u001b[38;5;241m.\u001b[39msum(),\n\u001b[1;32m      6\u001b[0m     \u001b[38;5;124m'\u001b[39m\u001b[38;5;124mPersistent_NEET\u001b[39m\u001b[38;5;124m'\u001b[39m: \u001b[38;5;28;01mlambda\u001b[39;00m x: (x\u001b[38;5;241m==\u001b[39m\u001b[38;5;28;01mTrue\u001b[39;00m)\u001b[38;5;241m.\u001b[39msum(),\n\u001b[1;32m      7\u001b[0m     \u001b[38;5;124m'\u001b[39m\u001b[38;5;124mPSEAS1\u001b[39m\u001b[38;5;124m'\u001b[39m:\u001b[38;5;28;01mlambda\u001b[39;00m ts: (ts \u001b[38;5;241m<\u001b[39m \u001b[38;5;241m6\u001b[39m)\u001b[38;5;241m.\u001b[39msum(),\n\u001b[1;32m      8\u001b[0m     \u001b[38;5;124m'\u001b[39m\u001b[38;5;124mPSEAS2\u001b[39m\u001b[38;5;124m'\u001b[39m:\u001b[38;5;28;01mlambda\u001b[39;00m ts: (ts \u001b[38;5;241m<\u001b[39m \u001b[38;5;241m6\u001b[39m)\u001b[38;5;241m.\u001b[39msum(),\n\u001b[1;32m      9\u001b[0m     \u001b[38;5;124m'\u001b[39m\u001b[38;5;124mPSEAS3\u001b[39m\u001b[38;5;124m'\u001b[39m:\u001b[38;5;28;01mlambda\u001b[39;00m ts: (ts \u001b[38;5;241m<\u001b[39m \u001b[38;5;241m6\u001b[39m)\u001b[38;5;241m.\u001b[39msum(),\n\u001b[1;32m     10\u001b[0m    \u001b[38;5;66;03m# 'PSETotal': 'sum',\u001b[39;00m\n\u001b[1;32m     11\u001b[0m     \u001b[38;5;124m'\u001b[39m\u001b[38;5;124mCLLAS1\u001b[39m\u001b[38;5;124m'\u001b[39m:\u001b[38;5;28;01mlambda\u001b[39;00m ts: (ts \u001b[38;5;241m<\u001b[39m \u001b[38;5;241m6\u001b[39m)\u001b[38;5;241m.\u001b[39msum(),\n\u001b[1;32m     12\u001b[0m     \u001b[38;5;124m'\u001b[39m\u001b[38;5;124mCLLAS2\u001b[39m\u001b[38;5;124m'\u001b[39m:\u001b[38;5;28;01mlambda\u001b[39;00m ts: (ts \u001b[38;5;241m<\u001b[39m \u001b[38;5;241m6\u001b[39m)\u001b[38;5;241m.\u001b[39msum(),\n\u001b[1;32m     13\u001b[0m     \u001b[38;5;124m'\u001b[39m\u001b[38;5;124mCLLAS3\u001b[39m\u001b[38;5;124m'\u001b[39m:\u001b[38;5;28;01mlambda\u001b[39;00m ts: (ts \u001b[38;5;241m<\u001b[39m \u001b[38;5;241m6\u001b[39m)\u001b[38;5;241m.\u001b[39msum(),\n\u001b[1;32m     14\u001b[0m     \u001b[38;5;124m'\u001b[39m\u001b[38;5;124mCLLAS4\u001b[39m\u001b[38;5;124m'\u001b[39m:\u001b[38;5;28;01mlambda\u001b[39;00m ts: (ts \u001b[38;5;241m<\u001b[39m \u001b[38;5;241m6\u001b[39m)\u001b[38;5;241m.\u001b[39msum(),\n\u001b[1;32m     15\u001b[0m    \u001b[38;5;66;03m# 'CLLTotal':'sum',\u001b[39;00m\n\u001b[1;32m     16\u001b[0m     \u001b[38;5;124m'\u001b[39m\u001b[38;5;124mPSRNAS1\u001b[39m\u001b[38;5;124m'\u001b[39m:\u001b[38;5;28;01mlambda\u001b[39;00m ts: (ts \u001b[38;5;241m<\u001b[39m \u001b[38;5;241m6\u001b[39m)\u001b[38;5;241m.\u001b[39msum(),\n\u001b[1;32m     17\u001b[0m     \u001b[38;5;124m'\u001b[39m\u001b[38;5;124mPSRNAS2\u001b[39m\u001b[38;5;124m'\u001b[39m:\u001b[38;5;28;01mlambda\u001b[39;00m ts: (ts \u001b[38;5;241m<\u001b[39m \u001b[38;5;241m6\u001b[39m)\u001b[38;5;241m.\u001b[39msum(),\n\u001b[1;32m     18\u001b[0m     \u001b[38;5;124m'\u001b[39m\u001b[38;5;124mPSRNAS3\u001b[39m\u001b[38;5;124m'\u001b[39m:\u001b[38;5;28;01mlambda\u001b[39;00m ts: (ts \u001b[38;5;241m<\u001b[39m \u001b[38;5;241m6\u001b[39m)\u001b[38;5;241m.\u001b[39msum(),\n\u001b[1;32m     19\u001b[0m    \u001b[38;5;66;03m# 'PSRNTotal':lambda ts: (ts >= 6).sum(),\u001b[39;00m\n\u001b[1;32m     20\u001b[0m     \u001b[38;5;124m'\u001b[39m\u001b[38;5;124mRKUW\u001b[39m\u001b[38;5;124m'\u001b[39m:\u001b[38;5;28;01mlambda\u001b[39;00m ts: (ts \u001b[38;5;241m<\u001b[39m \u001b[38;5;241m6\u001b[39m)\u001b[38;5;241m.\u001b[39msum(),\n\u001b[1;32m     21\u001b[0m     \u001b[38;5;124m'\u001b[39m\u001b[38;5;124mRIPD\u001b[39m\u001b[38;5;124m'\u001b[39m:\u001b[38;5;28;01mlambda\u001b[39;00m ts: (ts \u001b[38;5;241m<\u001b[39m \u001b[38;5;241m6\u001b[39m)\u001b[38;5;241m.\u001b[39msum(),\n\u001b[1;32m     22\u001b[0m     \u001b[38;5;124m'\u001b[39m\u001b[38;5;124mRICD\u001b[39m\u001b[38;5;124m'\u001b[39m:\u001b[38;5;28;01mlambda\u001b[39;00m ts: (ts \u001b[38;5;241m<\u001b[39m \u001b[38;5;241m6\u001b[39m)\u001b[38;5;241m.\u001b[39msum(),\n\u001b[1;32m     23\u001b[0m     \u001b[38;5;124m'\u001b[39m\u001b[38;5;124mEYFSPTotal\u001b[39m\u001b[38;5;124m'\u001b[39m:\u001b[38;5;28;01mlambda\u001b[39;00m ts: (ts \u001b[38;5;241m<\u001b[39m\u001b[38;5;241m78\u001b[39m )\u001b[38;5;241m.\u001b[39msum()\n\u001b[1;32m     24\u001b[0m     })\n\u001b[1;32m     25\u001b[0m \u001b[38;5;66;03m#.rename(columns={'Gender':'COUNTByGender'})\u001b[39;00m\n\u001b[1;32m     27\u001b[0m statsCountNEET\n",
      "\u001b[0;31mNameError\u001b[0m: name 'statutaryYears2007_2009' is not defined"
     ]
    }
   ],
   "source": [
    "# Lets find out the number of students who has failed to attaintment condition\n",
    "\n",
    "statsCountNEET = statutaryYears2007_2009.groupby(['AcademicYear', 'newGLD']).agg({ \n",
    "    #'newGLD':lambda x: (x==False).sum(),\n",
    "    'ever_NEET':lambda x: (x==True).sum(),\n",
    "    'Persistent_NEET': lambda x: (x==True).sum(),\n",
    "    'PSEAS1':lambda ts: (ts < 6).sum(),\n",
    "    'PSEAS2':lambda ts: (ts < 6).sum(),\n",
    "    'PSEAS3':lambda ts: (ts < 6).sum(),\n",
    "   # 'PSETotal': 'sum',\n",
    "    'CLLAS1':lambda ts: (ts < 6).sum(),\n",
    "    'CLLAS2':lambda ts: (ts < 6).sum(),\n",
    "    'CLLAS3':lambda ts: (ts < 6).sum(),\n",
    "    'CLLAS4':lambda ts: (ts < 6).sum(),\n",
    "   # 'CLLTotal':'sum',\n",
    "    'PSRNAS1':lambda ts: (ts < 6).sum(),\n",
    "    'PSRNAS2':lambda ts: (ts < 6).sum(),\n",
    "    'PSRNAS3':lambda ts: (ts < 6).sum(),\n",
    "   # 'PSRNTotal':lambda ts: (ts >= 6).sum(),\n",
    "    'RKUW':lambda ts: (ts < 6).sum(),\n",
    "    'RIPD':lambda ts: (ts < 6).sum(),\n",
    "    'RICD':lambda ts: (ts < 6).sum(),\n",
    "    'EYFSPTotal':lambda ts: (ts <78 ).sum()\n",
    "    })\n",
    "#.rename(columns={'Gender':'COUNTByGender'})\n",
    "\n",
    "statsCountNEET\n",
    "\n",
    "\n"
   ]
  },
  {
   "cell_type": "code",
   "execution_count": 10,
   "id": "0e13a844-c539-4b64-b296-a6ec12f8ab7d",
   "metadata": {
    "tags": []
   },
   "outputs": [
    {
     "ename": "NameError",
     "evalue": "name 'test_Fail_EYFSP' is not defined",
     "output_type": "error",
     "traceback": [
      "\u001b[0;31m---------------------------------------------------------------------------\u001b[0m",
      "\u001b[0;31mNameError\u001b[0m                                 Traceback (most recent call last)",
      "Cell \u001b[0;32mIn[10], line 1\u001b[0m\n\u001b[0;32m----> 1\u001b[0m sumval \u001b[38;5;241m=\u001b[39m (\u001b[43mtest_Fail_EYFSP\u001b[49m\u001b[38;5;241m/\u001b[39m\u001b[38;5;241m5285\u001b[39m)\u001b[38;5;241m*\u001b[39m\u001b[38;5;241m100\u001b[39m\n\u001b[1;32m      2\u001b[0m sumval\n",
      "\u001b[0;31mNameError\u001b[0m: name 'test_Fail_EYFSP' is not defined"
     ]
    }
   ],
   "source": [
    "sumval = (test_Fail_EYFSP/5285)*100\n",
    "sumval"
   ]
  },
  {
   "cell_type": "code",
   "execution_count": 11,
   "id": "5623a776-7478-4321-9a25-9831e0ec214e",
   "metadata": {
    "tags": []
   },
   "outputs": [
    {
     "ename": "NameError",
     "evalue": "name 'statsCountNEET' is not defined",
     "output_type": "error",
     "traceback": [
      "\u001b[0;31m---------------------------------------------------------------------------\u001b[0m",
      "\u001b[0;31mNameError\u001b[0m                                 Traceback (most recent call last)",
      "Cell \u001b[0;32mIn[11], line 1\u001b[0m\n\u001b[0;32m----> 1\u001b[0m sumvalALL \u001b[38;5;241m=\u001b[39m (\u001b[43mstatsCountNEET\u001b[49m\u001b[38;5;241m/\u001b[39m\u001b[38;5;241m5285\u001b[39m)\u001b[38;5;241m*\u001b[39m\u001b[38;5;241m100\u001b[39m\n\u001b[1;32m      2\u001b[0m sumvalALL\n",
      "\u001b[0;31mNameError\u001b[0m: name 'statsCountNEET' is not defined"
     ]
    }
   ],
   "source": [
    "sumvalALL = (statsCountNEET/5285)*100\n",
    "sumvalALL"
   ]
  },
  {
   "cell_type": "code",
   "execution_count": 12,
   "id": "f7a3614b-1fc7-49fc-bb60-6a3349d005c6",
   "metadata": {
    "tags": []
   },
   "outputs": [
    {
     "ename": "NameError",
     "evalue": "name 'sumval' is not defined",
     "output_type": "error",
     "traceback": [
      "\u001b[0;31m---------------------------------------------------------------------------\u001b[0m",
      "\u001b[0;31mNameError\u001b[0m                                 Traceback (most recent call last)",
      "Cell \u001b[0;32mIn[12], line 1\u001b[0m\n\u001b[0;32m----> 1\u001b[0m genderPercentOver \u001b[38;5;241m=\u001b[39m \u001b[43msumval\u001b[49m\u001b[38;5;241m.\u001b[39mreset_index()\n\u001b[1;32m      2\u001b[0m genderPercentOver\u001b[38;5;241m.\u001b[39mdrop(genderPercentOver\u001b[38;5;241m.\u001b[39mtail(\u001b[38;5;241m4\u001b[39m)\u001b[38;5;241m.\u001b[39mindex,\n\u001b[1;32m      3\u001b[0m         inplace \u001b[38;5;241m=\u001b[39m \u001b[38;5;28;01mTrue\u001b[39;00m)\n\u001b[1;32m      4\u001b[0m genderPercentOverFemale \u001b[38;5;241m=\u001b[39m genderPercentOver\u001b[38;5;241m.\u001b[39mquery(\u001b[38;5;124m\"\u001b[39m\u001b[38;5;124mnewGLD == False & Gender.str.contains(\u001b[39m\u001b[38;5;124m'\u001b[39m\u001b[38;5;124mF\u001b[39m\u001b[38;5;124m'\u001b[39m\u001b[38;5;124m)\u001b[39m\u001b[38;5;124m\"\u001b[39m)\n",
      "\u001b[0;31mNameError\u001b[0m: name 'sumval' is not defined"
     ]
    }
   ],
   "source": [
    "genderPercentOver = sumval.reset_index()\n",
    "genderPercentOver.drop(genderPercentOver.tail(4).index,\n",
    "        inplace = True)\n",
    "genderPercentOverFemale = genderPercentOver.query(\"newGLD == False & Gender.str.contains('F')\")\n",
    "genderPercentOverMale = genderPercentOver.query(\"newGLD == False & Gender.str.contains('M')\")\n",
    "\n",
    "#labels1 = ['PSEAS1','PSEAS2','PSEAS3','CLLAS1','CLLAS2','CLLAS3','CLLAS4','PSRNAS1','PSRNAS2','PSRNAS3','RKUW','RICD','RIPD']\n",
    "genderPercentOverFemale= genderPercentOverFemale[['ever_NEET','Persistent_NEET','PSEAS1','PSEAS2','PSEAS3','CLLAS1','CLLAS2','CLLAS3','CLLAS4','PSRNAS1','PSRNAS2','PSRNAS3','RKUW','RICD','RIPD']]\n",
    "genderPercentOverMale= genderPercentOverMale[['ever_NEET','Persistent_NEET','PSEAS1','PSEAS2','PSEAS3','CLLAS1','CLLAS2','CLLAS3','CLLAS4','PSRNAS1','PSRNAS2','PSRNAS3','RKUW','RICD','RIPD']]\n",
    "genderPercentOverMale\n"
   ]
  },
  {
   "cell_type": "code",
   "execution_count": null,
   "id": "11188d7a-7466-4be4-a81b-aa99a09799ce",
   "metadata": {
    "tags": []
   },
   "outputs": [],
   "source": [
    "PercentOver = sumvalALL.reset_index()\n",
    "PercentOver.drop(PercentOver.tail(2).index,\n",
    "        inplace = True)\n",
    "PercentOverGP = PercentOver.query(\"newGLD == False\")\n",
    "PercentOverGP= PercentOverGP[['newGLD','ever_NEET','Persistent_NEET','PSEAS1','PSEAS2','PSEAS3','CLLAS1','CLLAS2','CLLAS3','CLLAS4','PSRNAS1','PSRNAS2','PSRNAS3','RKUW','RICD','RIPD']]\n",
    "PercentOverGP = PercentOverGP.rename(columns={'PSEAS1':'Personal Social Emotional - readiness Classroom',\n",
    "                      'PSEAS2':'Personal Social Emotional - readiness Relationship',\n",
    "                      'PSEAS3':'Personal Social Emotional - readiness Expressive',\n",
    "                      'CLLAS1':'Communication, language, literacy - Listening',\n",
    "                      'CLLAS2':'Communication, language, literacy - Reading',\n",
    "                      'CLLAS3':'Communication, language, literacy - Reading Books',\n",
    "                      'CLLAS4':'Communication, language, literacy - Communication',\n",
    "                      'PSRNAS1':'Problem solving Reasoning and Numeracy - Counting',\n",
    "                      'PSRNAS2':'Problem solving Reasoning and Numeracy - Recognition',\n",
    "                      'PSRNAS3':'Problem solving Reasoning and Numeracy - Practicing',\n",
    "                      'RKUW':'Understanding of the World',\n",
    "                      'RIPD':'Physical Development',\n",
    "                      'RICD':'Creative Development'})"
   ]
  },
  {
   "cell_type": "code",
   "execution_count": 13,
   "id": "44bf3a8e-a386-4d43-8291-0a0919350618",
   "metadata": {
    "tags": []
   },
   "outputs": [
    {
     "ename": "NameError",
     "evalue": "name 'PercentOverGP' is not defined",
     "output_type": "error",
     "traceback": [
      "\u001b[0;31m---------------------------------------------------------------------------\u001b[0m",
      "\u001b[0;31mNameError\u001b[0m                                 Traceback (most recent call last)",
      "Cell \u001b[0;32mIn[13], line 6\u001b[0m\n\u001b[1;32m      3\u001b[0m \u001b[38;5;28;01mimport\u001b[39;00m \u001b[38;5;21;01mmatplotlib\u001b[39;00m\u001b[38;5;21;01m.\u001b[39;00m\u001b[38;5;21;01mpyplot\u001b[39;00m \u001b[38;5;28;01mas\u001b[39;00m \u001b[38;5;21;01mplt\u001b[39;00m\n\u001b[1;32m      4\u001b[0m \u001b[38;5;28;01mimport\u001b[39;00m \u001b[38;5;21;01mpandas\u001b[39;00m \u001b[38;5;28;01mas\u001b[39;00m \u001b[38;5;21;01mpd\u001b[39;00m\n\u001b[0;32m----> 6\u001b[0m tfs \u001b[38;5;241m=\u001b[39m \u001b[43mPercentOverGP\u001b[49m\n\u001b[1;32m      7\u001b[0m tfs1 \u001b[38;5;241m=\u001b[39m pd\u001b[38;5;241m.\u001b[39mmelt(tfs, id_vars \u001b[38;5;241m=\u001b[39m \u001b[38;5;124m\"\u001b[39m\u001b[38;5;124mnewGLD\u001b[39m\u001b[38;5;124m\"\u001b[39m)\n\u001b[1;32m      9\u001b[0m tfs1 \u001b[38;5;241m=\u001b[39m tfs1\u001b[38;5;241m.\u001b[39mrename(columns\u001b[38;5;241m=\u001b[39m{\u001b[38;5;124m\"\u001b[39m\u001b[38;5;124mvariable\u001b[39m\u001b[38;5;124m\"\u001b[39m: \u001b[38;5;124m\"\u001b[39m\u001b[38;5;124mNEET and Domains\u001b[39m\u001b[38;5;124m\"\u001b[39m})\n",
      "\u001b[0;31mNameError\u001b[0m: name 'PercentOverGP' is not defined"
     ]
    }
   ],
   "source": [
    "# import libraries\n",
    "import seaborn as sns\n",
    "import matplotlib.pyplot as plt\n",
    "import pandas as pd\n",
    "\n",
    "tfs = PercentOverGP\n",
    "tfs1 = pd.melt(tfs, id_vars = \"newGLD\")\n",
    "\n",
    "tfs1 = tfs1.rename(columns={\"variable\": \"NEET and Domains\"})\n",
    "\n",
    "g=sns.catplot(x = 'newGLD', y='value',hue = 'NEET and Domains',data=tfs1, kind='bar', width = 1, legend=True, height=6, aspect=2, palette = 'pastel')\n",
    "ax = g.facet_axis(0, 0)  # or ax = g.axes.flat[0]\n",
    "\n",
    "# iterate through the axes containers\n",
    "for c in ax.containers:\n",
    "    labels = [f'{(v.get_height() ):.1f}' for v in c]\n",
    "    ax.bar_label(c, labels=labels, label_type='edge')\n",
    "#sns.despine()\n",
    "plt.title(\"GLD Failed percenatge w.r.t NEET and Domains\")\n",
    "plt.xlabel(\"Percentage failure in Good Level of Development Domain wise\")\n",
    "#plt.xticks(rotation=90)\n",
    "plt.show()\n",
    "\n",
    "\n"
   ]
  },
  {
   "cell_type": "code",
   "execution_count": null,
   "id": "1360412f-5d46-4aac-8460-257e4a6dbb57",
   "metadata": {
    "tags": []
   },
   "outputs": [],
   "source": [
    "from matplotlib import ticker\n",
    "import matplotlib.pyplot as plt\n",
    "\n",
    "plt.style.use('ggplot')\n",
    "fig, (ax1,ax2) = plt.subplots(nrows=1,ncols=2,figsize=(24,12))\n",
    "plt.subplots_adjust(wspace=0.2)\n",
    "\n",
    "genderPercentOverFemale.plot(kind='bar',ax=ax1)\n",
    "ax1.set_ylabel('subject by percentages')\n",
    "\n",
    "for bar in ax1.patches:\n",
    "    height = bar.get_height()\n",
    "    ax1.text(bar.get_x() + bar.get_width() / 2.0, height, f' {height:.2f}', fontsize=12,\n",
    "            ha='center')\n",
    "    ax1.set_title(\"Percentage of GLD non attainment by Female\")\n",
    "    \n",
    "\n",
    "genderPercentOverMale.plot(kind='bar', ax=ax2)\n",
    "ax2.set_ylabel('subject by percentages')\n",
    "for bar in ax2.patches:\n",
    "    height = bar.get_height()\n",
    "    ax2.text(bar.get_x() + bar.get_width() / 2.0, height, f' {height:.2f}', fontsize=12,\n",
    "            ha='center')\n",
    "    ax2.set_title(\"Percentage of GLD non attainment by Male\")\n",
    "    \n",
    "plt.show() \n",
    " "
   ]
  },
  {
   "cell_type": "code",
   "execution_count": null,
   "id": "62a529e3-192f-4684-b05c-52cd5c349d8b",
   "metadata": {
    "tags": []
   },
   "outputs": [],
   "source": [
    "#overall = test_Fail_EYFSP.groupby(level=0).transform('sum')\n",
    "# overall = sumval.groupby(level=0).transform('sum')\n",
    "# overall"
   ]
  },
  {
   "cell_type": "code",
   "execution_count": null,
   "id": "01f170a3-b77a-4697-a6c3-64be96ccf9ab",
   "metadata": {
    "tags": []
   },
   "outputs": [],
   "source": [
    "# Lets find out the number of students who has failed to attaintment condition\n",
    "\n",
    "test_Fail_EYFSP_all = statutaryYears2007_2009.groupby(['AcademicYear', 'newGLD']).agg({\n",
    "   # 'newGLD':lambda x: (x==False).sum(),\n",
    "    'ever_NEET':'sum',\n",
    "    'Persistent_NEET':'sum',\n",
    "    'PSEAS1':lambda ts: (ts < 6).sum(),\n",
    "    'PSEAS2':lambda ts: (ts < 6).sum(),\n",
    "    'PSEAS3':lambda ts: (ts < 6).sum(),\n",
    "   # 'PSETotal': 'sum',\n",
    "    'CLLAS1':lambda ts: (ts < 6).sum(),\n",
    "    'CLLAS2':lambda ts: (ts < 6).sum(),\n",
    "    'CLLAS3':lambda ts: (ts < 6).sum(),\n",
    "    'CLLAS4':lambda ts: (ts < 6).sum(),\n",
    "   # 'CLLTotal':'sum',\n",
    "    'PSRNAS1':lambda ts: (ts < 6).sum(),\n",
    "    'PSRNAS2':lambda ts: (ts < 6).sum(),\n",
    "    'PSRNAS3':lambda ts: (ts < 6).sum(),\n",
    "   # 'PSRNTotal':lambda ts: (ts >= 6).sum(),\n",
    "    'RKUW':lambda ts: (ts < 6).sum(),\n",
    "    'RIPD':lambda ts: (ts < 6).sum(),\n",
    "    'RICD':lambda ts: (ts < 6).sum(),\n",
    "    'EYFSPTotal':lambda ts: (ts <78 ).sum()\n",
    "    }).rename(columns={'PSEAS1':'Personal Social Emotional - readiness Classroom',\n",
    "                      'PSEAS2':'Personal Social Emotional - readiness Relationship',\n",
    "                      'PSEAS3':'Personal Social Emotional - readiness Expressive',\n",
    "                      'CLLAS1':'Communication, language, literacy - Listening',\n",
    "                      'CLLAS2':'Communication, language, literacy - Reading',\n",
    "                      'CLLAS3':'Communication, language, literacy - Reading Books',\n",
    "                      'CLLAS4':'Communication, language, literacy - Communication',\n",
    "                      'PSRNAS1':'Problem solving Reasoning and Numeracy - Counting',\n",
    "                      'PSRNAS2':'Problem solving Reasoning and Numeracy - Recognition',\n",
    "                      'PSRNAS3':'Problem solving Reasoning and Numeracy - Practicing',\n",
    "                      'RKUW':'Understanding of the World',\n",
    "                      'RIPD':'Physical Development',\n",
    "                      'RICD':'Creative Development'})\n",
    "\n",
    "test_Fail_EYFSP_all\n",
    "\n"
   ]
  },
  {
   "cell_type": "code",
   "execution_count": 14,
   "id": "394c6d64-ca50-48d9-b98e-0aa92280d604",
   "metadata": {
    "tags": []
   },
   "outputs": [
    {
     "ename": "NameError",
     "evalue": "name 'test_Fail_EYFSP_all' is not defined",
     "output_type": "error",
     "traceback": [
      "\u001b[0;31m---------------------------------------------------------------------------\u001b[0m",
      "\u001b[0;31mNameError\u001b[0m                                 Traceback (most recent call last)",
      "Cell \u001b[0;32mIn[14], line 1\u001b[0m\n\u001b[0;32m----> 1\u001b[0m sumvalAll \u001b[38;5;241m=\u001b[39m (\u001b[43mtest_Fail_EYFSP_all\u001b[49m\u001b[38;5;241m/\u001b[39m\u001b[38;5;241m5285\u001b[39m)\u001b[38;5;241m*\u001b[39m\u001b[38;5;241m100\u001b[39m\n\u001b[1;32m      3\u001b[0m PercentOverAll \u001b[38;5;241m=\u001b[39m sumvalAll\u001b[38;5;241m.\u001b[39mreset_index()\n\u001b[1;32m      4\u001b[0m PercentOverAll\u001b[38;5;241m.\u001b[39mdrop(PercentOverAll\u001b[38;5;241m.\u001b[39mtail(\u001b[38;5;241m2\u001b[39m)\u001b[38;5;241m.\u001b[39mindex,inplace \u001b[38;5;241m=\u001b[39m \u001b[38;5;28;01mTrue\u001b[39;00m)\n",
      "\u001b[0;31mNameError\u001b[0m: name 'test_Fail_EYFSP_all' is not defined"
     ]
    }
   ],
   "source": [
    "sumvalAll = (test_Fail_EYFSP_all/5285)*100\n",
    "\n",
    "PercentOverAll = sumvalAll.reset_index()\n",
    "PercentOverAll.drop(PercentOverAll.tail(2).index,inplace = True)\n",
    "PercentOverAll"
   ]
  },
  {
   "cell_type": "markdown",
   "id": "c3271c40-e301-4339-b829-ce8ce5c4186f",
   "metadata": {},
   "source": [
    "<div class=\"alert alert-block alert-info\">\n",
    "        <div>\n",
    "    1. CLLAS4 - Communication, Language and Literacy - Roughly 47% failed in this subject <br/>\n",
    "            <li> uses phonic knowledge to write simple regular words </li>\n",
    "            <li>begins to form captions and simple sentences, sometimes using punctuation</li>\n",
    "            <li>communicates meaning through phrases and simple sentences </li><br/>\n",
    "    2. CLLAS2 - Communication, Language and Literacy - Roughly 39.3% failed in this subject <br/>\n",
    "            <li>uses phonic knowledge to read simple regular words </li>\n",
    "            <li>attempts to read more complex words, using phonic knowledge</li>\n",
    "            <li>uses knowledge of letters, sounds and words when reading and writing independently </li><br/>       \n",
    "    3. PSRNAS2 - Problem Solving, Reasoning and Numeracy - Roughly 38% failed in this subject<br/>\n",
    "            <li> in practical activities and discussion, begins to use the vocabulary involved in adding and subtracting </li>\n",
    "            <li> uses developing mathematical ideas and methods to solve practical problems</li>\n",
    "            <li>uses a range of strategies for addition and subtraction, inclusion some mental recall of number bonds </li><br/>\n",
    "\n",
    "  \n",
    "</div>"
   ]
  },
  {
   "cell_type": "code",
   "execution_count": null,
   "id": "aa5369d8-f94c-45ba-8a10-a75ed1059e20",
   "metadata": {
    "tags": []
   },
   "outputs": [],
   "source": [
    "# Lets find out the number of students who has failed to attaintment condition\n",
    "test_Fail_all_EYFSP=statutaryYears2007_2009"
   ]
  },
  {
   "cell_type": "code",
   "execution_count": null,
   "id": "c7b7a4e3-c96b-4959-8f56-70535ccfca4c",
   "metadata": {
    "tags": []
   },
   "outputs": [],
   "source": [
    "test_Fail_all_EYFSP.loc[(test_Fail_all_EYFSP['PSEAS1']<6)&(test_Fail_all_EYFSP['PSEAS2']<6)&(test_Fail_all_EYFSP['PSEAS3']<6)&\n",
    "       (test_Fail_all_EYFSP['CLLAS1']<6)&(test_Fail_all_EYFSP['CLLAS2']<6)&(test_Fail_all_EYFSP['CLLAS3']<6)&(test_Fail_all_EYFSP['CLLAS4']<6)&\n",
    "       (test_Fail_all_EYFSP['PSRNAS1']<6)&(test_Fail_all_EYFSP['PSRNAS2']<6)&(test_Fail_all_EYFSP['PSRNAS3']<6)&\n",
    "       (test_Fail_all_EYFSP['RKUW']<6)&(test_Fail_all_EYFSP['RICD']<6)&(test_Fail_all_EYFSP['RIPD']<6), 'allSubjecttFail'] = True   \n",
    "\n",
    "test_Fail_all_EYFSP.allSubjecttFail.sum()"
   ]
  },
  {
   "cell_type": "code",
   "execution_count": 15,
   "id": "7f963336-2246-439d-9328-5aee538d4726",
   "metadata": {
    "tags": []
   },
   "outputs": [
    {
     "ename": "NameError",
     "evalue": "name 'test_Fail_all_EYFSP' is not defined",
     "output_type": "error",
     "traceback": [
      "\u001b[0;31m---------------------------------------------------------------------------\u001b[0m",
      "\u001b[0;31mNameError\u001b[0m                                 Traceback (most recent call last)",
      "Cell \u001b[0;32mIn[15], line 1\u001b[0m\n\u001b[0;32m----> 1\u001b[0m \u001b[43mtest_Fail_all_EYFSP\u001b[49m\u001b[38;5;241m.\u001b[39mloc[(test_Fail_all_EYFSP[\u001b[38;5;124m'\u001b[39m\u001b[38;5;124mPSEAS1\u001b[39m\u001b[38;5;124m'\u001b[39m]\u001b[38;5;241m<\u001b[39m\u001b[38;5;241m6\u001b[39m)\u001b[38;5;241m&\u001b[39m(test_Fail_all_EYFSP[\u001b[38;5;124m'\u001b[39m\u001b[38;5;124mPSEAS2\u001b[39m\u001b[38;5;124m'\u001b[39m]\u001b[38;5;241m>\u001b[39m\u001b[38;5;241m=\u001b[39m\u001b[38;5;241m6\u001b[39m)\u001b[38;5;241m&\u001b[39m(test_Fail_all_EYFSP[\u001b[38;5;124m'\u001b[39m\u001b[38;5;124mPSEAS3\u001b[39m\u001b[38;5;124m'\u001b[39m]\u001b[38;5;241m>\u001b[39m\u001b[38;5;241m=\u001b[39m\u001b[38;5;241m6\u001b[39m)\u001b[38;5;241m&\u001b[39m\n\u001b[1;32m      2\u001b[0m        (test_Fail_all_EYFSP[\u001b[38;5;124m'\u001b[39m\u001b[38;5;124mCLLAS1\u001b[39m\u001b[38;5;124m'\u001b[39m]\u001b[38;5;241m>\u001b[39m\u001b[38;5;241m=\u001b[39m\u001b[38;5;241m6\u001b[39m)\u001b[38;5;241m&\u001b[39m(test_Fail_all_EYFSP[\u001b[38;5;124m'\u001b[39m\u001b[38;5;124mCLLAS2\u001b[39m\u001b[38;5;124m'\u001b[39m]\u001b[38;5;241m>\u001b[39m\u001b[38;5;241m=\u001b[39m\u001b[38;5;241m6\u001b[39m)\u001b[38;5;241m&\u001b[39m(test_Fail_all_EYFSP[\u001b[38;5;124m'\u001b[39m\u001b[38;5;124mCLLAS3\u001b[39m\u001b[38;5;124m'\u001b[39m]\u001b[38;5;241m>\u001b[39m\u001b[38;5;241m=\u001b[39m\u001b[38;5;241m6\u001b[39m)\u001b[38;5;241m&\u001b[39m(test_Fail_all_EYFSP[\u001b[38;5;124m'\u001b[39m\u001b[38;5;124mCLLAS4\u001b[39m\u001b[38;5;124m'\u001b[39m]\u001b[38;5;241m>\u001b[39m\u001b[38;5;241m=\u001b[39m\u001b[38;5;241m6\u001b[39m)\u001b[38;5;241m&\u001b[39m\n\u001b[1;32m      3\u001b[0m        (test_Fail_all_EYFSP[\u001b[38;5;124m'\u001b[39m\u001b[38;5;124mPSRNAS1\u001b[39m\u001b[38;5;124m'\u001b[39m]\u001b[38;5;241m>\u001b[39m\u001b[38;5;241m=\u001b[39m\u001b[38;5;241m6\u001b[39m)\u001b[38;5;241m&\u001b[39m(test_Fail_all_EYFSP[\u001b[38;5;124m'\u001b[39m\u001b[38;5;124mPSRNAS2\u001b[39m\u001b[38;5;124m'\u001b[39m]\u001b[38;5;241m>\u001b[39m\u001b[38;5;241m=\u001b[39m\u001b[38;5;241m6\u001b[39m)\u001b[38;5;241m&\u001b[39m(test_Fail_all_EYFSP[\u001b[38;5;124m'\u001b[39m\u001b[38;5;124mPSRNAS3\u001b[39m\u001b[38;5;124m'\u001b[39m]\u001b[38;5;241m>\u001b[39m\u001b[38;5;241m=\u001b[39m\u001b[38;5;241m6\u001b[39m)\u001b[38;5;241m&\u001b[39m\n\u001b[1;32m      4\u001b[0m        (test_Fail_all_EYFSP[\u001b[38;5;124m'\u001b[39m\u001b[38;5;124mRKUW\u001b[39m\u001b[38;5;124m'\u001b[39m]\u001b[38;5;241m>\u001b[39m\u001b[38;5;241m=\u001b[39m\u001b[38;5;241m6\u001b[39m)\u001b[38;5;241m&\u001b[39m(test_Fail_all_EYFSP[\u001b[38;5;124m'\u001b[39m\u001b[38;5;124mRICD\u001b[39m\u001b[38;5;124m'\u001b[39m]\u001b[38;5;241m>\u001b[39m\u001b[38;5;241m=\u001b[39m\u001b[38;5;241m6\u001b[39m)\u001b[38;5;241m&\u001b[39m(test_Fail_all_EYFSP[\u001b[38;5;124m'\u001b[39m\u001b[38;5;124mRIPD\u001b[39m\u001b[38;5;124m'\u001b[39m]\u001b[38;5;241m>\u001b[39m\u001b[38;5;241m=\u001b[39m\u001b[38;5;241m6\u001b[39m), \u001b[38;5;124m'\u001b[39m\u001b[38;5;124mPSEAS1Fail\u001b[39m\u001b[38;5;124m'\u001b[39m] \u001b[38;5;241m=\u001b[39m \u001b[38;5;28;01mTrue\u001b[39;00m   \n\u001b[1;32m      5\u001b[0m test_Fail_all_EYFSP\u001b[38;5;241m.\u001b[39mPSEAS1Fail\u001b[38;5;241m.\u001b[39msum()\n",
      "\u001b[0;31mNameError\u001b[0m: name 'test_Fail_all_EYFSP' is not defined"
     ]
    }
   ],
   "source": [
    "test_Fail_all_EYFSP.loc[(test_Fail_all_EYFSP['PSEAS1']<6)&(test_Fail_all_EYFSP['PSEAS2']>=6)&(test_Fail_all_EYFSP['PSEAS3']>=6)&\n",
    "       (test_Fail_all_EYFSP['CLLAS1']>=6)&(test_Fail_all_EYFSP['CLLAS2']>=6)&(test_Fail_all_EYFSP['CLLAS3']>=6)&(test_Fail_all_EYFSP['CLLAS4']>=6)&\n",
    "       (test_Fail_all_EYFSP['PSRNAS1']>=6)&(test_Fail_all_EYFSP['PSRNAS2']>=6)&(test_Fail_all_EYFSP['PSRNAS3']>=6)&\n",
    "       (test_Fail_all_EYFSP['RKUW']>=6)&(test_Fail_all_EYFSP['RICD']>=6)&(test_Fail_all_EYFSP['RIPD']>=6), 'PSEAS1Fail'] = True   \n",
    "test_Fail_all_EYFSP.PSEAS1Fail.sum()\n"
   ]
  },
  {
   "cell_type": "code",
   "execution_count": null,
   "id": "411d655e-0549-4f3a-9d7d-3426d7271977",
   "metadata": {
    "tags": []
   },
   "outputs": [],
   "source": [
    "test_Fail_all_EYFSP.loc[(test_Fail_all_EYFSP['PSEAS1']>=6)&(test_Fail_all_EYFSP['PSEAS2']<6)&(test_Fail_all_EYFSP['PSEAS3']>=6)&\n",
    "       (test_Fail_all_EYFSP['CLLAS1']>=6)&(test_Fail_all_EYFSP['CLLAS2']>=6)&(test_Fail_all_EYFSP['CLLAS3']>=6)&(test_Fail_all_EYFSP['CLLAS4']>=6)&\n",
    "       (test_Fail_all_EYFSP['PSRNAS1']>=6)&(test_Fail_all_EYFSP['PSRNAS2']>=6)&(test_Fail_all_EYFSP['PSRNAS3']>=6)&\n",
    "       (test_Fail_all_EYFSP['RKUW']>=6)&(test_Fail_all_EYFSP['RICD']>=6)&(test_Fail_all_EYFSP['RIPD']>=6), 'PSEAS2Fail'] = True   \n",
    "test_Fail_all_EYFSP.PSEAS2Fail.sum()"
   ]
  },
  {
   "cell_type": "code",
   "execution_count": 16,
   "id": "1984b1dc-5d0f-486f-947e-d2bfbdaa9674",
   "metadata": {
    "tags": []
   },
   "outputs": [
    {
     "ename": "NameError",
     "evalue": "name 'test_Fail_all_EYFSP' is not defined",
     "output_type": "error",
     "traceback": [
      "\u001b[0;31m---------------------------------------------------------------------------\u001b[0m",
      "\u001b[0;31mNameError\u001b[0m                                 Traceback (most recent call last)",
      "Cell \u001b[0;32mIn[16], line 1\u001b[0m\n\u001b[0;32m----> 1\u001b[0m \u001b[43mtest_Fail_all_EYFSP\u001b[49m\u001b[38;5;241m.\u001b[39mloc[(test_Fail_all_EYFSP[\u001b[38;5;124m'\u001b[39m\u001b[38;5;124mPSEAS1\u001b[39m\u001b[38;5;124m'\u001b[39m]\u001b[38;5;241m>\u001b[39m\u001b[38;5;241m=\u001b[39m\u001b[38;5;241m6\u001b[39m)\u001b[38;5;241m&\u001b[39m(test_Fail_all_EYFSP[\u001b[38;5;124m'\u001b[39m\u001b[38;5;124mPSEAS2\u001b[39m\u001b[38;5;124m'\u001b[39m]\u001b[38;5;241m>\u001b[39m\u001b[38;5;241m=\u001b[39m\u001b[38;5;241m6\u001b[39m)\u001b[38;5;241m&\u001b[39m(test_Fail_all_EYFSP[\u001b[38;5;124m'\u001b[39m\u001b[38;5;124mPSEAS3\u001b[39m\u001b[38;5;124m'\u001b[39m]\u001b[38;5;241m<\u001b[39m\u001b[38;5;241m6\u001b[39m)\u001b[38;5;241m&\u001b[39m\n\u001b[1;32m      2\u001b[0m        (test_Fail_all_EYFSP[\u001b[38;5;124m'\u001b[39m\u001b[38;5;124mCLLAS1\u001b[39m\u001b[38;5;124m'\u001b[39m]\u001b[38;5;241m>\u001b[39m\u001b[38;5;241m=\u001b[39m\u001b[38;5;241m6\u001b[39m)\u001b[38;5;241m&\u001b[39m(test_Fail_all_EYFSP[\u001b[38;5;124m'\u001b[39m\u001b[38;5;124mCLLAS2\u001b[39m\u001b[38;5;124m'\u001b[39m]\u001b[38;5;241m>\u001b[39m\u001b[38;5;241m=\u001b[39m\u001b[38;5;241m6\u001b[39m)\u001b[38;5;241m&\u001b[39m(test_Fail_all_EYFSP[\u001b[38;5;124m'\u001b[39m\u001b[38;5;124mCLLAS3\u001b[39m\u001b[38;5;124m'\u001b[39m]\u001b[38;5;241m>\u001b[39m\u001b[38;5;241m=\u001b[39m\u001b[38;5;241m6\u001b[39m)\u001b[38;5;241m&\u001b[39m(test_Fail_all_EYFSP[\u001b[38;5;124m'\u001b[39m\u001b[38;5;124mCLLAS4\u001b[39m\u001b[38;5;124m'\u001b[39m]\u001b[38;5;241m>\u001b[39m\u001b[38;5;241m=\u001b[39m\u001b[38;5;241m6\u001b[39m)\u001b[38;5;241m&\u001b[39m\n\u001b[1;32m      3\u001b[0m        (test_Fail_all_EYFSP[\u001b[38;5;124m'\u001b[39m\u001b[38;5;124mPSRNAS1\u001b[39m\u001b[38;5;124m'\u001b[39m]\u001b[38;5;241m>\u001b[39m\u001b[38;5;241m=\u001b[39m\u001b[38;5;241m6\u001b[39m)\u001b[38;5;241m&\u001b[39m(test_Fail_all_EYFSP[\u001b[38;5;124m'\u001b[39m\u001b[38;5;124mPSRNAS2\u001b[39m\u001b[38;5;124m'\u001b[39m]\u001b[38;5;241m>\u001b[39m\u001b[38;5;241m=\u001b[39m\u001b[38;5;241m6\u001b[39m)\u001b[38;5;241m&\u001b[39m(test_Fail_all_EYFSP[\u001b[38;5;124m'\u001b[39m\u001b[38;5;124mPSRNAS3\u001b[39m\u001b[38;5;124m'\u001b[39m]\u001b[38;5;241m>\u001b[39m\u001b[38;5;241m=\u001b[39m\u001b[38;5;241m6\u001b[39m)\u001b[38;5;241m&\u001b[39m\n\u001b[1;32m      4\u001b[0m        (test_Fail_all_EYFSP[\u001b[38;5;124m'\u001b[39m\u001b[38;5;124mRKUW\u001b[39m\u001b[38;5;124m'\u001b[39m]\u001b[38;5;241m>\u001b[39m\u001b[38;5;241m=\u001b[39m\u001b[38;5;241m6\u001b[39m)\u001b[38;5;241m&\u001b[39m(test_Fail_all_EYFSP[\u001b[38;5;124m'\u001b[39m\u001b[38;5;124mRICD\u001b[39m\u001b[38;5;124m'\u001b[39m]\u001b[38;5;241m>\u001b[39m\u001b[38;5;241m=\u001b[39m\u001b[38;5;241m6\u001b[39m)\u001b[38;5;241m&\u001b[39m(test_Fail_all_EYFSP[\u001b[38;5;124m'\u001b[39m\u001b[38;5;124mRIPD\u001b[39m\u001b[38;5;124m'\u001b[39m]\u001b[38;5;241m>\u001b[39m\u001b[38;5;241m=\u001b[39m\u001b[38;5;241m6\u001b[39m), \u001b[38;5;124m'\u001b[39m\u001b[38;5;124mPSEAS3Fail\u001b[39m\u001b[38;5;124m'\u001b[39m] \u001b[38;5;241m=\u001b[39m \u001b[38;5;28;01mTrue\u001b[39;00m   \n\u001b[1;32m      5\u001b[0m test_Fail_all_EYFSP\u001b[38;5;241m.\u001b[39mPSEAS3Fail\u001b[38;5;241m.\u001b[39msum()\n",
      "\u001b[0;31mNameError\u001b[0m: name 'test_Fail_all_EYFSP' is not defined"
     ]
    }
   ],
   "source": [
    "test_Fail_all_EYFSP.loc[(test_Fail_all_EYFSP['PSEAS1']>=6)&(test_Fail_all_EYFSP['PSEAS2']>=6)&(test_Fail_all_EYFSP['PSEAS3']<6)&\n",
    "       (test_Fail_all_EYFSP['CLLAS1']>=6)&(test_Fail_all_EYFSP['CLLAS2']>=6)&(test_Fail_all_EYFSP['CLLAS3']>=6)&(test_Fail_all_EYFSP['CLLAS4']>=6)&\n",
    "       (test_Fail_all_EYFSP['PSRNAS1']>=6)&(test_Fail_all_EYFSP['PSRNAS2']>=6)&(test_Fail_all_EYFSP['PSRNAS3']>=6)&\n",
    "       (test_Fail_all_EYFSP['RKUW']>=6)&(test_Fail_all_EYFSP['RICD']>=6)&(test_Fail_all_EYFSP['RIPD']>=6), 'PSEAS3Fail'] = True   \n",
    "test_Fail_all_EYFSP.PSEAS3Fail.sum()"
   ]
  },
  {
   "cell_type": "code",
   "execution_count": null,
   "id": "2cc3c73c-9d84-4eb9-82d9-3a8425c53af4",
   "metadata": {
    "tags": []
   },
   "outputs": [],
   "source": [
    "test_Fail_all_EYFSP.loc[(test_Fail_all_EYFSP['PSEAS1']>=6)&(test_Fail_all_EYFSP['PSEAS2']>=6)&(test_Fail_all_EYFSP['PSEAS3']>=6)&\n",
    "       (test_Fail_all_EYFSP['CLLAS1']<6)&(test_Fail_all_EYFSP['CLLAS2']>=6)&(test_Fail_all_EYFSP['CLLAS3']>=6)&(test_Fail_all_EYFSP['CLLAS4']>=6)&\n",
    "       (test_Fail_all_EYFSP['PSRNAS1']>=6)&(test_Fail_all_EYFSP['PSRNAS2']>=6)&(test_Fail_all_EYFSP['PSRNAS3']>=6)&\n",
    "       (test_Fail_all_EYFSP['RKUW']>=6)&(test_Fail_all_EYFSP['RICD']>=6)&(test_Fail_all_EYFSP['RIPD']>=6), 'CLLAS1Fail'] = True   \n",
    "test_Fail_all_EYFSP.CLLAS1Fail.sum()"
   ]
  },
  {
   "cell_type": "code",
   "execution_count": null,
   "id": "ce3fdc85-2eee-40b3-a455-6a0778633b53",
   "metadata": {
    "tags": []
   },
   "outputs": [],
   "source": [
    "test_Fail_all_EYFSP.loc[(test_Fail_all_EYFSP['PSEAS1']>=6)&(test_Fail_all_EYFSP['PSEAS2']>=6)&(test_Fail_all_EYFSP['PSEAS3']>=6)&\n",
    "       (test_Fail_all_EYFSP['CLLAS1']>=6)&(test_Fail_all_EYFSP['CLLAS2']<6)&(test_Fail_all_EYFSP['CLLAS3']>=6)&(test_Fail_all_EYFSP['CLLAS4']>=6)&\n",
    "       (test_Fail_all_EYFSP['PSRNAS1']>=6)&(test_Fail_all_EYFSP['PSRNAS2']>=6)&(test_Fail_all_EYFSP['PSRNAS3']>=6)&\n",
    "       (test_Fail_all_EYFSP['RKUW']>=6)&(test_Fail_all_EYFSP['RICD']>=6)&(test_Fail_all_EYFSP['RIPD']>=6), 'CLLAS2Fail'] = True   \n",
    "test_Fail_all_EYFSP.CLLAS2Fail.sum()"
   ]
  },
  {
   "cell_type": "code",
   "execution_count": 17,
   "id": "d0bf5d25-cd0e-4fb2-a509-57e75929b57b",
   "metadata": {
    "tags": []
   },
   "outputs": [
    {
     "ename": "NameError",
     "evalue": "name 'test_Fail_all_EYFSP' is not defined",
     "output_type": "error",
     "traceback": [
      "\u001b[0;31m---------------------------------------------------------------------------\u001b[0m",
      "\u001b[0;31mNameError\u001b[0m                                 Traceback (most recent call last)",
      "Cell \u001b[0;32mIn[17], line 1\u001b[0m\n\u001b[0;32m----> 1\u001b[0m \u001b[43mtest_Fail_all_EYFSP\u001b[49m\u001b[38;5;241m.\u001b[39mloc[(test_Fail_all_EYFSP[\u001b[38;5;124m'\u001b[39m\u001b[38;5;124mPSEAS1\u001b[39m\u001b[38;5;124m'\u001b[39m]\u001b[38;5;241m>\u001b[39m\u001b[38;5;241m=\u001b[39m\u001b[38;5;241m6\u001b[39m)\u001b[38;5;241m&\u001b[39m(test_Fail_all_EYFSP[\u001b[38;5;124m'\u001b[39m\u001b[38;5;124mPSEAS2\u001b[39m\u001b[38;5;124m'\u001b[39m]\u001b[38;5;241m>\u001b[39m\u001b[38;5;241m=\u001b[39m\u001b[38;5;241m6\u001b[39m)\u001b[38;5;241m&\u001b[39m(test_Fail_all_EYFSP[\u001b[38;5;124m'\u001b[39m\u001b[38;5;124mPSEAS3\u001b[39m\u001b[38;5;124m'\u001b[39m]\u001b[38;5;241m>\u001b[39m\u001b[38;5;241m=\u001b[39m\u001b[38;5;241m6\u001b[39m)\u001b[38;5;241m&\u001b[39m\n\u001b[1;32m      2\u001b[0m        (test_Fail_all_EYFSP[\u001b[38;5;124m'\u001b[39m\u001b[38;5;124mCLLAS1\u001b[39m\u001b[38;5;124m'\u001b[39m]\u001b[38;5;241m>\u001b[39m\u001b[38;5;241m=\u001b[39m\u001b[38;5;241m6\u001b[39m)\u001b[38;5;241m&\u001b[39m(test_Fail_all_EYFSP[\u001b[38;5;124m'\u001b[39m\u001b[38;5;124mCLLAS2\u001b[39m\u001b[38;5;124m'\u001b[39m]\u001b[38;5;241m>\u001b[39m\u001b[38;5;241m=\u001b[39m\u001b[38;5;241m6\u001b[39m)\u001b[38;5;241m&\u001b[39m(test_Fail_all_EYFSP[\u001b[38;5;124m'\u001b[39m\u001b[38;5;124mCLLAS3\u001b[39m\u001b[38;5;124m'\u001b[39m]\u001b[38;5;241m<\u001b[39m\u001b[38;5;241m6\u001b[39m)\u001b[38;5;241m&\u001b[39m(test_Fail_all_EYFSP[\u001b[38;5;124m'\u001b[39m\u001b[38;5;124mCLLAS4\u001b[39m\u001b[38;5;124m'\u001b[39m]\u001b[38;5;241m>\u001b[39m\u001b[38;5;241m=\u001b[39m\u001b[38;5;241m6\u001b[39m)\u001b[38;5;241m&\u001b[39m\n\u001b[1;32m      3\u001b[0m        (test_Fail_all_EYFSP[\u001b[38;5;124m'\u001b[39m\u001b[38;5;124mPSRNAS1\u001b[39m\u001b[38;5;124m'\u001b[39m]\u001b[38;5;241m>\u001b[39m\u001b[38;5;241m=\u001b[39m\u001b[38;5;241m6\u001b[39m)\u001b[38;5;241m&\u001b[39m(test_Fail_all_EYFSP[\u001b[38;5;124m'\u001b[39m\u001b[38;5;124mPSRNAS2\u001b[39m\u001b[38;5;124m'\u001b[39m]\u001b[38;5;241m>\u001b[39m\u001b[38;5;241m=\u001b[39m\u001b[38;5;241m6\u001b[39m)\u001b[38;5;241m&\u001b[39m(test_Fail_all_EYFSP[\u001b[38;5;124m'\u001b[39m\u001b[38;5;124mPSRNAS3\u001b[39m\u001b[38;5;124m'\u001b[39m]\u001b[38;5;241m>\u001b[39m\u001b[38;5;241m=\u001b[39m\u001b[38;5;241m6\u001b[39m)\u001b[38;5;241m&\u001b[39m\n\u001b[1;32m      4\u001b[0m        (test_Fail_all_EYFSP[\u001b[38;5;124m'\u001b[39m\u001b[38;5;124mRKUW\u001b[39m\u001b[38;5;124m'\u001b[39m]\u001b[38;5;241m>\u001b[39m\u001b[38;5;241m=\u001b[39m\u001b[38;5;241m6\u001b[39m)\u001b[38;5;241m&\u001b[39m(test_Fail_all_EYFSP[\u001b[38;5;124m'\u001b[39m\u001b[38;5;124mRICD\u001b[39m\u001b[38;5;124m'\u001b[39m]\u001b[38;5;241m>\u001b[39m\u001b[38;5;241m=\u001b[39m\u001b[38;5;241m6\u001b[39m)\u001b[38;5;241m&\u001b[39m(test_Fail_all_EYFSP[\u001b[38;5;124m'\u001b[39m\u001b[38;5;124mRIPD\u001b[39m\u001b[38;5;124m'\u001b[39m]\u001b[38;5;241m>\u001b[39m\u001b[38;5;241m=\u001b[39m\u001b[38;5;241m6\u001b[39m), \u001b[38;5;124m'\u001b[39m\u001b[38;5;124mCLLAS3Fail\u001b[39m\u001b[38;5;124m'\u001b[39m] \u001b[38;5;241m=\u001b[39m \u001b[38;5;28;01mTrue\u001b[39;00m   \n\u001b[1;32m      5\u001b[0m test_Fail_all_EYFSP\u001b[38;5;241m.\u001b[39mCLLAS3Fail\u001b[38;5;241m.\u001b[39msum()\n",
      "\u001b[0;31mNameError\u001b[0m: name 'test_Fail_all_EYFSP' is not defined"
     ]
    }
   ],
   "source": [
    "test_Fail_all_EYFSP.loc[(test_Fail_all_EYFSP['PSEAS1']>=6)&(test_Fail_all_EYFSP['PSEAS2']>=6)&(test_Fail_all_EYFSP['PSEAS3']>=6)&\n",
    "       (test_Fail_all_EYFSP['CLLAS1']>=6)&(test_Fail_all_EYFSP['CLLAS2']>=6)&(test_Fail_all_EYFSP['CLLAS3']<6)&(test_Fail_all_EYFSP['CLLAS4']>=6)&\n",
    "       (test_Fail_all_EYFSP['PSRNAS1']>=6)&(test_Fail_all_EYFSP['PSRNAS2']>=6)&(test_Fail_all_EYFSP['PSRNAS3']>=6)&\n",
    "       (test_Fail_all_EYFSP['RKUW']>=6)&(test_Fail_all_EYFSP['RICD']>=6)&(test_Fail_all_EYFSP['RIPD']>=6), 'CLLAS3Fail'] = True   \n",
    "test_Fail_all_EYFSP.CLLAS3Fail.sum()"
   ]
  },
  {
   "cell_type": "code",
   "execution_count": null,
   "id": "4562b5ac-ebe6-4f13-a7e6-235a1f78bc43",
   "metadata": {
    "tags": []
   },
   "outputs": [],
   "source": [
    "test_Fail_all_EYFSP.loc[(test_Fail_all_EYFSP['PSEAS1']>=6)&(test_Fail_all_EYFSP['PSEAS2']>=6)&(test_Fail_all_EYFSP['PSEAS3']>=6)&\n",
    "       (test_Fail_all_EYFSP['CLLAS1']>=6)&(test_Fail_all_EYFSP['CLLAS2']>=6)&(test_Fail_all_EYFSP['CLLAS3']>=6)&(test_Fail_all_EYFSP['CLLAS4']<6)&\n",
    "       (test_Fail_all_EYFSP['PSRNAS1']>=6)&(test_Fail_all_EYFSP['PSRNAS2']>=6)&(test_Fail_all_EYFSP['PSRNAS3']>=6)&\n",
    "       (test_Fail_all_EYFSP['RKUW']>=6)&(test_Fail_all_EYFSP['RICD']>=6)&(test_Fail_all_EYFSP['RIPD']>=6), 'CLLAS4Fail'] = True   \n",
    "test_Fail_all_EYFSP.CLLAS4Fail.sum()"
   ]
  },
  {
   "cell_type": "code",
   "execution_count": 18,
   "id": "6f0d517f-a966-4247-a55d-2f11d54e3c95",
   "metadata": {
    "tags": []
   },
   "outputs": [
    {
     "ename": "NameError",
     "evalue": "name 'test_Fail_all_EYFSP' is not defined",
     "output_type": "error",
     "traceback": [
      "\u001b[0;31m---------------------------------------------------------------------------\u001b[0m",
      "\u001b[0;31mNameError\u001b[0m                                 Traceback (most recent call last)",
      "Cell \u001b[0;32mIn[18], line 1\u001b[0m\n\u001b[0;32m----> 1\u001b[0m \u001b[43mtest_Fail_all_EYFSP\u001b[49m\u001b[38;5;241m.\u001b[39mloc[(test_Fail_all_EYFSP[\u001b[38;5;124m'\u001b[39m\u001b[38;5;124mPSEAS1\u001b[39m\u001b[38;5;124m'\u001b[39m]\u001b[38;5;241m>\u001b[39m\u001b[38;5;241m=\u001b[39m\u001b[38;5;241m6\u001b[39m)\u001b[38;5;241m&\u001b[39m(test_Fail_all_EYFSP[\u001b[38;5;124m'\u001b[39m\u001b[38;5;124mPSEAS2\u001b[39m\u001b[38;5;124m'\u001b[39m]\u001b[38;5;241m>\u001b[39m\u001b[38;5;241m=\u001b[39m\u001b[38;5;241m6\u001b[39m)\u001b[38;5;241m&\u001b[39m(test_Fail_all_EYFSP[\u001b[38;5;124m'\u001b[39m\u001b[38;5;124mPSEAS3\u001b[39m\u001b[38;5;124m'\u001b[39m]\u001b[38;5;241m>\u001b[39m\u001b[38;5;241m=\u001b[39m\u001b[38;5;241m6\u001b[39m)\u001b[38;5;241m&\u001b[39m\n\u001b[1;32m      2\u001b[0m        (test_Fail_all_EYFSP[\u001b[38;5;124m'\u001b[39m\u001b[38;5;124mCLLAS1\u001b[39m\u001b[38;5;124m'\u001b[39m]\u001b[38;5;241m>\u001b[39m\u001b[38;5;241m=\u001b[39m\u001b[38;5;241m6\u001b[39m)\u001b[38;5;241m&\u001b[39m(test_Fail_all_EYFSP[\u001b[38;5;124m'\u001b[39m\u001b[38;5;124mCLLAS2\u001b[39m\u001b[38;5;124m'\u001b[39m]\u001b[38;5;241m>\u001b[39m\u001b[38;5;241m=\u001b[39m\u001b[38;5;241m6\u001b[39m)\u001b[38;5;241m&\u001b[39m(test_Fail_all_EYFSP[\u001b[38;5;124m'\u001b[39m\u001b[38;5;124mCLLAS3\u001b[39m\u001b[38;5;124m'\u001b[39m]\u001b[38;5;241m>\u001b[39m\u001b[38;5;241m=\u001b[39m\u001b[38;5;241m6\u001b[39m)\u001b[38;5;241m&\u001b[39m(test_Fail_all_EYFSP[\u001b[38;5;124m'\u001b[39m\u001b[38;5;124mCLLAS4\u001b[39m\u001b[38;5;124m'\u001b[39m]\u001b[38;5;241m>\u001b[39m\u001b[38;5;241m=\u001b[39m\u001b[38;5;241m6\u001b[39m)\u001b[38;5;241m&\u001b[39m\n\u001b[1;32m      3\u001b[0m        (test_Fail_all_EYFSP[\u001b[38;5;124m'\u001b[39m\u001b[38;5;124mPSRNAS1\u001b[39m\u001b[38;5;124m'\u001b[39m]\u001b[38;5;241m<\u001b[39m\u001b[38;5;241m6\u001b[39m)\u001b[38;5;241m&\u001b[39m(test_Fail_all_EYFSP[\u001b[38;5;124m'\u001b[39m\u001b[38;5;124mPSRNAS2\u001b[39m\u001b[38;5;124m'\u001b[39m]\u001b[38;5;241m>\u001b[39m\u001b[38;5;241m=\u001b[39m\u001b[38;5;241m6\u001b[39m)\u001b[38;5;241m&\u001b[39m(test_Fail_all_EYFSP[\u001b[38;5;124m'\u001b[39m\u001b[38;5;124mPSRNAS3\u001b[39m\u001b[38;5;124m'\u001b[39m]\u001b[38;5;241m>\u001b[39m\u001b[38;5;241m=\u001b[39m\u001b[38;5;241m6\u001b[39m)\u001b[38;5;241m&\u001b[39m\n\u001b[1;32m      4\u001b[0m        (test_Fail_all_EYFSP[\u001b[38;5;124m'\u001b[39m\u001b[38;5;124mRKUW\u001b[39m\u001b[38;5;124m'\u001b[39m]\u001b[38;5;241m>\u001b[39m\u001b[38;5;241m=\u001b[39m\u001b[38;5;241m6\u001b[39m)\u001b[38;5;241m&\u001b[39m(test_Fail_all_EYFSP[\u001b[38;5;124m'\u001b[39m\u001b[38;5;124mRICD\u001b[39m\u001b[38;5;124m'\u001b[39m]\u001b[38;5;241m>\u001b[39m\u001b[38;5;241m=\u001b[39m\u001b[38;5;241m6\u001b[39m)\u001b[38;5;241m&\u001b[39m(test_Fail_all_EYFSP[\u001b[38;5;124m'\u001b[39m\u001b[38;5;124mRIPD\u001b[39m\u001b[38;5;124m'\u001b[39m]\u001b[38;5;241m>\u001b[39m\u001b[38;5;241m=\u001b[39m\u001b[38;5;241m6\u001b[39m), \u001b[38;5;124m'\u001b[39m\u001b[38;5;124mPSRNAS1Fail\u001b[39m\u001b[38;5;124m'\u001b[39m] \u001b[38;5;241m=\u001b[39m \u001b[38;5;28;01mTrue\u001b[39;00m   \n\u001b[1;32m      5\u001b[0m test_Fail_all_EYFSP\u001b[38;5;241m.\u001b[39mPSRNAS1Fail\u001b[38;5;241m.\u001b[39msum()\n",
      "\u001b[0;31mNameError\u001b[0m: name 'test_Fail_all_EYFSP' is not defined"
     ]
    }
   ],
   "source": [
    "test_Fail_all_EYFSP.loc[(test_Fail_all_EYFSP['PSEAS1']>=6)&(test_Fail_all_EYFSP['PSEAS2']>=6)&(test_Fail_all_EYFSP['PSEAS3']>=6)&\n",
    "       (test_Fail_all_EYFSP['CLLAS1']>=6)&(test_Fail_all_EYFSP['CLLAS2']>=6)&(test_Fail_all_EYFSP['CLLAS3']>=6)&(test_Fail_all_EYFSP['CLLAS4']>=6)&\n",
    "       (test_Fail_all_EYFSP['PSRNAS1']<6)&(test_Fail_all_EYFSP['PSRNAS2']>=6)&(test_Fail_all_EYFSP['PSRNAS3']>=6)&\n",
    "       (test_Fail_all_EYFSP['RKUW']>=6)&(test_Fail_all_EYFSP['RICD']>=6)&(test_Fail_all_EYFSP['RIPD']>=6), 'PSRNAS1Fail'] = True   \n",
    "test_Fail_all_EYFSP.PSRNAS1Fail.sum()"
   ]
  },
  {
   "cell_type": "code",
   "execution_count": null,
   "id": "8c11a4df-3f06-42dc-8369-d0089c7609cb",
   "metadata": {
    "tags": []
   },
   "outputs": [],
   "source": [
    "test_Fail_all_EYFSP.loc[(test_Fail_all_EYFSP['PSEAS1']>=6)&(test_Fail_all_EYFSP['PSEAS2']>=6)&(test_Fail_all_EYFSP['PSEAS3']>=6)&\n",
    "       (test_Fail_all_EYFSP['CLLAS1']>=6)&(test_Fail_all_EYFSP['CLLAS2']>=6)&(test_Fail_all_EYFSP['CLLAS3']>=6)&(test_Fail_all_EYFSP['CLLAS4']>=6)&\n",
    "       (test_Fail_all_EYFSP['PSRNAS1']>=6)&(test_Fail_all_EYFSP['PSRNAS2']<6)&(test_Fail_all_EYFSP['PSRNAS3']>=6)&\n",
    "       (test_Fail_all_EYFSP['RKUW']>=6)&(test_Fail_all_EYFSP['RICD']>=6)&(test_Fail_all_EYFSP['RIPD']>=6), 'PSRNAS2Fail'] = True   \n",
    "test_Fail_all_EYFSP.PSRNAS2Fail.sum()"
   ]
  },
  {
   "cell_type": "code",
   "execution_count": 19,
   "id": "6a5784c9-0e7d-4086-9639-788d4e5a6d60",
   "metadata": {
    "tags": []
   },
   "outputs": [
    {
     "ename": "NameError",
     "evalue": "name 'test_Fail_all_EYFSP' is not defined",
     "output_type": "error",
     "traceback": [
      "\u001b[0;31m---------------------------------------------------------------------------\u001b[0m",
      "\u001b[0;31mNameError\u001b[0m                                 Traceback (most recent call last)",
      "Cell \u001b[0;32mIn[19], line 1\u001b[0m\n\u001b[0;32m----> 1\u001b[0m \u001b[43mtest_Fail_all_EYFSP\u001b[49m\u001b[38;5;241m.\u001b[39mloc[(test_Fail_all_EYFSP[\u001b[38;5;124m'\u001b[39m\u001b[38;5;124mPSEAS1\u001b[39m\u001b[38;5;124m'\u001b[39m]\u001b[38;5;241m>\u001b[39m\u001b[38;5;241m=\u001b[39m\u001b[38;5;241m6\u001b[39m)\u001b[38;5;241m&\u001b[39m(test_Fail_all_EYFSP[\u001b[38;5;124m'\u001b[39m\u001b[38;5;124mPSEAS2\u001b[39m\u001b[38;5;124m'\u001b[39m]\u001b[38;5;241m>\u001b[39m\u001b[38;5;241m=\u001b[39m\u001b[38;5;241m6\u001b[39m)\u001b[38;5;241m&\u001b[39m(test_Fail_all_EYFSP[\u001b[38;5;124m'\u001b[39m\u001b[38;5;124mPSEAS3\u001b[39m\u001b[38;5;124m'\u001b[39m]\u001b[38;5;241m>\u001b[39m\u001b[38;5;241m=\u001b[39m\u001b[38;5;241m6\u001b[39m)\u001b[38;5;241m&\u001b[39m\n\u001b[1;32m      2\u001b[0m        (test_Fail_all_EYFSP[\u001b[38;5;124m'\u001b[39m\u001b[38;5;124mCLLAS1\u001b[39m\u001b[38;5;124m'\u001b[39m]\u001b[38;5;241m>\u001b[39m\u001b[38;5;241m=\u001b[39m\u001b[38;5;241m6\u001b[39m)\u001b[38;5;241m&\u001b[39m(test_Fail_all_EYFSP[\u001b[38;5;124m'\u001b[39m\u001b[38;5;124mCLLAS2\u001b[39m\u001b[38;5;124m'\u001b[39m]\u001b[38;5;241m>\u001b[39m\u001b[38;5;241m=\u001b[39m\u001b[38;5;241m6\u001b[39m)\u001b[38;5;241m&\u001b[39m(test_Fail_all_EYFSP[\u001b[38;5;124m'\u001b[39m\u001b[38;5;124mCLLAS3\u001b[39m\u001b[38;5;124m'\u001b[39m]\u001b[38;5;241m>\u001b[39m\u001b[38;5;241m=\u001b[39m\u001b[38;5;241m6\u001b[39m)\u001b[38;5;241m&\u001b[39m(test_Fail_all_EYFSP[\u001b[38;5;124m'\u001b[39m\u001b[38;5;124mCLLAS4\u001b[39m\u001b[38;5;124m'\u001b[39m]\u001b[38;5;241m>\u001b[39m\u001b[38;5;241m=\u001b[39m\u001b[38;5;241m6\u001b[39m)\u001b[38;5;241m&\u001b[39m\n\u001b[1;32m      3\u001b[0m        (test_Fail_all_EYFSP[\u001b[38;5;124m'\u001b[39m\u001b[38;5;124mPSRNAS1\u001b[39m\u001b[38;5;124m'\u001b[39m]\u001b[38;5;241m>\u001b[39m\u001b[38;5;241m=\u001b[39m\u001b[38;5;241m6\u001b[39m)\u001b[38;5;241m&\u001b[39m(test_Fail_all_EYFSP[\u001b[38;5;124m'\u001b[39m\u001b[38;5;124mPSRNAS2\u001b[39m\u001b[38;5;124m'\u001b[39m]\u001b[38;5;241m>\u001b[39m\u001b[38;5;241m=\u001b[39m\u001b[38;5;241m6\u001b[39m)\u001b[38;5;241m&\u001b[39m(test_Fail_all_EYFSP[\u001b[38;5;124m'\u001b[39m\u001b[38;5;124mPSRNAS3\u001b[39m\u001b[38;5;124m'\u001b[39m]\u001b[38;5;241m<\u001b[39m\u001b[38;5;241m6\u001b[39m)\u001b[38;5;241m&\u001b[39m\n\u001b[1;32m      4\u001b[0m        (test_Fail_all_EYFSP[\u001b[38;5;124m'\u001b[39m\u001b[38;5;124mRKUW\u001b[39m\u001b[38;5;124m'\u001b[39m]\u001b[38;5;241m>\u001b[39m\u001b[38;5;241m=\u001b[39m\u001b[38;5;241m6\u001b[39m)\u001b[38;5;241m&\u001b[39m(test_Fail_all_EYFSP[\u001b[38;5;124m'\u001b[39m\u001b[38;5;124mRICD\u001b[39m\u001b[38;5;124m'\u001b[39m]\u001b[38;5;241m>\u001b[39m\u001b[38;5;241m=\u001b[39m\u001b[38;5;241m6\u001b[39m)\u001b[38;5;241m&\u001b[39m(test_Fail_all_EYFSP[\u001b[38;5;124m'\u001b[39m\u001b[38;5;124mRIPD\u001b[39m\u001b[38;5;124m'\u001b[39m]\u001b[38;5;241m>\u001b[39m\u001b[38;5;241m=\u001b[39m\u001b[38;5;241m6\u001b[39m), \u001b[38;5;124m'\u001b[39m\u001b[38;5;124mPSRNAS3Fail\u001b[39m\u001b[38;5;124m'\u001b[39m] \u001b[38;5;241m=\u001b[39m \u001b[38;5;28;01mTrue\u001b[39;00m   \n\u001b[1;32m      5\u001b[0m test_Fail_all_EYFSP\u001b[38;5;241m.\u001b[39mPSRNAS3Fail\u001b[38;5;241m.\u001b[39msum()\n",
      "\u001b[0;31mNameError\u001b[0m: name 'test_Fail_all_EYFSP' is not defined"
     ]
    }
   ],
   "source": [
    "test_Fail_all_EYFSP.loc[(test_Fail_all_EYFSP['PSEAS1']>=6)&(test_Fail_all_EYFSP['PSEAS2']>=6)&(test_Fail_all_EYFSP['PSEAS3']>=6)&\n",
    "       (test_Fail_all_EYFSP['CLLAS1']>=6)&(test_Fail_all_EYFSP['CLLAS2']>=6)&(test_Fail_all_EYFSP['CLLAS3']>=6)&(test_Fail_all_EYFSP['CLLAS4']>=6)&\n",
    "       (test_Fail_all_EYFSP['PSRNAS1']>=6)&(test_Fail_all_EYFSP['PSRNAS2']>=6)&(test_Fail_all_EYFSP['PSRNAS3']<6)&\n",
    "       (test_Fail_all_EYFSP['RKUW']>=6)&(test_Fail_all_EYFSP['RICD']>=6)&(test_Fail_all_EYFSP['RIPD']>=6), 'PSRNAS3Fail'] = True   \n",
    "test_Fail_all_EYFSP.PSRNAS3Fail.sum()"
   ]
  },
  {
   "cell_type": "code",
   "execution_count": null,
   "id": "a67d1951-1192-4f02-8636-bfb990aecf33",
   "metadata": {
    "tags": []
   },
   "outputs": [],
   "source": [
    "test_Fail_all_EYFSP.loc[(test_Fail_all_EYFSP['PSEAS1']>=6)&(test_Fail_all_EYFSP['PSEAS2']>=6)&(test_Fail_all_EYFSP['PSEAS3']>=6)&\n",
    "       (test_Fail_all_EYFSP['CLLAS1']>=6)&(test_Fail_all_EYFSP['CLLAS2']>=6)&(test_Fail_all_EYFSP['CLLAS3']>=6)&(test_Fail_all_EYFSP['CLLAS4']>=6)&\n",
    "       (test_Fail_all_EYFSP['PSRNAS1']>=6)&(test_Fail_all_EYFSP['PSRNAS2']>=6)&(test_Fail_all_EYFSP['PSRNAS3']>=6)&\n",
    "       (test_Fail_all_EYFSP['RKUW']<6)&(test_Fail_all_EYFSP['RICD']>=6)&(test_Fail_all_EYFSP['RIPD']>=6), 'RKUWFail'] = True   \n",
    "test_Fail_all_EYFSP.RKUWFail.sum()"
   ]
  },
  {
   "cell_type": "code",
   "execution_count": 20,
   "id": "7526746e-bd49-434b-9b61-efbd72c97e49",
   "metadata": {
    "tags": []
   },
   "outputs": [
    {
     "ename": "NameError",
     "evalue": "name 'test_Fail_all_EYFSP' is not defined",
     "output_type": "error",
     "traceback": [
      "\u001b[0;31m---------------------------------------------------------------------------\u001b[0m",
      "\u001b[0;31mNameError\u001b[0m                                 Traceback (most recent call last)",
      "Cell \u001b[0;32mIn[20], line 1\u001b[0m\n\u001b[0;32m----> 1\u001b[0m \u001b[43mtest_Fail_all_EYFSP\u001b[49m\u001b[38;5;241m.\u001b[39mloc[(test_Fail_all_EYFSP[\u001b[38;5;124m'\u001b[39m\u001b[38;5;124mPSEAS1\u001b[39m\u001b[38;5;124m'\u001b[39m]\u001b[38;5;241m>\u001b[39m\u001b[38;5;241m=\u001b[39m\u001b[38;5;241m6\u001b[39m)\u001b[38;5;241m&\u001b[39m(test_Fail_all_EYFSP[\u001b[38;5;124m'\u001b[39m\u001b[38;5;124mPSEAS2\u001b[39m\u001b[38;5;124m'\u001b[39m]\u001b[38;5;241m>\u001b[39m\u001b[38;5;241m=\u001b[39m\u001b[38;5;241m6\u001b[39m)\u001b[38;5;241m&\u001b[39m(test_Fail_all_EYFSP[\u001b[38;5;124m'\u001b[39m\u001b[38;5;124mPSEAS3\u001b[39m\u001b[38;5;124m'\u001b[39m]\u001b[38;5;241m>\u001b[39m\u001b[38;5;241m=\u001b[39m\u001b[38;5;241m6\u001b[39m)\u001b[38;5;241m&\u001b[39m\n\u001b[1;32m      2\u001b[0m        (test_Fail_all_EYFSP[\u001b[38;5;124m'\u001b[39m\u001b[38;5;124mCLLAS1\u001b[39m\u001b[38;5;124m'\u001b[39m]\u001b[38;5;241m>\u001b[39m\u001b[38;5;241m=\u001b[39m\u001b[38;5;241m6\u001b[39m)\u001b[38;5;241m&\u001b[39m(test_Fail_all_EYFSP[\u001b[38;5;124m'\u001b[39m\u001b[38;5;124mCLLAS2\u001b[39m\u001b[38;5;124m'\u001b[39m]\u001b[38;5;241m>\u001b[39m\u001b[38;5;241m=\u001b[39m\u001b[38;5;241m6\u001b[39m)\u001b[38;5;241m&\u001b[39m(test_Fail_all_EYFSP[\u001b[38;5;124m'\u001b[39m\u001b[38;5;124mCLLAS3\u001b[39m\u001b[38;5;124m'\u001b[39m]\u001b[38;5;241m>\u001b[39m\u001b[38;5;241m=\u001b[39m\u001b[38;5;241m6\u001b[39m)\u001b[38;5;241m&\u001b[39m(test_Fail_all_EYFSP[\u001b[38;5;124m'\u001b[39m\u001b[38;5;124mCLLAS4\u001b[39m\u001b[38;5;124m'\u001b[39m]\u001b[38;5;241m>\u001b[39m\u001b[38;5;241m=\u001b[39m\u001b[38;5;241m6\u001b[39m)\u001b[38;5;241m&\u001b[39m\n\u001b[1;32m      3\u001b[0m        (test_Fail_all_EYFSP[\u001b[38;5;124m'\u001b[39m\u001b[38;5;124mPSRNAS1\u001b[39m\u001b[38;5;124m'\u001b[39m]\u001b[38;5;241m>\u001b[39m\u001b[38;5;241m=\u001b[39m\u001b[38;5;241m6\u001b[39m)\u001b[38;5;241m&\u001b[39m(test_Fail_all_EYFSP[\u001b[38;5;124m'\u001b[39m\u001b[38;5;124mPSRNAS2\u001b[39m\u001b[38;5;124m'\u001b[39m]\u001b[38;5;241m>\u001b[39m\u001b[38;5;241m=\u001b[39m\u001b[38;5;241m6\u001b[39m)\u001b[38;5;241m&\u001b[39m(test_Fail_all_EYFSP[\u001b[38;5;124m'\u001b[39m\u001b[38;5;124mPSRNAS3\u001b[39m\u001b[38;5;124m'\u001b[39m]\u001b[38;5;241m>\u001b[39m\u001b[38;5;241m=\u001b[39m\u001b[38;5;241m6\u001b[39m)\u001b[38;5;241m&\u001b[39m\n\u001b[1;32m      4\u001b[0m        (test_Fail_all_EYFSP[\u001b[38;5;124m'\u001b[39m\u001b[38;5;124mRKUW\u001b[39m\u001b[38;5;124m'\u001b[39m]\u001b[38;5;241m>\u001b[39m\u001b[38;5;241m=\u001b[39m\u001b[38;5;241m6\u001b[39m)\u001b[38;5;241m&\u001b[39m(test_Fail_all_EYFSP[\u001b[38;5;124m'\u001b[39m\u001b[38;5;124mRICD\u001b[39m\u001b[38;5;124m'\u001b[39m]\u001b[38;5;241m<\u001b[39m\u001b[38;5;241m6\u001b[39m)\u001b[38;5;241m&\u001b[39m(test_Fail_all_EYFSP[\u001b[38;5;124m'\u001b[39m\u001b[38;5;124mRIPD\u001b[39m\u001b[38;5;124m'\u001b[39m]\u001b[38;5;241m>\u001b[39m\u001b[38;5;241m=\u001b[39m\u001b[38;5;241m6\u001b[39m), \u001b[38;5;124m'\u001b[39m\u001b[38;5;124mRICDFail\u001b[39m\u001b[38;5;124m'\u001b[39m] \u001b[38;5;241m=\u001b[39m \u001b[38;5;28;01mTrue\u001b[39;00m   \n\u001b[1;32m      5\u001b[0m test_Fail_all_EYFSP\u001b[38;5;241m.\u001b[39mRICDFail\u001b[38;5;241m.\u001b[39msum()\n",
      "\u001b[0;31mNameError\u001b[0m: name 'test_Fail_all_EYFSP' is not defined"
     ]
    }
   ],
   "source": [
    "test_Fail_all_EYFSP.loc[(test_Fail_all_EYFSP['PSEAS1']>=6)&(test_Fail_all_EYFSP['PSEAS2']>=6)&(test_Fail_all_EYFSP['PSEAS3']>=6)&\n",
    "       (test_Fail_all_EYFSP['CLLAS1']>=6)&(test_Fail_all_EYFSP['CLLAS2']>=6)&(test_Fail_all_EYFSP['CLLAS3']>=6)&(test_Fail_all_EYFSP['CLLAS4']>=6)&\n",
    "       (test_Fail_all_EYFSP['PSRNAS1']>=6)&(test_Fail_all_EYFSP['PSRNAS2']>=6)&(test_Fail_all_EYFSP['PSRNAS3']>=6)&\n",
    "       (test_Fail_all_EYFSP['RKUW']>=6)&(test_Fail_all_EYFSP['RICD']<6)&(test_Fail_all_EYFSP['RIPD']>=6), 'RICDFail'] = True   \n",
    "test_Fail_all_EYFSP.RICDFail.sum()"
   ]
  },
  {
   "cell_type": "code",
   "execution_count": null,
   "id": "8d91210d-7a3a-40ff-a70d-99bf837153a4",
   "metadata": {
    "tags": []
   },
   "outputs": [],
   "source": [
    "test_Fail_all_EYFSP.loc[(test_Fail_all_EYFSP['PSEAS1']>=6)&(test_Fail_all_EYFSP['PSEAS2']>=6)&(test_Fail_all_EYFSP['PSEAS3']>=6)&\n",
    "       (test_Fail_all_EYFSP['CLLAS1']>=6)&(test_Fail_all_EYFSP['CLLAS2']>=6)&(test_Fail_all_EYFSP['CLLAS3']>=6)&(test_Fail_all_EYFSP['CLLAS4']>=6)&\n",
    "       (test_Fail_all_EYFSP['PSRNAS1']>=6)&(test_Fail_all_EYFSP['PSRNAS2']>=6)&(test_Fail_all_EYFSP['PSRNAS3']>=6)&\n",
    "       (test_Fail_all_EYFSP['RKUW']>=6)&(test_Fail_all_EYFSP['RICD']>=6)&(test_Fail_all_EYFSP['RIPD']<6), 'RIPDFail'] = True   \n",
    "test_Fail_all_EYFSP.RIPDFail.sum()"
   ]
  },
  {
   "cell_type": "code",
   "execution_count": null,
   "id": "6b5423e5-a46b-4313-a66b-9b5ab3f74db2",
   "metadata": {
    "tags": []
   },
   "outputs": [],
   "source": [
    "test_Fail_all_EYFSP.loc[(test_Fail_all_EYFSP['PSEAS1']>=6)&(test_Fail_all_EYFSP['PSEAS2']>=6)&(test_Fail_all_EYFSP['PSEAS3']>=6)&\n",
    "       (test_Fail_all_EYFSP['CLLAS1']>=6)&(test_Fail_all_EYFSP['CLLAS2']>=6)&(test_Fail_all_EYFSP['CLLAS3']>=6)&(test_Fail_all_EYFSP['CLLAS4']>=6)&\n",
    "       (test_Fail_all_EYFSP['PSRNAS1']>=6)&(test_Fail_all_EYFSP['PSRNAS2']>=6)&(test_Fail_all_EYFSP['PSRNAS3']>=6)&\n",
    "       (test_Fail_all_EYFSP['RKUW']>=6)&(test_Fail_all_EYFSP['RICD']>=6)&(test_Fail_all_EYFSP['RIPD']>=6)&(test_Fail_all_EYFSP['EYFSPTotal']<78), 'EYFSPTOTFail'] = True   \n",
    "test_Fail_all_EYFSP.EYFSPTOTFail.sum()\n"
   ]
  },
  {
   "cell_type": "code",
   "execution_count": 21,
   "id": "82341fb1-12f2-4aba-857f-f867bebad6ce",
   "metadata": {
    "tags": []
   },
   "outputs": [
    {
     "ename": "NameError",
     "evalue": "name 'test_Fail_all_EYFSP' is not defined",
     "output_type": "error",
     "traceback": [
      "\u001b[0;31m---------------------------------------------------------------------------\u001b[0m",
      "\u001b[0;31mNameError\u001b[0m                                 Traceback (most recent call last)",
      "Cell \u001b[0;32mIn[21], line 1\u001b[0m\n\u001b[0;32m----> 1\u001b[0m \u001b[43mtest_Fail_all_EYFSP\u001b[49m\u001b[38;5;241m.\u001b[39mloc[(test_Fail_all_EYFSP[\u001b[38;5;124m'\u001b[39m\u001b[38;5;124mEYFSPTotal\u001b[39m\u001b[38;5;124m'\u001b[39m]\u001b[38;5;241m<\u001b[39m\u001b[38;5;241m78\u001b[39m), \u001b[38;5;124m'\u001b[39m\u001b[38;5;124mEYFSPTOTFail\u001b[39m\u001b[38;5;124m'\u001b[39m] \u001b[38;5;241m=\u001b[39m \u001b[38;5;28;01mTrue\u001b[39;00m   \n\u001b[1;32m      2\u001b[0m test_Fail_all_EYFSP\u001b[38;5;241m.\u001b[39mEYFSPTOTFail\u001b[38;5;241m.\u001b[39msum()\n",
      "\u001b[0;31mNameError\u001b[0m: name 'test_Fail_all_EYFSP' is not defined"
     ]
    }
   ],
   "source": [
    "test_Fail_all_EYFSP.loc[(test_Fail_all_EYFSP['EYFSPTotal']<78), 'EYFSPTOTFail'] = True   \n",
    "test_Fail_all_EYFSP.EYFSPTOTFail.sum()"
   ]
  },
  {
   "cell_type": "code",
   "execution_count": null,
   "id": "5502ef12-5162-42b6-ab34-2c058cb0f519",
   "metadata": {
    "tags": []
   },
   "outputs": [],
   "source": [
    "test_Fail_all_EYFSP['allSubjecttFail'] = test_Fail_all_EYFSP['allSubjecttFail'].apply(lambda set_: False if pd.isna(set_)== True else set_)\n",
    "test_Fail_all_EYFSP['PSEAS1Fail'] = test_Fail_all_EYFSP['PSEAS1Fail'].apply(lambda set_: False if pd.isna(set_)== True else set_)\n",
    "test_Fail_all_EYFSP['PSEAS2Fail'] = test_Fail_all_EYFSP['PSEAS2Fail'].apply(lambda set_: False if pd.isna(set_)== True else set_)\n",
    "test_Fail_all_EYFSP['PSEAS3Fail'] = test_Fail_all_EYFSP['PSEAS3Fail'].apply(lambda set_: False if pd.isna(set_)== True else set_)\n",
    "\n",
    "test_Fail_all_EYFSP['CLLAS1Fail'] = test_Fail_all_EYFSP['CLLAS1Fail'].apply(lambda set_: False if pd.isna(set_)== True else set_)\n",
    "test_Fail_all_EYFSP['CLLAS2Fail'] = test_Fail_all_EYFSP['CLLAS2Fail'].apply(lambda set_: False if pd.isna(set_)== True else set_)\n",
    "test_Fail_all_EYFSP['CLLAS3Fail'] = test_Fail_all_EYFSP['CLLAS3Fail'].apply(lambda set_: False if pd.isna(set_)== True else set_)\n",
    "test_Fail_all_EYFSP['CLLAS4Fail'] = test_Fail_all_EYFSP['CLLAS4Fail'].apply(lambda set_: False if pd.isna(set_)== True else set_)\n",
    "\n",
    "test_Fail_all_EYFSP['PSRNAS1Fail'] = test_Fail_all_EYFSP['PSRNAS1Fail'].apply(lambda set_: False if pd.isna(set_)== True else set_)\n",
    "test_Fail_all_EYFSP['PSRNAS2Fail'] = test_Fail_all_EYFSP['PSRNAS2Fail'].apply(lambda set_: False if pd.isna(set_)== True else set_)\n",
    "test_Fail_all_EYFSP['PSRNAS3Fail'] = test_Fail_all_EYFSP['PSRNAS3Fail'].apply(lambda set_: False if pd.isna(set_)== True else set_)\n",
    "\n",
    "test_Fail_all_EYFSP['RKUWFail'] = test_Fail_all_EYFSP['RKUWFail'].apply(lambda set_: False if pd.isna(set_)== True else set_)\n",
    "test_Fail_all_EYFSP['RIPDFail'] = test_Fail_all_EYFSP['RIPDFail'].apply(lambda set_: False if pd.isna(set_)== True else set_)\n",
    "test_Fail_all_EYFSP['RICDFail'] = test_Fail_all_EYFSP['RICDFail'].apply(lambda set_: False if pd.isna(set_)== True else set_)\n",
    "test_Fail_all_EYFSP['EYFSPTOTFail'] = test_Fail_all_EYFSP['EYFSPTOTFail'].apply(lambda set_: False if pd.isna(set_)== True else set_)\n",
    "\n"
   ]
  },
  {
   "cell_type": "code",
   "execution_count": 22,
   "id": "27c8ae75-24ce-4ec2-972f-c55c435b053f",
   "metadata": {
    "tags": []
   },
   "outputs": [
    {
     "ename": "NameError",
     "evalue": "name 'test_Fail_all_EYFSP' is not defined",
     "output_type": "error",
     "traceback": [
      "\u001b[0;31m---------------------------------------------------------------------------\u001b[0m",
      "\u001b[0;31mNameError\u001b[0m                                 Traceback (most recent call last)",
      "Cell \u001b[0;32mIn[22], line 1\u001b[0m\n\u001b[0;32m----> 1\u001b[0m test_Fail_all_EYFSPY1 \u001b[38;5;241m=\u001b[39m \u001b[43mtest_Fail_all_EYFSP\u001b[49m\u001b[38;5;241m.\u001b[39mquery(\u001b[38;5;124m'\u001b[39m\u001b[38;5;124mAcademicYear == \u001b[39m\u001b[38;5;124m\"\u001b[39m\u001b[38;5;124m2006/2007\u001b[39m\u001b[38;5;124m\"\u001b[39m\u001b[38;5;124m'\u001b[39m)\n\u001b[1;32m      3\u001b[0m test_Fail_all_EYFSPY1\n",
      "\u001b[0;31mNameError\u001b[0m: name 'test_Fail_all_EYFSP' is not defined"
     ]
    }
   ],
   "source": [
    "test_Fail_all_EYFSPY1 = test_Fail_all_EYFSP.query('AcademicYear == \"2006/2007\"')\n",
    "\n",
    "test_Fail_all_EYFSPY1\n"
   ]
  },
  {
   "cell_type": "code",
   "execution_count": 23,
   "id": "9c57e948-0c0b-48b7-bf6f-9f58667771fd",
   "metadata": {
    "tags": []
   },
   "outputs": [
    {
     "ename": "NameError",
     "evalue": "name 'test_Fail_all_EYFSPY1' is not defined",
     "output_type": "error",
     "traceback": [
      "\u001b[0;31m---------------------------------------------------------------------------\u001b[0m",
      "\u001b[0;31mNameError\u001b[0m                                 Traceback (most recent call last)",
      "Cell \u001b[0;32mIn[23], line 1\u001b[0m\n\u001b[0;32m----> 1\u001b[0m count_All \u001b[38;5;241m=\u001b[39m \u001b[43mtest_Fail_all_EYFSPY1\u001b[49m\u001b[38;5;241m.\u001b[39mgroupby([\u001b[38;5;124m'\u001b[39m\u001b[38;5;124mever_NEET\u001b[39m\u001b[38;5;124m'\u001b[39m, \u001b[38;5;124m'\u001b[39m\u001b[38;5;124mallSubjecttFail\u001b[39m\u001b[38;5;124m'\u001b[39m])\u001b[38;5;241m.\u001b[39msize()\n\u001b[1;32m      2\u001b[0m \u001b[38;5;28mprint\u001b[39m(count_All)\n\u001b[1;32m      3\u001b[0m count_PSEAS1 \u001b[38;5;241m=\u001b[39m test_Fail_all_EYFSPY1\u001b[38;5;241m.\u001b[39mgroupby([\u001b[38;5;124m'\u001b[39m\u001b[38;5;124mever_NEET\u001b[39m\u001b[38;5;124m'\u001b[39m, \u001b[38;5;124m'\u001b[39m\u001b[38;5;124mPSEAS1Fail\u001b[39m\u001b[38;5;124m'\u001b[39m])\u001b[38;5;241m.\u001b[39msize()\n",
      "\u001b[0;31mNameError\u001b[0m: name 'test_Fail_all_EYFSPY1' is not defined"
     ]
    }
   ],
   "source": [
    "count_All = test_Fail_all_EYFSPY1.groupby(['ever_NEET', 'allSubjecttFail']).size()\n",
    "print(count_All)\n",
    "count_PSEAS1 = test_Fail_all_EYFSPY1.groupby(['ever_NEET', 'PSEAS1Fail']).size()\n",
    "count_PSEAS1\n"
   ]
  },
  {
   "cell_type": "code",
   "execution_count": null,
   "id": "1d2bcb84-3dbc-40e0-8732-1c5fea04832d",
   "metadata": {
    "tags": []
   },
   "outputs": [],
   "source": [
    "X = test_Fail_all_EYFSPY1.groupby(['AcademicYear','newGLD']).agg({\n",
    "    'newGLD':'count',\n",
    "    'allSubjecttFail':'sum', \n",
    "    'ever_NEET':lambda x: (x==False).sum(),\n",
    "    'Persistent_NEET':lambda x: (x==False).sum()}).rename(columns={'newGLD':'count'})\n",
    "print(X)\n"
   ]
  },
  {
   "cell_type": "code",
   "execution_count": 24,
   "id": "4785e223-2056-47c5-aee7-fe69890962fe",
   "metadata": {
    "tags": []
   },
   "outputs": [
    {
     "ename": "NameError",
     "evalue": "name 'test_Fail_all_EYFSPY1' is not defined",
     "output_type": "error",
     "traceback": [
      "\u001b[0;31m---------------------------------------------------------------------------\u001b[0m",
      "\u001b[0;31mNameError\u001b[0m                                 Traceback (most recent call last)",
      "Cell \u001b[0;32mIn[24], line 1\u001b[0m\n\u001b[0;32m----> 1\u001b[0m checkForNEETAllDomain \u001b[38;5;241m=\u001b[39m \u001b[43mtest_Fail_all_EYFSPY1\u001b[49m\u001b[38;5;241m.\u001b[39mgroupby([\u001b[38;5;124m'\u001b[39m\u001b[38;5;124mAcademicYear\u001b[39m\u001b[38;5;124m'\u001b[39m,\u001b[38;5;124m'\u001b[39m\u001b[38;5;124mallSubjecttFail\u001b[39m\u001b[38;5;124m'\u001b[39m])\u001b[38;5;241m.\u001b[39magg({\n\u001b[1;32m      2\u001b[0m     \u001b[38;5;124m'\u001b[39m\u001b[38;5;124mnewGLD\u001b[39m\u001b[38;5;124m'\u001b[39m:\u001b[38;5;124m'\u001b[39m\u001b[38;5;124mcount\u001b[39m\u001b[38;5;124m'\u001b[39m, \n\u001b[1;32m      3\u001b[0m     \u001b[38;5;124m'\u001b[39m\u001b[38;5;124mever_NEET\u001b[39m\u001b[38;5;124m'\u001b[39m:\u001b[38;5;124m'\u001b[39m\u001b[38;5;124msum\u001b[39m\u001b[38;5;124m'\u001b[39m,\n\u001b[1;32m      4\u001b[0m     \u001b[38;5;124m'\u001b[39m\u001b[38;5;124mPersistent_NEET\u001b[39m\u001b[38;5;124m'\u001b[39m:\u001b[38;5;124m'\u001b[39m\u001b[38;5;124msum\u001b[39m\u001b[38;5;124m'\u001b[39m})\u001b[38;5;241m.\u001b[39mrename(columns\u001b[38;5;241m=\u001b[39m{\u001b[38;5;124m'\u001b[39m\u001b[38;5;124mnewGLD\u001b[39m\u001b[38;5;124m'\u001b[39m:\u001b[38;5;124m'\u001b[39m\u001b[38;5;124mcount\u001b[39m\u001b[38;5;124m'\u001b[39m})\n\u001b[1;32m      5\u001b[0m \u001b[38;5;66;03m#print(checkForNEETAllDomain)\u001b[39;00m\n\u001b[1;32m      6\u001b[0m DomainAll \u001b[38;5;241m=\u001b[39m checkForNEETAllDomain\u001b[38;5;241m.\u001b[39mreset_index()\n",
      "\u001b[0;31mNameError\u001b[0m: name 'test_Fail_all_EYFSPY1' is not defined"
     ]
    }
   ],
   "source": [
    "checkForNEETAllDomain = test_Fail_all_EYFSPY1.groupby(['AcademicYear','allSubjecttFail']).agg({\n",
    "    'newGLD':'count', \n",
    "    'ever_NEET':'sum',\n",
    "    'Persistent_NEET':'sum'}).rename(columns={'newGLD':'count'})\n",
    "#print(checkForNEETAllDomain)\n",
    "DomainAll = checkForNEETAllDomain.reset_index()\n",
    "#failAll = failAll.drop(['allSubjecttFail'], axis=1)\n",
    "DomainAll['Category'] = \"All Domains\"\n",
    "DomainAll = DomainAll[DomainAll['allSubjecttFail'] == True].drop(['allSubjecttFail'], axis=1)\n",
    "DomainAll = tempFailAll.rename(columns={\"count\": \"Failed\"})\n",
    "print(DomainAll)\n"
   ]
  },
  {
   "cell_type": "code",
   "execution_count": null,
   "id": "48d55dee-b423-4e9a-b340-d67c5a110959",
   "metadata": {
    "tags": []
   },
   "outputs": [],
   "source": [
    "checkForNonNEETAllDomain = test_Fail_all_EYFSPY1.groupby(['AcademicYear','allSubjecttFail']).agg({\n",
    "    'newGLD':'count', \n",
    "    'ever_NEET':lambda x: (x==False).sum()}).rename(columns={'newGLD':'count',\n",
    "                                                                  'ever_NEET':'NON NEET'})\n",
    "#print(checkForNonNEETAllDomain)\n",
    "NonNEETALL = checkForNonNEETAllDomain.reset_index()\n",
    "#failAll = failAll.drop(['allSubjecttFail'], axis=1)\n",
    "NonNEETALL['Category'] = \"All Domains\"\n",
    "NonNEETALL = NonNEETALL[NonNEETALL['allSubjecttFail'] == True].drop(['allSubjecttFail'], axis=1)\n",
    "NonNEETALL = NonNEETALL.rename(columns={\"count\": \"Failed\"})\n",
    "print(NonNEETALL)"
   ]
  },
  {
   "cell_type": "code",
   "execution_count": 25,
   "id": "1970799b-ec4b-4568-bc95-ddc167a4ef47",
   "metadata": {
    "tags": []
   },
   "outputs": [
    {
     "ename": "NameError",
     "evalue": "name 'test_Fail_all_EYFSPY1' is not defined",
     "output_type": "error",
     "traceback": [
      "\u001b[0;31m---------------------------------------------------------------------------\u001b[0m",
      "\u001b[0;31mNameError\u001b[0m                                 Traceback (most recent call last)",
      "Cell \u001b[0;32mIn[25], line 1\u001b[0m\n\u001b[0;32m----> 1\u001b[0m checkForNEETCLLAS4Fail \u001b[38;5;241m=\u001b[39m \u001b[43mtest_Fail_all_EYFSPY1\u001b[49m\u001b[38;5;241m.\u001b[39mgroupby([\u001b[38;5;124m'\u001b[39m\u001b[38;5;124mAcademicYear\u001b[39m\u001b[38;5;124m'\u001b[39m,\u001b[38;5;124m'\u001b[39m\u001b[38;5;124mCLLAS4Fail\u001b[39m\u001b[38;5;124m'\u001b[39m])\u001b[38;5;241m.\u001b[39magg({\n\u001b[1;32m      2\u001b[0m     \u001b[38;5;124m'\u001b[39m\u001b[38;5;124mCLLAS4Fail\u001b[39m\u001b[38;5;124m'\u001b[39m:\u001b[38;5;124m'\u001b[39m\u001b[38;5;124msum\u001b[39m\u001b[38;5;124m'\u001b[39m,\n\u001b[1;32m      3\u001b[0m     \u001b[38;5;124m'\u001b[39m\u001b[38;5;124mever_NEET\u001b[39m\u001b[38;5;124m'\u001b[39m:\u001b[38;5;124m'\u001b[39m\u001b[38;5;124msum\u001b[39m\u001b[38;5;124m'\u001b[39m,\n\u001b[1;32m      4\u001b[0m     \u001b[38;5;124m'\u001b[39m\u001b[38;5;124mPersistent_NEET\u001b[39m\u001b[38;5;124m'\u001b[39m:\u001b[38;5;124m'\u001b[39m\u001b[38;5;124msum\u001b[39m\u001b[38;5;124m'\u001b[39m})\u001b[38;5;241m.\u001b[39mrename(columns\u001b[38;5;241m=\u001b[39m{\u001b[38;5;124m'\u001b[39m\u001b[38;5;124mCLLAS4Fail\u001b[39m\u001b[38;5;124m'\u001b[39m:\u001b[38;5;124m'\u001b[39m\u001b[38;5;124mFailed\u001b[39m\u001b[38;5;124m'\u001b[39m}) \n\u001b[1;32m      5\u001b[0m checkForNEETCLLAS4Fail\n\u001b[1;32m      6\u001b[0m temp1 \u001b[38;5;241m=\u001b[39m checkForNEETCLLAS4Fail\u001b[38;5;241m.\u001b[39mreset_index()\n",
      "\u001b[0;31mNameError\u001b[0m: name 'test_Fail_all_EYFSPY1' is not defined"
     ]
    }
   ],
   "source": [
    "checkForNEETCLLAS4Fail = test_Fail_all_EYFSPY1.groupby(['AcademicYear','CLLAS4Fail']).agg({\n",
    "    'CLLAS4Fail':'sum',\n",
    "    'ever_NEET':'sum',\n",
    "    'Persistent_NEET':'sum'}).rename(columns={'CLLAS4Fail':'Failed'}) \n",
    "checkForNEETCLLAS4Fail\n",
    "temp1 = checkForNEETCLLAS4Fail.reset_index()\n",
    "temp1 = temp1[temp1['CLLAS4Fail'] == True]\n",
    "temp1 = temp1.drop(['CLLAS4Fail'], axis=1)\n",
    "temp1['Category'] = \"Written Comm\"\n",
    "temp1"
   ]
  },
  {
   "cell_type": "code",
   "execution_count": 26,
   "id": "b317d9c5-d0da-4d05-8e44-c19ec0e11114",
   "metadata": {
    "tags": []
   },
   "outputs": [
    {
     "ename": "NameError",
     "evalue": "name 'test_Fail_all_EYFSPY1' is not defined",
     "output_type": "error",
     "traceback": [
      "\u001b[0;31m---------------------------------------------------------------------------\u001b[0m",
      "\u001b[0;31mNameError\u001b[0m                                 Traceback (most recent call last)",
      "Cell \u001b[0;32mIn[26], line 1\u001b[0m\n\u001b[0;32m----> 1\u001b[0m nonNEETCLLAS4Fail \u001b[38;5;241m=\u001b[39m \u001b[43mtest_Fail_all_EYFSPY1\u001b[49m\u001b[38;5;241m.\u001b[39mgroupby([\u001b[38;5;124m'\u001b[39m\u001b[38;5;124mAcademicYear\u001b[39m\u001b[38;5;124m'\u001b[39m,\u001b[38;5;124m'\u001b[39m\u001b[38;5;124mCLLAS4Fail\u001b[39m\u001b[38;5;124m'\u001b[39m])\u001b[38;5;241m.\u001b[39magg({\n\u001b[1;32m      2\u001b[0m     \u001b[38;5;124m'\u001b[39m\u001b[38;5;124mCLLAS4Fail\u001b[39m\u001b[38;5;124m'\u001b[39m:\u001b[38;5;124m'\u001b[39m\u001b[38;5;124msum\u001b[39m\u001b[38;5;124m'\u001b[39m,\n\u001b[1;32m      3\u001b[0m     \u001b[38;5;124m'\u001b[39m\u001b[38;5;124mever_NEET\u001b[39m\u001b[38;5;124m'\u001b[39m:\u001b[38;5;28;01mlambda\u001b[39;00m x: (x\u001b[38;5;241m==\u001b[39m\u001b[38;5;28;01mFalse\u001b[39;00m)\u001b[38;5;241m.\u001b[39msum()})\u001b[38;5;241m.\u001b[39mrename(columns\u001b[38;5;241m=\u001b[39m{\u001b[38;5;124m'\u001b[39m\u001b[38;5;124mCLLAS4Fail\u001b[39m\u001b[38;5;124m'\u001b[39m:\u001b[38;5;124m'\u001b[39m\u001b[38;5;124mFailed\u001b[39m\u001b[38;5;124m'\u001b[39m,\n\u001b[1;32m      4\u001b[0m                                                                   \u001b[38;5;124m'\u001b[39m\u001b[38;5;124mever_NEET\u001b[39m\u001b[38;5;124m'\u001b[39m:\u001b[38;5;124m'\u001b[39m\u001b[38;5;124mNON NEET\u001b[39m\u001b[38;5;124m'\u001b[39m})\n\u001b[1;32m      5\u001b[0m nonNEETCLLAS4Fail\n\u001b[1;32m      6\u001b[0m nonNEETtemp1 \u001b[38;5;241m=\u001b[39m nonNEETCLLAS4Fail\u001b[38;5;241m.\u001b[39mreset_index()\n",
      "\u001b[0;31mNameError\u001b[0m: name 'test_Fail_all_EYFSPY1' is not defined"
     ]
    }
   ],
   "source": [
    "nonNEETCLLAS4Fail = test_Fail_all_EYFSPY1.groupby(['AcademicYear','CLLAS4Fail']).agg({\n",
    "    'CLLAS4Fail':'sum',\n",
    "    'ever_NEET':lambda x: (x==False).sum()}).rename(columns={'CLLAS4Fail':'Failed',\n",
    "                                                                  'ever_NEET':'NON NEET'})\n",
    "nonNEETCLLAS4Fail\n",
    "nonNEETtemp1 = nonNEETCLLAS4Fail.reset_index()\n",
    "nonNEETtemp1 = nonNEETtemp1[nonNEETtemp1['CLLAS4Fail'] == True]\n",
    "nonNEETtemp1 = nonNEETtemp1.drop(['CLLAS4Fail'], axis=1)\n",
    "nonNEETtemp1['Category'] = \"Written Comm\"\n",
    "nonNEETtemp1"
   ]
  },
  {
   "cell_type": "code",
   "execution_count": 27,
   "id": "0e49ed06-4bb0-4161-b832-63749407a0c5",
   "metadata": {
    "tags": []
   },
   "outputs": [
    {
     "ename": "NameError",
     "evalue": "name 'test_Fail_all_EYFSPY1' is not defined",
     "output_type": "error",
     "traceback": [
      "\u001b[0;31m---------------------------------------------------------------------------\u001b[0m",
      "\u001b[0;31mNameError\u001b[0m                                 Traceback (most recent call last)",
      "Cell \u001b[0;32mIn[27], line 1\u001b[0m\n\u001b[0;32m----> 1\u001b[0m checkForNEETCLLAS2Fail \u001b[38;5;241m=\u001b[39m \u001b[43mtest_Fail_all_EYFSPY1\u001b[49m\u001b[38;5;241m.\u001b[39mgroupby([\u001b[38;5;124m'\u001b[39m\u001b[38;5;124mAcademicYear\u001b[39m\u001b[38;5;124m'\u001b[39m,\u001b[38;5;124m'\u001b[39m\u001b[38;5;124mCLLAS2Fail\u001b[39m\u001b[38;5;124m'\u001b[39m])\u001b[38;5;241m.\u001b[39magg({\n\u001b[1;32m      2\u001b[0m     \u001b[38;5;66;03m#'newGLD':lambda x: (x==False).sum(),\u001b[39;00m\n\u001b[1;32m      3\u001b[0m     \u001b[38;5;124m'\u001b[39m\u001b[38;5;124mCLLAS2Fail\u001b[39m\u001b[38;5;124m'\u001b[39m:\u001b[38;5;124m'\u001b[39m\u001b[38;5;124msum\u001b[39m\u001b[38;5;124m'\u001b[39m,\n\u001b[1;32m      4\u001b[0m     \u001b[38;5;124m'\u001b[39m\u001b[38;5;124mever_NEET\u001b[39m\u001b[38;5;124m'\u001b[39m:\u001b[38;5;124m'\u001b[39m\u001b[38;5;124msum\u001b[39m\u001b[38;5;124m'\u001b[39m,\n\u001b[1;32m      5\u001b[0m     \u001b[38;5;124m'\u001b[39m\u001b[38;5;124mPersistent_NEET\u001b[39m\u001b[38;5;124m'\u001b[39m:\u001b[38;5;124m'\u001b[39m\u001b[38;5;124msum\u001b[39m\u001b[38;5;124m'\u001b[39m})\u001b[38;5;241m.\u001b[39mrename(columns\u001b[38;5;241m=\u001b[39m{\u001b[38;5;124m'\u001b[39m\u001b[38;5;124mCLLAS2Fail\u001b[39m\u001b[38;5;124m'\u001b[39m:\u001b[38;5;124m'\u001b[39m\u001b[38;5;124mFailed\u001b[39m\u001b[38;5;124m'\u001b[39m \n\u001b[1;32m      6\u001b[0m                                               \u001b[38;5;66;03m# ,'ever_NEET':'ever_NEET_Listening_comm',\u001b[39;00m\n\u001b[1;32m      7\u001b[0m                                               \u001b[38;5;66;03m# 'Persistent_NEET':'Per_NEET_Listening_comm'\u001b[39;00m\n\u001b[1;32m      8\u001b[0m                                              })\n\u001b[1;32m      9\u001b[0m checkForNEETCLLAS2Fail\n\u001b[1;32m     10\u001b[0m temp2 \u001b[38;5;241m=\u001b[39m checkForNEETCLLAS2Fail\u001b[38;5;241m.\u001b[39mreset_index()\n",
      "\u001b[0;31mNameError\u001b[0m: name 'test_Fail_all_EYFSPY1' is not defined"
     ]
    }
   ],
   "source": [
    "checkForNEETCLLAS2Fail = test_Fail_all_EYFSPY1.groupby(['AcademicYear','CLLAS2Fail']).agg({\n",
    "    #'newGLD':lambda x: (x==False).sum(),\n",
    "    'CLLAS2Fail':'sum',\n",
    "    'ever_NEET':'sum',\n",
    "    'Persistent_NEET':'sum'}).rename(columns={'CLLAS2Fail':'Failed' \n",
    "                                              # ,'ever_NEET':'ever_NEET_Listening_comm',\n",
    "                                              # 'Persistent_NEET':'Per_NEET_Listening_comm'\n",
    "                                             })\n",
    "checkForNEETCLLAS2Fail\n",
    "temp2 = checkForNEETCLLAS2Fail.reset_index()\n",
    "temp2 = temp2[temp2['CLLAS2Fail'] == True]\n",
    "temp2 = temp2.drop(['CLLAS2Fail'], axis=1)\n",
    "temp2['Category'] = \"Listening\"\n",
    "temp2"
   ]
  },
  {
   "cell_type": "code",
   "execution_count": 28,
   "id": "2212f69f-7fdb-442a-891f-3a6aedd56663",
   "metadata": {
    "tags": []
   },
   "outputs": [
    {
     "ename": "NameError",
     "evalue": "name 'test_Fail_all_EYFSPY1' is not defined",
     "output_type": "error",
     "traceback": [
      "\u001b[0;31m---------------------------------------------------------------------------\u001b[0m",
      "\u001b[0;31mNameError\u001b[0m                                 Traceback (most recent call last)",
      "Cell \u001b[0;32mIn[28], line 1\u001b[0m\n\u001b[0;32m----> 1\u001b[0m nonNEETCLLAS2Fail \u001b[38;5;241m=\u001b[39m \u001b[43mtest_Fail_all_EYFSPY1\u001b[49m\u001b[38;5;241m.\u001b[39mgroupby([\u001b[38;5;124m'\u001b[39m\u001b[38;5;124mAcademicYear\u001b[39m\u001b[38;5;124m'\u001b[39m,\u001b[38;5;124m'\u001b[39m\u001b[38;5;124mCLLAS2Fail\u001b[39m\u001b[38;5;124m'\u001b[39m])\u001b[38;5;241m.\u001b[39magg({\n\u001b[1;32m      2\u001b[0m     \u001b[38;5;124m'\u001b[39m\u001b[38;5;124mCLLAS2Fail\u001b[39m\u001b[38;5;124m'\u001b[39m:\u001b[38;5;124m'\u001b[39m\u001b[38;5;124msum\u001b[39m\u001b[38;5;124m'\u001b[39m,\n\u001b[1;32m      3\u001b[0m     \u001b[38;5;124m'\u001b[39m\u001b[38;5;124mever_NEET\u001b[39m\u001b[38;5;124m'\u001b[39m:\u001b[38;5;28;01mlambda\u001b[39;00m x: (x\u001b[38;5;241m==\u001b[39m\u001b[38;5;28;01mFalse\u001b[39;00m)\u001b[38;5;241m.\u001b[39msum()})\u001b[38;5;241m.\u001b[39mrename(columns\u001b[38;5;241m=\u001b[39m{\u001b[38;5;124m'\u001b[39m\u001b[38;5;124mCLLAS2Fail\u001b[39m\u001b[38;5;124m'\u001b[39m:\u001b[38;5;124m'\u001b[39m\u001b[38;5;124mFailed\u001b[39m\u001b[38;5;124m'\u001b[39m,\n\u001b[1;32m      4\u001b[0m                                                                   \u001b[38;5;124m'\u001b[39m\u001b[38;5;124mever_NEET\u001b[39m\u001b[38;5;124m'\u001b[39m:\u001b[38;5;124m'\u001b[39m\u001b[38;5;124mNON NEET\u001b[39m\u001b[38;5;124m'\u001b[39m})\n\u001b[1;32m      5\u001b[0m nonNEETtemp2 \u001b[38;5;241m=\u001b[39m nonNEETCLLAS2Fail\u001b[38;5;241m.\u001b[39mreset_index()\n\u001b[1;32m      6\u001b[0m nonNEETtemp2 \u001b[38;5;241m=\u001b[39m nonNEETtemp2[nonNEETtemp2[\u001b[38;5;124m'\u001b[39m\u001b[38;5;124mCLLAS2Fail\u001b[39m\u001b[38;5;124m'\u001b[39m] \u001b[38;5;241m==\u001b[39m \u001b[38;5;28;01mTrue\u001b[39;00m]\n",
      "\u001b[0;31mNameError\u001b[0m: name 'test_Fail_all_EYFSPY1' is not defined"
     ]
    }
   ],
   "source": [
    "nonNEETCLLAS2Fail = test_Fail_all_EYFSPY1.groupby(['AcademicYear','CLLAS2Fail']).agg({\n",
    "    'CLLAS2Fail':'sum',\n",
    "    'ever_NEET':lambda x: (x==False).sum()}).rename(columns={'CLLAS2Fail':'Failed',\n",
    "                                                                  'ever_NEET':'NON NEET'})\n",
    "nonNEETtemp2 = nonNEETCLLAS2Fail.reset_index()\n",
    "nonNEETtemp2 = nonNEETtemp2[nonNEETtemp2['CLLAS2Fail'] == True]\n",
    "nonNEETtemp2 = nonNEETtemp2.drop(['CLLAS2Fail'], axis=1)\n",
    "nonNEETtemp2['Category'] = \"Listening\"\n",
    "nonNEETtemp2"
   ]
  },
  {
   "cell_type": "code",
   "execution_count": 29,
   "id": "43ecd4af-f0a0-4293-a424-abdfcb92aad8",
   "metadata": {
    "tags": []
   },
   "outputs": [
    {
     "ename": "NameError",
     "evalue": "name 'test_Fail_all_EYFSPY1' is not defined",
     "output_type": "error",
     "traceback": [
      "\u001b[0;31m---------------------------------------------------------------------------\u001b[0m",
      "\u001b[0;31mNameError\u001b[0m                                 Traceback (most recent call last)",
      "Cell \u001b[0;32mIn[29], line 1\u001b[0m\n\u001b[0;32m----> 1\u001b[0m checkForNEETPSRNAS2Fail \u001b[38;5;241m=\u001b[39m \u001b[43mtest_Fail_all_EYFSPY1\u001b[49m\u001b[38;5;241m.\u001b[39mgroupby([\u001b[38;5;124m'\u001b[39m\u001b[38;5;124mAcademicYear\u001b[39m\u001b[38;5;124m'\u001b[39m,\u001b[38;5;124m'\u001b[39m\u001b[38;5;124mPSRNAS2Fail\u001b[39m\u001b[38;5;124m'\u001b[39m])\u001b[38;5;241m.\u001b[39magg({\n\u001b[1;32m      2\u001b[0m     \u001b[38;5;66;03m#'newGLD':lambda x: (x==False).sum(),\u001b[39;00m\n\u001b[1;32m      3\u001b[0m     \u001b[38;5;124m'\u001b[39m\u001b[38;5;124mPSRNAS2Fail\u001b[39m\u001b[38;5;124m'\u001b[39m:\u001b[38;5;124m'\u001b[39m\u001b[38;5;124msum\u001b[39m\u001b[38;5;124m'\u001b[39m,\n\u001b[1;32m      4\u001b[0m     \u001b[38;5;124m'\u001b[39m\u001b[38;5;124mever_NEET\u001b[39m\u001b[38;5;124m'\u001b[39m:\u001b[38;5;124m'\u001b[39m\u001b[38;5;124msum\u001b[39m\u001b[38;5;124m'\u001b[39m,\n\u001b[1;32m      5\u001b[0m     \u001b[38;5;124m'\u001b[39m\u001b[38;5;124mPersistent_NEET\u001b[39m\u001b[38;5;124m'\u001b[39m:\u001b[38;5;124m'\u001b[39m\u001b[38;5;124msum\u001b[39m\u001b[38;5;124m'\u001b[39m})\u001b[38;5;241m.\u001b[39mrename(columns\u001b[38;5;241m=\u001b[39m{\u001b[38;5;124m'\u001b[39m\u001b[38;5;124mPSRNAS2Fail\u001b[39m\u001b[38;5;124m'\u001b[39m:\u001b[38;5;124m'\u001b[39m\u001b[38;5;124mFailed\u001b[39m\u001b[38;5;124m'\u001b[39m \n\u001b[1;32m      6\u001b[0m                                        \u001b[38;5;66;03m#       ,'ever_NEET':'ever_NEET_counting_M',\u001b[39;00m\n\u001b[1;32m      7\u001b[0m                                        \u001b[38;5;66;03m#       'Persistent_NEET':'Per_NEET_counting_M'\u001b[39;00m\n\u001b[1;32m      8\u001b[0m                                              })\n\u001b[1;32m      9\u001b[0m checkForNEETPSRNAS2Fail\n\u001b[1;32m     10\u001b[0m temp3 \u001b[38;5;241m=\u001b[39m checkForNEETPSRNAS2Fail\u001b[38;5;241m.\u001b[39mreset_index()\n",
      "\u001b[0;31mNameError\u001b[0m: name 'test_Fail_all_EYFSPY1' is not defined"
     ]
    }
   ],
   "source": [
    "checkForNEETPSRNAS2Fail = test_Fail_all_EYFSPY1.groupby(['AcademicYear','PSRNAS2Fail']).agg({\n",
    "    #'newGLD':lambda x: (x==False).sum(),\n",
    "    'PSRNAS2Fail':'sum',\n",
    "    'ever_NEET':'sum',\n",
    "    'Persistent_NEET':'sum'}).rename(columns={'PSRNAS2Fail':'Failed' \n",
    "                                       #       ,'ever_NEET':'ever_NEET_counting_M',\n",
    "                                       #       'Persistent_NEET':'Per_NEET_counting_M'\n",
    "                                             })\n",
    "checkForNEETPSRNAS2Fail\n",
    "temp3 = checkForNEETPSRNAS2Fail.reset_index()\n",
    "temp3 = temp3[temp3['PSRNAS2Fail'] == True]\n",
    "temp3 = temp3.drop(['PSRNAS2Fail'], axis=1)\n",
    "temp3['Category'] = \"Measurements\"\n",
    "temp3\n"
   ]
  },
  {
   "cell_type": "code",
   "execution_count": 30,
   "id": "7f7657c9-8ff0-4eb6-9103-59d171afd431",
   "metadata": {
    "tags": []
   },
   "outputs": [
    {
     "ename": "NameError",
     "evalue": "name 'test_Fail_all_EYFSPY1' is not defined",
     "output_type": "error",
     "traceback": [
      "\u001b[0;31m---------------------------------------------------------------------------\u001b[0m",
      "\u001b[0;31mNameError\u001b[0m                                 Traceback (most recent call last)",
      "Cell \u001b[0;32mIn[30], line 1\u001b[0m\n\u001b[0;32m----> 1\u001b[0m nonNEETPSRNAS2Fail  \u001b[38;5;241m=\u001b[39m \u001b[43mtest_Fail_all_EYFSPY1\u001b[49m\u001b[38;5;241m.\u001b[39mgroupby([\u001b[38;5;124m'\u001b[39m\u001b[38;5;124mAcademicYear\u001b[39m\u001b[38;5;124m'\u001b[39m,\u001b[38;5;124m'\u001b[39m\u001b[38;5;124mPSRNAS2Fail\u001b[39m\u001b[38;5;124m'\u001b[39m])\u001b[38;5;241m.\u001b[39magg({\n\u001b[1;32m      2\u001b[0m     \u001b[38;5;124m'\u001b[39m\u001b[38;5;124mPSRNAS2Fail\u001b[39m\u001b[38;5;124m'\u001b[39m:\u001b[38;5;124m'\u001b[39m\u001b[38;5;124msum\u001b[39m\u001b[38;5;124m'\u001b[39m,\n\u001b[1;32m      3\u001b[0m     \u001b[38;5;124m'\u001b[39m\u001b[38;5;124mever_NEET\u001b[39m\u001b[38;5;124m'\u001b[39m:\u001b[38;5;28;01mlambda\u001b[39;00m x: (x\u001b[38;5;241m==\u001b[39m\u001b[38;5;28;01mFalse\u001b[39;00m)\u001b[38;5;241m.\u001b[39msum()})\u001b[38;5;241m.\u001b[39mrename(columns\u001b[38;5;241m=\u001b[39m{\u001b[38;5;124m'\u001b[39m\u001b[38;5;124mPSRNAS2Fail\u001b[39m\u001b[38;5;124m'\u001b[39m:\u001b[38;5;124m'\u001b[39m\u001b[38;5;124mFailed\u001b[39m\u001b[38;5;124m'\u001b[39m,\n\u001b[1;32m      4\u001b[0m                                                                   \u001b[38;5;124m'\u001b[39m\u001b[38;5;124mever_NEET\u001b[39m\u001b[38;5;124m'\u001b[39m:\u001b[38;5;124m'\u001b[39m\u001b[38;5;124mNON NEET\u001b[39m\u001b[38;5;124m'\u001b[39m})\n\u001b[1;32m      5\u001b[0m nonNEETtemp3 \u001b[38;5;241m=\u001b[39m nonNEETPSRNAS2Fail\u001b[38;5;241m.\u001b[39mreset_index()\n\u001b[1;32m      6\u001b[0m nonNEETtemp3 \u001b[38;5;241m=\u001b[39m nonNEETtemp3[nonNEETtemp3[\u001b[38;5;124m'\u001b[39m\u001b[38;5;124mPSRNAS2Fail\u001b[39m\u001b[38;5;124m'\u001b[39m] \u001b[38;5;241m==\u001b[39m \u001b[38;5;28;01mTrue\u001b[39;00m]\n",
      "\u001b[0;31mNameError\u001b[0m: name 'test_Fail_all_EYFSPY1' is not defined"
     ]
    }
   ],
   "source": [
    "nonNEETPSRNAS2Fail  = test_Fail_all_EYFSPY1.groupby(['AcademicYear','PSRNAS2Fail']).agg({\n",
    "    'PSRNAS2Fail':'sum',\n",
    "    'ever_NEET':lambda x: (x==False).sum()}).rename(columns={'PSRNAS2Fail':'Failed',\n",
    "                                                                  'ever_NEET':'NON NEET'})\n",
    "nonNEETtemp3 = nonNEETPSRNAS2Fail.reset_index()\n",
    "nonNEETtemp3 = nonNEETtemp3[nonNEETtemp3['PSRNAS2Fail'] == True]\n",
    "nonNEETtemp3 = nonNEETtemp3.drop(['PSRNAS2Fail'], axis=1)\n",
    "nonNEETtemp3['Category'] = \"Measurements\"\n",
    "nonNEETtemp3"
   ]
  },
  {
   "cell_type": "code",
   "execution_count": 31,
   "id": "18d32a59-885d-4018-a416-efe3a5978d39",
   "metadata": {
    "tags": []
   },
   "outputs": [
    {
     "ename": "NameError",
     "evalue": "name 'test_Fail_all_EYFSPY1' is not defined",
     "output_type": "error",
     "traceback": [
      "\u001b[0;31m---------------------------------------------------------------------------\u001b[0m",
      "\u001b[0;31mNameError\u001b[0m                                 Traceback (most recent call last)",
      "Cell \u001b[0;32mIn[31], line 1\u001b[0m\n\u001b[0;32m----> 1\u001b[0m checkForNEETCLLAS3Fail \u001b[38;5;241m=\u001b[39m \u001b[43mtest_Fail_all_EYFSPY1\u001b[49m\u001b[38;5;241m.\u001b[39mgroupby([\u001b[38;5;124m'\u001b[39m\u001b[38;5;124mAcademicYear\u001b[39m\u001b[38;5;124m'\u001b[39m,\u001b[38;5;124m'\u001b[39m\u001b[38;5;124mCLLAS3Fail\u001b[39m\u001b[38;5;124m'\u001b[39m])\u001b[38;5;241m.\u001b[39magg({\n\u001b[1;32m      2\u001b[0m     \u001b[38;5;66;03m#'newGLD':lambda x: (x==False).sum(),\u001b[39;00m\n\u001b[1;32m      3\u001b[0m     \u001b[38;5;124m'\u001b[39m\u001b[38;5;124mCLLAS3Fail\u001b[39m\u001b[38;5;124m'\u001b[39m:\u001b[38;5;124m'\u001b[39m\u001b[38;5;124msum\u001b[39m\u001b[38;5;124m'\u001b[39m,\n\u001b[1;32m      4\u001b[0m     \u001b[38;5;124m'\u001b[39m\u001b[38;5;124mever_NEET\u001b[39m\u001b[38;5;124m'\u001b[39m:\u001b[38;5;124m'\u001b[39m\u001b[38;5;124msum\u001b[39m\u001b[38;5;124m'\u001b[39m,\n\u001b[1;32m      5\u001b[0m     \u001b[38;5;124m'\u001b[39m\u001b[38;5;124mPersistent_NEET\u001b[39m\u001b[38;5;124m'\u001b[39m:\u001b[38;5;124m'\u001b[39m\u001b[38;5;124msum\u001b[39m\u001b[38;5;124m'\u001b[39m})\u001b[38;5;241m.\u001b[39mrename(columns\u001b[38;5;241m=\u001b[39m{\u001b[38;5;124m'\u001b[39m\u001b[38;5;124mCLLAS3Fail\u001b[39m\u001b[38;5;124m'\u001b[39m:\u001b[38;5;124m'\u001b[39m\u001b[38;5;124mFailed\u001b[39m\u001b[38;5;124m'\u001b[39m \n\u001b[1;32m      6\u001b[0m                                               \u001b[38;5;66;03m#,'ever_NEET':'ever_NEET_Reading_SB',\u001b[39;00m\n\u001b[1;32m      7\u001b[0m                                               \u001b[38;5;66;03m#'Persistent_NEET':'Per_NEET_Reading_SB'\u001b[39;00m\n\u001b[1;32m      8\u001b[0m                                              })\n\u001b[1;32m      9\u001b[0m checkForNEETCLLAS3Fail\n\u001b[1;32m     10\u001b[0m temp4 \u001b[38;5;241m=\u001b[39m checkForNEETCLLAS3Fail\u001b[38;5;241m.\u001b[39mreset_index()\n",
      "\u001b[0;31mNameError\u001b[0m: name 'test_Fail_all_EYFSPY1' is not defined"
     ]
    }
   ],
   "source": [
    "checkForNEETCLLAS3Fail = test_Fail_all_EYFSPY1.groupby(['AcademicYear','CLLAS3Fail']).agg({\n",
    "    #'newGLD':lambda x: (x==False).sum(),\n",
    "    'CLLAS3Fail':'sum',\n",
    "    'ever_NEET':'sum',\n",
    "    'Persistent_NEET':'sum'}).rename(columns={'CLLAS3Fail':'Failed' \n",
    "                                              #,'ever_NEET':'ever_NEET_Reading_SB',\n",
    "                                              #'Persistent_NEET':'Per_NEET_Reading_SB'\n",
    "                                             })\n",
    "checkForNEETCLLAS3Fail\n",
    "temp4 = checkForNEETCLLAS3Fail.reset_index()\n",
    "temp4 = temp4[temp4['CLLAS3Fail'] == True]\n",
    "temp4 = temp4.drop(['CLLAS3Fail'], axis=1)\n",
    "temp4['Category'] = \"Reading SB\"\n",
    "temp4\n"
   ]
  },
  {
   "cell_type": "code",
   "execution_count": 32,
   "id": "c01657c4-bc76-447d-a143-28512dfdf015",
   "metadata": {
    "tags": []
   },
   "outputs": [
    {
     "ename": "NameError",
     "evalue": "name 'test_Fail_all_EYFSPY1' is not defined",
     "output_type": "error",
     "traceback": [
      "\u001b[0;31m---------------------------------------------------------------------------\u001b[0m",
      "\u001b[0;31mNameError\u001b[0m                                 Traceback (most recent call last)",
      "Cell \u001b[0;32mIn[32], line 1\u001b[0m\n\u001b[0;32m----> 1\u001b[0m nonNEETCLLAS3Fail  \u001b[38;5;241m=\u001b[39m \u001b[43mtest_Fail_all_EYFSPY1\u001b[49m\u001b[38;5;241m.\u001b[39mgroupby([\u001b[38;5;124m'\u001b[39m\u001b[38;5;124mAcademicYear\u001b[39m\u001b[38;5;124m'\u001b[39m,\u001b[38;5;124m'\u001b[39m\u001b[38;5;124mCLLAS3Fail\u001b[39m\u001b[38;5;124m'\u001b[39m])\u001b[38;5;241m.\u001b[39magg({\n\u001b[1;32m      2\u001b[0m     \u001b[38;5;124m'\u001b[39m\u001b[38;5;124mCLLAS3Fail\u001b[39m\u001b[38;5;124m'\u001b[39m:\u001b[38;5;124m'\u001b[39m\u001b[38;5;124msum\u001b[39m\u001b[38;5;124m'\u001b[39m,\n\u001b[1;32m      3\u001b[0m     \u001b[38;5;124m'\u001b[39m\u001b[38;5;124mever_NEET\u001b[39m\u001b[38;5;124m'\u001b[39m:\u001b[38;5;28;01mlambda\u001b[39;00m x: (x\u001b[38;5;241m==\u001b[39m\u001b[38;5;28;01mFalse\u001b[39;00m)\u001b[38;5;241m.\u001b[39msum()})\u001b[38;5;241m.\u001b[39mrename(columns\u001b[38;5;241m=\u001b[39m{\u001b[38;5;124m'\u001b[39m\u001b[38;5;124mCLLAS3Fail\u001b[39m\u001b[38;5;124m'\u001b[39m:\u001b[38;5;124m'\u001b[39m\u001b[38;5;124mFailed\u001b[39m\u001b[38;5;124m'\u001b[39m,\n\u001b[1;32m      4\u001b[0m                                                                   \u001b[38;5;124m'\u001b[39m\u001b[38;5;124mever_NEET\u001b[39m\u001b[38;5;124m'\u001b[39m:\u001b[38;5;124m'\u001b[39m\u001b[38;5;124mNON NEET\u001b[39m\u001b[38;5;124m'\u001b[39m})\n\u001b[1;32m      5\u001b[0m nonNEETtemp4 \u001b[38;5;241m=\u001b[39m nonNEETCLLAS3Fail\u001b[38;5;241m.\u001b[39mreset_index()\n\u001b[1;32m      6\u001b[0m nonNEETtemp4 \u001b[38;5;241m=\u001b[39m nonNEETtemp4[nonNEETtemp4[\u001b[38;5;124m'\u001b[39m\u001b[38;5;124mCLLAS3Fail\u001b[39m\u001b[38;5;124m'\u001b[39m] \u001b[38;5;241m==\u001b[39m \u001b[38;5;28;01mTrue\u001b[39;00m]\n",
      "\u001b[0;31mNameError\u001b[0m: name 'test_Fail_all_EYFSPY1' is not defined"
     ]
    }
   ],
   "source": [
    "nonNEETCLLAS3Fail  = test_Fail_all_EYFSPY1.groupby(['AcademicYear','CLLAS3Fail']).agg({\n",
    "    'CLLAS3Fail':'sum',\n",
    "    'ever_NEET':lambda x: (x==False).sum()}).rename(columns={'CLLAS3Fail':'Failed',\n",
    "                                                                  'ever_NEET':'NON NEET'})\n",
    "nonNEETtemp4 = nonNEETCLLAS3Fail.reset_index()\n",
    "nonNEETtemp4 = nonNEETtemp4[nonNEETtemp4['CLLAS3Fail'] == True]\n",
    "nonNEETtemp4 = nonNEETtemp4.drop(['CLLAS3Fail'], axis=1)\n",
    "nonNEETtemp4['Category'] = \"Reading SB\"\n",
    "nonNEETtemp4"
   ]
  },
  {
   "cell_type": "code",
   "execution_count": 33,
   "id": "1dee1f59-60f4-49b4-adfc-ce17c31de8ce",
   "metadata": {
    "tags": []
   },
   "outputs": [
    {
     "ename": "NameError",
     "evalue": "name 'test_Fail_all_EYFSPY1' is not defined",
     "output_type": "error",
     "traceback": [
      "\u001b[0;31m---------------------------------------------------------------------------\u001b[0m",
      "\u001b[0;31mNameError\u001b[0m                                 Traceback (most recent call last)",
      "Cell \u001b[0;32mIn[33], line 1\u001b[0m\n\u001b[0;32m----> 1\u001b[0m checkForNEETPSEAS3Fail \u001b[38;5;241m=\u001b[39m \u001b[43mtest_Fail_all_EYFSPY1\u001b[49m\u001b[38;5;241m.\u001b[39mgroupby([\u001b[38;5;124m'\u001b[39m\u001b[38;5;124mAcademicYear\u001b[39m\u001b[38;5;124m'\u001b[39m,\u001b[38;5;124m'\u001b[39m\u001b[38;5;124mPSEAS3Fail\u001b[39m\u001b[38;5;124m'\u001b[39m])\u001b[38;5;241m.\u001b[39magg({\n\u001b[1;32m      2\u001b[0m     \u001b[38;5;66;03m#'newGLD':lambda x: (x==False).sum(),\u001b[39;00m\n\u001b[1;32m      3\u001b[0m     \u001b[38;5;124m'\u001b[39m\u001b[38;5;124mPSEAS3Fail\u001b[39m\u001b[38;5;124m'\u001b[39m:\u001b[38;5;124m'\u001b[39m\u001b[38;5;124msum\u001b[39m\u001b[38;5;124m'\u001b[39m,\n\u001b[1;32m      4\u001b[0m     \u001b[38;5;124m'\u001b[39m\u001b[38;5;124mever_NEET\u001b[39m\u001b[38;5;124m'\u001b[39m:\u001b[38;5;124m'\u001b[39m\u001b[38;5;124msum\u001b[39m\u001b[38;5;124m'\u001b[39m,\n\u001b[1;32m      5\u001b[0m     \u001b[38;5;124m'\u001b[39m\u001b[38;5;124mPersistent_NEET\u001b[39m\u001b[38;5;124m'\u001b[39m:\u001b[38;5;124m'\u001b[39m\u001b[38;5;124msum\u001b[39m\u001b[38;5;124m'\u001b[39m})\u001b[38;5;241m.\u001b[39mrename(columns\u001b[38;5;241m=\u001b[39m{\u001b[38;5;124m'\u001b[39m\u001b[38;5;124mPSEAS3Fail\u001b[39m\u001b[38;5;124m'\u001b[39m:\u001b[38;5;124m'\u001b[39m\u001b[38;5;124mFailed\u001b[39m\u001b[38;5;124m'\u001b[39m \n\u001b[1;32m      6\u001b[0m                                               \u001b[38;5;66;03m#,'ever_NEET':'ever_NEET_Reading_SB',\u001b[39;00m\n\u001b[1;32m      7\u001b[0m                                               \u001b[38;5;66;03m#'Persistent_NEET':'Per_NEET_Reading_SB'\u001b[39;00m\n\u001b[1;32m      8\u001b[0m                                              })\n\u001b[1;32m      9\u001b[0m checkForNEETPSEAS3Fail\n\u001b[1;32m     10\u001b[0m temp5 \u001b[38;5;241m=\u001b[39m checkForNEETPSEAS3Fail\u001b[38;5;241m.\u001b[39mreset_index()\n",
      "\u001b[0;31mNameError\u001b[0m: name 'test_Fail_all_EYFSPY1' is not defined"
     ]
    }
   ],
   "source": [
    "checkForNEETPSEAS3Fail = test_Fail_all_EYFSPY1.groupby(['AcademicYear','PSEAS3Fail']).agg({\n",
    "    #'newGLD':lambda x: (x==False).sum(),\n",
    "    'PSEAS3Fail':'sum',\n",
    "    'ever_NEET':'sum',\n",
    "    'Persistent_NEET':'sum'}).rename(columns={'PSEAS3Fail':'Failed' \n",
    "                                              #,'ever_NEET':'ever_NEET_Reading_SB',\n",
    "                                              #'Persistent_NEET':'Per_NEET_Reading_SB'\n",
    "                                             })\n",
    "checkForNEETPSEAS3Fail\n",
    "temp5 = checkForNEETPSEAS3Fail.reset_index()\n",
    "temp5 = temp5[temp5['PSEAS3Fail'] == True]\n",
    "temp5 = temp5.drop(['PSEAS3Fail'], axis=1)\n",
    "temp5['Category'] = \"Emotional Dpt\"\n",
    "temp5\n"
   ]
  },
  {
   "cell_type": "code",
   "execution_count": 34,
   "id": "c1c3870f-117c-4d5f-9481-a7b6d5d07228",
   "metadata": {
    "tags": []
   },
   "outputs": [
    {
     "ename": "NameError",
     "evalue": "name 'test_Fail_all_EYFSPY1' is not defined",
     "output_type": "error",
     "traceback": [
      "\u001b[0;31m---------------------------------------------------------------------------\u001b[0m",
      "\u001b[0;31mNameError\u001b[0m                                 Traceback (most recent call last)",
      "Cell \u001b[0;32mIn[34], line 1\u001b[0m\n\u001b[0;32m----> 1\u001b[0m nonNEETPSEAS3Fail  \u001b[38;5;241m=\u001b[39m \u001b[43mtest_Fail_all_EYFSPY1\u001b[49m\u001b[38;5;241m.\u001b[39mgroupby([\u001b[38;5;124m'\u001b[39m\u001b[38;5;124mAcademicYear\u001b[39m\u001b[38;5;124m'\u001b[39m,\u001b[38;5;124m'\u001b[39m\u001b[38;5;124mPSEAS3Fail\u001b[39m\u001b[38;5;124m'\u001b[39m])\u001b[38;5;241m.\u001b[39magg({\n\u001b[1;32m      2\u001b[0m     \u001b[38;5;124m'\u001b[39m\u001b[38;5;124mPSEAS3Fail\u001b[39m\u001b[38;5;124m'\u001b[39m:\u001b[38;5;124m'\u001b[39m\u001b[38;5;124msum\u001b[39m\u001b[38;5;124m'\u001b[39m,\n\u001b[1;32m      3\u001b[0m     \u001b[38;5;124m'\u001b[39m\u001b[38;5;124mever_NEET\u001b[39m\u001b[38;5;124m'\u001b[39m:\u001b[38;5;28;01mlambda\u001b[39;00m x: (x\u001b[38;5;241m==\u001b[39m\u001b[38;5;28;01mFalse\u001b[39;00m)\u001b[38;5;241m.\u001b[39msum()})\u001b[38;5;241m.\u001b[39mrename(columns\u001b[38;5;241m=\u001b[39m{\u001b[38;5;124m'\u001b[39m\u001b[38;5;124mPSEAS3Fail\u001b[39m\u001b[38;5;124m'\u001b[39m:\u001b[38;5;124m'\u001b[39m\u001b[38;5;124mFailed\u001b[39m\u001b[38;5;124m'\u001b[39m,\n\u001b[1;32m      4\u001b[0m                                                                   \u001b[38;5;124m'\u001b[39m\u001b[38;5;124mever_NEET\u001b[39m\u001b[38;5;124m'\u001b[39m:\u001b[38;5;124m'\u001b[39m\u001b[38;5;124mNON NEET\u001b[39m\u001b[38;5;124m'\u001b[39m})\n\u001b[1;32m      5\u001b[0m nonNEETtemp5 \u001b[38;5;241m=\u001b[39m nonNEETPSEAS3Fail\u001b[38;5;241m.\u001b[39mreset_index()\n\u001b[1;32m      6\u001b[0m nonNEETtemp5 \u001b[38;5;241m=\u001b[39m nonNEETtemp5[nonNEETtemp5[\u001b[38;5;124m'\u001b[39m\u001b[38;5;124mPSEAS3Fail\u001b[39m\u001b[38;5;124m'\u001b[39m] \u001b[38;5;241m==\u001b[39m \u001b[38;5;28;01mTrue\u001b[39;00m]\n",
      "\u001b[0;31mNameError\u001b[0m: name 'test_Fail_all_EYFSPY1' is not defined"
     ]
    }
   ],
   "source": [
    "nonNEETPSEAS3Fail  = test_Fail_all_EYFSPY1.groupby(['AcademicYear','PSEAS3Fail']).agg({\n",
    "    'PSEAS3Fail':'sum',\n",
    "    'ever_NEET':lambda x: (x==False).sum()}).rename(columns={'PSEAS3Fail':'Failed',\n",
    "                                                                  'ever_NEET':'NON NEET'})\n",
    "nonNEETtemp5 = nonNEETPSEAS3Fail.reset_index()\n",
    "nonNEETtemp5 = nonNEETtemp5[nonNEETtemp5['PSEAS3Fail'] == True]\n",
    "nonNEETtemp5 = nonNEETtemp5.drop(['PSEAS3Fail'], axis=1)\n",
    "nonNEETtemp5['Category'] = \"Emotional Dpt\"\n",
    "nonNEETtemp5"
   ]
  },
  {
   "cell_type": "code",
   "execution_count": 35,
   "id": "9371d7ae-8670-464c-a78a-3e0830e97ebe",
   "metadata": {
    "tags": []
   },
   "outputs": [
    {
     "ename": "NameError",
     "evalue": "name 'test_Fail_all_EYFSPY1' is not defined",
     "output_type": "error",
     "traceback": [
      "\u001b[0;31m---------------------------------------------------------------------------\u001b[0m",
      "\u001b[0;31mNameError\u001b[0m                                 Traceback (most recent call last)",
      "Cell \u001b[0;32mIn[35], line 1\u001b[0m\n\u001b[0;32m----> 1\u001b[0m checkForNEETRKUWFail \u001b[38;5;241m=\u001b[39m \u001b[43mtest_Fail_all_EYFSPY1\u001b[49m\u001b[38;5;241m.\u001b[39mgroupby([\u001b[38;5;124m'\u001b[39m\u001b[38;5;124mAcademicYear\u001b[39m\u001b[38;5;124m'\u001b[39m,\u001b[38;5;124m'\u001b[39m\u001b[38;5;124mRKUWFail\u001b[39m\u001b[38;5;124m'\u001b[39m])\u001b[38;5;241m.\u001b[39magg({\n\u001b[1;32m      2\u001b[0m     \u001b[38;5;66;03m#'newGLD':lambda x: (x==False).sum(),\u001b[39;00m\n\u001b[1;32m      3\u001b[0m     \u001b[38;5;124m'\u001b[39m\u001b[38;5;124mRKUWFail\u001b[39m\u001b[38;5;124m'\u001b[39m:\u001b[38;5;124m'\u001b[39m\u001b[38;5;124msum\u001b[39m\u001b[38;5;124m'\u001b[39m,\n\u001b[1;32m      4\u001b[0m     \u001b[38;5;124m'\u001b[39m\u001b[38;5;124mever_NEET\u001b[39m\u001b[38;5;124m'\u001b[39m:\u001b[38;5;124m'\u001b[39m\u001b[38;5;124msum\u001b[39m\u001b[38;5;124m'\u001b[39m,\n\u001b[1;32m      5\u001b[0m     \u001b[38;5;124m'\u001b[39m\u001b[38;5;124mPersistent_NEET\u001b[39m\u001b[38;5;124m'\u001b[39m:\u001b[38;5;124m'\u001b[39m\u001b[38;5;124msum\u001b[39m\u001b[38;5;124m'\u001b[39m})\u001b[38;5;241m.\u001b[39mrename(columns\u001b[38;5;241m=\u001b[39m{\u001b[38;5;124m'\u001b[39m\u001b[38;5;124mRKUWFail\u001b[39m\u001b[38;5;124m'\u001b[39m:\u001b[38;5;124m'\u001b[39m\u001b[38;5;124mFailed\u001b[39m\u001b[38;5;124m'\u001b[39m \n\u001b[1;32m      6\u001b[0m                                               \u001b[38;5;66;03m#,'ever_NEET':'ever_NEET_Reading_SB',\u001b[39;00m\n\u001b[1;32m      7\u001b[0m                                               \u001b[38;5;66;03m#'Persistent_NEET':'Per_NEET_Reading_SB'\u001b[39;00m\n\u001b[1;32m      8\u001b[0m                                              })\n\u001b[1;32m      9\u001b[0m checkForNEETRKUWFail\n\u001b[1;32m     10\u001b[0m temp6 \u001b[38;5;241m=\u001b[39m checkForNEETRKUWFail\u001b[38;5;241m.\u001b[39mreset_index()\n",
      "\u001b[0;31mNameError\u001b[0m: name 'test_Fail_all_EYFSPY1' is not defined"
     ]
    }
   ],
   "source": [
    "checkForNEETRKUWFail = test_Fail_all_EYFSPY1.groupby(['AcademicYear','RKUWFail']).agg({\n",
    "    #'newGLD':lambda x: (x==False).sum(),\n",
    "    'RKUWFail':'sum',\n",
    "    'ever_NEET':'sum',\n",
    "    'Persistent_NEET':'sum'}).rename(columns={'RKUWFail':'Failed' \n",
    "                                              #,'ever_NEET':'ever_NEET_Reading_SB',\n",
    "                                              #'Persistent_NEET':'Per_NEET_Reading_SB'\n",
    "                                             })\n",
    "checkForNEETRKUWFail\n",
    "temp6 = checkForNEETRKUWFail.reset_index()\n",
    "temp6 = temp6[temp6['RKUWFail'] == True]\n",
    "temp6 = temp6.drop(['RKUWFail'], axis=1)\n",
    "temp6['Category'] = \"Understanding the World\"\n",
    "temp6"
   ]
  },
  {
   "cell_type": "code",
   "execution_count": 36,
   "id": "698d9fc1-ae21-4706-8165-c08354cc54d5",
   "metadata": {
    "tags": []
   },
   "outputs": [
    {
     "ename": "NameError",
     "evalue": "name 'test_Fail_all_EYFSPY1' is not defined",
     "output_type": "error",
     "traceback": [
      "\u001b[0;31m---------------------------------------------------------------------------\u001b[0m",
      "\u001b[0;31mNameError\u001b[0m                                 Traceback (most recent call last)",
      "Cell \u001b[0;32mIn[36], line 1\u001b[0m\n\u001b[0;32m----> 1\u001b[0m nonNEETRKUWFail  \u001b[38;5;241m=\u001b[39m \u001b[43mtest_Fail_all_EYFSPY1\u001b[49m\u001b[38;5;241m.\u001b[39mgroupby([\u001b[38;5;124m'\u001b[39m\u001b[38;5;124mAcademicYear\u001b[39m\u001b[38;5;124m'\u001b[39m,\u001b[38;5;124m'\u001b[39m\u001b[38;5;124mRKUWFail\u001b[39m\u001b[38;5;124m'\u001b[39m])\u001b[38;5;241m.\u001b[39magg({\n\u001b[1;32m      2\u001b[0m     \u001b[38;5;124m'\u001b[39m\u001b[38;5;124mRKUWFail\u001b[39m\u001b[38;5;124m'\u001b[39m:\u001b[38;5;124m'\u001b[39m\u001b[38;5;124msum\u001b[39m\u001b[38;5;124m'\u001b[39m,\n\u001b[1;32m      3\u001b[0m     \u001b[38;5;124m'\u001b[39m\u001b[38;5;124mever_NEET\u001b[39m\u001b[38;5;124m'\u001b[39m:\u001b[38;5;28;01mlambda\u001b[39;00m x: (x\u001b[38;5;241m==\u001b[39m\u001b[38;5;28;01mFalse\u001b[39;00m)\u001b[38;5;241m.\u001b[39msum()})\u001b[38;5;241m.\u001b[39mrename(columns\u001b[38;5;241m=\u001b[39m{\u001b[38;5;124m'\u001b[39m\u001b[38;5;124mRKUWFail\u001b[39m\u001b[38;5;124m'\u001b[39m:\u001b[38;5;124m'\u001b[39m\u001b[38;5;124mFailed\u001b[39m\u001b[38;5;124m'\u001b[39m,\n\u001b[1;32m      4\u001b[0m                                                                   \u001b[38;5;124m'\u001b[39m\u001b[38;5;124mever_NEET\u001b[39m\u001b[38;5;124m'\u001b[39m:\u001b[38;5;124m'\u001b[39m\u001b[38;5;124mNON NEET\u001b[39m\u001b[38;5;124m'\u001b[39m})\n\u001b[1;32m      5\u001b[0m nonNEETtemp6 \u001b[38;5;241m=\u001b[39m nonNEETRKUWFail\u001b[38;5;241m.\u001b[39mreset_index()\n\u001b[1;32m      6\u001b[0m nonNEETtemp6 \u001b[38;5;241m=\u001b[39m nonNEETtemp6[nonNEETtemp6[\u001b[38;5;124m'\u001b[39m\u001b[38;5;124mRKUWFail\u001b[39m\u001b[38;5;124m'\u001b[39m] \u001b[38;5;241m==\u001b[39m \u001b[38;5;28;01mTrue\u001b[39;00m]\n",
      "\u001b[0;31mNameError\u001b[0m: name 'test_Fail_all_EYFSPY1' is not defined"
     ]
    }
   ],
   "source": [
    "nonNEETRKUWFail  = test_Fail_all_EYFSPY1.groupby(['AcademicYear','RKUWFail']).agg({\n",
    "    'RKUWFail':'sum',\n",
    "    'ever_NEET':lambda x: (x==False).sum()}).rename(columns={'RKUWFail':'Failed',\n",
    "                                                                  'ever_NEET':'NON NEET'})\n",
    "nonNEETtemp6 = nonNEETRKUWFail.reset_index()\n",
    "nonNEETtemp6 = nonNEETtemp6[nonNEETtemp6['RKUWFail'] == True]\n",
    "nonNEETtemp6 = nonNEETtemp6.drop(['RKUWFail'], axis=1)\n",
    "nonNEETtemp6['Category'] = \"Emotional Dpt\"\n",
    "nonNEETtemp6"
   ]
  },
  {
   "cell_type": "code",
   "execution_count": 37,
   "id": "d14c82f6-361c-4de9-9db0-42722a7db390",
   "metadata": {
    "tags": []
   },
   "outputs": [
    {
     "ename": "NameError",
     "evalue": "name 'DomainAll' is not defined",
     "output_type": "error",
     "traceback": [
      "\u001b[0;31m---------------------------------------------------------------------------\u001b[0m",
      "\u001b[0;31mNameError\u001b[0m                                 Traceback (most recent call last)",
      "Cell \u001b[0;32mIn[37], line 1\u001b[0m\n\u001b[0;32m----> 1\u001b[0m FailAllStats \u001b[38;5;241m=\u001b[39m pd\u001b[38;5;241m.\u001b[39mconcat([\u001b[43mDomainAll\u001b[49m,temp1,temp3,temp2,temp4,temp5,temp6])\n\u001b[1;32m      2\u001b[0m FailAllStats\n",
      "\u001b[0;31mNameError\u001b[0m: name 'DomainAll' is not defined"
     ]
    }
   ],
   "source": [
    "FailAllStats = pd.concat([DomainAll,temp1,temp3,temp2,temp4,temp5,temp6])\n",
    "FailAllStats\n"
   ]
  },
  {
   "cell_type": "code",
   "execution_count": 38,
   "id": "0518d329-8f28-46a7-b303-505628b29b87",
   "metadata": {
    "tags": []
   },
   "outputs": [
    {
     "ename": "NameError",
     "evalue": "name 'NonNEETALL' is not defined",
     "output_type": "error",
     "traceback": [
      "\u001b[0;31m---------------------------------------------------------------------------\u001b[0m",
      "\u001b[0;31mNameError\u001b[0m                                 Traceback (most recent call last)",
      "Cell \u001b[0;32mIn[38], line 1\u001b[0m\n\u001b[0;32m----> 1\u001b[0m FailAllNONNEETStats \u001b[38;5;241m=\u001b[39m pd\u001b[38;5;241m.\u001b[39mconcat([\u001b[43mNonNEETALL\u001b[49m,nonNEETtemp1,nonNEETtemp3,nonNEETtemp2,nonNEETtemp4,nonNEETtemp5,nonNEETtemp6])\n\u001b[1;32m      2\u001b[0m FailAllNONNEETStats\n",
      "\u001b[0;31mNameError\u001b[0m: name 'NonNEETALL' is not defined"
     ]
    }
   ],
   "source": [
    "FailAllNONNEETStats = pd.concat([NonNEETALL,nonNEETtemp1,nonNEETtemp3,nonNEETtemp2,nonNEETtemp4,nonNEETtemp5,nonNEETtemp6])\n",
    "FailAllNONNEETStats"
   ]
  },
  {
   "cell_type": "code",
   "execution_count": null,
   "id": "974ff4d6-1448-4f6e-9c30-4a0f77761c4e",
   "metadata": {
    "tags": []
   },
   "outputs": [],
   "source": [
    "\n",
    "rfs = FailAllStats.drop(['AcademicYear'],axis=1)\n",
    "rfs1 = pd.melt(rfs, id_vars = \"Category\")\n",
    "#dfs1\n",
    "rfs1 = rfs1.rename(columns={\"variable\": \"Failed Count\"})\n",
    "\n",
    "# #print(dfs1)\n",
    "# fig, ax = plt.subplots(figsize=(17, 10))\n",
    "# fig.patch.set_visible(False)\n",
    "\n",
    "g=sns.catplot(x = 'Category', y='value',hue = 'Failed Count',data=rfs1, kind='bar', width = 1, legend=True, height=6, aspect=2, palette = 'pastel')\n",
    "ax = g.facet_axis(0, 0)  # or ax = g.axes.flat[0]\n",
    "\n",
    "# iterate through the axes containers\n",
    "for c in ax.containers:\n",
    "    labels = [f'{(v.get_height() ):.1f}' for v in c]\n",
    "    ax.bar_label(c, labels=labels, label_type='edge')\n",
    "#sns.despine()\n",
    "plt.title(\"Top 5 Domain wise Failure NEET count\")\n",
    "plt.xlabel(\"Count of Failure Domain wise and NEET Count per Domain Failure\")\n",
    "#plt.xticks(rotation=90)\n",
    "plt.show()\n",
    "\n",
    "\n",
    "\n",
    "\n",
    "tfs = FailAllNONNEETStats.drop(['AcademicYear'],axis=1)\n",
    "tfs1 = pd.melt(tfs, id_vars = \"Category\")\n",
    "#dfs1\n",
    "tfs1 = tfs1.rename(columns={\"variable\": \"Failed Count\"})\n",
    "\n",
    "g=sns.catplot(x = 'Category', y='value',hue = 'Failed Count',data=tfs1, kind='bar', width = 1, legend=True, height=6, aspect=2)\n",
    "ax = g.facet_axis(0, 0)  # or ax = g.axes.flat[0]\n",
    "\n",
    "# iterate through the axes containers\n",
    "for c in ax.containers:\n",
    "    labels = [f'{(v.get_height() ):.1f}' for v in c]\n",
    "    ax.bar_label(c, labels=labels, label_type='edge')\n",
    "#sns.despine()\n",
    "plt.title(\"Top 5 Domain wise Failure NON NEET count\")\n",
    "plt.xlabel(\"Count of Failure Domain wise and NON NEET Count per Domain Failure\")\n",
    "#plt.xticks(rotation=90)\n",
    "plt.show()\n",
    "\n",
    "\n",
    "\n"
   ]
  },
  {
   "cell_type": "code",
   "execution_count": 39,
   "id": "39c0ab8b-c4e1-49e6-ad87-8ffb386f3818",
   "metadata": {
    "tags": []
   },
   "outputs": [
    {
     "ename": "NameError",
     "evalue": "name 'test_Fail_all_EYFSPY1' is not defined",
     "output_type": "error",
     "traceback": [
      "\u001b[0;31m---------------------------------------------------------------------------\u001b[0m",
      "\u001b[0;31mNameError\u001b[0m                                 Traceback (most recent call last)",
      "Cell \u001b[0;32mIn[39], line 1\u001b[0m\n\u001b[0;32m----> 1\u001b[0m graphFail \u001b[38;5;241m=\u001b[39m  \u001b[43mtest_Fail_all_EYFSPY1\u001b[49m\u001b[38;5;241m.\u001b[39mgroupby([\u001b[38;5;124m'\u001b[39m\u001b[38;5;124mAcademicYear\u001b[39m\u001b[38;5;124m'\u001b[39m,\u001b[38;5;124m'\u001b[39m\u001b[38;5;124mGender\u001b[39m\u001b[38;5;124m'\u001b[39m])\u001b[38;5;241m.\u001b[39magg({\n\u001b[1;32m      2\u001b[0m     \u001b[38;5;124m'\u001b[39m\u001b[38;5;124mGender\u001b[39m\u001b[38;5;124m'\u001b[39m:\u001b[38;5;124m'\u001b[39m\u001b[38;5;124mcount\u001b[39m\u001b[38;5;124m'\u001b[39m, \n\u001b[1;32m      3\u001b[0m     \u001b[38;5;124m'\u001b[39m\u001b[38;5;124mnewGLD\u001b[39m\u001b[38;5;124m'\u001b[39m:\u001b[38;5;28;01mlambda\u001b[39;00m x: (x\u001b[38;5;241m==\u001b[39m\u001b[38;5;28;01mFalse\u001b[39;00m)\u001b[38;5;241m.\u001b[39msum(),\n\u001b[1;32m      4\u001b[0m     \u001b[38;5;124m'\u001b[39m\u001b[38;5;124mever_NEET\u001b[39m\u001b[38;5;124m'\u001b[39m:\u001b[38;5;124m'\u001b[39m\u001b[38;5;124msum\u001b[39m\u001b[38;5;124m'\u001b[39m,\n\u001b[1;32m      5\u001b[0m     \u001b[38;5;124m'\u001b[39m\u001b[38;5;124mPersistent_NEET\u001b[39m\u001b[38;5;124m'\u001b[39m:\u001b[38;5;124m'\u001b[39m\u001b[38;5;124msum\u001b[39m\u001b[38;5;124m'\u001b[39m,\n\u001b[1;32m      6\u001b[0m     \u001b[38;5;124m'\u001b[39m\u001b[38;5;124mallSubjecttFail\u001b[39m\u001b[38;5;124m'\u001b[39m:\u001b[38;5;124m'\u001b[39m\u001b[38;5;124msum\u001b[39m\u001b[38;5;124m'\u001b[39m,\n\u001b[1;32m      7\u001b[0m     \u001b[38;5;124m'\u001b[39m\u001b[38;5;124mPSEAS1Fail\u001b[39m\u001b[38;5;124m'\u001b[39m:\u001b[38;5;124m'\u001b[39m\u001b[38;5;124msum\u001b[39m\u001b[38;5;124m'\u001b[39m,\n\u001b[1;32m      8\u001b[0m     \u001b[38;5;124m'\u001b[39m\u001b[38;5;124mPSEAS2Fail\u001b[39m\u001b[38;5;124m'\u001b[39m:\u001b[38;5;124m'\u001b[39m\u001b[38;5;124msum\u001b[39m\u001b[38;5;124m'\u001b[39m,\n\u001b[1;32m      9\u001b[0m     \u001b[38;5;124m'\u001b[39m\u001b[38;5;124mPSEAS3Fail\u001b[39m\u001b[38;5;124m'\u001b[39m:\u001b[38;5;124m'\u001b[39m\u001b[38;5;124msum\u001b[39m\u001b[38;5;124m'\u001b[39m,\n\u001b[1;32m     10\u001b[0m     \u001b[38;5;124m'\u001b[39m\u001b[38;5;124mCLLAS1Fail\u001b[39m\u001b[38;5;124m'\u001b[39m:\u001b[38;5;124m'\u001b[39m\u001b[38;5;124msum\u001b[39m\u001b[38;5;124m'\u001b[39m,\n\u001b[1;32m     11\u001b[0m     \u001b[38;5;124m'\u001b[39m\u001b[38;5;124mCLLAS2Fail\u001b[39m\u001b[38;5;124m'\u001b[39m:\u001b[38;5;124m'\u001b[39m\u001b[38;5;124msum\u001b[39m\u001b[38;5;124m'\u001b[39m,\n\u001b[1;32m     12\u001b[0m     \u001b[38;5;124m'\u001b[39m\u001b[38;5;124mCLLAS3Fail\u001b[39m\u001b[38;5;124m'\u001b[39m:\u001b[38;5;124m'\u001b[39m\u001b[38;5;124msum\u001b[39m\u001b[38;5;124m'\u001b[39m,\n\u001b[1;32m     13\u001b[0m     \u001b[38;5;124m'\u001b[39m\u001b[38;5;124mCLLAS4Fail\u001b[39m\u001b[38;5;124m'\u001b[39m:\u001b[38;5;124m'\u001b[39m\u001b[38;5;124msum\u001b[39m\u001b[38;5;124m'\u001b[39m,\n\u001b[1;32m     14\u001b[0m     \u001b[38;5;124m'\u001b[39m\u001b[38;5;124mPSRNAS1Fail\u001b[39m\u001b[38;5;124m'\u001b[39m:\u001b[38;5;124m'\u001b[39m\u001b[38;5;124msum\u001b[39m\u001b[38;5;124m'\u001b[39m,\n\u001b[1;32m     15\u001b[0m     \u001b[38;5;124m'\u001b[39m\u001b[38;5;124mPSRNAS2Fail\u001b[39m\u001b[38;5;124m'\u001b[39m:\u001b[38;5;124m'\u001b[39m\u001b[38;5;124msum\u001b[39m\u001b[38;5;124m'\u001b[39m,\n\u001b[1;32m     16\u001b[0m     \u001b[38;5;124m'\u001b[39m\u001b[38;5;124mPSRNAS3Fail\u001b[39m\u001b[38;5;124m'\u001b[39m:\u001b[38;5;124m'\u001b[39m\u001b[38;5;124msum\u001b[39m\u001b[38;5;124m'\u001b[39m,\n\u001b[1;32m     17\u001b[0m     \u001b[38;5;124m'\u001b[39m\u001b[38;5;124mRKUWFail\u001b[39m\u001b[38;5;124m'\u001b[39m:\u001b[38;5;124m'\u001b[39m\u001b[38;5;124msum\u001b[39m\u001b[38;5;124m'\u001b[39m,\n\u001b[1;32m     18\u001b[0m     \u001b[38;5;124m'\u001b[39m\u001b[38;5;124mRICDFail\u001b[39m\u001b[38;5;124m'\u001b[39m:\u001b[38;5;124m'\u001b[39m\u001b[38;5;124msum\u001b[39m\u001b[38;5;124m'\u001b[39m,\n\u001b[1;32m     19\u001b[0m     \u001b[38;5;124m'\u001b[39m\u001b[38;5;124mRIPDFail\u001b[39m\u001b[38;5;124m'\u001b[39m:\u001b[38;5;124m'\u001b[39m\u001b[38;5;124msum\u001b[39m\u001b[38;5;124m'\u001b[39m\n\u001b[1;32m     20\u001b[0m     })\u001b[38;5;241m.\u001b[39mrename(columns\u001b[38;5;241m=\u001b[39m{\u001b[38;5;124m'\u001b[39m\u001b[38;5;124mGender\u001b[39m\u001b[38;5;124m'\u001b[39m:\u001b[38;5;124m'\u001b[39m\u001b[38;5;124mByGender\u001b[39m\u001b[38;5;124m'\u001b[39m})\n\u001b[1;32m     21\u001b[0m graphFail\n",
      "\u001b[0;31mNameError\u001b[0m: name 'test_Fail_all_EYFSPY1' is not defined"
     ]
    }
   ],
   "source": [
    "graphFail =  test_Fail_all_EYFSPY1.groupby(['AcademicYear','Gender']).agg({\n",
    "    'Gender':'count', \n",
    "    'newGLD':lambda x: (x==False).sum(),\n",
    "    'ever_NEET':'sum',\n",
    "    'Persistent_NEET':'sum',\n",
    "    'allSubjecttFail':'sum',\n",
    "    'PSEAS1Fail':'sum',\n",
    "    'PSEAS2Fail':'sum',\n",
    "    'PSEAS3Fail':'sum',\n",
    "    'CLLAS1Fail':'sum',\n",
    "    'CLLAS2Fail':'sum',\n",
    "    'CLLAS3Fail':'sum',\n",
    "    'CLLAS4Fail':'sum',\n",
    "    'PSRNAS1Fail':'sum',\n",
    "    'PSRNAS2Fail':'sum',\n",
    "    'PSRNAS3Fail':'sum',\n",
    "    'RKUWFail':'sum',\n",
    "    'RICDFail':'sum',\n",
    "    'RIPDFail':'sum'\n",
    "    }).rename(columns={'Gender':'ByGender'})\n",
    "graphFail\n"
   ]
  },
  {
   "cell_type": "code",
   "execution_count": 40,
   "id": "48f04254-d830-45a0-bd38-ef2abfa790b1",
   "metadata": {
    "tags": []
   },
   "outputs": [
    {
     "ename": "NameError",
     "evalue": "name 'graphFail' is not defined",
     "output_type": "error",
     "traceback": [
      "\u001b[0;31m---------------------------------------------------------------------------\u001b[0m",
      "\u001b[0;31mNameError\u001b[0m                                 Traceback (most recent call last)",
      "Cell \u001b[0;32mIn[40], line 1\u001b[0m\n\u001b[0;32m----> 1\u001b[0m sumvalFail \u001b[38;5;241m=\u001b[39m (\u001b[43mgraphFail\u001b[49m\u001b[38;5;241m/\u001b[39m\u001b[38;5;241m8205\u001b[39m)\u001b[38;5;241m*\u001b[39m\u001b[38;5;241m100\u001b[39m\n\u001b[1;32m      2\u001b[0m sumvalFail   \n",
      "\u001b[0;31mNameError\u001b[0m: name 'graphFail' is not defined"
     ]
    }
   ],
   "source": [
    "sumvalFail = (graphFail/8205)*100\n",
    "sumvalFail   "
   ]
  },
  {
   "cell_type": "code",
   "execution_count": null,
   "id": "9bcee777-0e21-4331-89a6-d4b9eab6d6a1",
   "metadata": {
    "tags": []
   },
   "outputs": [],
   "source": [
    "# subjectFailOver = sumvalFail.reset_index()\n",
    "# subjectFailOver.drop(subjectFailOver.tail(2).index,\n",
    "#         inplace = True)\n",
    "# subjectFailOverFemale = subjectFailOver.query(\"Gender.str.contains('F')\")\n",
    "# subjectFailOverMale = subjectFailOver.query(\"Gender.str.contains('M')\")\n",
    "\n",
    "# subjectFailOverFemale= subjectFailOverFemale[['allSubjecttFail','PSEAS1Fail','PSEAS2Fail','PSEAS3Fail','CLLAS1Fail','CLLAS2Fail','CLLAS3Fail','CLLAS4Fail','PSRNAS1Fail','PSRNAS2Fail','PSRNAS3Fail','RKUWFail','RICDFail','RIPDFail']]\n",
    "# subjectFailOverMale= subjectFailOverMale[['allSubjecttFail','PSEAS1Fail','PSEAS2Fail','PSEAS3Fail','CLLAS1Fail','CLLAS2Fail','CLLAS3Fail','CLLAS4Fail','PSRNAS1Fail','PSRNAS2Fail','PSRNAS3Fail','RKUWFail','RICDFail','RIPDFail']]\n",
    "\n",
    "# from matplotlib import ticker\n",
    "# import matplotlib.pyplot as plt\n",
    "\n",
    "# plt.style.use('ggplot')\n",
    "# fig, (ax1,ax2) = plt.subplots(nrows=1,ncols=2,figsize=(24,12))\n",
    "# plt.subplots_adjust(wspace=0.2)\n",
    "\n",
    "# subjectFailOverFemale.plot(kind='bar',ax=ax1)\n",
    "# ax1.set_ylabel('Count of people failing each subjects')\n",
    "\n",
    "# for bar in ax1.patches:\n",
    "#     height = bar.get_height()\n",
    "#     ax1.text(bar.get_x() + bar.get_width() / 2.0, height, f' {height:.2f}', fontsize=10,\n",
    "#             ha='center')\n",
    "#     ax1.set_title(\"Count of Female students non attainment of GLD by subjects\")\n",
    "    \n",
    "\n",
    "# subjectFailOverMale.plot(kind='bar', ax=ax2)\n",
    "# ax2.set_ylabel('Count of people failing each subjects')\n",
    "# for bar in ax2.patches:\n",
    "#     height = bar.get_height()\n",
    "#     ax2.text(bar.get_x() + bar.get_width() / 2.0, height, f' {height:.2f}', fontsize=10,\n",
    "#             ha='center')\n",
    "#     ax2.set_title(\"Count of Male students non attainment of GLD by subjects\")\n",
    "    \n",
    "# plt.show() "
   ]
  },
  {
   "cell_type": "markdown",
   "id": "283e5934-5682-43b7-95d9-ad0b48b6d5ca",
   "metadata": {},
   "source": [
    "<div class=\"alert alert-block alert-info\">\n",
    "\n",
    "<h1> Predicting GLD to NEET Status </h1>\n",
    "<h3> Performing Generalised Linear Regression </h3>\n",
    "\n",
    "\n",
    "    Adding other covariates to understand the Statistically significant values\n",
    "</div>"
   ]
  },
  {
   "cell_type": "code",
   "execution_count": 41,
   "id": "518739fb-e847-4366-b649-8630e057602d",
   "metadata": {
    "tags": []
   },
   "outputs": [
    {
     "ename": "NameError",
     "evalue": "name 'statutaryYears2007_2009' is not defined",
     "output_type": "error",
     "traceback": [
      "\u001b[0;31m---------------------------------------------------------------------------\u001b[0m",
      "\u001b[0;31mNameError\u001b[0m                                 Traceback (most recent call last)",
      "Cell \u001b[0;32mIn[41], line 4\u001b[0m\n\u001b[1;32m      2\u001b[0m \u001b[38;5;28;01mimport\u001b[39;00m \u001b[38;5;21;01mstatsmodels\u001b[39;00m\u001b[38;5;21;01m.\u001b[39;00m\u001b[38;5;21;01mapi\u001b[39;00m \u001b[38;5;28;01mas\u001b[39;00m \u001b[38;5;21;01msm\u001b[39;00m\n\u001b[1;32m      3\u001b[0m \u001b[38;5;28;01mimport\u001b[39;00m \u001b[38;5;21;01mscipy\u001b[39;00m\u001b[38;5;21;01m.\u001b[39;00m\u001b[38;5;21;01mstats\u001b[39;00m \u001b[38;5;28;01mas\u001b[39;00m \u001b[38;5;21;01mstats\u001b[39;00m\n\u001b[0;32m----> 4\u001b[0m modelDF \u001b[38;5;241m=\u001b[39m \u001b[43mstatutaryYears2007_2009\u001b[49m\n\u001b[1;32m      6\u001b[0m ct\u001b[38;5;241m=\u001b[39mpd\u001b[38;5;241m.\u001b[39mcrosstab(modelDF\u001b[38;5;241m.\u001b[39mever_NEET,modelDF\u001b[38;5;241m.\u001b[39mnewGLD)\n\u001b[1;32m      7\u001b[0m oddsratio, pvalue \u001b[38;5;241m=\u001b[39m stats\u001b[38;5;241m.\u001b[39mfisher_exact(ct)\n",
      "\u001b[0;31mNameError\u001b[0m: name 'statutaryYears2007_2009' is not defined"
     ]
    }
   ],
   "source": [
    "import pandas as pd\n",
    "import statsmodels.api as sm\n",
    "import scipy.stats as stats\n",
    "modelDF = statutaryYears2007_2009\n",
    "\n",
    "ct=pd.crosstab(modelDF.ever_NEET,modelDF.newGLD)\n",
    "oddsratio, pvalue = stats.fisher_exact(ct)\n",
    "print(\"odds Ratio, pValue\",np.asarray((oddsratio, pvalue)))\n",
    "\n",
    "# modelDF['newGLD'] = modelDF['newGLD'].apply(lambda set_: 1 if (set_)== True else 0)\n",
    "modelDF['ever_NEET'] = modelDF['ever_NEET'].apply(lambda set_: 1 if (set_)== True else 0)\n",
    "\n",
    "# Splitting the data into 2 parts\n",
    "# train, test = np.split(\n",
    "#     modelDF.sample(frac=1, random_state=42), [int(0.8 * len(modelDF))]\n",
    "# )\n",
    "\n",
    "print(modelDF.ever_NEET.sum())\n",
    "print(len(modelDF.ever_NEET))\n",
    "\n",
    "\n",
    "model = sm.formula.glm(\"ever_NEET ~ C(newGLD, Treatment(reference=False))\",\n",
    "                       family=sm.families.Binomial(), data=modelDF).fit()\n",
    "\n",
    "print(model.summary())\n",
    "\n",
    "predictions=model.predict()\n",
    "print(type(predictions))\n",
    "print(np.unique(predictions))\n",
    "\n",
    "unique, counts = np.unique(predictions, return_counts=True)\n",
    "\n",
    "print(np.asarray((unique, counts)).T)\n",
    "\n",
    "print(np.unique(modelDF['ever_NEET']))\n",
    "\n",
    "uniqueT, countsT = np.unique(modelDF['ever_NEET'], return_counts=True)\n",
    "\n",
    "print(np.asarray((uniqueT, countsT)).T)\n",
    "\n",
    "predictions_nominal = [1 if x < 0.1 else 0 for x in predictions]\n",
    "      \n",
    "print(model.params.Intercept)\n",
    "odds_ratio=np.exp(model.params.Intercept)\n",
    "print('odds ratio is ',odds_ratio)\n"
   ]
  },
  {
   "cell_type": "code",
   "execution_count": null,
   "id": "7b00accb-0d51-435d-b367-e86baeb94b1f",
   "metadata": {
    "tags": []
   },
   "outputs": [],
   "source": [
    "from sklearn.metrics import confusion_matrix, classification_report\n",
    "cnf_matrix = confusion_matrix(modelDF[\"ever_NEET\"], \n",
    "                       predictions_nominal)\n",
    "print(cnf_matrix)\n",
    "\n",
    "print(classification_report(modelDF[\"ever_NEET\"], \n",
    "                            predictions_nominal, \n",
    "                            digits = 3))\n",
    "\n",
    "class_names=[\"0\",\"1\"] # name  of classes\n",
    "fig, ax = plt.subplots()\n",
    "tick_marks = np.arange(len(class_names))\n",
    "plt.xticks(tick_marks, class_names)\n",
    "plt.yticks(tick_marks, class_names)\n",
    "# create heatmap\n",
    "sns.heatmap(pd.DataFrame(cnf_matrix), annot=True, cmap=\"YlGnBu\" ,fmt='g')\n",
    "ax.xaxis.set_label_position(\"top\")\n",
    "plt.tight_layout()\n",
    "plt.title('Confusion matrix', y=1.1)\n",
    "plt.ylabel('Actual label NEET')\n",
    "plt.xlabel('Predicted label NEET')"
   ]
  },
  {
   "cell_type": "code",
   "execution_count": null,
   "id": "42166cb9-6836-421e-abda-0179d0d8c1a9",
   "metadata": {
    "tags": []
   },
   "outputs": [],
   "source": [
    "modelDF = statutaryYears2007_2009\n",
    "\n",
    "\n",
    "print(modelDF.ever_NEET.sum())\n",
    "print(len(modelDF.ever_NEET))\n",
    "\n",
    "model_covariates = sm.formula.glm(\"ever_NEET ~ C(newGLD+CLLAS1, Treatment(reference=True))\",\n",
    "                       family=sm.families.Binomial(), data=modelDF).fit()\n",
    "\n",
    "print(model_covariates.summary())\n",
    "predictionsCovarites=model_covariates.predict()\n",
    "\n",
    "print(np.unique(predictionsCovarites))\n",
    "\n",
    "unique, counts = np.unique(predictionsCovarites, return_counts=True)\n",
    "\n",
    "print(np.asarray((unique, counts)).T)\n",
    "\n",
    "uniqueT, countsT = np.unique(modelDF['ever_NEET'], return_counts=True)\n",
    "\n",
    "print(np.asarray((uniqueT, countsT)).T)\n",
    "\n",
    "predictions_Covarites = [1 if x < 0.069 else 0 for x in predictionsCovarites]\n",
    "print(model_covariates.params.Intercept)\n",
    "odds_ratio_covariates=np.exp(model_covariates.params.Intercept)\n",
    "print('odds ratio is ',odds_ratio_covariates)\n"
   ]
  },
  {
   "cell_type": "code",
   "execution_count": null,
   "id": "b90c8107-827a-4bae-b133-2d4a919c778f",
   "metadata": {
    "tags": []
   },
   "outputs": [],
   "source": [
    "cnf_matrix_Covarites = confusion_matrix(modelDF[\"ever_NEET\"], \n",
    "                       predictions_Covarites)\n",
    "print(cnf_matrix_Covarites)\n",
    "\n",
    "print(classification_report(modelDF[\"ever_NEET\"], \n",
    "                            predictions_Covarites, \n",
    "                            digits = 3))\n",
    "\n",
    "class_names=[\"0\",\"1\"] # name  of classes\n",
    "fig, ax = plt.subplots()\n",
    "tick_marks = np.arange(len(class_names))\n",
    "plt.xticks(tick_marks, class_names)\n",
    "plt.yticks(tick_marks, class_names)\n",
    "# create heatmap\n",
    "sns.heatmap(pd.DataFrame(cnf_matrix_Covarites), annot=True, cmap=\"YlGnBu\" ,fmt='g')\n",
    "ax.xaxis.set_label_position(\"top\")\n",
    "plt.tight_layout()\n",
    "plt.title('Confusion matrix', y=1.1)\n",
    "plt.ylabel('Actual label NEET')\n",
    "plt.xlabel('Predicted label NEET')"
   ]
  },
  {
   "cell_type": "markdown",
   "id": "37d0d6e5-4ef2-4684-a272-6a08e6dd555e",
   "metadata": {},
   "source": [
    "<h3> To understand the predictive power of becoming NEET from other covariates like free school meal disability flag, SEND flag</h3>"
   ]
  },
  {
   "cell_type": "code",
   "execution_count": null,
   "id": "50cb2afc-64ad-4d91-a599-30afbf8c0168",
   "metadata": {
    "tags": []
   },
   "outputs": [],
   "source": [
    "personUniqueID = statutaryYears2007_2009[\"person_id\"].unique()\n",
    "ct=len(personUniqueID)\n",
    "ct\n",
    "#8240 unique ids\n",
    "#pID = map(str, personUniqueID) \n",
    "Pid = tuple(personUniqueID)\n",
    "\n",
    "# sqlWideFormat1 = \"\"\" SELECT person_id, GRADE FROM `yhcr-prd-phm-bia-core.CB_FDM_DepartmentForEducation.src_KS4_exam` WHERE person_id IN {} order by person_id\"\"\".format(Pid)\n",
    "\n",
    "sqlWideFormat1 = \"\"\" SELECT a.person_id,a.LSOA, a.AgeAtStartOfAcademicYear,a.FSMEligible,a.EverFSM6,a.EverFSM6P,a.EverFSMAll,\n",
    "                                        a.EYPPE,a.EYPPBF,a.EYUEntitlement,\n",
    "                                        a.EYEEntitlement,a.PPEntitlement,a.SBEntitlement, b.LDDFlag, b.SENDFlag , a.language FROM \n",
    "                                        `yhcr-prd-phm-bia-core.CB_FDM_DepartmentForEducation.src_census` a, \n",
    "                                        `yhcr-prd-phm-bia-core.CB_FDM_DepartmentForEducation.src_NCCIS` b\n",
    "                                        WHERE a.person_id=b.person_id and b.person_id IN {} order by a.person_id, a.CensusDate\"\"\".format(Pid)\n"
   ]
  },
  {
   "cell_type": "code",
   "execution_count": null,
   "id": "5254e495-8fba-4896-874d-c0fc5a1c0955",
   "metadata": {
    "tags": []
   },
   "outputs": [],
   "source": [
    "tableDBWideFormat1 = pdg.read_gbq(sqlWideFormat1, dialect='standard')\n"
   ]
  },
  {
   "cell_type": "code",
   "execution_count": null,
   "id": "56d8d7c4-ffdf-41c7-85c9-b28c67d1cd8c",
   "metadata": {
    "tags": []
   },
   "outputs": [],
   "source": [
    "tableDBWideFormat1.person_id.unique()"
   ]
  },
  {
   "cell_type": "markdown",
   "id": "74a1f961-4bc7-4175-8b9b-f1743c33891e",
   "metadata": {},
   "source": [
    "<h3> 8231 students records fetched from census table </h3>"
   ]
  },
  {
   "cell_type": "code",
   "execution_count": 42,
   "id": "007687c1-e2a8-453b-b88b-6fb1124c987c",
   "metadata": {
    "tags": []
   },
   "outputs": [
    {
     "ename": "NameError",
     "evalue": "name 'tableDBWideFormat1' is not defined",
     "output_type": "error",
     "traceback": [
      "\u001b[0;31m---------------------------------------------------------------------------\u001b[0m",
      "\u001b[0;31mNameError\u001b[0m                                 Traceback (most recent call last)",
      "Cell \u001b[0;32mIn[42], line 1\u001b[0m\n\u001b[0;32m----> 1\u001b[0m censusRecordsNEET \u001b[38;5;241m=\u001b[39m \u001b[43mtableDBWideFormat1\u001b[49m[[\u001b[38;5;124m\"\u001b[39m\u001b[38;5;124mperson_id\u001b[39m\u001b[38;5;124m\"\u001b[39m,\u001b[38;5;124m\"\u001b[39m\u001b[38;5;124mLSOA\u001b[39m\u001b[38;5;124m\"\u001b[39m,\u001b[38;5;124m\"\u001b[39m\u001b[38;5;124mAgeAtStartOfAcademicYear\u001b[39m\u001b[38;5;124m\"\u001b[39m,\u001b[38;5;124m\"\u001b[39m\u001b[38;5;124mFSMEligible\u001b[39m\u001b[38;5;124m\"\u001b[39m,\u001b[38;5;124m\"\u001b[39m\u001b[38;5;124mEverFSM6\u001b[39m\u001b[38;5;124m\"\u001b[39m,\u001b[38;5;124m\"\u001b[39m\u001b[38;5;124mEverFSM6P\u001b[39m\u001b[38;5;124m\"\u001b[39m,\u001b[38;5;124m\"\u001b[39m\u001b[38;5;124mEverFSMAll\u001b[39m\u001b[38;5;124m\"\u001b[39m,\n\u001b[1;32m      2\u001b[0m                                         \u001b[38;5;124m\"\u001b[39m\u001b[38;5;124mEYPPE\u001b[39m\u001b[38;5;124m\"\u001b[39m,\u001b[38;5;124m\"\u001b[39m\u001b[38;5;124mEYPPBF\u001b[39m\u001b[38;5;124m\"\u001b[39m,\u001b[38;5;124m\"\u001b[39m\u001b[38;5;124mEYUEntitlement\u001b[39m\u001b[38;5;124m\"\u001b[39m,\n\u001b[1;32m      3\u001b[0m                                         \u001b[38;5;124m\"\u001b[39m\u001b[38;5;124mEYEEntitlement\u001b[39m\u001b[38;5;124m\"\u001b[39m,\u001b[38;5;124m\"\u001b[39m\u001b[38;5;124mPPEntitlement\u001b[39m\u001b[38;5;124m\"\u001b[39m,\u001b[38;5;124m\"\u001b[39m\u001b[38;5;124mSBEntitlement\u001b[39m\u001b[38;5;124m\"\u001b[39m,\u001b[38;5;124m\"\u001b[39m\u001b[38;5;124mLDDFlag\u001b[39m\u001b[38;5;124m\"\u001b[39m,\u001b[38;5;124m\"\u001b[39m\u001b[38;5;124mSENDFlag\u001b[39m\u001b[38;5;124m\"\u001b[39m,\u001b[38;5;124m\"\u001b[39m\u001b[38;5;124mlanguage\u001b[39m\u001b[38;5;124m\"\u001b[39m ]]\n\u001b[1;32m      4\u001b[0m censusRecordsNEET\n",
      "\u001b[0;31mNameError\u001b[0m: name 'tableDBWideFormat1' is not defined"
     ]
    }
   ],
   "source": [
    "censusRecordsNEET = tableDBWideFormat1[[\"person_id\",\"LSOA\",\"AgeAtStartOfAcademicYear\",\"FSMEligible\",\"EverFSM6\",\"EverFSM6P\",\"EverFSMAll\",\n",
    "                                        \"EYPPE\",\"EYPPBF\",\"EYUEntitlement\",\n",
    "                                        \"EYEEntitlement\",\"PPEntitlement\",\"SBEntitlement\",\"LDDFlag\",\"SENDFlag\",\"language\" ]]\n",
    "censusRecordsNEET"
   ]
  },
  {
   "cell_type": "code",
   "execution_count": 43,
   "id": "78fd11e4-1aa2-4ad4-8971-6deaba923517",
   "metadata": {
    "tags": []
   },
   "outputs": [
    {
     "ename": "NameError",
     "evalue": "name 'censusRecordsNEET' is not defined",
     "output_type": "error",
     "traceback": [
      "\u001b[0;31m---------------------------------------------------------------------------\u001b[0m",
      "\u001b[0;31mNameError\u001b[0m                                 Traceback (most recent call last)",
      "Cell \u001b[0;32mIn[43], line 2\u001b[0m\n\u001b[1;32m      1\u001b[0m \u001b[38;5;28;01mfrom\u001b[39;00m \u001b[38;5;21;01mstatistics\u001b[39;00m \u001b[38;5;28;01mimport\u001b[39;00m mode\n\u001b[0;32m----> 2\u001b[0m censusRecordsNEET[\u001b[38;5;124m\"\u001b[39m\u001b[38;5;124mFreeSchoolMeal\u001b[39m\u001b[38;5;124m\"\u001b[39m] \u001b[38;5;241m=\u001b[39m \u001b[43mcensusRecordsNEET\u001b[49m\u001b[38;5;241m.\u001b[39mgroupby(\u001b[38;5;124m'\u001b[39m\u001b[38;5;124mperson_id\u001b[39m\u001b[38;5;124m'\u001b[39m)\u001b[38;5;241m.\u001b[39mEverFSM6\u001b[38;5;241m.\u001b[39mtransform(\u001b[38;5;124m'\u001b[39m\u001b[38;5;124mmax\u001b[39m\u001b[38;5;124m'\u001b[39m) \u001b[38;5;241m|\u001b[39m censusRecordsNEET\u001b[38;5;241m.\u001b[39mEverFSM6P \u001b[38;5;241m|\u001b[39m censusRecordsNEET\u001b[38;5;241m.\u001b[39mEverFSMAll\n\u001b[1;32m      4\u001b[0m censusRecordsNEET[\u001b[38;5;124m\"\u001b[39m\u001b[38;5;124mEntitlementFlag\u001b[39m\u001b[38;5;124m\"\u001b[39m] \u001b[38;5;241m=\u001b[39m censusRecordsNEET\u001b[38;5;241m.\u001b[39mgroupby(\u001b[38;5;124m'\u001b[39m\u001b[38;5;124mperson_id\u001b[39m\u001b[38;5;124m'\u001b[39m)\u001b[38;5;241m.\u001b[39mEYUEntitlement\u001b[38;5;241m.\u001b[39mtransform(\u001b[38;5;124m'\u001b[39m\u001b[38;5;124many\u001b[39m\u001b[38;5;124m'\u001b[39m) \u001b[38;5;241m|\u001b[39m censusRecordsNEET\u001b[38;5;241m.\u001b[39mEYEEntitlement \u001b[38;5;241m|\u001b[39m censusRecordsNEET\u001b[38;5;241m.\u001b[39mPPEntitlement \u001b[38;5;241m|\u001b[39m censusRecordsNEET\u001b[38;5;241m.\u001b[39mSBEntitlement\n\u001b[1;32m      5\u001b[0m censusRecordsNEET[\u001b[38;5;124m\"\u001b[39m\u001b[38;5;124mLDDFlag\u001b[39m\u001b[38;5;124m\"\u001b[39m] \u001b[38;5;241m=\u001b[39m censusRecordsNEET[\u001b[38;5;124m'\u001b[39m\u001b[38;5;124mLDDFlag\u001b[39m\u001b[38;5;124m'\u001b[39m]\u001b[38;5;241m.\u001b[39mapply(\u001b[38;5;28;01mlambda\u001b[39;00m set_: \u001b[38;5;28;01mFalse\u001b[39;00m \u001b[38;5;28;01mif\u001b[39;00m pd\u001b[38;5;241m.\u001b[39misna(set_)\u001b[38;5;241m==\u001b[39m \u001b[38;5;28;01mTrue\u001b[39;00m \u001b[38;5;28;01melse\u001b[39;00m \u001b[38;5;28;01mTrue\u001b[39;00m)\n",
      "\u001b[0;31mNameError\u001b[0m: name 'censusRecordsNEET' is not defined"
     ]
    }
   ],
   "source": [
    "from statistics import mode\n",
    "censusRecordsNEET[\"FreeSchoolMeal\"] = censusRecordsNEET.groupby('person_id').EverFSM6.transform('max') | censusRecordsNEET.EverFSM6P | censusRecordsNEET.EverFSMAll\n",
    "\n",
    "censusRecordsNEET[\"EntitlementFlag\"] = censusRecordsNEET.groupby('person_id').EYUEntitlement.transform('any') | censusRecordsNEET.EYEEntitlement | censusRecordsNEET.PPEntitlement | censusRecordsNEET.SBEntitlement\n",
    "censusRecordsNEET[\"LDDFlag\"] = censusRecordsNEET['LDDFlag'].apply(lambda set_: False if pd.isna(set_)== True else True)\n",
    "censusRecordsNEET[\"SENDFlag\"] = censusRecordsNEET['SENDFlag'].apply(lambda set_: False if ((pd.isna(set_)== True) | ((set_)=='N')) else True)\n",
    "\n",
    "censusRecordsNEET[\"language\"] = censusRecordsNEET.groupby('person_id').language.transform(mode) \n",
    "\n",
    "\n",
    "censusRecordNEETDF = censusRecordsNEET[[\"person_id\",\"LSOA\",\"AgeAtStartOfAcademicYear\",\"FSMEligible\",\"FreeSchoolMeal\",\"EntitlementFlag\", \"LDDFlag\",\"SENDFlag\",\"language\"]]\n",
    "\n",
    "censusRecordNEETDF"
   ]
  },
  {
   "cell_type": "code",
   "execution_count": 44,
   "id": "4078893f-2c9c-4d35-a3f9-eddb234e47e4",
   "metadata": {
    "tags": []
   },
   "outputs": [
    {
     "ename": "NameError",
     "evalue": "name 'censusRecordsNEET' is not defined",
     "output_type": "error",
     "traceback": [
      "\u001b[0;31m---------------------------------------------------------------------------\u001b[0m",
      "\u001b[0;31mNameError\u001b[0m                                 Traceback (most recent call last)",
      "Cell \u001b[0;32mIn[44], line 2\u001b[0m\n\u001b[1;32m      1\u001b[0m \u001b[38;5;28;01mfrom\u001b[39;00m \u001b[38;5;21;01mstatistics\u001b[39;00m \u001b[38;5;28;01mimport\u001b[39;00m mode\n\u001b[0;32m----> 2\u001b[0m censusRecordsNEETLSOA15GP \u001b[38;5;241m=\u001b[39m \u001b[43mcensusRecordsNEET\u001b[49m\u001b[38;5;241m.\u001b[39mquery(\u001b[38;5;124m\"\u001b[39m\u001b[38;5;124mAgeAtStartOfAcademicYear == 15\u001b[39m\u001b[38;5;124m\"\u001b[39m)\u001b[38;5;241m.\u001b[39mgroupby([\u001b[38;5;124m\"\u001b[39m\u001b[38;5;124mperson_id\u001b[39m\u001b[38;5;124m\"\u001b[39m])\u001b[38;5;241m.\u001b[39magg({\n\u001b[1;32m      3\u001b[0m         \u001b[38;5;124m'\u001b[39m\u001b[38;5;124mLSOA\u001b[39m\u001b[38;5;124m'\u001b[39m:\u001b[38;5;28;01mlambda\u001b[39;00m x: x\u001b[38;5;241m.\u001b[39mdropna()\u001b[38;5;241m.\u001b[39mtail(\u001b[38;5;241m1\u001b[39m),\n\u001b[1;32m      4\u001b[0m         \u001b[38;5;124m'\u001b[39m\u001b[38;5;124mFSMEligible\u001b[39m\u001b[38;5;124m'\u001b[39m: \u001b[38;5;124m'\u001b[39m\u001b[38;5;124mmax\u001b[39m\u001b[38;5;124m'\u001b[39m, \n\u001b[1;32m      5\u001b[0m         \u001b[38;5;124m'\u001b[39m\u001b[38;5;124mFreeSchoolMeal\u001b[39m\u001b[38;5;124m'\u001b[39m: \u001b[38;5;124m'\u001b[39m\u001b[38;5;124mmax\u001b[39m\u001b[38;5;124m'\u001b[39m, \n\u001b[1;32m      6\u001b[0m     \u001b[38;5;66;03m#    'EntitlementFlag': lambda x: x.dropna().tail(1)\u001b[39;00m\n\u001b[1;32m      7\u001b[0m         \u001b[38;5;124m'\u001b[39m\u001b[38;5;124mEntitlementFlag\u001b[39m\u001b[38;5;124m'\u001b[39m: \u001b[38;5;124m'\u001b[39m\u001b[38;5;124mmax\u001b[39m\u001b[38;5;124m'\u001b[39m,\n\u001b[1;32m      8\u001b[0m         \u001b[38;5;124m'\u001b[39m\u001b[38;5;124mLDDFlag\u001b[39m\u001b[38;5;124m'\u001b[39m:\u001b[38;5;124m'\u001b[39m\u001b[38;5;124mmax\u001b[39m\u001b[38;5;124m'\u001b[39m,\n\u001b[1;32m      9\u001b[0m         \u001b[38;5;124m'\u001b[39m\u001b[38;5;124mSENDFlag\u001b[39m\u001b[38;5;124m'\u001b[39m:\u001b[38;5;124m'\u001b[39m\u001b[38;5;124mmax\u001b[39m\u001b[38;5;124m'\u001b[39m,\n\u001b[1;32m     10\u001b[0m         \u001b[38;5;124m'\u001b[39m\u001b[38;5;124mlanguage\u001b[39m\u001b[38;5;124m'\u001b[39m:mode\n\u001b[1;32m     11\u001b[0m     })\n\u001b[1;32m     13\u001b[0m censusRecordsNEETLSOA15GP\u001b[38;5;241m=\u001b[39mcensusRecordsNEETLSOA15GP\u001b[38;5;241m.\u001b[39mreset_index()\n\u001b[1;32m     14\u001b[0m censusRecordsNEETLSOA15GP\n",
      "\u001b[0;31mNameError\u001b[0m: name 'censusRecordsNEET' is not defined"
     ]
    }
   ],
   "source": [
    "from statistics import mode\n",
    "censusRecordsNEETLSOA15GP = censusRecordsNEET.query(\"AgeAtStartOfAcademicYear == 15\").groupby([\"person_id\"]).agg({\n",
    "        'LSOA':lambda x: x.dropna().tail(1),\n",
    "        'FSMEligible': 'max', \n",
    "        'FreeSchoolMeal': 'max', \n",
    "    #    'EntitlementFlag': lambda x: x.dropna().tail(1)\n",
    "        'EntitlementFlag': 'max',\n",
    "        'LDDFlag':'max',\n",
    "        'SENDFlag':'max',\n",
    "        'language':mode\n",
    "    })\n",
    "\n",
    "censusRecordsNEETLSOA15GP=censusRecordsNEETLSOA15GP.reset_index()\n",
    "censusRecordsNEETLSOA15GP"
   ]
  },
  {
   "cell_type": "code",
   "execution_count": null,
   "id": "0b2355db-1b3c-4744-b8fd-05f2446bb4e7",
   "metadata": {
    "tags": []
   },
   "outputs": [],
   "source": [
    "#peopleWithLSOA15 = censusRecordsNEETLSOA15GP[(censusRecordsNEETLSOA15GP[\"LSOA\"]!='[]')]\n",
    "#peopleWithLSOA15\n",
    "#peopleWithLSOA15 = censusRecordsNEETLSOA15GP\n",
    "\n",
    "LSOAUniq = censusRecordsNEETLSOA15GP['LSOA'].apply(lambda x: str(x))\n",
    "censusRecordsNEETLSOA15GP['LSOA']= censusRecordsNEETLSOA15GP['LSOA'].apply(lambda x: str(x))"
   ]
  },
  {
   "cell_type": "code",
   "execution_count": null,
   "id": "2d048f2f-595f-49fe-a9da-b793688b51d9",
   "metadata": {
    "tags": []
   },
   "outputs": [],
   "source": [
    "LSOA_subset_codes = tuple(LSOAUniq)\n",
    "#LSOA_subset_codes"
   ]
  },
  {
   "cell_type": "code",
   "execution_count": null,
   "id": "a6303126-28b2-4286-ac01-bd2fb78eaa72",
   "metadata": {
    "tags": []
   },
   "outputs": [],
   "source": [
    "QUERY_BY_LSOA_SUBSET =  \"\"\" SELECT a.LSOA_code as LSOA, a.LSOA_name, b.ward_name, a.geometry as geometry_home, \n",
    "a.lat_long FROM `yhcr-prd-phm-bia-core.CB_LOOKUPS.tbl_lsoa_boundaries` a,`yhcr-prd-phm-bia-core.CB_LOOKUPS.tbl_bradford_map_prep` b WHERE a.LSOA_code = b.LSOA_code and a.LSOA_code IN {}\"\"\".format(LSOA_subset_codes[1:-1])\n"
   ]
  },
  {
   "cell_type": "code",
   "execution_count": null,
   "id": "68be7dfb-d0d6-4738-98d5-b940a2c5ffc3",
   "metadata": {
    "tags": []
   },
   "outputs": [],
   "source": [
    "tableLSOA = pdg.read_gbq(QUERY_BY_LSOA_SUBSET, dialect='standard')"
   ]
  },
  {
   "cell_type": "code",
   "execution_count": 45,
   "id": "82db805b-6f00-4b91-ae84-2832194f9f4b",
   "metadata": {
    "tags": []
   },
   "outputs": [
    {
     "ename": "NameError",
     "evalue": "name 'censusRecordsNEETLSOA15GP' is not defined",
     "output_type": "error",
     "traceback": [
      "\u001b[0;31m---------------------------------------------------------------------------\u001b[0m",
      "\u001b[0;31mNameError\u001b[0m                                 Traceback (most recent call last)",
      "Cell \u001b[0;32mIn[45], line 1\u001b[0m\n\u001b[0;32m----> 1\u001b[0m GraphingGLDwithLSOA \u001b[38;5;241m=\u001b[39m pd\u001b[38;5;241m.\u001b[39mmerge(\u001b[43mcensusRecordsNEETLSOA15GP\u001b[49m,tableLSOA,on\u001b[38;5;241m=\u001b[39m\u001b[38;5;124m'\u001b[39m\u001b[38;5;124mLSOA\u001b[39m\u001b[38;5;124m'\u001b[39m,how\u001b[38;5;241m=\u001b[39m\u001b[38;5;124m'\u001b[39m\u001b[38;5;124mleft\u001b[39m\u001b[38;5;124m'\u001b[39m)\n\u001b[1;32m      2\u001b[0m GraphingGLDwithLSOA\n",
      "\u001b[0;31mNameError\u001b[0m: name 'censusRecordsNEETLSOA15GP' is not defined"
     ]
    }
   ],
   "source": [
    "GraphingGLDwithLSOA = pd.merge(censusRecordsNEETLSOA15GP,tableLSOA,on='LSOA',how='left')\n",
    "GraphingGLDwithLSOA"
   ]
  },
  {
   "cell_type": "code",
   "execution_count": null,
   "id": "17fec995-a09b-43c1-9220-9d94f97234b3",
   "metadata": {
    "tags": []
   },
   "outputs": [],
   "source": [
    "DFafterMerge = pd.merge(modelDF,GraphingGLDwithLSOA,on='person_id',how='left')\n",
    "#DFafterMerge.drop(['index'],axis=1, inplace=True)\n",
    "#DFafterMerge"
   ]
  },
  {
   "cell_type": "code",
   "execution_count": null,
   "id": "b4cec83b-d6d2-4c86-98c6-a8673e112301",
   "metadata": {
    "tags": []
   },
   "outputs": [],
   "source": [
    "#DFafterMerge.columns"
   ]
  },
  {
   "cell_type": "code",
   "execution_count": null,
   "id": "d78f8010-9984-4199-86ff-5ecd52ff3164",
   "metadata": {
    "tags": []
   },
   "outputs": [],
   "source": [
    "DFafterMerge['PSEAS1Fail'] = DFafterMerge['PSEAS1Fail'].apply(lambda set_: False if pd.isna(set_)== True else set_)\n",
    "DFafterMerge['PSEAS2Fail'] = DFafterMerge['PSEAS2Fail'].apply(lambda set_: False if pd.isna(set_)== True else set_)\n",
    "DFafterMerge['PSEAS3Fail'] = DFafterMerge['PSEAS3Fail'].apply(lambda set_: False if pd.isna(set_)== True else set_)\n",
    "\n",
    "\n",
    "DFafterMerge['CLLAS1Fail'] = DFafterMerge['CLLAS1Fail'].apply(lambda set_: False if pd.isna(set_)== True else set_)\n",
    "DFafterMerge['CLLAS2Fail'] = DFafterMerge['CLLAS2Fail'].apply(lambda set_: False if pd.isna(set_)== True else set_)\n",
    "DFafterMerge['CLLAS3Fail'] = DFafterMerge['CLLAS3Fail'].apply(lambda set_: False if pd.isna(set_)== True else set_)\n",
    "DFafterMerge['CLLAS4Fail'] = DFafterMerge['CLLAS4Fail'].apply(lambda set_: False if pd.isna(set_)== True else set_)\n",
    "\n",
    "DFafterMerge['PSRNAS1Fail'] = DFafterMerge['PSRNAS1Fail'].apply(lambda set_: False if pd.isna(set_)== True else set_)\n",
    "DFafterMerge['PSRNAS2Fail'] = DFafterMerge['PSRNAS2Fail'].apply(lambda set_: False if pd.isna(set_)== True else set_)\n",
    "DFafterMerge['PSRNAS3Fail'] = DFafterMerge['PSRNAS3Fail'].apply(lambda set_: False if pd.isna(set_)== True else set_)\n",
    "\n",
    "DFafterMerge['RKUWFail'] = DFafterMerge['RKUWFail'].apply(lambda set_: False if pd.isna(set_)== True else set_)\n",
    "DFafterMerge['RIPDFail'] = DFafterMerge['RIPDFail'].apply(lambda set_: False if pd.isna(set_)== True else set_)\n",
    "DFafterMerge['RICDFail'] = DFafterMerge['RICDFail'].apply(lambda set_: False if pd.isna(set_)== True else set_)\n",
    "\n",
    "DFafterMerge['FreeSchoolMeal'] = DFafterMerge['FreeSchoolMeal'].apply(lambda set_: False if pd.isna(set_)== True else set_)\n",
    "DFafterMerge['LDDFlag'] = DFafterMerge['LDDFlag'].apply(lambda set_: False if pd.isna(set_)== True else set_)\n",
    "DFafterMerge['SENDFlag'] = DFafterMerge['SENDFlag'].apply(lambda set_: False if pd.isna(set_)== True else set_)\n",
    "DFafterMerge = DFafterMerge.rename(columns={'LSOA_y':'LSOA','LSOA_name_y':'LSOA_name','lat_long_y':'lat_long'})"
   ]
  },
  {
   "cell_type": "code",
   "execution_count": null,
   "id": "db7bde5c-82c0-450c-89f9-52accea5b6db",
   "metadata": {
    "tags": []
   },
   "outputs": [],
   "source": [
    "#DFafterMerge"
   ]
  },
  {
   "cell_type": "code",
   "execution_count": 46,
   "id": "51235d04-40fb-4063-9e57-f1b9b200a4e6",
   "metadata": {
    "tags": []
   },
   "outputs": [
    {
     "ename": "NameError",
     "evalue": "name 'DFafterMerge' is not defined",
     "output_type": "error",
     "traceback": [
      "\u001b[0;31m---------------------------------------------------------------------------\u001b[0m",
      "\u001b[0;31mNameError\u001b[0m                                 Traceback (most recent call last)",
      "Cell \u001b[0;32mIn[46], line 2\u001b[0m\n\u001b[1;32m      1\u001b[0m \u001b[38;5;28;01mfrom\u001b[39;00m \u001b[38;5;21;01mstatistics\u001b[39;00m \u001b[38;5;28;01mimport\u001b[39;00m mode\n\u001b[0;32m----> 2\u001b[0m FlagDataLSOA \u001b[38;5;241m=\u001b[39m \u001b[43mDFafterMerge\u001b[49m\u001b[38;5;241m.\u001b[39mgroupby([\u001b[38;5;124m'\u001b[39m\u001b[38;5;124mAcademicYear\u001b[39m\u001b[38;5;124m'\u001b[39m,\u001b[38;5;124m'\u001b[39m\u001b[38;5;124mnewGLD\u001b[39m\u001b[38;5;124m'\u001b[39m,\u001b[38;5;124m'\u001b[39m\u001b[38;5;124mGender\u001b[39m\u001b[38;5;124m'\u001b[39m])\u001b[38;5;241m.\u001b[39magg({\n\u001b[1;32m      3\u001b[0m     \u001b[38;5;124m'\u001b[39m\u001b[38;5;124mGender\u001b[39m\u001b[38;5;124m'\u001b[39m:\u001b[38;5;124m'\u001b[39m\u001b[38;5;124mvalue_counts\u001b[39m\u001b[38;5;124m'\u001b[39m,\n\u001b[1;32m      4\u001b[0m     \u001b[38;5;66;03m#'ever_NEET':'sum',\u001b[39;00m\n\u001b[1;32m      5\u001b[0m     \u001b[38;5;66;03m#'Persistent_NEET':'sum',\u001b[39;00m\n\u001b[1;32m      6\u001b[0m     \u001b[38;5;124m'\u001b[39m\u001b[38;5;124mBradford_YN\u001b[39m\u001b[38;5;124m'\u001b[39m:\u001b[38;5;124m'\u001b[39m\u001b[38;5;124msum\u001b[39m\u001b[38;5;124m'\u001b[39m,\n\u001b[1;32m      7\u001b[0m     \u001b[38;5;124m'\u001b[39m\u001b[38;5;124mFreeSchoolMeal\u001b[39m\u001b[38;5;124m'\u001b[39m:\u001b[38;5;124m'\u001b[39m\u001b[38;5;124msum\u001b[39m\u001b[38;5;124m'\u001b[39m,\n\u001b[1;32m      8\u001b[0m     \u001b[38;5;66;03m#'LDDFlag':'sum',\u001b[39;00m\n\u001b[1;32m      9\u001b[0m     \u001b[38;5;124m'\u001b[39m\u001b[38;5;124mSENDFlag\u001b[39m\u001b[38;5;124m'\u001b[39m:\u001b[38;5;124m'\u001b[39m\u001b[38;5;124msum\u001b[39m\u001b[38;5;124m'\u001b[39m,\n\u001b[1;32m     10\u001b[0m     \u001b[38;5;124m'\u001b[39m\u001b[38;5;124mlanguage\u001b[39m\u001b[38;5;124m'\u001b[39m: mode\n\u001b[1;32m     11\u001b[0m     \u001b[38;5;66;03m#'newGLD':'value_counts',\u001b[39;00m\n\u001b[1;32m     12\u001b[0m      })\u001b[38;5;241m.\u001b[39mrename(columns\u001b[38;5;241m=\u001b[39m{\u001b[38;5;124m'\u001b[39m\u001b[38;5;124mGender\u001b[39m\u001b[38;5;124m'\u001b[39m:\u001b[38;5;124m'\u001b[39m\u001b[38;5;124mCOUNTByGender\u001b[39m\u001b[38;5;124m'\u001b[39m})\n\u001b[1;32m     13\u001b[0m FlagDataLSOA   \n",
      "\u001b[0;31mNameError\u001b[0m: name 'DFafterMerge' is not defined"
     ]
    }
   ],
   "source": [
    "from statistics import mode\n",
    "FlagDataLSOA = DFafterMerge.groupby(['AcademicYear','newGLD','Gender']).agg({\n",
    "    'Gender':'value_counts',\n",
    "    #'ever_NEET':'sum',\n",
    "    #'Persistent_NEET':'sum',\n",
    "    'Bradford_YN':'sum',\n",
    "    'FreeSchoolMeal':'sum',\n",
    "    #'LDDFlag':'sum',\n",
    "    'SENDFlag':'sum',\n",
    "    'language': mode\n",
    "    #'newGLD':'value_counts',\n",
    "     }).rename(columns={'Gender':'COUNTByGender'})\n",
    "FlagDataLSOA   "
   ]
  },
  {
   "cell_type": "code",
   "execution_count": null,
   "id": "d88996af-14f0-484e-ad1c-54f4b9dc3e79",
   "metadata": {
    "tags": []
   },
   "outputs": [],
   "source": [
    "FlagDataLSOA = FlagDataLSOA.reset_index()\n",
    "GLDTrueGenderFlagLSOA = FlagDataLSOA[(FlagDataLSOA['newGLD']==True)]\n",
    "GLDFalseGenderFlagLSOA = FlagDataLSOA[(FlagDataLSOA['newGLD']==False)]\n",
    "GLDTrueGenderFlagLSOA = GLDTrueGenderFlagLSOA.set_index(['AcademicYear','Gender'])\n",
    "print(GLDTrueGenderFlagLSOA)\n",
    "GLDFalseGenderFlagLSOA = GLDFalseGenderFlagLSOA.set_index(['AcademicYear','Gender'])\n",
    "print(GLDFalseGenderFlagLSOA)\n",
    "\n",
    "from matplotlib import ticker\n",
    "import matplotlib.pyplot as plt\n",
    "\n",
    "GLDFalseGenderFlagLSOA.drop(GLDFalseGenderFlagLSOA.tail(2).index,\n",
    "        inplace = True)\n",
    "\n",
    "fx=GLDFalseGenderFlagLSOA.plot(kind='bar')\n",
    "plt.ylabel('Count of people from Bradford LSOA')\n",
    "\n",
    "plt.gca().yaxis.set_major_formatter(ticker.FormatStrFormatter('%.2f'))\n",
    "plt.gca().xaxis.set_tick_params(rotation=0)\n",
    "\n",
    "for bar in fx.patches:\n",
    "    height = bar.get_height()\n",
    "    fx.text(bar.get_x() + bar.get_width() / 2.0, height, f' {height:.2f}', fontsize=10,\n",
    "            ha='center')\n",
    "    fx.set_title(\"count of GLD non attainment based out of Bradford LSOA\")\n",
    "plt.tight_layout()\n",
    "plt.show()"
   ]
  },
  {
   "cell_type": "code",
   "execution_count": 47,
   "id": "e182d591-ce35-4486-a3bc-7fd1825881e7",
   "metadata": {
    "tags": []
   },
   "outputs": [
    {
     "ename": "NameError",
     "evalue": "name 'DFafterMerge' is not defined",
     "output_type": "error",
     "traceback": [
      "\u001b[0;31m---------------------------------------------------------------------------\u001b[0m",
      "\u001b[0;31mNameError\u001b[0m                                 Traceback (most recent call last)",
      "Cell \u001b[0;32mIn[47], line 2\u001b[0m\n\u001b[1;32m      1\u001b[0m \u001b[38;5;28;01mfrom\u001b[39;00m \u001b[38;5;21;01mstatistics\u001b[39;00m \u001b[38;5;28;01mimport\u001b[39;00m mode\n\u001b[0;32m----> 2\u001b[0m GLD_LSOA_format \u001b[38;5;241m=\u001b[39m \u001b[43mDFafterMerge\u001b[49m\u001b[38;5;241m.\u001b[39mgroupby([\u001b[38;5;124m'\u001b[39m\u001b[38;5;124mLSOA\u001b[39m\u001b[38;5;124m'\u001b[39m],as_index\u001b[38;5;241m=\u001b[39m\u001b[38;5;28;01mFalse\u001b[39;00m)\u001b[38;5;241m.\u001b[39magg({\n\u001b[1;32m      3\u001b[0m         \u001b[38;5;124m'\u001b[39m\u001b[38;5;124mLSOA_name\u001b[39m\u001b[38;5;124m'\u001b[39m:\u001b[38;5;124m'\u001b[39m\u001b[38;5;124mmax\u001b[39m\u001b[38;5;124m'\u001b[39m,\n\u001b[1;32m      4\u001b[0m         \u001b[38;5;124m'\u001b[39m\u001b[38;5;124mward_name\u001b[39m\u001b[38;5;124m'\u001b[39m:\u001b[38;5;124m'\u001b[39m\u001b[38;5;124mmax\u001b[39m\u001b[38;5;124m'\u001b[39m,\n\u001b[1;32m      5\u001b[0m         \u001b[38;5;124m'\u001b[39m\u001b[38;5;124mnewGLD\u001b[39m\u001b[38;5;124m'\u001b[39m: \u001b[38;5;28;01mlambda\u001b[39;00m x: (x\u001b[38;5;241m==\u001b[39m\u001b[38;5;28;01mFalse\u001b[39;00m)\u001b[38;5;241m.\u001b[39msum(),\n\u001b[1;32m      6\u001b[0m         \u001b[38;5;124m'\u001b[39m\u001b[38;5;124mgeometry_home\u001b[39m\u001b[38;5;124m'\u001b[39m:\u001b[38;5;124m'\u001b[39m\u001b[38;5;124mmax\u001b[39m\u001b[38;5;124m'\u001b[39m,\n\u001b[1;32m      7\u001b[0m         \u001b[38;5;124m'\u001b[39m\u001b[38;5;124mlat_long\u001b[39m\u001b[38;5;124m'\u001b[39m:\u001b[38;5;124m'\u001b[39m\u001b[38;5;124mmax\u001b[39m\u001b[38;5;124m'\u001b[39m,\n\u001b[1;32m      8\u001b[0m         \u001b[38;5;124m'\u001b[39m\u001b[38;5;124mBradford_YN\u001b[39m\u001b[38;5;124m'\u001b[39m:\u001b[38;5;124m'\u001b[39m\u001b[38;5;124msum\u001b[39m\u001b[38;5;124m'\u001b[39m,\n\u001b[1;32m      9\u001b[0m         \u001b[38;5;124m'\u001b[39m\u001b[38;5;124mEntitlementFlag\u001b[39m\u001b[38;5;124m'\u001b[39m:\u001b[38;5;124m'\u001b[39m\u001b[38;5;124msum\u001b[39m\u001b[38;5;124m'\u001b[39m,\n\u001b[1;32m     10\u001b[0m         \u001b[38;5;124m'\u001b[39m\u001b[38;5;124mFreeSchoolMeal\u001b[39m\u001b[38;5;124m'\u001b[39m:\u001b[38;5;124m'\u001b[39m\u001b[38;5;124msum\u001b[39m\u001b[38;5;124m'\u001b[39m,\n\u001b[1;32m     11\u001b[0m         \u001b[38;5;124m'\u001b[39m\u001b[38;5;124mSENDFlag\u001b[39m\u001b[38;5;124m'\u001b[39m:\u001b[38;5;124m'\u001b[39m\u001b[38;5;124msum\u001b[39m\u001b[38;5;124m'\u001b[39m,\n\u001b[1;32m     12\u001b[0m         \u001b[38;5;124m'\u001b[39m\u001b[38;5;124mever_NEET\u001b[39m\u001b[38;5;124m'\u001b[39m:\u001b[38;5;124m'\u001b[39m\u001b[38;5;124msum\u001b[39m\u001b[38;5;124m'\u001b[39m,\n\u001b[1;32m     13\u001b[0m         \u001b[38;5;124m'\u001b[39m\u001b[38;5;124mPersistent_NEET\u001b[39m\u001b[38;5;124m'\u001b[39m:\u001b[38;5;124m'\u001b[39m\u001b[38;5;124msum\u001b[39m\u001b[38;5;124m'\u001b[39m,\n\u001b[1;32m     14\u001b[0m         \u001b[38;5;124m'\u001b[39m\u001b[38;5;124mlanguage\u001b[39m\u001b[38;5;124m'\u001b[39m:mode,\n\u001b[1;32m     15\u001b[0m         \u001b[38;5;124m'\u001b[39m\u001b[38;5;124mperson_id\u001b[39m\u001b[38;5;124m'\u001b[39m:\u001b[38;5;124m'\u001b[39m\u001b[38;5;124mcount\u001b[39m\u001b[38;5;124m'\u001b[39m}) \n\u001b[1;32m     16\u001b[0m GLD_LSOA_format \n",
      "\u001b[0;31mNameError\u001b[0m: name 'DFafterMerge' is not defined"
     ]
    }
   ],
   "source": [
    "from statistics import mode\n",
    "GLD_LSOA_format = DFafterMerge.groupby(['LSOA'],as_index=False).agg({\n",
    "        'LSOA_name':'max',\n",
    "        'ward_name':'max',\n",
    "        'newGLD': lambda x: (x==False).sum(),\n",
    "        'geometry_home':'max',\n",
    "        'lat_long':'max',\n",
    "        'Bradford_YN':'sum',\n",
    "        'EntitlementFlag':'sum',\n",
    "        'FreeSchoolMeal':'sum',\n",
    "        'SENDFlag':'sum',\n",
    "        'ever_NEET':'sum',\n",
    "        'Persistent_NEET':'sum',\n",
    "        'language':mode,\n",
    "        'person_id':'count'}) \n",
    "GLD_LSOA_format "
   ]
  },
  {
   "cell_type": "code",
   "execution_count": 48,
   "id": "6bde1d40-b207-4f60-8363-ed44bc9e5f33",
   "metadata": {
    "tags": []
   },
   "outputs": [
    {
     "ename": "NameError",
     "evalue": "name 'GLD_LSOA_format' is not defined",
     "output_type": "error",
     "traceback": [
      "\u001b[0;31m---------------------------------------------------------------------------\u001b[0m",
      "\u001b[0;31mNameError\u001b[0m                                 Traceback (most recent call last)",
      "Cell \u001b[0;32mIn[48], line 1\u001b[0m\n\u001b[0;32m----> 1\u001b[0m lenNotBRADFORD \u001b[38;5;241m=\u001b[39m \u001b[43mGLD_LSOA_format\u001b[49m\u001b[38;5;241m.\u001b[39mquery(\u001b[38;5;124m'\u001b[39m\u001b[38;5;124mBradford_YN==0\u001b[39m\u001b[38;5;124m'\u001b[39m)\n\u001b[1;32m      2\u001b[0m lenNotBRADFORD\n",
      "\u001b[0;31mNameError\u001b[0m: name 'GLD_LSOA_format' is not defined"
     ]
    }
   ],
   "source": [
    "lenNotBRADFORD = GLD_LSOA_format.query('Bradford_YN==0')\n",
    "lenNotBRADFORD"
   ]
  },
  {
   "cell_type": "code",
   "execution_count": 49,
   "id": "f6def672-ccef-448c-a896-58abcecc53af",
   "metadata": {
    "tags": []
   },
   "outputs": [
    {
     "ename": "NameError",
     "evalue": "name 'GLD_LSOA_format' is not defined",
     "output_type": "error",
     "traceback": [
      "\u001b[0;31m---------------------------------------------------------------------------\u001b[0m",
      "\u001b[0;31mNameError\u001b[0m                                 Traceback (most recent call last)",
      "Cell \u001b[0;32mIn[49], line 1\u001b[0m\n\u001b[0;32m----> 1\u001b[0m lenBRADFORD \u001b[38;5;241m=\u001b[39m \u001b[43mGLD_LSOA_format\u001b[49m\u001b[38;5;241m.\u001b[39mquery(\u001b[38;5;124m'\u001b[39m\u001b[38;5;124mBradford_YN>=1\u001b[39m\u001b[38;5;124m'\u001b[39m)\n\u001b[1;32m      2\u001b[0m lenBRADFORD\n",
      "\u001b[0;31mNameError\u001b[0m: name 'GLD_LSOA_format' is not defined"
     ]
    }
   ],
   "source": [
    "lenBRADFORD = GLD_LSOA_format.query('Bradford_YN>=1')\n",
    "lenBRADFORD"
   ]
  },
  {
   "cell_type": "code",
   "execution_count": 50,
   "id": "8059734c-070c-4ec6-86ff-d76ac3cb1049",
   "metadata": {
    "tags": []
   },
   "outputs": [
    {
     "ename": "NameError",
     "evalue": "name 'GLD_LSOA_format' is not defined",
     "output_type": "error",
     "traceback": [
      "\u001b[0;31m---------------------------------------------------------------------------\u001b[0m",
      "\u001b[0;31mNameError\u001b[0m                                 Traceback (most recent call last)",
      "Cell \u001b[0;32mIn[50], line 2\u001b[0m\n\u001b[1;32m      1\u001b[0m \u001b[38;5;66;03m#GLD_LSOA_format = GLD_LSOA_format.dropna()\u001b[39;00m\n\u001b[0;32m----> 2\u001b[0m totalBradfordPeople \u001b[38;5;241m=\u001b[39m \u001b[43mGLD_LSOA_format\u001b[49m\u001b[38;5;241m.\u001b[39mBradford_YN\u001b[38;5;241m.\u001b[39msum()\n\u001b[1;32m      3\u001b[0m \u001b[38;5;28mprint\u001b[39m(\u001b[38;5;124m\"\u001b[39m\u001b[38;5;124mtotalBradfordPeople\u001b[39m\u001b[38;5;124m\"\u001b[39m,totalBradfordPeople)\n\u001b[1;32m      4\u001b[0m totalGLDFailBradford \u001b[38;5;241m=\u001b[39m GLD_LSOA_format\u001b[38;5;241m.\u001b[39mnewGLD\u001b[38;5;241m.\u001b[39msum()\n",
      "\u001b[0;31mNameError\u001b[0m: name 'GLD_LSOA_format' is not defined"
     ]
    }
   ],
   "source": [
    "#GLD_LSOA_format = GLD_LSOA_format.dropna()\n",
    "totalBradfordPeople = GLD_LSOA_format.Bradford_YN.sum()\n",
    "print(\"totalBradfordPeople\",totalBradfordPeople)\n",
    "totalGLDFailBradford = GLD_LSOA_format.newGLD.sum()\n",
    "print(\"totalGLDFailBradford\",totalGLDFailBradford)\n",
    "totalPersonIDBradford = GLD_LSOA_format.person_id.sum()\n",
    "print(\"totalPersonIDBradford\",totalPersonIDBradford)"
   ]
  },
  {
   "cell_type": "markdown",
   "id": "88f21526-9838-4612-a532-46caecafc8c0",
   "metadata": {},
   "source": [
    "### Count of People 7940 of which 6038 where from Bradford (76%) of which 5105 (64.29%) have failed GLD"
   ]
  },
  {
   "cell_type": "code",
   "execution_count": null,
   "id": "92a7e1ab-fd6d-432e-ae7f-090e39f9c3f5",
   "metadata": {
    "tags": []
   },
   "outputs": [],
   "source": [
    "from statistics import mode\n",
    "LLD = DFafterMerge.groupby(['LSOA','Gender'], as_index=False).agg({\n",
    "    'person_id':'count',\n",
    "    'newGLD': lambda x: (x==False).sum(),\n",
    "    'ever_NEET':'sum',\n",
    "    'Persistent_NEET':'sum',\n",
    "    'language':mode,\n",
    "     'ward_name':'max'})\n",
    "    \n",
    "LLD = LLD.dropna()\n",
    "LLGDraph = LLD.reset_index().sort_values(['newGLD','LSOA'], ascending=False ).query('newGLD>=1').head(18)"
   ]
  },
  {
   "cell_type": "code",
   "execution_count": 51,
   "id": "edd22f82-cee5-4ba4-bc21-beb24110b583",
   "metadata": {
    "tags": []
   },
   "outputs": [
    {
     "ename": "NameError",
     "evalue": "name 'LLGDraph' is not defined",
     "output_type": "error",
     "traceback": [
      "\u001b[0;31m---------------------------------------------------------------------------\u001b[0m",
      "\u001b[0;31mNameError\u001b[0m                                 Traceback (most recent call last)",
      "Cell \u001b[0;32mIn[51], line 1\u001b[0m\n\u001b[0;32m----> 1\u001b[0m LLGDraphIndex \u001b[38;5;241m=\u001b[39m \u001b[43mLLGDraph\u001b[49m\u001b[38;5;241m.\u001b[39mset_index([\u001b[38;5;124m'\u001b[39m\u001b[38;5;124mward_name\u001b[39m\u001b[38;5;124m'\u001b[39m,\u001b[38;5;124m'\u001b[39m\u001b[38;5;124mGender\u001b[39m\u001b[38;5;124m'\u001b[39m])\n\u001b[1;32m      2\u001b[0m LLGDraphIndex \u001b[38;5;241m=\u001b[39m LLGDraphIndex\u001b[38;5;241m.\u001b[39mdrop([\u001b[38;5;124m'\u001b[39m\u001b[38;5;124mindex\u001b[39m\u001b[38;5;124m'\u001b[39m,\u001b[38;5;124m'\u001b[39m\u001b[38;5;124mLSOA\u001b[39m\u001b[38;5;124m'\u001b[39m],axis\u001b[38;5;241m=\u001b[39m\u001b[38;5;241m1\u001b[39m)\n\u001b[1;32m      3\u001b[0m LLGDraphIndex\n",
      "\u001b[0;31mNameError\u001b[0m: name 'LLGDraph' is not defined"
     ]
    }
   ],
   "source": [
    "LLGDraphIndex = LLGDraph.set_index(['ward_name','Gender'])\n",
    "LLGDraphIndex = LLGDraphIndex.drop(['index','LSOA'],axis=1)\n",
    "LLGDraphIndex"
   ]
  },
  {
   "cell_type": "code",
   "execution_count": null,
   "id": "cd203a59-7944-40cb-8036-e49d759f2447",
   "metadata": {
    "tags": []
   },
   "outputs": [],
   "source": [
    "#LLGDraphIndex = LLGDraphIndex.drop(['LSOA'],axis=1)"
   ]
  },
  {
   "cell_type": "code",
   "execution_count": null,
   "id": "ea85c506-fe2b-447e-8886-82ec8f377760",
   "metadata": {
    "tags": []
   },
   "outputs": [],
   "source": [
    "\n",
    "LLGDraphIndexFemale = LLGDraphIndex.query(\"Gender.str.contains('F')\")\n",
    "LLGDraphIndexMale = LLGDraphIndex.query(\"Gender.str.contains('M')\")\n",
    "print(LLGDraphIndexFemale)\n",
    "print(LLGDraphIndexMale)\n",
    "\n",
    "from matplotlib import ticker\n",
    "import matplotlib.pyplot as plt\n",
    "\n",
    "plt.style.use('ggplot')\n",
    "fig, (ax1,ax2) = plt.subplots(nrows=1,ncols=2,figsize=(24,12))\n",
    "plt.subplots_adjust(wspace=0.2)\n",
    "\n",
    "LLGDraphIndexFemale.plot(kind='bar',ax=ax1)\n",
    "ax1.set_ylabel('count of GLD non attainment based out of Bradford LSOA ')\n",
    "\n",
    "for bar in ax1.patches:\n",
    "    height = bar.get_height()\n",
    "    ax1.text(bar.get_x() + bar.get_width() / 2.0, height, f' {height:.2f}', fontsize=10,\n",
    "            ha='center')\n",
    "    ax1.set_title(\"Top 10 Wards: GLD Failure Counts Gender wise\")\n",
    "    \n",
    "\n",
    "LLGDraphIndexMale.plot(kind='bar', ax=ax2)\n",
    "ax2.set_ylabel('count of GLD non attainment based out of Bradford LSOA ')\n",
    "for bar in ax2.patches:\n",
    "    height = bar.get_height()\n",
    "    ax2.text(bar.get_x() + bar.get_width() / 2.0, height, f' {height:.2f}', fontsize=10,\n",
    "            ha='center')\n",
    "    ax2.set_title(\"Top 10 Wards: GLD Failure Counts Gender wise\")\n",
    "    \n",
    "plt.show() "
   ]
  },
  {
   "cell_type": "markdown",
   "id": "898189e6-48a3-4f81-84af-221c8edbb2bd",
   "metadata": {},
   "source": [
    "### 117/141 82% female and 224/279 80% male"
   ]
  },
  {
   "cell_type": "code",
   "execution_count": 52,
   "id": "f7f4fecb-0b43-45a9-b972-56c02e193f5d",
   "metadata": {
    "tags": []
   },
   "outputs": [
    {
     "ename": "NameError",
     "evalue": "name 'GLD_LSOA_format' is not defined",
     "output_type": "error",
     "traceback": [
      "\u001b[0;31m---------------------------------------------------------------------------\u001b[0m",
      "\u001b[0;31mNameError\u001b[0m                                 Traceback (most recent call last)",
      "Cell \u001b[0;32mIn[52], line 1\u001b[0m\n\u001b[0;32m----> 1\u001b[0m GLD_LSOA_format[\u001b[38;5;124m'\u001b[39m\u001b[38;5;124mCountofPeople\u001b[39m\u001b[38;5;124m'\u001b[39m] \u001b[38;5;241m=\u001b[39m \u001b[43mGLD_LSOA_format\u001b[49m[\u001b[38;5;124m'\u001b[39m\u001b[38;5;124mperson_id\u001b[39m\u001b[38;5;124m'\u001b[39m]\n\u001b[1;32m      2\u001b[0m GLD_LSOA_format[\u001b[38;5;124m'\u001b[39m\u001b[38;5;124mCountofPeopleFailed\u001b[39m\u001b[38;5;124m'\u001b[39m] \u001b[38;5;241m=\u001b[39m GLD_LSOA_format[\u001b[38;5;124m'\u001b[39m\u001b[38;5;124mnewGLD\u001b[39m\u001b[38;5;124m'\u001b[39m]\n\u001b[1;32m      3\u001b[0m GLD_LSOA_format \u001b[38;5;241m=\u001b[39m GLD_LSOA_format\u001b[38;5;241m.\u001b[39mdropna()\n",
      "\u001b[0;31mNameError\u001b[0m: name 'GLD_LSOA_format' is not defined"
     ]
    }
   ],
   "source": [
    "GLD_LSOA_format['CountofPeople'] = GLD_LSOA_format['person_id']\n",
    "GLD_LSOA_format['CountofPeopleFailed'] = GLD_LSOA_format['newGLD']\n",
    "GLD_LSOA_format = GLD_LSOA_format.dropna()\n",
    "GLD_LSOA_format.sort_values(['newGLD','LSOA'], ascending=False )"
   ]
  },
  {
   "cell_type": "code",
   "execution_count": null,
   "id": "3d085aea-8e85-429c-8195-ee0cb2f3a376",
   "metadata": {
    "tags": []
   },
   "outputs": [],
   "source": [
    "import geopandas as gpd\n",
    "import cartopy as ccrs\n",
    "import contextily as cx\n",
    "import folium\n",
    "import geojson\n",
    "from pprint import pprint"
   ]
  },
  {
   "cell_type": "code",
   "execution_count": null,
   "id": "26f6b6e3-baa3-4c28-9053-8c4d935b8a9e",
   "metadata": {
    "tags": []
   },
   "outputs": [],
   "source": [
    "bradford = folium.Map(tiles=\"CartoDB positron\", location=(53.8313, -1.8431), zoom_start=10)"
   ]
  },
  {
   "cell_type": "code",
   "execution_count": null,
   "id": "6680335a-76ae-4ade-ba9b-028cf58db9a2",
   "metadata": {
    "tags": []
   },
   "outputs": [],
   "source": [
    "GLD_LSOA_format['geometry'] = gpd.GeoSeries.from_wkt(GLD_LSOA_format['geometry_home'], crs=4258)\n",
    "gdf_GLD_by_lsoa = gpd.GeoDataFrame(GLD_LSOA_format, geometry='geometry')"
   ]
  },
  {
   "cell_type": "code",
   "execution_count": null,
   "id": "47cec9c4-94bf-4052-8154-f86f85f0ec6b",
   "metadata": {
    "tags": []
   },
   "outputs": [],
   "source": [
    " bradfordChoropleth = folium.Choropleth(\n",
    "    geo_data = gdf_GLD_by_lsoa,\n",
    "    data = gdf_GLD_by_lsoa,\n",
    "    columns= ['LSOA','CountofPeople','CountofPeopleFailed','ever_NEET','SENDFlag','FreeSchoolMeal','language'],\n",
    "    key_on = \"feature.properties.LSOA\",\n",
    "    fill_color=\"YlOrRd\",\n",
    "    fill_opacity=\"0.8\",\n",
    "    line_opacity=\"0.5\",\n",
    "    bins=[0,10,20,30,60,80,100,200],\n",
    "    legend_name=\"Count of People GLD non Attainment, SEND status and Free Meal in Bradford Area\",\n",
    "     tooltip='CountofPeople'\n",
    ").add_to(bradford)"
   ]
  },
  {
   "cell_type": "code",
   "execution_count": 53,
   "id": "9e21258a-2af8-4661-80ba-7b3a11d58113",
   "metadata": {
    "tags": []
   },
   "outputs": [
    {
     "ename": "NameError",
     "evalue": "name 'bradfordChoropleth' is not defined",
     "output_type": "error",
     "traceback": [
      "\u001b[0;31m---------------------------------------------------------------------------\u001b[0m",
      "\u001b[0;31mNameError\u001b[0m                                 Traceback (most recent call last)",
      "Cell \u001b[0;32mIn[53], line 1\u001b[0m\n\u001b[0;32m----> 1\u001b[0m \u001b[43mbradfordChoropleth\u001b[49m\u001b[38;5;241m.\u001b[39mgeojson\u001b[38;5;241m.\u001b[39madd_child(folium\u001b[38;5;241m.\u001b[39mfeatures\u001b[38;5;241m.\u001b[39mGeoJsonTooltip([\u001b[38;5;124m'\u001b[39m\u001b[38;5;124mward_name\u001b[39m\u001b[38;5;124m'\u001b[39m, \u001b[38;5;124m'\u001b[39m\u001b[38;5;124mCountofPeople\u001b[39m\u001b[38;5;124m'\u001b[39m,\u001b[38;5;124m'\u001b[39m\u001b[38;5;124mCountofPeopleFailed\u001b[39m\u001b[38;5;124m'\u001b[39m,\u001b[38;5;124m'\u001b[39m\u001b[38;5;124mever_NEET\u001b[39m\u001b[38;5;124m'\u001b[39m,\u001b[38;5;124m'\u001b[39m\u001b[38;5;124mSENDFlag\u001b[39m\u001b[38;5;124m'\u001b[39m,\u001b[38;5;124m'\u001b[39m\u001b[38;5;124mFreeSchoolMeal\u001b[39m\u001b[38;5;124m'\u001b[39m,\u001b[38;5;124m'\u001b[39m\u001b[38;5;124mlanguage\u001b[39m\u001b[38;5;124m'\u001b[39m], aliases\u001b[38;5;241m=\u001b[39m[\u001b[38;5;124m'\u001b[39m\u001b[38;5;124mPost Code: \u001b[39m\u001b[38;5;124m'\u001b[39m,\u001b[38;5;124m'\u001b[39m\u001b[38;5;124m#of People: \u001b[39m\u001b[38;5;124m'\u001b[39m, \u001b[38;5;124m'\u001b[39m\u001b[38;5;124mGLD Failed\u001b[39m\u001b[38;5;124m'\u001b[39m,\u001b[38;5;124m'\u001b[39m\u001b[38;5;124mEver NEET\u001b[39m\u001b[38;5;124m'\u001b[39m,\u001b[38;5;124m'\u001b[39m\u001b[38;5;124mSEN\u001b[39m\u001b[38;5;124m'\u001b[39m,\u001b[38;5;124m'\u001b[39m\u001b[38;5;124mFree School Meal\u001b[39m\u001b[38;5;124m'\u001b[39m, \u001b[38;5;124m'\u001b[39m\u001b[38;5;124mFirst Language Code\u001b[39m\u001b[38;5;124m'\u001b[39m]))    \n\u001b[1;32m      2\u001b[0m folium\u001b[38;5;241m.\u001b[39mLayerControl()\u001b[38;5;241m.\u001b[39madd_to(bradford)\n\u001b[1;32m      3\u001b[0m bradford\n",
      "\u001b[0;31mNameError\u001b[0m: name 'bradfordChoropleth' is not defined"
     ]
    }
   ],
   "source": [
    "bradfordChoropleth.geojson.add_child(folium.features.GeoJsonTooltip(['ward_name', 'CountofPeople','CountofPeopleFailed','ever_NEET','SENDFlag','FreeSchoolMeal','language'], aliases=['Post Code: ','#of People: ', 'GLD Failed','Ever NEET','SEN','Free School Meal', 'First Language Code']))    \n",
    "folium.LayerControl().add_to(bradford)\n",
    "bradford"
   ]
  },
  {
   "cell_type": "code",
   "execution_count": 54,
   "id": "f7052a6b-cc49-435c-a616-b9ca2f2c06eb",
   "metadata": {
    "tags": []
   },
   "outputs": [
    {
     "ename": "NameError",
     "evalue": "name 'DFafterMerge' is not defined",
     "output_type": "error",
     "traceback": [
      "\u001b[0;31m---------------------------------------------------------------------------\u001b[0m",
      "\u001b[0;31mNameError\u001b[0m                                 Traceback (most recent call last)",
      "Cell \u001b[0;32mIn[54], line 1\u001b[0m\n\u001b[0;32m----> 1\u001b[0m \u001b[38;5;28mprint\u001b[39m(\u001b[43mDFafterMerge\u001b[49m\u001b[38;5;241m.\u001b[39mever_NEET\u001b[38;5;241m.\u001b[39msum())\n\u001b[1;32m      2\u001b[0m \u001b[38;5;28mprint\u001b[39m(\u001b[38;5;28mlen\u001b[39m(DFafterMerge\u001b[38;5;241m.\u001b[39mever_NEET))\n\u001b[1;32m      5\u001b[0m \u001b[38;5;66;03m# model_covariates_flag = sm.formula.glm(\"ever_NEET ~ newGLD+SENDFlag)\",\u001b[39;00m\n\u001b[1;32m      6\u001b[0m \u001b[38;5;66;03m#                        family=sm.families.Binomial(), data=DFafterMerge).fit()\u001b[39;00m\n",
      "\u001b[0;31mNameError\u001b[0m: name 'DFafterMerge' is not defined"
     ]
    }
   ],
   "source": [
    "\n",
    "print(DFafterMerge.ever_NEET.sum())\n",
    "print(len(DFafterMerge.ever_NEET))\n",
    "\n",
    "\n",
    "# model_covariates_flag = sm.formula.glm(\"ever_NEET ~ newGLD+SENDFlag)\",\n",
    "#                        family=sm.families.Binomial(), data=DFafterMerge).fit()\n",
    "\n",
    "model_covariates_flag = sm.formula.glm(\"ever_NEET ~ newGLD+SENDFlag\",\n",
    "                       family=sm.families.Binomial(), data=DFafterMerge).fit()\n",
    "\n",
    "print(model_covariates_flag.summary())\n",
    "predictionsCovaritesFlag=model_covariates_flag.predict()\n",
    "\n",
    "# print(np.unique(predictionsCovaritesFlag))\n",
    "\n",
    "unique, counts = np.unique(predictionsCovaritesFlag, return_counts=True)\n",
    "\n",
    "# print(np.asarray((unique, counts)).T)\n",
    "\n",
    "uniqueT, countsT = np.unique(modelDF['ever_NEET'], return_counts=True)\n",
    "\n",
    "# print(np.asarray((uniqueT, countsT)).T)\n",
    "\n",
    "predictions_CovaritesFlag = [1 if x < 0.3 else 0 for x in predictionsCovaritesFlag]\n",
    "# print(model_covariates_flag.params.Intercept)\n",
    "odds_ratio_covariatesFlag=np.exp(model_covariates_flag.params.Intercept)\n",
    "# print('odds ratio is ',odds_ratio_covariatesFlag)\n",
    "\n",
    "coefs = pd.DataFrame({\n",
    "    'coef': model_covariates_flag.params.values,\n",
    "    'odds ratio': np.exp(model_covariates_flag.params.values),\n",
    "     'p-values': model_covariates_flag.pvalues\n",
    "})\n",
    "print(coefs)\n"
   ]
  },
  {
   "cell_type": "code",
   "execution_count": null,
   "id": "9434dede-4e75-407e-9cce-cbbdbca5b3d6",
   "metadata": {
    "tags": []
   },
   "outputs": [],
   "source": [
    "# cnf_matrix_CovaritesFlag = confusion_matrix(DFafterMerge[\"ever_NEET\"], \n",
    "#                        predictions_CovaritesFlag)\n",
    "# print(cnf_matrix_CovaritesFlag)\n",
    "\n",
    "# print(classification_report(DFafterMerge[\"ever_NEET\"], \n",
    "#                             predictions_CovaritesFlag, \n",
    "#                             digits = 3))\n",
    "\n",
    "# class_names=[\"0\",\"1\"] # name  of classes\n",
    "# fig, ax = plt.subplots()\n",
    "# tick_marks = np.arange(len(class_names))\n",
    "# plt.xticks(tick_marks, class_names)\n",
    "# plt.yticks(tick_marks, class_names)\n",
    "# # create heatmap\n",
    "# sns.heatmap(pd.DataFrame(cnf_matrix_CovaritesFlag), annot=True, cmap=\"YlGnBu\" ,fmt='g')\n",
    "# ax.xaxis.set_label_position(\"top\")\n",
    "# plt.tight_layout()\n",
    "# plt.title('Confusion matrix', y=1.1)\n",
    "# plt.ylabel('Actual label NEET')\n",
    "# plt.xlabel('Predicted label NEET')"
   ]
  },
  {
   "cell_type": "code",
   "execution_count": null,
   "id": "c4c6f3b1-43e8-4960-8045-1f050db74a10",
   "metadata": {},
   "outputs": [],
   "source": []
  }
 ],
 "metadata": {
  "environment": {
   "kernel": "conda-root-py",
   "name": "workbench-notebooks.m113",
   "type": "gcloud",
   "uri": "gcr.io/deeplearning-platform-release/workbench-notebooks:m113"
  },
  "kernelspec": {
   "display_name": "Python 3 (ipykernel) (Local)",
   "language": "python",
   "name": "conda-root-py"
  },
  "language_info": {
   "codemirror_mode": {
    "name": "ipython",
    "version": 3
   },
   "file_extension": ".py",
   "mimetype": "text/x-python",
   "name": "python",
   "nbconvert_exporter": "python",
   "pygments_lexer": "ipython3",
   "version": "3.10.13"
  }
 },
 "nbformat": 4,
 "nbformat_minor": 5
}
